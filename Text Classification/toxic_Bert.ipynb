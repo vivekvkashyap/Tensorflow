{
  "nbformat": 4,
  "nbformat_minor": 0,
  "metadata": {
    "colab": {
      "name": "toxic Bert.ipynb",
      "provenance": [],
      "collapsed_sections": []
    },
    "kernelspec": {
      "name": "python3",
      "display_name": "Python 3"
    },
    "accelerator": "GPU",
    "widgets": {
      "application/vnd.jupyter.widget-state+json": {
        "e1c8005d9a8d426fa23f9d2b5e063aee": {
          "model_module": "@jupyter-widgets/controls",
          "model_name": "HBoxModel",
          "state": {
            "_view_name": "HBoxView",
            "_dom_classes": [],
            "_model_name": "HBoxModel",
            "_view_module": "@jupyter-widgets/controls",
            "_model_module_version": "1.5.0",
            "_view_count": null,
            "_view_module_version": "1.5.0",
            "box_style": "",
            "layout": "IPY_MODEL_223f7d90372d4d4388b1d5ea11fad201",
            "_model_module": "@jupyter-widgets/controls",
            "children": [
              "IPY_MODEL_ca32e83072114737b488744f1e6c0e09",
              "IPY_MODEL_c6052cf6531b4d4f83391690d2117cac"
            ]
          }
        },
        "223f7d90372d4d4388b1d5ea11fad201": {
          "model_module": "@jupyter-widgets/base",
          "model_name": "LayoutModel",
          "state": {
            "_view_name": "LayoutView",
            "grid_template_rows": null,
            "right": null,
            "justify_content": null,
            "_view_module": "@jupyter-widgets/base",
            "overflow": null,
            "_model_module_version": "1.2.0",
            "_view_count": null,
            "flex_flow": null,
            "width": null,
            "min_width": null,
            "border": null,
            "align_items": null,
            "bottom": null,
            "_model_module": "@jupyter-widgets/base",
            "top": null,
            "grid_column": null,
            "overflow_y": null,
            "overflow_x": null,
            "grid_auto_flow": null,
            "grid_area": null,
            "grid_template_columns": null,
            "flex": null,
            "_model_name": "LayoutModel",
            "justify_items": null,
            "grid_row": null,
            "max_height": null,
            "align_content": null,
            "visibility": null,
            "align_self": null,
            "height": null,
            "min_height": null,
            "padding": null,
            "grid_auto_rows": null,
            "grid_gap": null,
            "max_width": null,
            "order": null,
            "_view_module_version": "1.2.0",
            "grid_template_areas": null,
            "object_position": null,
            "object_fit": null,
            "grid_auto_columns": null,
            "margin": null,
            "display": null,
            "left": null
          }
        },
        "ca32e83072114737b488744f1e6c0e09": {
          "model_module": "@jupyter-widgets/controls",
          "model_name": "FloatProgressModel",
          "state": {
            "_view_name": "ProgressView",
            "style": "IPY_MODEL_2015df45937840c2886edbf2e0d4422e",
            "_dom_classes": [],
            "description": "Downloading: 100%",
            "_model_name": "FloatProgressModel",
            "bar_style": "success",
            "max": 231508,
            "_view_module": "@jupyter-widgets/controls",
            "_model_module_version": "1.5.0",
            "value": 231508,
            "_view_count": null,
            "_view_module_version": "1.5.0",
            "orientation": "horizontal",
            "min": 0,
            "description_tooltip": null,
            "_model_module": "@jupyter-widgets/controls",
            "layout": "IPY_MODEL_e24180c29e144164b5531e4e54255e02"
          }
        },
        "c6052cf6531b4d4f83391690d2117cac": {
          "model_module": "@jupyter-widgets/controls",
          "model_name": "HTMLModel",
          "state": {
            "_view_name": "HTMLView",
            "style": "IPY_MODEL_dd89d97f37cb469c9cdb7b4d741dec6c",
            "_dom_classes": [],
            "description": "",
            "_model_name": "HTMLModel",
            "placeholder": "​",
            "_view_module": "@jupyter-widgets/controls",
            "_model_module_version": "1.5.0",
            "value": " 232k/232k [00:00&lt;00:00, 963kB/s]",
            "_view_count": null,
            "_view_module_version": "1.5.0",
            "description_tooltip": null,
            "_model_module": "@jupyter-widgets/controls",
            "layout": "IPY_MODEL_6969fba35adc4a289ca1863fb67f63a8"
          }
        },
        "2015df45937840c2886edbf2e0d4422e": {
          "model_module": "@jupyter-widgets/controls",
          "model_name": "ProgressStyleModel",
          "state": {
            "_view_name": "StyleView",
            "_model_name": "ProgressStyleModel",
            "description_width": "initial",
            "_view_module": "@jupyter-widgets/base",
            "_model_module_version": "1.5.0",
            "_view_count": null,
            "_view_module_version": "1.2.0",
            "bar_color": null,
            "_model_module": "@jupyter-widgets/controls"
          }
        },
        "e24180c29e144164b5531e4e54255e02": {
          "model_module": "@jupyter-widgets/base",
          "model_name": "LayoutModel",
          "state": {
            "_view_name": "LayoutView",
            "grid_template_rows": null,
            "right": null,
            "justify_content": null,
            "_view_module": "@jupyter-widgets/base",
            "overflow": null,
            "_model_module_version": "1.2.0",
            "_view_count": null,
            "flex_flow": null,
            "width": null,
            "min_width": null,
            "border": null,
            "align_items": null,
            "bottom": null,
            "_model_module": "@jupyter-widgets/base",
            "top": null,
            "grid_column": null,
            "overflow_y": null,
            "overflow_x": null,
            "grid_auto_flow": null,
            "grid_area": null,
            "grid_template_columns": null,
            "flex": null,
            "_model_name": "LayoutModel",
            "justify_items": null,
            "grid_row": null,
            "max_height": null,
            "align_content": null,
            "visibility": null,
            "align_self": null,
            "height": null,
            "min_height": null,
            "padding": null,
            "grid_auto_rows": null,
            "grid_gap": null,
            "max_width": null,
            "order": null,
            "_view_module_version": "1.2.0",
            "grid_template_areas": null,
            "object_position": null,
            "object_fit": null,
            "grid_auto_columns": null,
            "margin": null,
            "display": null,
            "left": null
          }
        },
        "dd89d97f37cb469c9cdb7b4d741dec6c": {
          "model_module": "@jupyter-widgets/controls",
          "model_name": "DescriptionStyleModel",
          "state": {
            "_view_name": "StyleView",
            "_model_name": "DescriptionStyleModel",
            "description_width": "",
            "_view_module": "@jupyter-widgets/base",
            "_model_module_version": "1.5.0",
            "_view_count": null,
            "_view_module_version": "1.2.0",
            "_model_module": "@jupyter-widgets/controls"
          }
        },
        "6969fba35adc4a289ca1863fb67f63a8": {
          "model_module": "@jupyter-widgets/base",
          "model_name": "LayoutModel",
          "state": {
            "_view_name": "LayoutView",
            "grid_template_rows": null,
            "right": null,
            "justify_content": null,
            "_view_module": "@jupyter-widgets/base",
            "overflow": null,
            "_model_module_version": "1.2.0",
            "_view_count": null,
            "flex_flow": null,
            "width": null,
            "min_width": null,
            "border": null,
            "align_items": null,
            "bottom": null,
            "_model_module": "@jupyter-widgets/base",
            "top": null,
            "grid_column": null,
            "overflow_y": null,
            "overflow_x": null,
            "grid_auto_flow": null,
            "grid_area": null,
            "grid_template_columns": null,
            "flex": null,
            "_model_name": "LayoutModel",
            "justify_items": null,
            "grid_row": null,
            "max_height": null,
            "align_content": null,
            "visibility": null,
            "align_self": null,
            "height": null,
            "min_height": null,
            "padding": null,
            "grid_auto_rows": null,
            "grid_gap": null,
            "max_width": null,
            "order": null,
            "_view_module_version": "1.2.0",
            "grid_template_areas": null,
            "object_position": null,
            "object_fit": null,
            "grid_auto_columns": null,
            "margin": null,
            "display": null,
            "left": null
          }
        }
      }
    }
  },
  "cells": [
    {
      "cell_type": "code",
      "metadata": {
        "id": "K2IAETAo7UqF"
      },
      "source": [
        "import pandas as pd"
      ],
      "execution_count": null,
      "outputs": []
    },
    {
      "cell_type": "code",
      "metadata": {
        "id": "XleeyHtZ7mq3"
      },
      "source": [
        "data=pd.read_csv('/content/drive/My Drive/dataset/ttran.csv')"
      ],
      "execution_count": null,
      "outputs": []
    },
    {
      "cell_type": "code",
      "metadata": {
        "id": "T4uXLAMr7pOw"
      },
      "source": [
        "data.drop('id',axis=1,inplace=True)"
      ],
      "execution_count": null,
      "outputs": []
    },
    {
      "cell_type": "code",
      "metadata": {
        "id": "HaLkzLuD7phj"
      },
      "source": [
        "llabel=[]\n",
        "llabel1=[]\n",
        "llabel2=[]\n",
        "llabel3=[]\n",
        "llabel4=[]\n",
        "llabel5=[]"
      ],
      "execution_count": null,
      "outputs": []
    },
    {
      "cell_type": "code",
      "metadata": {
        "id": "R_O3NiDI7p3C"
      },
      "source": [
        "llabel=list(data['toxic'])\n",
        "llabel1=list(data['severe_toxic'])\n",
        "llabel2=list(data['obscene'])\n",
        "llabel3=list(data['threat'])\n",
        "llabel4=list(data['insult'])\n",
        "llabel5=list(data['identity_hate'])"
      ],
      "execution_count": null,
      "outputs": []
    },
    {
      "cell_type": "code",
      "metadata": {
        "id": "1eHntK3B7zUQ"
      },
      "source": [
        "labell=[]"
      ],
      "execution_count": null,
      "outputs": []
    },
    {
      "cell_type": "code",
      "metadata": {
        "id": "tKoeyjb77qLU"
      },
      "source": [
        "for a,b,c,d,e,f in zip(llabel,llabel1,llabel2,llabel3,llabel4,llabel5):\n",
        "  labell.append([a,b,c,d,e,f])"
      ],
      "execution_count": null,
      "outputs": []
    },
    {
      "cell_type": "code",
      "metadata": {
        "id": "KqBXXc3e7yfO"
      },
      "source": [
        "import tensorflow as tf"
      ],
      "execution_count": null,
      "outputs": []
    },
    {
      "cell_type": "code",
      "metadata": {
        "id": "fUY7Lnqt73dZ",
        "colab": {
          "base_uri": "https://localhost:8080/",
          "height": 34
        },
        "outputId": "8fa8d645-d4f0-41a1-b22a-aedaaa14daf3"
      },
      "source": [
        "len(labell)"
      ],
      "execution_count": null,
      "outputs": [
        {
          "output_type": "execute_result",
          "data": {
            "text/plain": [
              "159571"
            ]
          },
          "metadata": {
            "tags": []
          },
          "execution_count": 9
        }
      ]
    },
    {
      "cell_type": "code",
      "metadata": {
        "id": "1E69uc_-74mx"
      },
      "source": [
        "import re\n",
        "def preprocess_sentence(w):\n",
        "  w = w.lower()\n",
        "  w = re.sub(r\"([?.!,¿])\", r\" \\1 \", w)\n",
        "  w = re.sub(r'[\" \"]+', \" \", w)\n",
        "  w = re.sub(r\"[^a-zA-Z?.!,¿]+\", \" \", w)\n",
        "  w = w.strip()\n",
        "  w = '<start> ' + w + ' <end>'\n",
        "  return w"
      ],
      "execution_count": null,
      "outputs": []
    },
    {
      "cell_type": "code",
      "metadata": {
        "id": "nJdkFSMy78R3"
      },
      "source": [
        "texts=[]\n",
        "a=0"
      ],
      "execution_count": null,
      "outputs": []
    },
    {
      "cell_type": "code",
      "metadata": {
        "id": "FIQWz8sw79qW"
      },
      "source": [
        "for line in data['comment_text']:\n",
        "  a=preprocess_sentence(line)\n",
        "  texts.append(a)"
      ],
      "execution_count": null,
      "outputs": []
    },
    {
      "cell_type": "code",
      "metadata": {
        "id": "GfMcoxo37-5v",
        "colab": {
          "base_uri": "https://localhost:8080/",
          "height": 615
        },
        "outputId": "73077587-5ccf-41a7-d36c-26a910d5a348"
      },
      "source": [
        "! pip install transformers"
      ],
      "execution_count": null,
      "outputs": [
        {
          "output_type": "stream",
          "text": [
            "Collecting transformers\n",
            "\u001b[?25l  Downloading https://files.pythonhosted.org/packages/27/3c/91ed8f5c4e7ef3227b4119200fc0ed4b4fd965b1f0172021c25701087825/transformers-3.0.2-py3-none-any.whl (769kB)\n",
            "\r\u001b[K     |▍                               | 10kB 18.3MB/s eta 0:00:01\r\u001b[K     |▉                               | 20kB 2.0MB/s eta 0:00:01\r\u001b[K     |█▎                              | 30kB 2.3MB/s eta 0:00:01\r\u001b[K     |█▊                              | 40kB 2.6MB/s eta 0:00:01\r\u001b[K     |██▏                             | 51kB 2.4MB/s eta 0:00:01\r\u001b[K     |██▋                             | 61kB 2.7MB/s eta 0:00:01\r\u001b[K     |███                             | 71kB 2.9MB/s eta 0:00:01\r\u001b[K     |███▍                            | 81kB 3.1MB/s eta 0:00:01\r\u001b[K     |███▉                            | 92kB 3.0MB/s eta 0:00:01\r\u001b[K     |████▎                           | 102kB 3.2MB/s eta 0:00:01\r\u001b[K     |████▊                           | 112kB 3.2MB/s eta 0:00:01\r\u001b[K     |█████▏                          | 122kB 3.2MB/s eta 0:00:01\r\u001b[K     |█████▌                          | 133kB 3.2MB/s eta 0:00:01\r\u001b[K     |██████                          | 143kB 3.2MB/s eta 0:00:01\r\u001b[K     |██████▍                         | 153kB 3.2MB/s eta 0:00:01\r\u001b[K     |██████▉                         | 163kB 3.2MB/s eta 0:00:01\r\u001b[K     |███████▎                        | 174kB 3.2MB/s eta 0:00:01\r\u001b[K     |███████▊                        | 184kB 3.2MB/s eta 0:00:01\r\u001b[K     |████████                        | 194kB 3.2MB/s eta 0:00:01\r\u001b[K     |████████▌                       | 204kB 3.2MB/s eta 0:00:01\r\u001b[K     |█████████                       | 215kB 3.2MB/s eta 0:00:01\r\u001b[K     |█████████▍                      | 225kB 3.2MB/s eta 0:00:01\r\u001b[K     |█████████▉                      | 235kB 3.2MB/s eta 0:00:01\r\u001b[K     |██████████▎                     | 245kB 3.2MB/s eta 0:00:01\r\u001b[K     |██████████▋                     | 256kB 3.2MB/s eta 0:00:01\r\u001b[K     |███████████                     | 266kB 3.2MB/s eta 0:00:01\r\u001b[K     |███████████▌                    | 276kB 3.2MB/s eta 0:00:01\r\u001b[K     |████████████                    | 286kB 3.2MB/s eta 0:00:01\r\u001b[K     |████████████▍                   | 296kB 3.2MB/s eta 0:00:01\r\u001b[K     |████████████▉                   | 307kB 3.2MB/s eta 0:00:01\r\u001b[K     |█████████████▏                  | 317kB 3.2MB/s eta 0:00:01\r\u001b[K     |█████████████▋                  | 327kB 3.2MB/s eta 0:00:01\r\u001b[K     |██████████████                  | 337kB 3.2MB/s eta 0:00:01\r\u001b[K     |██████████████▌                 | 348kB 3.2MB/s eta 0:00:01\r\u001b[K     |███████████████                 | 358kB 3.2MB/s eta 0:00:01\r\u001b[K     |███████████████▍                | 368kB 3.2MB/s eta 0:00:01\r\u001b[K     |███████████████▊                | 378kB 3.2MB/s eta 0:00:01\r\u001b[K     |████████████████▏               | 389kB 3.2MB/s eta 0:00:01\r\u001b[K     |████████████████▋               | 399kB 3.2MB/s eta 0:00:01\r\u001b[K     |█████████████████               | 409kB 3.2MB/s eta 0:00:01\r\u001b[K     |█████████████████▌              | 419kB 3.2MB/s eta 0:00:01\r\u001b[K     |██████████████████              | 430kB 3.2MB/s eta 0:00:01\r\u001b[K     |██████████████████▎             | 440kB 3.2MB/s eta 0:00:01\r\u001b[K     |██████████████████▊             | 450kB 3.2MB/s eta 0:00:01\r\u001b[K     |███████████████████▏            | 460kB 3.2MB/s eta 0:00:01\r\u001b[K     |███████████████████▋            | 471kB 3.2MB/s eta 0:00:01\r\u001b[K     |████████████████████            | 481kB 3.2MB/s eta 0:00:01\r\u001b[K     |████████████████████▌           | 491kB 3.2MB/s eta 0:00:01\r\u001b[K     |████████████████████▉           | 501kB 3.2MB/s eta 0:00:01\r\u001b[K     |█████████████████████▎          | 512kB 3.2MB/s eta 0:00:01\r\u001b[K     |█████████████████████▊          | 522kB 3.2MB/s eta 0:00:01\r\u001b[K     |██████████████████████▏         | 532kB 3.2MB/s eta 0:00:01\r\u001b[K     |██████████████████████▋         | 542kB 3.2MB/s eta 0:00:01\r\u001b[K     |███████████████████████         | 552kB 3.2MB/s eta 0:00:01\r\u001b[K     |███████████████████████▍        | 563kB 3.2MB/s eta 0:00:01\r\u001b[K     |███████████████████████▉        | 573kB 3.2MB/s eta 0:00:01\r\u001b[K     |████████████████████████▎       | 583kB 3.2MB/s eta 0:00:01\r\u001b[K     |████████████████████████▊       | 593kB 3.2MB/s eta 0:00:01\r\u001b[K     |█████████████████████████▏      | 604kB 3.2MB/s eta 0:00:01\r\u001b[K     |█████████████████████████▋      | 614kB 3.2MB/s eta 0:00:01\r\u001b[K     |██████████████████████████      | 624kB 3.2MB/s eta 0:00:01\r\u001b[K     |██████████████████████████▍     | 634kB 3.2MB/s eta 0:00:01\r\u001b[K     |██████████████████████████▉     | 645kB 3.2MB/s eta 0:00:01\r\u001b[K     |███████████████████████████▎    | 655kB 3.2MB/s eta 0:00:01\r\u001b[K     |███████████████████████████▊    | 665kB 3.2MB/s eta 0:00:01\r\u001b[K     |████████████████████████████▏   | 675kB 3.2MB/s eta 0:00:01\r\u001b[K     |████████████████████████████▌   | 686kB 3.2MB/s eta 0:00:01\r\u001b[K     |█████████████████████████████   | 696kB 3.2MB/s eta 0:00:01\r\u001b[K     |█████████████████████████████▍  | 706kB 3.2MB/s eta 0:00:01\r\u001b[K     |█████████████████████████████▉  | 716kB 3.2MB/s eta 0:00:01\r\u001b[K     |██████████████████████████████▎ | 727kB 3.2MB/s eta 0:00:01\r\u001b[K     |██████████████████████████████▊ | 737kB 3.2MB/s eta 0:00:01\r\u001b[K     |███████████████████████████████ | 747kB 3.2MB/s eta 0:00:01\r\u001b[K     |███████████████████████████████▌| 757kB 3.2MB/s eta 0:00:01\r\u001b[K     |████████████████████████████████| 768kB 3.2MB/s eta 0:00:01\r\u001b[K     |████████████████████████████████| 778kB 3.2MB/s \n",
            "\u001b[?25hRequirement already satisfied: requests in /usr/local/lib/python3.6/dist-packages (from transformers) (2.23.0)\n",
            "Requirement already satisfied: filelock in /usr/local/lib/python3.6/dist-packages (from transformers) (3.0.12)\n",
            "Collecting tokenizers==0.8.1.rc1\n",
            "\u001b[?25l  Downloading https://files.pythonhosted.org/packages/40/d0/30d5f8d221a0ed981a186c8eb986ce1c94e3a6e87f994eae9f4aa5250217/tokenizers-0.8.1rc1-cp36-cp36m-manylinux1_x86_64.whl (3.0MB)\n",
            "\u001b[K     |████████████████████████████████| 3.0MB 8.7MB/s \n",
            "\u001b[?25hRequirement already satisfied: dataclasses; python_version < \"3.7\" in /usr/local/lib/python3.6/dist-packages (from transformers) (0.7)\n",
            "Requirement already satisfied: packaging in /usr/local/lib/python3.6/dist-packages (from transformers) (20.4)\n",
            "Requirement already satisfied: numpy in /usr/local/lib/python3.6/dist-packages (from transformers) (1.18.5)\n",
            "Requirement already satisfied: tqdm>=4.27 in /usr/local/lib/python3.6/dist-packages (from transformers) (4.41.1)\n",
            "Requirement already satisfied: regex!=2019.12.17 in /usr/local/lib/python3.6/dist-packages (from transformers) (2019.12.20)\n",
            "Collecting sacremoses\n",
            "\u001b[?25l  Downloading https://files.pythonhosted.org/packages/7d/34/09d19aff26edcc8eb2a01bed8e98f13a1537005d31e95233fd48216eed10/sacremoses-0.0.43.tar.gz (883kB)\n",
            "\u001b[K     |████████████████████████████████| 890kB 32.6MB/s \n",
            "\u001b[?25hCollecting sentencepiece!=0.1.92\n",
            "\u001b[?25l  Downloading https://files.pythonhosted.org/packages/d4/a4/d0a884c4300004a78cca907a6ff9a5e9fe4f090f5d95ab341c53d28cbc58/sentencepiece-0.1.91-cp36-cp36m-manylinux1_x86_64.whl (1.1MB)\n",
            "\u001b[K     |████████████████████████████████| 1.1MB 38.5MB/s \n",
            "\u001b[?25hRequirement already satisfied: idna<3,>=2.5 in /usr/local/lib/python3.6/dist-packages (from requests->transformers) (2.10)\n",
            "Requirement already satisfied: certifi>=2017.4.17 in /usr/local/lib/python3.6/dist-packages (from requests->transformers) (2020.6.20)\n",
            "Requirement already satisfied: urllib3!=1.25.0,!=1.25.1,<1.26,>=1.21.1 in /usr/local/lib/python3.6/dist-packages (from requests->transformers) (1.24.3)\n",
            "Requirement already satisfied: chardet<4,>=3.0.2 in /usr/local/lib/python3.6/dist-packages (from requests->transformers) (3.0.4)\n",
            "Requirement already satisfied: pyparsing>=2.0.2 in /usr/local/lib/python3.6/dist-packages (from packaging->transformers) (2.4.7)\n",
            "Requirement already satisfied: six in /usr/local/lib/python3.6/dist-packages (from packaging->transformers) (1.15.0)\n",
            "Requirement already satisfied: click in /usr/local/lib/python3.6/dist-packages (from sacremoses->transformers) (7.1.2)\n",
            "Requirement already satisfied: joblib in /usr/local/lib/python3.6/dist-packages (from sacremoses->transformers) (0.16.0)\n",
            "Building wheels for collected packages: sacremoses\n",
            "  Building wheel for sacremoses (setup.py) ... \u001b[?25l\u001b[?25hdone\n",
            "  Created wheel for sacremoses: filename=sacremoses-0.0.43-cp36-none-any.whl size=893257 sha256=e89a88046be15e2acf0ace1f7f1458521eb02646effe87f1f61a232d829a3897\n",
            "  Stored in directory: /root/.cache/pip/wheels/29/3c/fd/7ce5c3f0666dab31a50123635e6fb5e19ceb42ce38d4e58f45\n",
            "Successfully built sacremoses\n",
            "Installing collected packages: tokenizers, sacremoses, sentencepiece, transformers\n",
            "Successfully installed sacremoses-0.0.43 sentencepiece-0.1.91 tokenizers-0.8.1rc1 transformers-3.0.2\n"
          ],
          "name": "stdout"
        }
      ]
    },
    {
      "cell_type": "code",
      "metadata": {
        "id": "m0Hdj5l78APF"
      },
      "source": [
        "from transformers import BertTokenizer,TFBertForSequenceClassification"
      ],
      "execution_count": null,
      "outputs": []
    },
    {
      "cell_type": "code",
      "metadata": {
        "id": "WcBdEB_P8B3Q",
        "colab": {
          "base_uri": "https://localhost:8080/",
          "height": 66,
          "referenced_widgets": [
            "e1c8005d9a8d426fa23f9d2b5e063aee",
            "223f7d90372d4d4388b1d5ea11fad201",
            "ca32e83072114737b488744f1e6c0e09",
            "c6052cf6531b4d4f83391690d2117cac",
            "2015df45937840c2886edbf2e0d4422e",
            "e24180c29e144164b5531e4e54255e02",
            "dd89d97f37cb469c9cdb7b4d741dec6c",
            "6969fba35adc4a289ca1863fb67f63a8"
          ]
        },
        "outputId": "4cad10d3-4d41-4cbb-d54a-16b01ec9d3da"
      },
      "source": [
        "tokenizer=BertTokenizer.from_pretrained('bert-base-uncased')"
      ],
      "execution_count": null,
      "outputs": [
        {
          "output_type": "display_data",
          "data": {
            "application/vnd.jupyter.widget-view+json": {
              "model_id": "e1c8005d9a8d426fa23f9d2b5e063aee",
              "version_minor": 0,
              "version_major": 2
            },
            "text/plain": [
              "HBox(children=(FloatProgress(value=0.0, description='Downloading', max=231508.0, style=ProgressStyle(descripti…"
            ]
          },
          "metadata": {
            "tags": []
          }
        },
        {
          "output_type": "stream",
          "text": [
            "\n"
          ],
          "name": "stdout"
        }
      ]
    },
    {
      "cell_type": "code",
      "metadata": {
        "id": "b1-Zw1m38FfD"
      },
      "source": [
        "inputs=tokenizer(texts,return_tensors=\"tf\",padding=True,truncation=True,max_length=200)"
      ],
      "execution_count": null,
      "outputs": []
    },
    {
      "cell_type": "code",
      "metadata": {
        "id": "uOLt48fW8Kw5"
      },
      "source": [
        "dataset=tf.data.Dataset.from_tensor_slices((inputs['input_ids'],labell))"
      ],
      "execution_count": null,
      "outputs": []
    },
    {
      "cell_type": "code",
      "metadata": {
        "id": "GHLEKrDK_dUw",
        "colab": {
          "base_uri": "https://localhost:8080/",
          "height": 442
        },
        "outputId": "4271b71b-ef97-47a1-fc57-31b3dbcd66cc"
      },
      "source": [
        "next(iter(dataset))"
      ],
      "execution_count": null,
      "outputs": [
        {
          "output_type": "execute_result",
          "data": {
            "text/plain": [
              "(<tf.Tensor: shape=(200,), dtype=int32, numpy=\n",
              " array([  101,  1026,  2707,  1028,  7526,  2339,  1996, 10086,  2015,\n",
              "         2081,  2104,  2026,  5310, 18442, 13076, 12392,  2050,  5470,\n",
              "         2020, 16407,  1029,  2027,  4694,  1056,  3158,  9305, 22556,\n",
              "         1010,  2074,  8503,  2006,  2070,  3806,  2044,  1045,  5444,\n",
              "         2012,  2047,  2259, 14421,  6904,  2278,  1012,  1998,  3531,\n",
              "         2123,  1056,  6366,  1996, 23561,  2013,  1996,  2831,  3931,\n",
              "         2144,  1045,  1049,  3394,  2085,  1012,  1012,  1012,  1012,\n",
              "         1026,  2203,  1028,   102,     0,     0,     0,     0,     0,\n",
              "            0,     0,     0,     0,     0,     0,     0,     0,     0,\n",
              "            0,     0,     0,     0,     0,     0,     0,     0,     0,\n",
              "            0,     0,     0,     0,     0,     0,     0,     0,     0,\n",
              "            0,     0,     0,     0,     0,     0,     0,     0,     0,\n",
              "            0,     0,     0,     0,     0,     0,     0,     0,     0,\n",
              "            0,     0,     0,     0,     0,     0,     0,     0,     0,\n",
              "            0,     0,     0,     0,     0,     0,     0,     0,     0,\n",
              "            0,     0,     0,     0,     0,     0,     0,     0,     0,\n",
              "            0,     0,     0,     0,     0,     0,     0,     0,     0,\n",
              "            0,     0,     0,     0,     0,     0,     0,     0,     0,\n",
              "            0,     0,     0,     0,     0,     0,     0,     0,     0,\n",
              "            0,     0,     0,     0,     0,     0,     0,     0,     0,\n",
              "            0,     0,     0,     0,     0,     0,     0,     0,     0,\n",
              "            0,     0,     0,     0,     0,     0,     0,     0,     0,\n",
              "            0,     0], dtype=int32)>,\n",
              " <tf.Tensor: shape=(6,), dtype=int32, numpy=array([0, 0, 0, 0, 0, 0], dtype=int32)>)"
            ]
          },
          "metadata": {
            "tags": []
          },
          "execution_count": 18
        }
      ]
    },
    {
      "cell_type": "code",
      "metadata": {
        "id": "qXU3zlOV8OPx"
      },
      "source": [
        "dataset1=dataset.shuffle(15000).batch(8)"
      ],
      "execution_count": null,
      "outputs": []
    },
    {
      "cell_type": "code",
      "metadata": {
        "id": "KKUUHp8Y_6CM"
      },
      "source": [
        "from keras import models,layers"
      ],
      "execution_count": null,
      "outputs": []
    },
    {
      "cell_type": "code",
      "metadata": {
        "id": "pL0L0rTsH0vk",
        "colab": {
          "base_uri": "https://localhost:8080/",
          "height": 122
        },
        "outputId": "b975395a-b209-4e4c-8d87-6e1be9cbd7df"
      },
      "source": [
        "model=TFBertForSequenceClassification.from_pretrained('bert-base-uncased',num_labels=6)"
      ],
      "execution_count": null,
      "outputs": [
        {
          "output_type": "stream",
          "text": [
            "Some weights of the model checkpoint at bert-base-uncased were not used when initializing TFBertForSequenceClassification: ['mlm___cls', 'nsp___cls']\n",
            "- This IS expected if you are initializing TFBertForSequenceClassification from the checkpoint of a model trained on another task or with another architecture (e.g. initializing a BertForSequenceClassification model from a BertForPretraining model).\n",
            "- This IS NOT expected if you are initializing TFBertForSequenceClassification from the checkpoint of a model that you expect to be exactly identical (initializing a BertForSequenceClassification model from a BertForSequenceClassification model).\n",
            "Some weights of TFBertForSequenceClassification were not initialized from the model checkpoint at bert-base-uncased and are newly initialized: ['dropout_76', 'classifier']\n",
            "You should probably TRAIN this model on a down-stream task to be able to use it for predictions and inference.\n"
          ],
          "name": "stderr"
        }
      ]
    },
    {
      "cell_type": "code",
      "metadata": {
        "id": "LwPJF0hz8PiB"
      },
      "source": [
        " model.compile(optimizer='adam',loss=tf.keras.losses.CategoricalCrossentropy(from_logits=True),\n",
        "              metrics=['accuracy'])"
      ],
      "execution_count": null,
      "outputs": []
    },
    {
      "cell_type": "code",
      "metadata": {
        "id": "ttk5W6j78Q1M"
      },
      "source": [
        "model.fit(dataset.shuffle(1000).batch(16), epochs=3, batch_size=16)"
      ],
      "execution_count": null,
      "outputs": []
    },
    {
      "cell_type": "code",
      "metadata": {
        "id": "ye3a7tsSBjoH"
      },
      "source": [
        ""
      ],
      "execution_count": null,
      "outputs": []
    }
  ]
}