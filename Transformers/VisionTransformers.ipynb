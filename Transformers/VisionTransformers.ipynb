{
  "nbformat": 4,
  "nbformat_minor": 0,
  "metadata": {
    "colab": {
      "name": "VisionTransformers.ipynb",
      "provenance": [],
      "collapsed_sections": []
    },
    "kernelspec": {
      "name": "python3",
      "display_name": "Python 3"
    },
    "accelerator": "GPU"
  },
  "cells": [
    {
      "cell_type": "code",
      "metadata": {
        "colab": {
          "base_uri": "https://localhost:8080/"
        },
        "id": "5rgqhkU4XkqV",
        "outputId": "7f87c30a-a396-4577-d94c-f38da95c9c17"
      },
      "source": [
        "! pip install -U tensorflow-addons"
      ],
      "execution_count": null,
      "outputs": [
        {
          "output_type": "stream",
          "text": [
            "Collecting tensorflow-addons\n",
            "\u001b[?25l  Downloading https://files.pythonhosted.org/packages/d6/98/8e97194e774f35a1319668e12571d5fa19f323e0ccae9d9890258aab1fcc/tensorflow_addons-0.12.0-cp36-cp36m-manylinux2010_x86_64.whl (703kB)\n",
            "\r\u001b[K     |▌                               | 10kB 28.2MB/s eta 0:00:01\r\u001b[K     |█                               | 20kB 35.8MB/s eta 0:00:01\r\u001b[K     |█▍                              | 30kB 23.3MB/s eta 0:00:01\r\u001b[K     |█▉                              | 40kB 26.8MB/s eta 0:00:01\r\u001b[K     |██▎                             | 51kB 24.8MB/s eta 0:00:01\r\u001b[K     |██▉                             | 61kB 16.4MB/s eta 0:00:01\r\u001b[K     |███▎                            | 71kB 15.2MB/s eta 0:00:01\r\u001b[K     |███▊                            | 81kB 16.3MB/s eta 0:00:01\r\u001b[K     |████▏                           | 92kB 17.6MB/s eta 0:00:01\r\u001b[K     |████▋                           | 102kB 16.9MB/s eta 0:00:01\r\u001b[K     |█████▏                          | 112kB 16.9MB/s eta 0:00:01\r\u001b[K     |█████▋                          | 122kB 16.9MB/s eta 0:00:01\r\u001b[K     |██████                          | 133kB 16.9MB/s eta 0:00:01\r\u001b[K     |██████▌                         | 143kB 16.9MB/s eta 0:00:01\r\u001b[K     |███████                         | 153kB 16.9MB/s eta 0:00:01\r\u001b[K     |███████▌                        | 163kB 16.9MB/s eta 0:00:01\r\u001b[K     |████████                        | 174kB 16.9MB/s eta 0:00:01\r\u001b[K     |████████▍                       | 184kB 16.9MB/s eta 0:00:01\r\u001b[K     |████████▉                       | 194kB 16.9MB/s eta 0:00:01\r\u001b[K     |█████████▎                      | 204kB 16.9MB/s eta 0:00:01\r\u001b[K     |█████████▉                      | 215kB 16.9MB/s eta 0:00:01\r\u001b[K     |██████████▎                     | 225kB 16.9MB/s eta 0:00:01\r\u001b[K     |██████████▊                     | 235kB 16.9MB/s eta 0:00:01\r\u001b[K     |███████████▏                    | 245kB 16.9MB/s eta 0:00:01\r\u001b[K     |███████████▋                    | 256kB 16.9MB/s eta 0:00:01\r\u001b[K     |████████████▏                   | 266kB 16.9MB/s eta 0:00:01\r\u001b[K     |████████████▋                   | 276kB 16.9MB/s eta 0:00:01\r\u001b[K     |█████████████                   | 286kB 16.9MB/s eta 0:00:01\r\u001b[K     |█████████████▌                  | 296kB 16.9MB/s eta 0:00:01\r\u001b[K     |██████████████                  | 307kB 16.9MB/s eta 0:00:01\r\u001b[K     |██████████████▍                 | 317kB 16.9MB/s eta 0:00:01\r\u001b[K     |███████████████                 | 327kB 16.9MB/s eta 0:00:01\r\u001b[K     |███████████████▍                | 337kB 16.9MB/s eta 0:00:01\r\u001b[K     |███████████████▉                | 348kB 16.9MB/s eta 0:00:01\r\u001b[K     |████████████████▎               | 358kB 16.9MB/s eta 0:00:01\r\u001b[K     |████████████████▊               | 368kB 16.9MB/s eta 0:00:01\r\u001b[K     |█████████████████▎              | 378kB 16.9MB/s eta 0:00:01\r\u001b[K     |█████████████████▊              | 389kB 16.9MB/s eta 0:00:01\r\u001b[K     |██████████████████▏             | 399kB 16.9MB/s eta 0:00:01\r\u001b[K     |██████████████████▋             | 409kB 16.9MB/s eta 0:00:01\r\u001b[K     |███████████████████             | 419kB 16.9MB/s eta 0:00:01\r\u001b[K     |███████████████████▋            | 430kB 16.9MB/s eta 0:00:01\r\u001b[K     |████████████████████            | 440kB 16.9MB/s eta 0:00:01\r\u001b[K     |████████████████████▌           | 450kB 16.9MB/s eta 0:00:01\r\u001b[K     |█████████████████████           | 460kB 16.9MB/s eta 0:00:01\r\u001b[K     |█████████████████████▍          | 471kB 16.9MB/s eta 0:00:01\r\u001b[K     |██████████████████████          | 481kB 16.9MB/s eta 0:00:01\r\u001b[K     |██████████████████████▍         | 491kB 16.9MB/s eta 0:00:01\r\u001b[K     |██████████████████████▉         | 501kB 16.9MB/s eta 0:00:01\r\u001b[K     |███████████████████████▎        | 512kB 16.9MB/s eta 0:00:01\r\u001b[K     |███████████████████████▊        | 522kB 16.9MB/s eta 0:00:01\r\u001b[K     |████████████████████████▎       | 532kB 16.9MB/s eta 0:00:01\r\u001b[K     |████████████████████████▊       | 542kB 16.9MB/s eta 0:00:01\r\u001b[K     |█████████████████████████▏      | 552kB 16.9MB/s eta 0:00:01\r\u001b[K     |█████████████████████████▋      | 563kB 16.9MB/s eta 0:00:01\r\u001b[K     |██████████████████████████      | 573kB 16.9MB/s eta 0:00:01\r\u001b[K     |██████████████████████████▌     | 583kB 16.9MB/s eta 0:00:01\r\u001b[K     |███████████████████████████     | 593kB 16.9MB/s eta 0:00:01\r\u001b[K     |███████████████████████████▌    | 604kB 16.9MB/s eta 0:00:01\r\u001b[K     |████████████████████████████    | 614kB 16.9MB/s eta 0:00:01\r\u001b[K     |████████████████████████████▍   | 624kB 16.9MB/s eta 0:00:01\r\u001b[K     |████████████████████████████▉   | 634kB 16.9MB/s eta 0:00:01\r\u001b[K     |█████████████████████████████▍  | 645kB 16.9MB/s eta 0:00:01\r\u001b[K     |█████████████████████████████▉  | 655kB 16.9MB/s eta 0:00:01\r\u001b[K     |██████████████████████████████▎ | 665kB 16.9MB/s eta 0:00:01\r\u001b[K     |██████████████████████████████▊ | 675kB 16.9MB/s eta 0:00:01\r\u001b[K     |███████████████████████████████▏| 686kB 16.9MB/s eta 0:00:01\r\u001b[K     |███████████████████████████████▊| 696kB 16.9MB/s eta 0:00:01\r\u001b[K     |████████████████████████████████| 706kB 16.9MB/s \n",
            "\u001b[?25hRequirement already satisfied, skipping upgrade: typeguard>=2.7 in /usr/local/lib/python3.6/dist-packages (from tensorflow-addons) (2.7.1)\n",
            "Installing collected packages: tensorflow-addons\n",
            "  Found existing installation: tensorflow-addons 0.8.3\n",
            "    Uninstalling tensorflow-addons-0.8.3:\n",
            "      Successfully uninstalled tensorflow-addons-0.8.3\n",
            "Successfully installed tensorflow-addons-0.12.0\n"
          ],
          "name": "stdout"
        }
      ]
    },
    {
      "cell_type": "code",
      "metadata": {
        "id": "y98D-bl3oIfw"
      },
      "source": [
        "import numpy as np\n",
        "import tensorflow as tf\n",
        "from tensorflow import keras\n",
        "from tensorflow.keras import layers\n",
        "import tensorflow_addons as tfa"
      ],
      "execution_count": null,
      "outputs": []
    },
    {
      "cell_type": "code",
      "metadata": {
        "colab": {
          "base_uri": "https://localhost:8080/"
        },
        "id": "dDdpoJYooLNz",
        "outputId": "2eeb7473-79f5-45a8-dad6-4c9cd07e6e3a"
      },
      "source": [
        "num=classes=100\n",
        "input_shape=(32,32,3)\n",
        "(x_train,y_train),(x_test,y_test)=keras.datasets.cifar100.load_data()"
      ],
      "execution_count": null,
      "outputs": [
        {
          "output_type": "stream",
          "text": [
            "Downloading data from https://www.cs.toronto.edu/~kriz/cifar-100-python.tar.gz\n",
            "169009152/169001437 [==============================] - 2s 0us/step\n"
          ],
          "name": "stdout"
        }
      ]
    },
    {
      "cell_type": "code",
      "metadata": {
        "colab": {
          "base_uri": "https://localhost:8080/"
        },
        "id": "vlGnSZ5JoVuG",
        "outputId": "27507f49-7735-4fb5-c21f-51c67dda195a"
      },
      "source": [
        "x_train.shape"
      ],
      "execution_count": null,
      "outputs": [
        {
          "output_type": "execute_result",
          "data": {
            "text/plain": [
              "(50000, 32, 32, 3)"
            ]
          },
          "metadata": {
            "tags": []
          },
          "execution_count": 4
        }
      ]
    },
    {
      "cell_type": "code",
      "metadata": {
        "colab": {
          "base_uri": "https://localhost:8080/"
        },
        "id": "o-Egcy7KoZTa",
        "outputId": "d7b1918e-d1e2-4f1a-9bd2-301177b08024"
      },
      "source": [
        "y_train.shape"
      ],
      "execution_count": null,
      "outputs": [
        {
          "output_type": "execute_result",
          "data": {
            "text/plain": [
              "(50000, 1)"
            ]
          },
          "metadata": {
            "tags": []
          },
          "execution_count": 5
        }
      ]
    },
    {
      "cell_type": "code",
      "metadata": {
        "id": "zqXUKE4Toae2"
      },
      "source": [
        "learning_rate = 0.001\n",
        "weight_decay = 0.0001\n",
        "batch_size = 256\n",
        "num_epochs = 100\n",
        "image_size = 72  # We'll resize input images to this size\n",
        "patch_size = 6  # Size of the patches to be extract from the input images\n",
        "num_patches = (image_size // patch_size) ** 2\n",
        "projection_dim = 64\n",
        "num_heads = 4\n",
        "transformer_units = [\n",
        "    projection_dim * 2,\n",
        "    projection_dim,\n",
        "]  # Size of the transformer layers\n",
        "transformer_layers = 8\n",
        "mlp_head_units = [2048, 1024]  "
      ],
      "execution_count": null,
      "outputs": []
    },
    {
      "cell_type": "code",
      "metadata": {
        "id": "QQGsi6HMoh9j"
      },
      "source": [
        "data_augmentation=keras.Sequential([\n",
        "    layers.experimental.preprocessing.Normalization(),\n",
        "    layers.experimental.preprocessing.Resizing(image_size,image_size),\n",
        "    layers.experimental.preprocessing.RandomFlip(\"horizontal\"),\n",
        "    layers.experimental.preprocessing.RandomRotation(factor=0.02),\n",
        "    layers.experimental.preprocessing.RandomZoom(height_factor=0.2,width_factor=0.2),\n",
        "],name=\"data_augmentation\")"
      ],
      "execution_count": null,
      "outputs": []
    },
    {
      "cell_type": "code",
      "metadata": {
        "id": "itY90OaH0f8M"
      },
      "source": [
        "data_augmentation.layers[0].adapt(x_train)"
      ],
      "execution_count": null,
      "outputs": []
    },
    {
      "cell_type": "code",
      "metadata": {
        "id": "AeIFtp3o0km-"
      },
      "source": [
        "def mlp(x,hidden_units,dropout_rate):\n",
        "  for units in hidden_units:\n",
        "    x=layers.Dense(units,activation=tf.nn.gelu)(x)\n",
        "    x=layers.Dropout(dropout_rate)(x)\n",
        "  return x"
      ],
      "execution_count": null,
      "outputs": []
    },
    {
      "cell_type": "code",
      "metadata": {
        "id": "--MVEnQt3qCu"
      },
      "source": [
        "class Patches(layers.Layer):\n",
        "    def __init__(self, patch_size):\n",
        "        super(Patches, self).__init__()\n",
        "        self.patch_size = patch_size\n",
        "\n",
        "    def call(self, images):\n",
        "        batch_size = tf.shape(images)[0]\n",
        "        patches = tf.image.extract_patches(\n",
        "            images=images,\n",
        "            sizes=[1, self.patch_size, self.patch_size, 1],\n",
        "            strides=[1, self.patch_size, self.patch_size, 1],\n",
        "            rates=[1, 1, 1, 1],\n",
        "            padding=\"VALID\",\n",
        "        )\n",
        "        patch_dims = patches.shape[-1]\n",
        "        patches = tf.reshape(patches, [batch_size, -1, patch_dims])\n",
        "        return patches\n"
      ],
      "execution_count": null,
      "outputs": []
    },
    {
      "cell_type": "code",
      "metadata": {
        "colab": {
          "base_uri": "https://localhost:8080/",
          "height": 547
        },
        "id": "kdeHXasa2yBR",
        "outputId": "285467e3-3c7c-4d18-af1f-f829f8d08587"
      },
      "source": [
        "import matplotlib.pyplot as plt\n",
        "plt.figure(figsize=(4, 4))\n",
        "image = x_train[np.random.choice(range(x_train.shape[0]))]\n",
        "plt.imshow(image.astype(\"uint8\"))\n",
        "plt.axis(\"off\")\n",
        "resized_image = tf.image.resize(\n",
        "    tf.convert_to_tensor([image]), size=(image_size, image_size)\n",
        ")\n",
        "patches = Patches(patch_size)(resized_image)\n",
        "print(f\"Image size: {image_size} X {image_size}\")\n",
        "print(f\"Patch size: {patch_size} X {patch_size}\")\n",
        "print(f\"Patches per image: {patches.shape[1]}\")\n",
        "print(f\"Elements per patch: {patches.shape[-1]}\")\n",
        "\n",
        "n = int(np.sqrt(patches.shape[1]))\n",
        "plt.figure(figsize=(4, 4))\n",
        "for i, patch in enumerate(patches[0]):\n",
        "    ax = plt.subplot(n, n, i + 1)\n",
        "    patch_img = tf.reshape(patch, (patch_size, patch_size, 3))\n",
        "    plt.imshow(patch_img.numpy().astype(\"uint8\"))\n",
        "    plt.axis(\"off\")"
      ],
      "execution_count": null,
      "outputs": [
        {
          "output_type": "stream",
          "text": [
            "Image size: 72 X 72\n",
            "Patch size: 6 X 6\n",
            "Patches per image: 144\n",
            "Elements per patch: 108\n"
          ],
          "name": "stdout"
        },
        {
          "output_type": "display_data",
          "data": {
            "image/png": "[encoded data removed]",
            "text/plain": [
              "<Figure size 288x288 with 1 Axes>"
            ]
          },
          "metadata": {
            "tags": [],
            "needs_background": "light"
          }
        },
        {
          "output_type": "display_data",
          "data": {
            "image/png": "[encoded data removed]",
            "text/plain": [
              "<Figure size 288x288 with 144 Axes>"
            ]
          },
          "metadata": {
            "tags": [],
            "needs_background": "light"
          }
        }
      ]
    },
    {
      "cell_type": "code",
      "metadata": {
        "colab": {
          "base_uri": "https://localhost:8080/"
        },
        "id": "HNEzZbz_3lF6",
        "outputId": "3f6cd59e-60a8-4ea2-c94e-fd9a5bec29be"
      },
      "source": [
        "patches[0]"
      ],
      "execution_count": null,
      "outputs": [
        {
          "output_type": "execute_result",
          "data": {
            "text/plain": [
              "<tf.Tensor: shape=(144, 108), dtype=float32, numpy=\n",
              "array([[150.      , 203.      , 245.      , ..., 143.46605 , 194.73764 ,\n",
              "        245.57098 ],\n",
              "       [127.611115, 177.77777 , 237.22223 , ..., 142.84259 , 190.04321 ,\n",
              "        239.41357 ],\n",
              "       [144.11111 , 190.77777 , 239.72221 , ..., 158.5679  , 204.60185 ,\n",
              "        243.67592 ],\n",
              "       ...,\n",
              "       [178.54626 , 204.22836 , 248.45987 , ..., 187.33333 , 209.94444 ,\n",
              "        237.66666 ],\n",
              "       [193.20676 , 211.65121 , 234.57407 , ..., 149.61111 , 175.11111 ,\n",
              "        230.5     ],\n",
              "       [175.36421 , 195.14816 , 237.81792 , ..., 166.      , 195.      ,\n",
              "        238.      ]], dtype=float32)>"
            ]
          },
          "metadata": {
            "tags": []
          },
          "execution_count": 13
        }
      ]
    },
    {
      "cell_type": "code",
      "metadata": {
        "id": "U0xKGXI17eet"
      },
      "source": [
        "class PatchEncoder(layers.Layer):\n",
        "  def __init__(self,num_patches,projection_dim):\n",
        "    super(PatchEncoder,self).__init__()\n",
        "    self.num_patches=num_patches\n",
        "    self.projection=layers.Dense(units=projection_dim)\n",
        "    self.positional_embedding=layers.Embedding(input_dim=num_patches,output_dim=projection_dim)\n",
        "  def call(self,patch):\n",
        "    positions=tf.range(start=0,limit=self.num_patches,delta=1)\n",
        "    encoded=self.projection(patch)+self.positional_embedding(positions)\n",
        "    return encoded"
      ],
      "execution_count": null,
      "outputs": []
    },
    {
      "cell_type": "code",
      "metadata": {
        "id": "3Bpr_c8m9tIE"
      },
      "source": [
        "def create_vit_classifier():\n",
        "  inputs=layers.Input(shape=input_shape)\n",
        "  augmented=data_augmentation(inputs)\n",
        "  patches=Patches(patch_size)(augmented)\n",
        "  encoded_patches=PatchEncoder(num_patches,projection_dim)(patches)\n",
        "  for _ in range(transformer_layers):\n",
        "    x1=layers.LayerNormalization(epsilon=1e-6)(encoded_patches)\n",
        "    attention_output=layers.MultiHeadAttention(num_heads=num_heads,key_dim=projection_dim,dropout=0.1)(x1,x1)\n",
        "    x2=layers.Add()([attention_output,encoded_patches])\n",
        "    x3=layers.LayerNormalization(epsilon=1e-6)(x2)\n",
        "    encoded_patches=layers.Add()([x3,x2])\n",
        "  representation=layers.LayerNormalization(epsilon=1e-6)(encoded_patches)\n",
        "  representation=layers.Flatten()(representation)\n",
        "  representation=layers.Dropout(0.5)(representation)\n",
        "  features = mlp(representation, hidden_units=mlp_head_units, dropout_rate=0.5)\n",
        "  logits = layers.Dense(num_classes)(features)\n",
        "  model = keras.Model(inputs=inputs, outputs=logits)\n",
        "  return model"
      ],
      "execution_count": null,
      "outputs": []
    },
    {
      "cell_type": "code",
      "metadata": {
        "id": "Vgb_K_pSBQYO"
      },
      "source": [
        "def run_experiment(model):\n",
        "    optimizer = tfa.optimizers.AdamW(\n",
        "        learning_rate=learning_rate, weight_decay=weight_decay\n",
        "    )\n",
        "\n",
        "    model.compile(\n",
        "        optimizer=optimizer,\n",
        "        loss=keras.losses.SparseCategoricalCrossentropy(from_logits=True),\n",
        "        metrics=[\n",
        "            keras.metrics.SparseCategoricalAccuracy(name=\"accuracy\"),\n",
        "            keras.metrics.SparseTopKCategoricalAccuracy(5, name=\"top-5-accuracy\"),\n",
        "        ],\n",
        "    )\n",
        "\n",
        "    checkpoint_filepath = \"/tmp/checkpoint\"\n",
        "    checkpoint_callback = keras.callbacks.ModelCheckpoint(\n",
        "        checkpoint_filepath,\n",
        "        monitor=\"val_accuracy\",\n",
        "        save_best_only=True,\n",
        "        save_weights_only=True,\n",
        "    )\n",
        "\n",
        "    history = model.fit(\n",
        "        x=x_train,\n",
        "        y=y_train,\n",
        "        batch_size=batch_size,\n",
        "        epochs=num_epochs,\n",
        "        validation_split=0.1,\n",
        "        callbacks=[checkpoint_callback],\n",
        "    )\n",
        "\n",
        "    model.load_weights(checkpoint_filepath)\n",
        "    _, accuracy, top_5_accuracy = model.evaluate(x_test, y_test)\n",
        "    print(f\"Test accuracy: {round(accuracy * 100, 2)}%\")\n",
        "    print(f\"Test top 5 accuracy: {round(top_5_accuracy * 100, 2)}%\")\n",
        "\n",
        "    return history\n",
        "\n",
        "\n",
        "vit_classifier = create_vit_classifier()\n",
        "history = run_experiment(vit_classifier)\n"
      ],
      "execution_count": null,
      "outputs": []
    }
  ]
}