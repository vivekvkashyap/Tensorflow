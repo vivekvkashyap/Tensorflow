{
  "nbformat": 4,
  "nbformat_minor": 0,
  "metadata": {
    "colab": {
      "name": "predicting language(char).ipynb",
      "provenance": [],
      "collapsed_sections": []
    },
    "kernelspec": {
      "name": "python3",
      "display_name": "Python 3"
    },
    "accelerator": "GPU"
  },
  "cells": [
    {
      "cell_type": "code",
      "metadata": {
        "id": "4qiTDqTwP59g"
      },
      "source": [
        "2eimport tensorflow as tf\n",
        "import keras\n",
        "import pandas as pd\n",
        "import numpy as np\n"
      ],
      "execution_count": null,
      "outputs": []
    },
    {
      "cell_type": "code",
      "metadata": {
        "id": "V8_Uu0dBQDmq"
      },
      "source": [
        "languages=[]\n",
        "data=[]\n",
        "x=[]\n",
        "y=[]\n",
        "with open('name2lang.txt','r') as f:\n",
        "  for line in f:\n",
        "    line=line.split(',')\n",
        "    name=line[0].strip()\n",
        "    lang=line[1].strip()\n",
        "    if not lang in languages:\n",
        "      languages.append(lang)\n",
        "    x.append(name)\n",
        "    y.append(lang)\n",
        "    "
      ],
      "execution_count": null,
      "outputs": []
    },
    {
      "cell_type": "code",
      "metadata": {
        "id": "pQ04r7O8RQF-"
      },
      "source": [
        "languages"
      ],
      "execution_count": null,
      "outputs": []
    },
    {
      "cell_type": "code",
      "metadata": {
        "id": "jKfp1NPtRTB9"
      },
      "source": [
        "y[0:10]"
      ],
      "execution_count": null,
      "outputs": []
    },
    {
      "cell_type": "code",
      "metadata": {
        "id": "EgsMhleFR7og"
      },
      "source": [
        "labels=[]"
      ],
      "execution_count": null,
      "outputs": []
    },
    {
      "cell_type": "code",
      "metadata": {
        "id": "23NlUkdjRm9g"
      },
      "source": [
        "for ll in y:\n",
        "  if ll=='Portuguese':\n",
        "    labels.append(1)\n",
        "  elif ll=='Irish':\n",
        "    labels.append(2)\n",
        "  elif ll=='Spanish':\n",
        "    labels.append(3)\n",
        "  elif ll=='Vietnamese':\n",
        "    labels.append(4)\n",
        "  elif ll=='Chinese':\n",
        "    labels.append(5)\n",
        "  elif ll=='Greek':\n",
        "    labels.append(6)\n",
        "  elif ll=='Czech':\n",
        "    labels.append(7)\n",
        "  elif ll=='Dutch':\n",
        "    labels.append(8)\n",
        "  elif ll=='Japanese':\n",
        "    labels.append(9)\n",
        "  elif ll=='French':\n",
        "    labels.append(10)\n",
        "  elif ll=='German':\n",
        "    labels.append(11)\n",
        "  elif ll=='Scottish':\n",
        "    labels.append(12)\n",
        "  elif ll=='English':\n",
        "    labels.append(13)\n",
        "  elif ll=='Russian':\n",
        "    labels.append(14)\n",
        "  elif ll=='Polish':\n",
        "    labels.append(15)\n",
        "  elif ll=='Arabic':\n",
        "    labels.append(16)\n",
        "  elif ll=='Korean':\n",
        "    labels.append(17)\n",
        "  elif ll=='Italian':\n",
        "    labels.append(18)"
      ],
      "execution_count": null,
      "outputs": []
    },
    {
      "cell_type": "code",
      "metadata": {
        "id": "Hftdo47ITKho",
        "colab": {
          "base_uri": "https://localhost:8080/",
          "height": 34
        },
        "outputId": "78c6666b-a0aa-4c4d-8886-f3df580e425b"
      },
      "source": [
        "len(labels)"
      ],
      "execution_count": null,
      "outputs": [
        {
          "output_type": "execute_result",
          "data": {
            "text/plain": [
              "20050"
            ]
          },
          "metadata": {
            "tags": []
          },
          "execution_count": 82
        }
      ]
    },
    {
      "cell_type": "code",
      "metadata": {
        "id": "pkWupAGUTr0m",
        "colab": {
          "base_uri": "https://localhost:8080/",
          "height": 34
        },
        "outputId": "6be82b80-3c2d-48b2-8754-974b098e6cdf"
      },
      "source": [
        "labels[:10]"
      ],
      "execution_count": null,
      "outputs": [
        {
          "output_type": "execute_result",
          "data": {
            "text/plain": [
              "[1, 1, 1, 1, 1, 1, 1, 1, 1, 1]"
            ]
          },
          "metadata": {
            "tags": []
          },
          "execution_count": 83
        }
      ]
    },
    {
      "cell_type": "code",
      "metadata": {
        "id": "wv_mo_6eTtJe"
      },
      "source": [
        "tokenizer=tf.keras.preprocessing.text.Tokenizer(char_level=True)\n",
        "tokenizer.fit_on_texts(x)"
      ],
      "execution_count": null,
      "outputs": []
    },
    {
      "cell_type": "code",
      "metadata": {
        "id": "hQhkKdhrVKE6"
      },
      "source": [
        "data=tokenizer.texts_to_sequences(x)"
      ],
      "execution_count": null,
      "outputs": []
    },
    {
      "cell_type": "code",
      "metadata": {
        "id": "e_XEQ0a6YczP"
      },
      "source": [
        "data=tf.keras.preprocessing.sequence.pad_sequences(data,padding='post')"
      ],
      "execution_count": null,
      "outputs": []
    },
    {
      "cell_type": "code",
      "metadata": {
        "id": "UTjQNRmsVMzZ",
        "colab": {
          "base_uri": "https://localhost:8080/",
          "height": 357
        },
        "outputId": "6833642d-961c-454b-868f-598b18434a25"
      },
      "source": [
        "data[:10]"
      ],
      "execution_count": null,
      "outputs": [
        {
          "output_type": "execute_result",
          "data": {
            "text/plain": [
              "array([[ 1, 16,  6,  3, 13,  0,  0,  0,  0,  0,  0,  0,  0,  0,  0,  0,\n",
              "         0,  0,  0],\n",
              "       [ 1, 10, 16, 13, 25, 13,  3,  6, 25, 13,  3,  0,  0,  0,  0,  0,\n",
              "         0,  0,  0],\n",
              "       [ 1, 10, 14,  3,  4, 15,  1,  0,  0,  0,  0,  0,  0,  0,  0,  0,\n",
              "         0,  0,  0],\n",
              "       [ 1, 10, 11,  3,  7,  0,  0,  0,  0,  0,  0,  0,  0,  0,  0,  0,\n",
              "         0,  0,  0],\n",
              "       [ 1,  6,  1, 13, 23,  2,  0,  0,  0,  0,  0,  0,  0,  0,  0,  0,\n",
              "         0,  0,  0],\n",
              "       [ 1,  6,  1, 13, 10, 10,  2,  0,  0,  0,  0,  0,  0,  0,  0,  0,\n",
              "         0,  0,  0],\n",
              "       [16,  1,  6,  6,  2,  7,  0,  0,  0,  0,  0,  0,  0,  0,  0,  0,\n",
              "         0,  0,  0],\n",
              "       [16,  1,  7, 13,  6, 12,  2,  0,  0,  0,  0,  0,  0,  0,  0,  0,\n",
              "         0,  0,  0],\n",
              "       [16,  3, 10,  2,  0,  0,  0,  0,  0,  0,  0,  0,  0,  0,  0,  0,\n",
              "         0,  0,  0],\n",
              "       [19,  1, 16,  6,  1, 10,  0,  0,  0,  0,  0,  0,  0,  0,  0,  0,\n",
              "         0,  0,  0]], dtype=int32)"
            ]
          },
          "metadata": {
            "tags": []
          },
          "execution_count": 87
        }
      ]
    },
    {
      "cell_type": "code",
      "metadata": {
        "id": "rR7-8UyxVcU9"
      },
      "source": [
        "ddata=[]"
      ],
      "execution_count": null,
      "outputs": []
    },
    {
      "cell_type": "code",
      "metadata": {
        "id": "S2eikZSoVVU4"
      },
      "source": [
        "for vv in data:\n",
        "  ddata.append(tf.one_hot(vv,depth=26))\n",
        "  "
      ],
      "execution_count": null,
      "outputs": []
    },
    {
      "cell_type": "code",
      "metadata": {
        "id": "IECxc6OZVaH9",
        "colab": {
          "base_uri": "https://localhost:8080/",
          "height": 680
        },
        "outputId": "8ffaf48e-9969-4fb6-a1fa-406b647f38ab"
      },
      "source": [
        "ddata[0]"
      ],
      "execution_count": null,
      "outputs": [
        {
          "output_type": "execute_result",
          "data": {
            "text/plain": [
              "<tf.Tensor: shape=(19, 26), dtype=float32, numpy=\n",
              "array([[0., 1., 0., 0., 0., 0., 0., 0., 0., 0., 0., 0., 0., 0., 0., 0.,\n",
              "        0., 0., 0., 0., 0., 0., 0., 0., 0., 0.],\n",
              "       [0., 0., 0., 0., 0., 0., 0., 0., 0., 0., 0., 0., 0., 0., 0., 0.,\n",
              "        1., 0., 0., 0., 0., 0., 0., 0., 0., 0.],\n",
              "       [0., 0., 0., 0., 0., 0., 1., 0., 0., 0., 0., 0., 0., 0., 0., 0.,\n",
              "        0., 0., 0., 0., 0., 0., 0., 0., 0., 0.],\n",
              "       [0., 0., 0., 1., 0., 0., 0., 0., 0., 0., 0., 0., 0., 0., 0., 0.,\n",
              "        0., 0., 0., 0., 0., 0., 0., 0., 0., 0.],\n",
              "       [0., 0., 0., 0., 0., 0., 0., 0., 0., 0., 0., 0., 0., 1., 0., 0.,\n",
              "        0., 0., 0., 0., 0., 0., 0., 0., 0., 0.],\n",
              "       [1., 0., 0., 0., 0., 0., 0., 0., 0., 0., 0., 0., 0., 0., 0., 0.,\n",
              "        0., 0., 0., 0., 0., 0., 0., 0., 0., 0.],\n",
              "       [1., 0., 0., 0., 0., 0., 0., 0., 0., 0., 0., 0., 0., 0., 0., 0.,\n",
              "        0., 0., 0., 0., 0., 0., 0., 0., 0., 0.],\n",
              "       [1., 0., 0., 0., 0., 0., 0., 0., 0., 0., 0., 0., 0., 0., 0., 0.,\n",
              "        0., 0., 0., 0., 0., 0., 0., 0., 0., 0.],\n",
              "       [1., 0., 0., 0., 0., 0., 0., 0., 0., 0., 0., 0., 0., 0., 0., 0.,\n",
              "        0., 0., 0., 0., 0., 0., 0., 0., 0., 0.],\n",
              "       [1., 0., 0., 0., 0., 0., 0., 0., 0., 0., 0., 0., 0., 0., 0., 0.,\n",
              "        0., 0., 0., 0., 0., 0., 0., 0., 0., 0.],\n",
              "       [1., 0., 0., 0., 0., 0., 0., 0., 0., 0., 0., 0., 0., 0., 0., 0.,\n",
              "        0., 0., 0., 0., 0., 0., 0., 0., 0., 0.],\n",
              "       [1., 0., 0., 0., 0., 0., 0., 0., 0., 0., 0., 0., 0., 0., 0., 0.,\n",
              "        0., 0., 0., 0., 0., 0., 0., 0., 0., 0.],\n",
              "       [1., 0., 0., 0., 0., 0., 0., 0., 0., 0., 0., 0., 0., 0., 0., 0.,\n",
              "        0., 0., 0., 0., 0., 0., 0., 0., 0., 0.],\n",
              "       [1., 0., 0., 0., 0., 0., 0., 0., 0., 0., 0., 0., 0., 0., 0., 0.,\n",
              "        0., 0., 0., 0., 0., 0., 0., 0., 0., 0.],\n",
              "       [1., 0., 0., 0., 0., 0., 0., 0., 0., 0., 0., 0., 0., 0., 0., 0.,\n",
              "        0., 0., 0., 0., 0., 0., 0., 0., 0., 0.],\n",
              "       [1., 0., 0., 0., 0., 0., 0., 0., 0., 0., 0., 0., 0., 0., 0., 0.,\n",
              "        0., 0., 0., 0., 0., 0., 0., 0., 0., 0.],\n",
              "       [1., 0., 0., 0., 0., 0., 0., 0., 0., 0., 0., 0., 0., 0., 0., 0.,\n",
              "        0., 0., 0., 0., 0., 0., 0., 0., 0., 0.],\n",
              "       [1., 0., 0., 0., 0., 0., 0., 0., 0., 0., 0., 0., 0., 0., 0., 0.,\n",
              "        0., 0., 0., 0., 0., 0., 0., 0., 0., 0.],\n",
              "       [1., 0., 0., 0., 0., 0., 0., 0., 0., 0., 0., 0., 0., 0., 0., 0.,\n",
              "        0., 0., 0., 0., 0., 0., 0., 0., 0., 0.]], dtype=float32)>"
            ]
          },
          "metadata": {
            "tags": []
          },
          "execution_count": 50
        }
      ]
    },
    {
      "cell_type": "code",
      "metadata": {
        "id": "TUStgS0wWJtd"
      },
      "source": [
        "llabel=[]"
      ],
      "execution_count": null,
      "outputs": []
    },
    {
      "cell_type": "code",
      "metadata": {
        "id": "_nD86C0bVsI3"
      },
      "source": [
        "for kk in labels:\n",
        "  llabel.append(tf.one_hot(kk,depth=18))"
      ],
      "execution_count": null,
      "outputs": []
    },
    {
      "cell_type": "code",
      "metadata": {
        "id": "dJf0xXCdgdvb"
      },
      "source": [
        "train_data=ddata[:15000]\n",
        "train_label=llabel[:15000]\n",
        "val_data=ddata[15000:]\n",
        "val_label=llabel[15000:]\n"
      ],
      "execution_count": null,
      "outputs": []
    },
    {
      "cell_type": "code",
      "metadata": {
        "id": "qA-AVyCLhJEd"
      },
      "source": [
        "train_data"
      ],
      "execution_count": null,
      "outputs": []
    },
    {
      "cell_type": "code",
      "metadata": {
        "id": "dG4q8zRfZU-Z"
      },
      "source": [
        "datasett=tf.data.Dataset.from_tensor_slices((train_data,train_label))"
      ],
      "execution_count": null,
      "outputs": []
    },
    {
      "cell_type": "code",
      "metadata": {
        "id": "zQYB2ipbhUdz"
      },
      "source": [
        "datasett2=tf.data.Dataset.from_tensor_slices((val_data,val_label))"
      ],
      "execution_count": null,
      "outputs": []
    },
    {
      "cell_type": "code",
      "metadata": {
        "id": "8rO9OfdEXWGa"
      },
      "source": [
        "datasett=datasett.batch(64).shuffle(150000)\n",
        "datasett2=datasett2.batch(64)"
      ],
      "execution_count": null,
      "outputs": []
    },
    {
      "cell_type": "code",
      "metadata": {
        "id": "QuFyg6-NZeJE"
      },
      "source": [
        "next(iter(datasett))"
      ],
      "execution_count": null,
      "outputs": []
    },
    {
      "cell_type": "code",
      "metadata": {
        "id": "-8nSF6FGWcSh"
      },
      "source": [
        "model = tf.keras.Sequential([\n",
        "    tf.keras.layers.LSTM(26,  return_sequences=True),\n",
        "    tf.keras.layers.LSTM(32),\n",
        "    tf.keras.layers.Dense(64, activation='relu'),\n",
        "    tf.keras.layers.Dense(18)\n",
        "])"
      ],
      "execution_count": null,
      "outputs": []
    },
    {
      "cell_type": "code",
      "metadata": {
        "id": "EtZKtcpOXT7r"
      },
      "source": [
        "model.compile(optimizer='adam',loss=tf.keras.losses.CategoricalCrossentropy(from_logits=True),\n",
        "              metrics=['accuracy'])"
      ],
      "execution_count": null,
      "outputs": []
    },
    {
      "cell_type": "code",
      "metadata": {
        "id": "NXYd0IMnaEVw",
        "colab": {
          "base_uri": "https://localhost:8080/",
          "height": 1000
        },
        "outputId": "e4574633-eaf3-476e-aabf-32f4ff57cb9b"
      },
      "source": [
        "model.fit(dataset1,epochs=30,validation_data=(datasett2))"
      ],
      "execution_count": null,
      "outputs": [
        {
          "output_type": "stream",
          "text": [
            "Epoch 1/30\n",
            "314/314 [==============================] - 5s 15ms/step - loss: 1.8915 - accuracy: 0.4617 - val_loss: 1.4165 - val_accuracy: 0.4174\n",
            "Epoch 2/30\n",
            "314/314 [==============================] - 4s 13ms/step - loss: 1.7053 - accuracy: 0.4680 - val_loss: 1.3238 - val_accuracy: 0.4174\n",
            "Epoch 3/30\n",
            "314/314 [==============================] - 4s 13ms/step - loss: 1.5460 - accuracy: 0.4973 - val_loss: 1.0676 - val_accuracy: 0.3717\n",
            "Epoch 4/30\n",
            "314/314 [==============================] - 4s 13ms/step - loss: 1.4277 - accuracy: 0.5427 - val_loss: 1.1286 - val_accuracy: 0.3610\n",
            "Epoch 5/30\n",
            "314/314 [==============================] - 4s 13ms/step - loss: 1.3707 - accuracy: 0.5499 - val_loss: 1.0503 - val_accuracy: 0.3650\n",
            "Epoch 6/30\n",
            "314/314 [==============================] - 4s 13ms/step - loss: 1.3562 - accuracy: 0.5547 - val_loss: 0.9899 - val_accuracy: 0.3830\n",
            "Epoch 7/30\n",
            "314/314 [==============================] - 4s 14ms/step - loss: 1.3284 - accuracy: 0.5504 - val_loss: 0.9336 - val_accuracy: 0.3723\n",
            "Epoch 8/30\n",
            "314/314 [==============================] - 4s 14ms/step - loss: 1.3249 - accuracy: 0.5507 - val_loss: 0.9959 - val_accuracy: 0.3665\n",
            "Epoch 9/30\n",
            "314/314 [==============================] - 4s 14ms/step - loss: 1.3103 - accuracy: 0.5513 - val_loss: 1.0204 - val_accuracy: 0.3715\n",
            "Epoch 10/30\n",
            "314/314 [==============================] - 4s 14ms/step - loss: 1.3105 - accuracy: 0.5536 - val_loss: 1.1284 - val_accuracy: 0.3840\n",
            "Epoch 11/30\n",
            "314/314 [==============================] - 4s 14ms/step - loss: 1.3048 - accuracy: 0.5613 - val_loss: 0.8581 - val_accuracy: 0.6420\n",
            "Epoch 12/30\n",
            "314/314 [==============================] - 5s 14ms/step - loss: 1.2836 - accuracy: 0.5759 - val_loss: 0.7727 - val_accuracy: 0.7287\n",
            "Epoch 13/30\n",
            "314/314 [==============================] - 5s 15ms/step - loss: 1.2709 - accuracy: 0.5738 - val_loss: 1.7198 - val_accuracy: 0.3493\n",
            "Epoch 14/30\n",
            "314/314 [==============================] - 4s 14ms/step - loss: 1.3281 - accuracy: 0.5731 - val_loss: 0.9892 - val_accuracy: 0.5517\n",
            "Epoch 15/30\n",
            "314/314 [==============================] - 4s 14ms/step - loss: 1.2352 - accuracy: 0.6114 - val_loss: 0.6716 - val_accuracy: 0.6650\n",
            "Epoch 16/30\n",
            "314/314 [==============================] - 4s 13ms/step - loss: 1.2399 - accuracy: 0.6181 - val_loss: 1.1346 - val_accuracy: 0.4713\n",
            "Epoch 17/30\n",
            "314/314 [==============================] - 4s 13ms/step - loss: 1.2168 - accuracy: 0.6253 - val_loss: 0.6562 - val_accuracy: 0.6972\n",
            "Epoch 18/30\n",
            "314/314 [==============================] - 4s 13ms/step - loss: 1.1988 - accuracy: 0.6255 - val_loss: 0.5942 - val_accuracy: 0.7022\n",
            "Epoch 19/30\n",
            "314/314 [==============================] - 4s 13ms/step - loss: 1.2117 - accuracy: 0.6203 - val_loss: 0.9051 - val_accuracy: 0.5107\n",
            "Epoch 20/30\n",
            "314/314 [==============================] - 4s 13ms/step - loss: 1.1914 - accuracy: 0.6310 - val_loss: 0.9294 - val_accuracy: 0.5962\n",
            "Epoch 21/30\n",
            "314/314 [==============================] - 4s 13ms/step - loss: 1.2034 - accuracy: 0.6264 - val_loss: 0.5479 - val_accuracy: 0.7499\n",
            "Epoch 22/30\n",
            "314/314 [==============================] - 4s 13ms/step - loss: 1.1736 - accuracy: 0.6370 - val_loss: 0.5337 - val_accuracy: 0.7610\n",
            "Epoch 23/30\n",
            "314/314 [==============================] - 4s 13ms/step - loss: 1.2091 - accuracy: 0.6329 - val_loss: 0.6017 - val_accuracy: 0.6168\n",
            "Epoch 24/30\n",
            "314/314 [==============================] - 4s 13ms/step - loss: 1.2717 - accuracy: 0.6147 - val_loss: 0.6267 - val_accuracy: 0.6792\n",
            "Epoch 25/30\n",
            "314/314 [==============================] - 4s 13ms/step - loss: 1.2070 - accuracy: 0.6251 - val_loss: 0.8497 - val_accuracy: 0.5754\n",
            "Epoch 26/30\n",
            "314/314 [==============================] - 4s 13ms/step - loss: 1.1825 - accuracy: 0.6361 - val_loss: 0.5081 - val_accuracy: 0.7549\n",
            "Epoch 27/30\n",
            "314/314 [==============================] - 4s 13ms/step - loss: 1.1626 - accuracy: 0.6397 - val_loss: 0.7241 - val_accuracy: 0.6002\n",
            "Epoch 28/30\n",
            "314/314 [==============================] - 4s 13ms/step - loss: 1.1964 - accuracy: 0.6400 - val_loss: 0.5743 - val_accuracy: 0.7424\n",
            "Epoch 29/30\n",
            "314/314 [==============================] - 4s 13ms/step - loss: 1.1828 - accuracy: 0.6371 - val_loss: 0.4822 - val_accuracy: 0.7139\n",
            "Epoch 30/30\n",
            "314/314 [==============================] - 4s 13ms/step - loss: 1.1766 - accuracy: 0.6419 - val_loss: 0.5584 - val_accuracy: 0.7152\n"
          ],
          "name": "stdout"
        },
        {
          "output_type": "execute_result",
          "data": {
            "text/plain": [
              "<tensorflow.python.keras.callbacks.History at 0x7ff8c5a480b8>"
            ]
          },
          "metadata": {
            "tags": []
          },
          "execution_count": 62
        }
      ]
    },
    {
      "cell_type": "code",
      "metadata": {
        "id": "W5HnUQeIaLg4"
      },
      "source": [
        "word=\"manteiga\"\n"
      ],
      "execution_count": null,
      "outputs": []
    },
    {
      "cell_type": "code",
      "metadata": {
        "id": "SMa5rZ--jA-d"
      },
      "source": [
        "#tokenizer.fit_on_texts(word)"
      ],
      "execution_count": null,
      "outputs": []
    },
    {
      "cell_type": "code",
      "metadata": {
        "id": "H1IqSS-fjNKD"
      },
      "source": [
        "dd=tokenizer.texts_to_sequences(\"Archer\")"
      ],
      "execution_count": null,
      "outputs": []
    },
    {
      "cell_type": "code",
      "metadata": {
        "id": "0rlDmDNLjS5G",
        "colab": {
          "base_uri": "https://localhost:8080/",
          "height": 34
        },
        "outputId": "c9b37f3f-29c6-41fb-92dd-9e554d450987"
      },
      "source": [
        "dd"
      ],
      "execution_count": null,
      "outputs": [
        {
          "output_type": "execute_result",
          "data": {
            "text/plain": [
              "[[1], [6], [19], [8], [3], [6]]"
            ]
          },
          "metadata": {
            "tags": []
          },
          "execution_count": 131
        }
      ]
    },
    {
      "cell_type": "code",
      "metadata": {
        "id": "p3w3A65ZnqMz"
      },
      "source": [
        "dd=tokenizer.texts_to_sequences(\"archer\")"
      ],
      "execution_count": null,
      "outputs": []
    },
    {
      "cell_type": "code",
      "metadata": {
        "id": "9_Pe6hhsnsjY",
        "colab": {
          "base_uri": "https://localhost:8080/",
          "height": 34
        },
        "outputId": "6aa05945-594b-4f3b-b0dd-f5feb6e9ce39"
      },
      "source": [
        "dd"
      ],
      "execution_count": null,
      "outputs": [
        {
          "output_type": "execute_result",
          "data": {
            "text/plain": [
              "[[1], [6], [19], [8], [3], [6]]"
            ]
          },
          "metadata": {
            "tags": []
          },
          "execution_count": 134
        }
      ]
    },
    {
      "cell_type": "code",
      "metadata": {
        "id": "6Oo6WrWPkFF2",
        "colab": {
          "base_uri": "https://localhost:8080/",
          "height": 34
        },
        "outputId": "1c6da324-e217-47f7-dab4-12c04dcf61bb"
      },
      "source": [
        "dd=np.array([1,6,19,8,3,6])\n",
        "dd"
      ],
      "execution_count": null,
      "outputs": [
        {
          "output_type": "execute_result",
          "data": {
            "text/plain": [
              "array([ 1,  6, 19,  8,  3,  6])"
            ]
          },
          "metadata": {
            "tags": []
          },
          "execution_count": 135
        }
      ]
    },
    {
      "cell_type": "code",
      "metadata": {
        "id": "ll-L5dK2jTK8"
      },
      "source": [
        "ss=tf.one_hot(dd,depth=26)"
      ],
      "execution_count": null,
      "outputs": []
    },
    {
      "cell_type": "code",
      "metadata": {
        "id": "X9BB890clF6M"
      },
      "source": [
        "ss=tf.expand_dims(ss,axis=0)"
      ],
      "execution_count": null,
      "outputs": []
    },
    {
      "cell_type": "code",
      "metadata": {
        "id": "_-5ompAzjYav",
        "colab": {
          "base_uri": "https://localhost:8080/",
          "height": 238
        },
        "outputId": "97ee6e46-1940-476c-a795-164d4d886869"
      },
      "source": [
        "ss"
      ],
      "execution_count": null,
      "outputs": [
        {
          "output_type": "execute_result",
          "data": {
            "text/plain": [
              "<tf.Tensor: shape=(1, 6, 26), dtype=float32, numpy=\n",
              "array([[[0., 1., 0., 0., 0., 0., 0., 0., 0., 0., 0., 0., 0., 0., 0., 0.,\n",
              "         0., 0., 0., 0., 0., 0., 0., 0., 0., 0.],\n",
              "        [0., 0., 0., 0., 0., 0., 1., 0., 0., 0., 0., 0., 0., 0., 0., 0.,\n",
              "         0., 0., 0., 0., 0., 0., 0., 0., 0., 0.],\n",
              "        [0., 0., 0., 0., 0., 0., 0., 0., 0., 0., 0., 0., 0., 0., 0., 0.,\n",
              "         0., 0., 0., 1., 0., 0., 0., 0., 0., 0.],\n",
              "        [0., 0., 0., 0., 0., 0., 0., 0., 1., 0., 0., 0., 0., 0., 0., 0.,\n",
              "         0., 0., 0., 0., 0., 0., 0., 0., 0., 0.],\n",
              "        [0., 0., 0., 1., 0., 0., 0., 0., 0., 0., 0., 0., 0., 0., 0., 0.,\n",
              "         0., 0., 0., 0., 0., 0., 0., 0., 0., 0.],\n",
              "        [0., 0., 0., 0., 0., 0., 1., 0., 0., 0., 0., 0., 0., 0., 0., 0.,\n",
              "         0., 0., 0., 0., 0., 0., 0., 0., 0., 0.]]], dtype=float32)>"
            ]
          },
          "metadata": {
            "tags": []
          },
          "execution_count": 138
        }
      ]
    },
    {
      "cell_type": "code",
      "metadata": {
        "id": "3UGMICumjY-J",
        "colab": {
          "base_uri": "https://localhost:8080/",
          "height": 85
        },
        "outputId": "dc85c4a6-9ae6-4c44-9c29-9a4ca313bb78"
      },
      "source": [
        "model.predict(ss)"
      ],
      "execution_count": null,
      "outputs": [
        {
          "output_type": "execute_result",
          "data": {
            "text/plain": [
              "array([[ -8.696647 , -10.192931 ,  -4.505227 ,  -5.855137 ,  -7.3255844,\n",
              "         -6.114259 ,  -1.1395855,  -2.143084 ,  -2.8953357,  -2.6241593,\n",
              "         -5.3546267,  -2.3417354,  -9.153869 ,  -4.754699 ,  -0.8300557,\n",
              "         -3.8538265,  -9.036219 ,  -7.000444 ]], dtype=float32)"
            ]
          },
          "metadata": {
            "tags": []
          },
          "execution_count": 139
        }
      ]
    },
    {
      "cell_type": "code",
      "metadata": {
        "id": "kPwXrQMgjgoz"
      },
      "source": [
        "x=tf.nn.softmax(model.predict(ss))"
      ],
      "execution_count": null,
      "outputs": []
    },
    {
      "cell_type": "code",
      "metadata": {
        "id": "szYcEK4OlfgW",
        "colab": {
          "base_uri": "https://localhost:8080/",
          "height": 119
        },
        "outputId": "fb454000-8b83-417e-e344-9e72c5bfc78d"
      },
      "source": [
        "x"
      ],
      "execution_count": null,
      "outputs": [
        {
          "output_type": "execute_result",
          "data": {
            "text/plain": [
              "<tf.Tensor: shape=(1, 18), dtype=float32, numpy=\n",
              "array([[1.7903051e-04, 3.8416903e-05, 9.7003253e-03, 2.6586489e-03,\n",
              "        5.1023980e-04, 2.2572353e-03, 3.2145232e-01, 9.1083512e-02,\n",
              "        4.7323778e-02, 6.1552715e-02, 4.5670024e-03, 8.6204447e-02,\n",
              "        9.3544899e-05, 7.2239055e-03, 3.4835479e-01, 1.5751056e-02,\n",
              "        1.1788543e-04, 9.3117799e-04]], dtype=float32)>"
            ]
          },
          "metadata": {
            "tags": []
          },
          "execution_count": 129
        }
      ]
    },
    {
      "cell_type": "code",
      "metadata": {
        "id": "nMOlQdZBlnMI"
      },
      "source": [
        ""
      ],
      "execution_count": null,
      "outputs": []
    }
  ]
}