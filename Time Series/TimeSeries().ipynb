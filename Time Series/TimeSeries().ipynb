{
  "nbformat": 4,
  "nbformat_minor": 0,
  "metadata": {
    "colab": {
      "name": "TimeSeries().ipynb",
      "provenance": [],
      "collapsed_sections": []
    },
    "kernelspec": {
      "name": "python3",
      "display_name": "Python 3"
    },
    "accelerator": "GPU"
  },
  "cells": [
    {
      "cell_type": "code",
      "metadata": {
        "id": "nwMMEKEstK7l"
      },
      "source": [
        "import tensorflow as tf\n",
        "import numpy as np\n",
        "import pandas as pd\n",
        "import keras"
      ],
      "execution_count": null,
      "outputs": []
    },
    {
      "cell_type": "code",
      "metadata": {
        "id": "Ylz5YYc4tkHX",
        "colab": {
          "base_uri": "https://localhost:8080/",
          "height": 71
        },
        "outputId": "7143fcad-8a50-49b1-c3d3-b967ff27969c"
      },
      "source": [
        "import seaborn as sns\n",
        "from pylab import rcParams\n",
        "import matplotlib.pyplot as plt\n",
        "from matplotlib import rc\n",
        "from pandas.plotting import register_matplotlib_converters\n",
        "\n",
        "%matplotlib inline\n",
        "%config InlineBackend.figure_format='retina'\n",
        "\n",
        "register_matplotlib_converters()\n",
        "sns.set(style='whitegrid', palette='muted', font_scale=1.5)\n",
        "\n",
        "rcParams['figure.figsize'] = 22, 10\n",
        "\n",
        "RANDOM_SEED = 42\n",
        "\n",
        "np.random.seed(RANDOM_SEED)\n",
        "tf.random.set_seed(RANDOM_SEED)"
      ],
      "execution_count": null,
      "outputs": [
        {
          "output_type": "stream",
          "text": [
            "/usr/local/lib/python3.6/dist-packages/statsmodels/tools/_testing.py:19: FutureWarning: pandas.util.testing is deprecated. Use the functions in the public API at pandas.testing instead.\n",
            "  import pandas.util.testing as tm\n"
          ],
          "name": "stderr"
        }
      ]
    },
    {
      "cell_type": "code",
      "metadata": {
        "id": "QSZKTee3tuLB",
        "colab": {
          "base_uri": "https://localhost:8080/",
          "height": 187
        },
        "outputId": "6e5d913e-9745-48e0-c111-5cc1e6638bcb"
      },
      "source": [
        "\n",
        "!gdown --id 152sWECukjvLerrVG2NUO8gtMFg83RKCF --output WISDM_ar_latest.tar.gz\n",
        "!tar -xvf WISDM_ar_latest.tar.gz"
      ],
      "execution_count": null,
      "outputs": [
        {
          "output_type": "stream",
          "text": [
            "Downloading...\n",
            "From: https://drive.google.com/uc?id=152sWECukjvLerrVG2NUO8gtMFg83RKCF\n",
            "To: /content/WISDM_ar_latest.tar.gz\n",
            "11.4MB [00:00, 69.7MB/s]\n",
            "WISDM_ar_v1.1/\n",
            "WISDM_ar_v1.1/readme.txt\n",
            "WISDM_ar_v1.1/WISDM_ar_v1.1_raw.txt\n",
            "WISDM_ar_v1.1/WISDM_ar_v1.1_raw_about.txt\n",
            "WISDM_ar_v1.1/WISDM_ar_v1.1_transformed.arff\n",
            "WISDM_ar_v1.1/WISDM_ar_v1.1_trans_about.txt\n"
          ],
          "name": "stdout"
        }
      ]
    },
    {
      "cell_type": "code",
      "metadata": {
        "id": "Ql4Zyvoftw05"
      },
      "source": [
        "column_names = ['user_id', 'activity', 'timestamp', 'x_axis', 'y_axis', 'z_axis']\n",
        "\n",
        "df = pd.read_csv('WISDM_ar_v1.1/WISDM_ar_v1.1_raw.txt', header=None, names=column_names)"
      ],
      "execution_count": null,
      "outputs": []
    },
    {
      "cell_type": "code",
      "metadata": {
        "id": "xrGIx2IauPrf",
        "colab": {
          "base_uri": "https://localhost:8080/",
          "height": 419
        },
        "outputId": "fcd03938-5a06-496c-d5bc-ccb3834908ee"
      },
      "source": [
        "df"
      ],
      "execution_count": null,
      "outputs": [
        {
          "output_type": "execute_result",
          "data": {
            "text/html": [
              "<div>\n",
              "<style scoped>\n",
              "    .dataframe tbody tr th:only-of-type {\n",
              "        vertical-align: middle;\n",
              "    }\n",
              "\n",
              "    .dataframe tbody tr th {\n",
              "        vertical-align: top;\n",
              "    }\n",
              "\n",
              "    .dataframe thead th {\n",
              "        text-align: right;\n",
              "    }\n",
              "</style>\n",
              "<table border=\"1\" class=\"dataframe\">\n",
              "  <thead>\n",
              "    <tr style=\"text-align: right;\">\n",
              "      <th></th>\n",
              "      <th>user_id</th>\n",
              "      <th>activity</th>\n",
              "      <th>timestamp</th>\n",
              "      <th>x_axis</th>\n",
              "      <th>y_axis</th>\n",
              "      <th>z_axis</th>\n",
              "    </tr>\n",
              "  </thead>\n",
              "  <tbody>\n",
              "    <tr>\n",
              "      <th>0</th>\n",
              "      <td>33</td>\n",
              "      <td>Jogging</td>\n",
              "      <td>49105962326000</td>\n",
              "      <td>-0.694638</td>\n",
              "      <td>12.680544</td>\n",
              "      <td>0.503953</td>\n",
              "    </tr>\n",
              "    <tr>\n",
              "      <th>1</th>\n",
              "      <td>33</td>\n",
              "      <td>Jogging</td>\n",
              "      <td>49106062271000</td>\n",
              "      <td>5.012288</td>\n",
              "      <td>11.264028</td>\n",
              "      <td>0.953424</td>\n",
              "    </tr>\n",
              "    <tr>\n",
              "      <th>2</th>\n",
              "      <td>33</td>\n",
              "      <td>Jogging</td>\n",
              "      <td>49106112167000</td>\n",
              "      <td>4.903325</td>\n",
              "      <td>10.882658</td>\n",
              "      <td>-0.081722</td>\n",
              "    </tr>\n",
              "    <tr>\n",
              "      <th>3</th>\n",
              "      <td>33</td>\n",
              "      <td>Jogging</td>\n",
              "      <td>49106222305000</td>\n",
              "      <td>-0.612916</td>\n",
              "      <td>18.496431</td>\n",
              "      <td>3.023717</td>\n",
              "    </tr>\n",
              "    <tr>\n",
              "      <th>4</th>\n",
              "      <td>33</td>\n",
              "      <td>Jogging</td>\n",
              "      <td>49106332290000</td>\n",
              "      <td>-1.184970</td>\n",
              "      <td>12.108489</td>\n",
              "      <td>7.205164</td>\n",
              "    </tr>\n",
              "    <tr>\n",
              "      <th>...</th>\n",
              "      <td>...</td>\n",
              "      <td>...</td>\n",
              "      <td>...</td>\n",
              "      <td>...</td>\n",
              "      <td>...</td>\n",
              "      <td>...</td>\n",
              "    </tr>\n",
              "    <tr>\n",
              "      <th>1098199</th>\n",
              "      <td>19</td>\n",
              "      <td>Sitting</td>\n",
              "      <td>131623331483000</td>\n",
              "      <td>9.000000</td>\n",
              "      <td>-1.570000</td>\n",
              "      <td>1.690000</td>\n",
              "    </tr>\n",
              "    <tr>\n",
              "      <th>1098200</th>\n",
              "      <td>19</td>\n",
              "      <td>Sitting</td>\n",
              "      <td>131623371431000</td>\n",
              "      <td>9.040000</td>\n",
              "      <td>-1.460000</td>\n",
              "      <td>1.730000</td>\n",
              "    </tr>\n",
              "    <tr>\n",
              "      <th>1098201</th>\n",
              "      <td>19</td>\n",
              "      <td>Sitting</td>\n",
              "      <td>131623411592000</td>\n",
              "      <td>9.080000</td>\n",
              "      <td>-1.380000</td>\n",
              "      <td>1.690000</td>\n",
              "    </tr>\n",
              "    <tr>\n",
              "      <th>1098202</th>\n",
              "      <td>19</td>\n",
              "      <td>Sitting</td>\n",
              "      <td>131623491487000</td>\n",
              "      <td>9.000000</td>\n",
              "      <td>-1.460000</td>\n",
              "      <td>1.730000</td>\n",
              "    </tr>\n",
              "    <tr>\n",
              "      <th>1098203</th>\n",
              "      <td>19</td>\n",
              "      <td>Sitting</td>\n",
              "      <td>131623531465000</td>\n",
              "      <td>8.880000</td>\n",
              "      <td>-1.330000</td>\n",
              "      <td>1.610000</td>\n",
              "    </tr>\n",
              "  </tbody>\n",
              "</table>\n",
              "<p>1098204 rows × 6 columns</p>\n",
              "</div>"
            ],
            "text/plain": [
              "         user_id activity        timestamp    x_axis     y_axis    z_axis\n",
              "0             33  Jogging   49105962326000 -0.694638  12.680544  0.503953\n",
              "1             33  Jogging   49106062271000  5.012288  11.264028  0.953424\n",
              "2             33  Jogging   49106112167000  4.903325  10.882658 -0.081722\n",
              "3             33  Jogging   49106222305000 -0.612916  18.496431  3.023717\n",
              "4             33  Jogging   49106332290000 -1.184970  12.108489  7.205164\n",
              "...          ...      ...              ...       ...        ...       ...\n",
              "1098199       19  Sitting  131623331483000  9.000000  -1.570000  1.690000\n",
              "1098200       19  Sitting  131623371431000  9.040000  -1.460000  1.730000\n",
              "1098201       19  Sitting  131623411592000  9.080000  -1.380000  1.690000\n",
              "1098202       19  Sitting  131623491487000  9.000000  -1.460000  1.730000\n",
              "1098203       19  Sitting  131623531465000  8.880000  -1.330000  1.610000\n",
              "\n",
              "[1098204 rows x 6 columns]"
            ]
          },
          "metadata": {
            "tags": []
          },
          "execution_count": 6
        }
      ]
    },
    {
      "cell_type": "code",
      "metadata": {
        "id": "6dxHdD-pt3AA"
      },
      "source": [
        "df.z_axis.replace(regex=True,inplace=True,to_replace=r';',value=r'')\n",
        "df['z_axis']=df.z_axis.astype(np.float64)\n",
        "df.dropna(axis=0,how='any',inplace=True)"
      ],
      "execution_count": null,
      "outputs": []
    },
    {
      "cell_type": "code",
      "metadata": {
        "id": "Q374Jbf_uOUp",
        "colab": {
          "base_uri": "https://localhost:8080/",
          "height": 204
        },
        "outputId": "53189b92-e853-4640-a2c5-09d7f49270cf"
      },
      "source": [
        "df.head()"
      ],
      "execution_count": null,
      "outputs": [
        {
          "output_type": "execute_result",
          "data": {
            "text/html": [
              "<div>\n",
              "<style scoped>\n",
              "    .dataframe tbody tr th:only-of-type {\n",
              "        vertical-align: middle;\n",
              "    }\n",
              "\n",
              "    .dataframe tbody tr th {\n",
              "        vertical-align: top;\n",
              "    }\n",
              "\n",
              "    .dataframe thead th {\n",
              "        text-align: right;\n",
              "    }\n",
              "</style>\n",
              "<table border=\"1\" class=\"dataframe\">\n",
              "  <thead>\n",
              "    <tr style=\"text-align: right;\">\n",
              "      <th></th>\n",
              "      <th>user_id</th>\n",
              "      <th>activity</th>\n",
              "      <th>timestamp</th>\n",
              "      <th>x_axis</th>\n",
              "      <th>y_axis</th>\n",
              "      <th>z_axis</th>\n",
              "    </tr>\n",
              "  </thead>\n",
              "  <tbody>\n",
              "    <tr>\n",
              "      <th>0</th>\n",
              "      <td>33</td>\n",
              "      <td>Jogging</td>\n",
              "      <td>49105962326000</td>\n",
              "      <td>-0.694638</td>\n",
              "      <td>12.680544</td>\n",
              "      <td>0.503953</td>\n",
              "    </tr>\n",
              "    <tr>\n",
              "      <th>1</th>\n",
              "      <td>33</td>\n",
              "      <td>Jogging</td>\n",
              "      <td>49106062271000</td>\n",
              "      <td>5.012288</td>\n",
              "      <td>11.264028</td>\n",
              "      <td>0.953424</td>\n",
              "    </tr>\n",
              "    <tr>\n",
              "      <th>2</th>\n",
              "      <td>33</td>\n",
              "      <td>Jogging</td>\n",
              "      <td>49106112167000</td>\n",
              "      <td>4.903325</td>\n",
              "      <td>10.882658</td>\n",
              "      <td>-0.081722</td>\n",
              "    </tr>\n",
              "    <tr>\n",
              "      <th>3</th>\n",
              "      <td>33</td>\n",
              "      <td>Jogging</td>\n",
              "      <td>49106222305000</td>\n",
              "      <td>-0.612916</td>\n",
              "      <td>18.496431</td>\n",
              "      <td>3.023717</td>\n",
              "    </tr>\n",
              "    <tr>\n",
              "      <th>4</th>\n",
              "      <td>33</td>\n",
              "      <td>Jogging</td>\n",
              "      <td>49106332290000</td>\n",
              "      <td>-1.184970</td>\n",
              "      <td>12.108489</td>\n",
              "      <td>7.205164</td>\n",
              "    </tr>\n",
              "  </tbody>\n",
              "</table>\n",
              "</div>"
            ],
            "text/plain": [
              "   user_id activity       timestamp    x_axis     y_axis    z_axis\n",
              "0       33  Jogging  49105962326000 -0.694638  12.680544  0.503953\n",
              "1       33  Jogging  49106062271000  5.012288  11.264028  0.953424\n",
              "2       33  Jogging  49106112167000  4.903325  10.882658 -0.081722\n",
              "3       33  Jogging  49106222305000 -0.612916  18.496431  3.023717\n",
              "4       33  Jogging  49106332290000 -1.184970  12.108489  7.205164"
            ]
          },
          "metadata": {
            "tags": []
          },
          "execution_count": 10
        }
      ]
    },
    {
      "cell_type": "code",
      "metadata": {
        "id": "Xug7JPo8uWLY",
        "colab": {
          "base_uri": "https://localhost:8080/",
          "height": 34
        },
        "outputId": "dad67594-b45d-4ff6-ca07-5ac980179a6b"
      },
      "source": [
        "df.shape"
      ],
      "execution_count": null,
      "outputs": [
        {
          "output_type": "execute_result",
          "data": {
            "text/plain": [
              "(1098203, 6)"
            ]
          },
          "metadata": {
            "tags": []
          },
          "execution_count": 11
        }
      ]
    },
    {
      "cell_type": "code",
      "metadata": {
        "id": "ARKkWTX2vzZ4",
        "colab": {
          "base_uri": "https://localhost:8080/",
          "height": 622
        },
        "outputId": "3babb2fb-cf5e-4486-cd78-8518e3e39da9"
      },
      "source": [
        "sns.countplot(x = 'activity',\n",
        "              data = df,\n",
        "              order = df.activity.value_counts().index);"
      ],
      "execution_count": null,
      "outputs": [
        {
          "output_type": "display_data",
          "data": {
            "image/png": "[encoded data removed]",
            "text/plain": [
              "<Figure size 1584x720 with 1 Axes>"
            ]
          },
          "metadata": {
            "tags": [],
            "image/png": {
              "width": 1335,
              "height": 605
            }
          }
        }
      ]
    },
    {
      "cell_type": "code",
      "metadata": {
        "id": "CJXcKrrMv5v_"
      },
      "source": [
        "df_train=df[df['user_id']<=30]\n",
        "df_test=df[df['user_id']>30]"
      ],
      "execution_count": null,
      "outputs": []
    },
    {
      "cell_type": "code",
      "metadata": {
        "id": "oVZEHM2dwOrs"
      },
      "source": [
        "from sklearn.preprocessing import RobustScaler"
      ],
      "execution_count": null,
      "outputs": []
    },
    {
      "cell_type": "code",
      "metadata": {
        "id": "W5CtowkEwkcV",
        "colab": {
          "base_uri": "https://localhost:8080/",
          "height": 241
        },
        "outputId": "141acb8d-f42d-4fb3-e642-e06ba4e73825"
      },
      "source": [
        "scale_columns=['x_axis','y_axis','z_axis']\n",
        "scaler=RobustScaler()\n",
        "scaler=scaler.fit(df_train[scale_columns])\n",
        "df_train.loc[:, scale_columns] = scaler.transform(df_train[scale_columns].to_numpy())\n",
        "df_test.loc[:, scale_columns] = scaler.transform(df_test[scale_columns].to_numpy())"
      ],
      "execution_count": null,
      "outputs": [
        {
          "output_type": "stream",
          "text": [
            "/usr/local/lib/python3.6/dist-packages/pandas/core/indexing.py:966: SettingWithCopyWarning: \n",
            "A value is trying to be set on a copy of a slice from a DataFrame.\n",
            "Try using .loc[row_indexer,col_indexer] = value instead\n",
            "\n",
            "See the caveats in the documentation: https://pandas.pydata.org/pandas-docs/stable/user_guide/indexing.html#returning-a-view-versus-a-copy\n",
            "  self.obj[item] = s\n",
            "/usr/local/lib/python3.6/dist-packages/pandas/core/indexing.py:966: SettingWithCopyWarning: \n",
            "A value is trying to be set on a copy of a slice from a DataFrame.\n",
            "Try using .loc[row_indexer,col_indexer] = value instead\n",
            "\n",
            "See the caveats in the documentation: https://pandas.pydata.org/pandas-docs/stable/user_guide/indexing.html#returning-a-view-versus-a-copy\n",
            "  self.obj[item] = s\n"
          ],
          "name": "stderr"
        }
      ]
    },
    {
      "cell_type": "code",
      "metadata": {
        "id": "0geL0WMNw1vI"
      },
      "source": [
        "df_train"
      ],
      "execution_count": null,
      "outputs": []
    },
    {
      "cell_type": "code",
      "metadata": {
        "id": "RVnKT4bhylOq"
      },
      "source": [
        "from scipy import stats\n",
        "\n",
        "def create_dataset(X, y, time_steps=1, step=1):\n",
        "    Xs, ys = [], []\n",
        "    for i in range(0, len(X) - time_steps, step):\n",
        "        v = X.iloc[i:(i + time_steps)].values\n",
        "        labels = y.iloc[i: i + time_steps]\n",
        "        Xs.append(v)        \n",
        "        ys.append(stats.mode(labels)[0][0])\n",
        "    return np.array(Xs), np.array(ys).reshape(-1, 1)\n",
        "\n",
        "TIME_STEPS = 200\n",
        "STEP = 40\n",
        "\n",
        "X_train, y_train = create_dataset(\n",
        "    df_train[['x_axis', 'y_axis', 'z_axis']], \n",
        "    df_train.activity, \n",
        "    TIME_STEPS, \n",
        "    STEP\n",
        ")\n",
        "\n",
        "X_test, y_test = create_dataset(\n",
        "    df_test[['x_axis', 'y_axis', 'z_axis']], \n",
        "    df_test.activity, \n",
        "    TIME_STEPS, \n",
        "    STEP\n",
        ")"
      ],
      "execution_count": null,
      "outputs": []
    },
    {
      "cell_type": "code",
      "metadata": {
        "id": "fERgUU3Syu-_",
        "colab": {
          "base_uri": "https://localhost:8080/",
          "height": 34
        },
        "outputId": "3c9cace2-da09-4458-9bd9-a2890ee259e7"
      },
      "source": [
        "X_train.shape"
      ],
      "execution_count": null,
      "outputs": [
        {
          "output_type": "execute_result",
          "data": {
            "text/plain": [
              "(22454, 200, 3)"
            ]
          },
          "metadata": {
            "tags": []
          },
          "execution_count": 22
        }
      ]
    },
    {
      "cell_type": "code",
      "metadata": {
        "id": "Xo8o8Eguy0yl",
        "colab": {
          "base_uri": "https://localhost:8080/",
          "height": 34
        },
        "outputId": "fe9badd9-3a98-4f6a-c252-674e2917499b"
      },
      "source": [
        "y_train[0]"
      ],
      "execution_count": null,
      "outputs": [
        {
          "output_type": "execute_result",
          "data": {
            "text/plain": [
              "array(['Walking'], dtype='<U10')"
            ]
          },
          "metadata": {
            "tags": []
          },
          "execution_count": 32
        }
      ]
    },
    {
      "cell_type": "code",
      "metadata": {
        "id": "o6veZWwDzdvh"
      },
      "source": [
        "from sklearn.preprocessing import OneHotEncoder\n",
        "enc=OneHotEncoder(handle_unknown='ignore',sparse=False)\n",
        "enc=enc.fit(y_train)\n",
        "y_train=enc.transform(y_train)\n",
        "y_test=enc.transform(y_test)"
      ],
      "execution_count": null,
      "outputs": []
    },
    {
      "cell_type": "code",
      "metadata": {
        "id": "0GT9BCEO3Pl7"
      },
      "source": [
        "print(df_train.activity.iloc[:200])"
      ],
      "execution_count": null,
      "outputs": []
    },
    {
      "cell_type": "code",
      "metadata": {
        "id": "n4aljXiu3Ttc"
      },
      "source": [
        "model = keras.Sequential()\n",
        "model.add(\n",
        "    keras.layers.Bidirectional(\n",
        "      keras.layers.LSTM(\n",
        "          units=128, \n",
        "          input_shape=[X_train.shape[1], X_train.shape[2]]\n",
        "      )\n",
        "    )\n",
        ")\n",
        "model.add(keras.layers.Dropout(rate=0.5))\n",
        "model.add(keras.layers.Dense(units=128, activation='relu'))\n",
        "model.add(keras.layers.Dense(y_train.shape[1], activation='softmax'))\n",
        "model.compile(loss='categorical_crossentropy', optimizer='adam', metrics=['acc'])\n"
      ],
      "execution_count": null,
      "outputs": []
    },
    {
      "cell_type": "code",
      "metadata": {
        "id": "-hsewN7U4gGY",
        "colab": {
          "base_uri": "https://localhost:8080/",
          "height": 717
        },
        "outputId": "4e54d6eb-3024-4e7b-d909-d3129a8881f5"
      },
      "source": [
        "history = model.fit(\n",
        "    X_train, y_train,\n",
        "    epochs=20,\n",
        "    batch_size=64,\n",
        "    validation_split=0.1,\n",
        "    shuffle=True\n",
        ")"
      ],
      "execution_count": null,
      "outputs": [
        {
          "output_type": "stream",
          "text": [
            "Epoch 1/20\n",
            "316/316 [==============================] - 8s 26ms/step - loss: 1.0625 - acc: 0.6396 - val_loss: 0.9599 - val_acc: 0.7364\n",
            "Epoch 2/20\n",
            "316/316 [==============================] - 8s 24ms/step - loss: 0.9336 - acc: 0.6804 - val_loss: 0.9745 - val_acc: 0.7364\n",
            "Epoch 3/20\n",
            "316/316 [==============================] - 8s 25ms/step - loss: 0.7994 - acc: 0.7258 - val_loss: 0.8663 - val_acc: 0.7524\n",
            "Epoch 4/20\n",
            "316/316 [==============================] - 8s 25ms/step - loss: 0.6685 - acc: 0.7575 - val_loss: 0.4782 - val_acc: 0.8308\n",
            "Epoch 5/20\n",
            "316/316 [==============================] - 8s 25ms/step - loss: 0.5367 - acc: 0.8024 - val_loss: 0.6653 - val_acc: 0.8290\n",
            "Epoch 6/20\n",
            "316/316 [==============================] - 8s 25ms/step - loss: 0.4477 - acc: 0.8321 - val_loss: 0.4535 - val_acc: 0.8464\n",
            "Epoch 7/20\n",
            "316/316 [==============================] - 8s 25ms/step - loss: 0.3881 - acc: 0.8547 - val_loss: 0.5470 - val_acc: 0.8197\n",
            "Epoch 8/20\n",
            "316/316 [==============================] - 8s 25ms/step - loss: 0.7445 - acc: 0.7425 - val_loss: 0.7422 - val_acc: 0.7556\n",
            "Epoch 9/20\n",
            "316/316 [==============================] - 8s 25ms/step - loss: 0.6845 - acc: 0.7570 - val_loss: 0.5407 - val_acc: 0.8099\n",
            "Epoch 10/20\n",
            "316/316 [==============================] - 8s 25ms/step - loss: 0.8161 - acc: 0.7231 - val_loss: 0.7359 - val_acc: 0.7787\n",
            "Epoch 11/20\n",
            "316/316 [==============================] - 8s 25ms/step - loss: 0.6812 - acc: 0.7645 - val_loss: 0.6610 - val_acc: 0.7832\n",
            "Epoch 12/20\n",
            "316/316 [==============================] - 8s 25ms/step - loss: 0.9111 - acc: 0.6616 - val_loss: 0.6317 - val_acc: 0.7845\n",
            "Epoch 13/20\n",
            "316/316 [==============================] - 8s 25ms/step - loss: 0.5817 - acc: 0.7893 - val_loss: 0.5234 - val_acc: 0.8126\n",
            "Epoch 14/20\n",
            "316/316 [==============================] - 8s 25ms/step - loss: 0.4791 - acc: 0.8252 - val_loss: 0.4515 - val_acc: 0.8504\n",
            "Epoch 15/20\n",
            "316/316 [==============================] - 8s 25ms/step - loss: 0.3967 - acc: 0.8542 - val_loss: 0.4950 - val_acc: 0.7992\n",
            "Epoch 16/20\n",
            "316/316 [==============================] - 8s 25ms/step - loss: 0.2979 - acc: 0.8907 - val_loss: 0.4455 - val_acc: 0.8606\n",
            "Epoch 17/20\n",
            "316/316 [==============================] - 8s 25ms/step - loss: 0.4256 - acc: 0.8505 - val_loss: 0.6889 - val_acc: 0.7297\n",
            "Epoch 18/20\n",
            "316/316 [==============================] - 8s 25ms/step - loss: 0.4723 - acc: 0.8314 - val_loss: 0.4006 - val_acc: 0.8535\n",
            "Epoch 19/20\n",
            "316/316 [==============================] - 8s 25ms/step - loss: 0.3560 - acc: 0.8705 - val_loss: 0.4561 - val_acc: 0.8477\n",
            "Epoch 20/20\n",
            "316/316 [==============================] - 8s 25ms/step - loss: 0.2902 - acc: 0.8962 - val_loss: 0.4469 - val_acc: 0.8553\n"
          ],
          "name": "stdout"
        }
      ]
    },
    {
      "cell_type": "code",
      "metadata": {
        "id": "4p2acoZT4h47"
      },
      "source": [
        ""
      ],
      "execution_count": null,
      "outputs": []
    }
  ]
}