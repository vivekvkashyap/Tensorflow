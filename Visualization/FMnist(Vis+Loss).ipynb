{
  "nbformat": 4,
  "nbformat_minor": 0,
  "metadata": {
    "colab": {
      "name": "FMnist(Vis+Loss).ipynb",
      "provenance": [],
      "collapsed_sections": []
    },
    "kernelspec": {
      "name": "python3",
      "display_name": "Python 3"
    },
    "accelerator": "GPU"
  },
  "cells": [
    {
      "cell_type": "code",
      "metadata": {
        "id": "xTxUI1J31Ymm"
      },
      "source": [
        "import tensorflow as tf\n",
        "from tensorflow.keras.datasets import fashion_mnist"
      ],
      "execution_count": null,
      "outputs": []
    },
    {
      "cell_type": "code",
      "metadata": {
        "colab": {
          "base_uri": "https://localhost:8080/"
        },
        "id": "c78ifoBc15FJ",
        "outputId": "aee0f9b7-41e8-420b-94d7-8d01177f6efa"
      },
      "source": [
        "(train_data, train_labels), (test_data, test_labels) = fashion_mnist.load_data()"
      ],
      "execution_count": null,
      "outputs": [
        {
          "output_type": "stream",
          "text": [
            "Downloading data from https://storage.googleapis.com/tensorflow/tf-keras-datasets/train-labels-idx1-ubyte.gz\n",
            "32768/29515 [=================================] - 0s 0us/step\n",
            "Downloading data from https://storage.googleapis.com/tensorflow/tf-keras-datasets/train-images-idx3-ubyte.gz\n",
            "26427392/26421880 [==============================] - 0s 0us/step\n",
            "Downloading data from https://storage.googleapis.com/tensorflow/tf-keras-datasets/t10k-labels-idx1-ubyte.gz\n",
            "8192/5148 [===============================================] - 0s 0us/step\n",
            "Downloading data from https://storage.googleapis.com/tensorflow/tf-keras-datasets/t10k-images-idx3-ubyte.gz\n",
            "4423680/4422102 [==============================] - 0s 0us/step\n"
          ],
          "name": "stdout"
        }
      ]
    },
    {
      "cell_type": "code",
      "metadata": {
        "colab": {
          "base_uri": "https://localhost:8080/"
        },
        "id": "tDij2UKn16UV",
        "outputId": "9cfda007-0dec-4c0b-f38e-211213f71d32"
      },
      "source": [
        "print(f\"Training sample:\\n{train_data[0]}\\n\") \n",
        "print(f\"Training label: {train_labels[0]}\")"
      ],
      "execution_count": null,
      "outputs": [
        {
          "output_type": "stream",
          "text": [
            "Training sample:\n",
            "[[  0   0   0   0   0   0   0   0   0   0   0   0   0   0   0   0   0   0\n",
            "    0   0   0   0   0   0   0   0   0   0]\n",
            " [  0   0   0   0   0   0   0   0   0   0   0   0   0   0   0   0   0   0\n",
            "    0   0   0   0   0   0   0   0   0   0]\n",
            " [  0   0   0   0   0   0   0   0   0   0   0   0   0   0   0   0   0   0\n",
            "    0   0   0   0   0   0   0   0   0   0]\n",
            " [  0   0   0   0   0   0   0   0   0   0   0   0   1   0   0  13  73   0\n",
            "    0   1   4   0   0   0   0   1   1   0]\n",
            " [  0   0   0   0   0   0   0   0   0   0   0   0   3   0  36 136 127  62\n",
            "   54   0   0   0   1   3   4   0   0   3]\n",
            " [  0   0   0   0   0   0   0   0   0   0   0   0   6   0 102 204 176 134\n",
            "  144 123  23   0   0   0   0  12  10   0]\n",
            " [  0   0   0   0   0   0   0   0   0   0   0   0   0   0 155 236 207 178\n",
            "  107 156 161 109  64  23  77 130  72  15]\n",
            " [  0   0   0   0   0   0   0   0   0   0   0   1   0  69 207 223 218 216\n",
            "  216 163 127 121 122 146 141  88 172  66]\n",
            " [  0   0   0   0   0   0   0   0   0   1   1   1   0 200 232 232 233 229\n",
            "  223 223 215 213 164 127 123 196 229   0]\n",
            " [  0   0   0   0   0   0   0   0   0   0   0   0   0 183 225 216 223 228\n",
            "  235 227 224 222 224 221 223 245 173   0]\n",
            " [  0   0   0   0   0   0   0   0   0   0   0   0   0 193 228 218 213 198\n",
            "  180 212 210 211 213 223 220 243 202   0]\n",
            " [  0   0   0   0   0   0   0   0   0   1   3   0  12 219 220 212 218 192\n",
            "  169 227 208 218 224 212 226 197 209  52]\n",
            " [  0   0   0   0   0   0   0   0   0   0   6   0  99 244 222 220 218 203\n",
            "  198 221 215 213 222 220 245 119 167  56]\n",
            " [  0   0   0   0   0   0   0   0   0   4   0   0  55 236 228 230 228 240\n",
            "  232 213 218 223 234 217 217 209  92   0]\n",
            " [  0   0   1   4   6   7   2   0   0   0   0   0 237 226 217 223 222 219\n",
            "  222 221 216 223 229 215 218 255  77   0]\n",
            " [  0   3   0   0   0   0   0   0   0  62 145 204 228 207 213 221 218 208\n",
            "  211 218 224 223 219 215 224 244 159   0]\n",
            " [  0   0   0   0  18  44  82 107 189 228 220 222 217 226 200 205 211 230\n",
            "  224 234 176 188 250 248 233 238 215   0]\n",
            " [  0  57 187 208 224 221 224 208 204 214 208 209 200 159 245 193 206 223\n",
            "  255 255 221 234 221 211 220 232 246   0]\n",
            " [  3 202 228 224 221 211 211 214 205 205 205 220 240  80 150 255 229 221\n",
            "  188 154 191 210 204 209 222 228 225   0]\n",
            " [ 98 233 198 210 222 229 229 234 249 220 194 215 217 241  65  73 106 117\n",
            "  168 219 221 215 217 223 223 224 229  29]\n",
            " [ 75 204 212 204 193 205 211 225 216 185 197 206 198 213 240 195 227 245\n",
            "  239 223 218 212 209 222 220 221 230  67]\n",
            " [ 48 203 183 194 213 197 185 190 194 192 202 214 219 221 220 236 225 216\n",
            "  199 206 186 181 177 172 181 205 206 115]\n",
            " [  0 122 219 193 179 171 183 196 204 210 213 207 211 210 200 196 194 191\n",
            "  195 191 198 192 176 156 167 177 210  92]\n",
            " [  0   0  74 189 212 191 175 172 175 181 185 188 189 188 193 198 204 209\n",
            "  210 210 211 188 188 194 192 216 170   0]\n",
            " [  2   0   0   0  66 200 222 237 239 242 246 243 244 221 220 193 191 179\n",
            "  182 182 181 176 166 168  99  58   0   0]\n",
            " [  0   0   0   0   0   0   0  40  61  44  72  41  35   0   0   0   0   0\n",
            "    0   0   0   0   0   0   0   0   0   0]\n",
            " [  0   0   0   0   0   0   0   0   0   0   0   0   0   0   0   0   0   0\n",
            "    0   0   0   0   0   0   0   0   0   0]\n",
            " [  0   0   0   0   0   0   0   0   0   0   0   0   0   0   0   0   0   0\n",
            "    0   0   0   0   0   0   0   0   0   0]]\n",
            "\n",
            "Training label: 9\n"
          ],
          "name": "stdout"
        }
      ]
    },
    {
      "cell_type": "code",
      "metadata": {
        "colab": {
          "base_uri": "https://localhost:8080/"
        },
        "id": "AtqC_e142IXU",
        "outputId": "14a5976e-af73-496e-841b-fc493647919f"
      },
      "source": [
        "train_data.shape, train_labels.shape, test_data.shape, test_labels.shape"
      ],
      "execution_count": null,
      "outputs": [
        {
          "output_type": "execute_result",
          "data": {
            "text/plain": [
              "((60000, 28, 28), (60000,), (10000, 28, 28), (10000,))"
            ]
          },
          "metadata": {
            "tags": []
          },
          "execution_count": 4
        }
      ]
    },
    {
      "cell_type": "code",
      "metadata": {
        "colab": {
          "base_uri": "https://localhost:8080/"
        },
        "id": "ZriZHieO2SaB",
        "outputId": "b059727e-420a-4afa-9788-e8e8b559d2a0"
      },
      "source": [
        "train_data[0].shape, train_labels[0].shape"
      ],
      "execution_count": null,
      "outputs": [
        {
          "output_type": "execute_result",
          "data": {
            "text/plain": [
              "((28, 28), ())"
            ]
          },
          "metadata": {
            "tags": []
          },
          "execution_count": 5
        }
      ]
    },
    {
      "cell_type": "code",
      "metadata": {
        "colab": {
          "base_uri": "https://localhost:8080/",
          "height": 282
        },
        "id": "VUl3K8fu2YFI",
        "outputId": "23f8ac1e-95d0-404f-9b21-d4e1e5cc66af"
      },
      "source": [
        "import matplotlib.pyplot as plt\n",
        "plt.imshow(train_data[7])"
      ],
      "execution_count": null,
      "outputs": [
        {
          "output_type": "execute_result",
          "data": {
            "text/plain": [
              "<matplotlib.image.AxesImage at 0x7fd2b27ff668>"
            ]
          },
          "metadata": {
            "tags": []
          },
          "execution_count": 6
        },
        {
          "output_type": "display_data",
          "data": {
            "image/png": "[encoded data removed]",
            "text/plain": [
              "<Figure size 432x288 with 1 Axes>"
            ]
          },
          "metadata": {
            "tags": [],
            "needs_background": "light"
          }
        }
      ]
    },
    {
      "cell_type": "code",
      "metadata": {
        "colab": {
          "base_uri": "https://localhost:8080/"
        },
        "id": "KnhfGSgu2fjf",
        "outputId": "89ce7d0c-cfef-4445-8034-daedd0e9f16d"
      },
      "source": [
        "class_names = ['T-shirt/top', 'Trouser', 'Pullover', 'Dress', 'Coat', \n",
        "               'Sandal', 'Shirt', 'Sneaker', 'Bag', 'Ankle boot']\n",
        "\n",
        "# How many classes are there (this'll be our output shape)?\n",
        "len(class_names)"
      ],
      "execution_count": null,
      "outputs": [
        {
          "output_type": "execute_result",
          "data": {
            "text/plain": [
              "10"
            ]
          },
          "metadata": {
            "tags": []
          },
          "execution_count": 7
        }
      ]
    },
    {
      "cell_type": "code",
      "metadata": {
        "colab": {
          "base_uri": "https://localhost:8080/",
          "height": 298
        },
        "id": "9OYXUc2V2j34",
        "outputId": "f5a1d960-3c66-4ff2-e3f6-adacf16ffea5"
      },
      "source": [
        "plt.imshow(train_data[17],cmap=plt.cm.binary)\n",
        "plt.title(class_names[train_labels[17]])"
      ],
      "execution_count": null,
      "outputs": [
        {
          "output_type": "execute_result",
          "data": {
            "text/plain": [
              "Text(0.5, 1.0, 'T-shirt/top')"
            ]
          },
          "metadata": {
            "tags": []
          },
          "execution_count": 8
        },
        {
          "output_type": "display_data",
          "data": {
            "image/png": "[encoded data removed]",
            "text/plain": [
              "<Figure size 432x288 with 1 Axes>"
            ]
          },
          "metadata": {
            "tags": [],
            "needs_background": "light"
          }
        }
      ]
    },
    {
      "cell_type": "code",
      "metadata": {
        "colab": {
          "base_uri": "https://localhost:8080/",
          "height": 427
        },
        "id": "WSrcWdkC5bBL",
        "outputId": "d1dcb158-456f-465a-ee5f-ebe2647e1dd7"
      },
      "source": [
        "import random\n",
        "plt.figure(figsize=(7,7))\n",
        "for i in range(4):\n",
        "  ax=plt.subplot(2,2,i+1)\n",
        "  rand_index=random.choice(range(len(train_data)))\n",
        "  plt.imshow(train_data[rand_index],cmap=plt.cm.binary)\n",
        "  plt.title(class_names[train_labels[rand_index]])\n",
        "  plt.axis(False)"
      ],
      "execution_count": null,
      "outputs": [
        {
          "output_type": "display_data",
          "data": {
            "image/png": "[encoded data removed]",
            "text/plain": [
              "<Figure size 504x504 with 4 Axes>"
            ]
          },
          "metadata": {
            "tags": [],
            "needs_background": "light"
          }
        }
      ]
    },
    {
      "cell_type": "code",
      "metadata": {
        "id": "pTD7xF9157rM"
      },
      "source": [
        "tf.random.set_seed(42)"
      ],
      "execution_count": null,
      "outputs": []
    },
    {
      "cell_type": "code",
      "metadata": {
        "colab": {
          "base_uri": "https://localhost:8080/"
        },
        "id": "XjbjbFID6EWi",
        "outputId": "4fa97308-7b52-45f6-e82c-50dc68c4f3e7"
      },
      "source": [
        "\n",
        "# Create the model\n",
        "model_11 = tf.keras.Sequential([\n",
        "  tf.keras.layers.Flatten(input_shape=(28, 28)), # input layer (we had to reshape 28x28 to 784, the Flatten layer does this for us)\n",
        "  tf.keras.layers.Dense(4, activation=\"relu\"),\n",
        "  tf.keras.layers.Dense(4, activation=\"relu\"),\n",
        "  tf.keras.layers.Dense(10, activation=\"softmax\") # output shape is 10, activation is softmax\n",
        "])\n",
        "\n",
        "# Compile the model\n",
        "model_11.compile(loss=tf.keras.losses.SparseCategoricalCrossentropy(), # different loss function for multiclass classifcation\n",
        "                 optimizer=tf.keras.optimizers.Adam(),\n",
        "                 metrics=[\"accuracy\"])\n",
        "\n",
        "# Fit the model\n",
        "non_norm_history = model_11.fit(train_data,\n",
        "                                train_labels,\n",
        "                                epochs=10,\n",
        "                                validation_data=(test_data, test_labels)) # see how the model performs on the test set during training"
      ],
      "execution_count": null,
      "outputs": [
        {
          "output_type": "stream",
          "text": [
            "Epoch 1/10\n",
            "1875/1875 [==============================] - 4s 2ms/step - loss: 2.1748 - accuracy: 0.1593 - val_loss: 1.8085 - val_accuracy: 0.2066\n",
            "Epoch 2/10\n",
            "1875/1875 [==============================] - 3s 2ms/step - loss: 1.7104 - accuracy: 0.2488 - val_loss: 1.6617 - val_accuracy: 0.2716\n",
            "Epoch 3/10\n",
            "1875/1875 [==============================] - 4s 2ms/step - loss: 1.6373 - accuracy: 0.2818 - val_loss: 1.6144 - val_accuracy: 0.2745\n",
            "Epoch 4/10\n",
            "1875/1875 [==============================] - 3s 2ms/step - loss: 1.6065 - accuracy: 0.2903 - val_loss: 1.6052 - val_accuracy: 0.3053\n",
            "Epoch 5/10\n",
            "1875/1875 [==============================] - 3s 2ms/step - loss: 1.5979 - accuracy: 0.3047 - val_loss: 1.5769 - val_accuracy: 0.3251\n",
            "Epoch 6/10\n",
            "1875/1875 [==============================] - 3s 2ms/step - loss: 1.5840 - accuracy: 0.3143 - val_loss: 1.5722 - val_accuracy: 0.2951\n",
            "Epoch 7/10\n",
            "1875/1875 [==============================] - 3s 2ms/step - loss: 1.5780 - accuracy: 0.3214 - val_loss: 1.5686 - val_accuracy: 0.3259\n",
            "Epoch 8/10\n",
            "1875/1875 [==============================] - 3s 2ms/step - loss: 1.5749 - accuracy: 0.3176 - val_loss: 1.5638 - val_accuracy: 0.3290\n",
            "Epoch 9/10\n",
            "1875/1875 [==============================] - 3s 2ms/step - loss: 1.5667 - accuracy: 0.3258 - val_loss: 1.5712 - val_accuracy: 0.3305\n",
            "Epoch 10/10\n",
            "1875/1875 [==============================] - 3s 2ms/step - loss: 1.5616 - accuracy: 0.3250 - val_loss: 1.5474 - val_accuracy: 0.3381\n"
          ],
          "name": "stdout"
        }
      ]
    },
    {
      "cell_type": "code",
      "metadata": {
        "colab": {
          "base_uri": "https://localhost:8080/",
          "height": 298
        },
        "id": "_yvPaAWQ6Eq9",
        "outputId": "cbb5932b-1648-472b-9a6c-0cf85db2c899"
      },
      "source": [
        "import pandas as pd\n",
        "pd.DataFrame(non_norm_history.history).plot(title=\"Non-normalized Data\")\n"
      ],
      "execution_count": null,
      "outputs": [
        {
          "output_type": "execute_result",
          "data": {
            "text/plain": [
              "<matplotlib.axes._subplots.AxesSubplot at 0x7fd242fb86a0>"
            ]
          },
          "metadata": {
            "tags": []
          },
          "execution_count": 13
        },
        {
          "output_type": "display_data",
          "data": {
            "image/png": "[encoded data removed]",
            "text/plain": [
              "<Figure size 432x288 with 1 Axes>"
            ]
          },
          "metadata": {
            "tags": [],
            "needs_background": "light"
          }
        }
      ]
    },
    {
      "cell_type": "code",
      "metadata": {
        "colab": {
          "base_uri": "https://localhost:8080/"
        },
        "id": "REAlD4SL6jp8",
        "outputId": "474b546f-ec45-4383-8279-697520702256"
      },
      "source": [
        "# Set random seed\n",
        "tf.random.set_seed(42)\n",
        "\n",
        "# Create the model\n",
        "model_13 = tf.keras.Sequential([\n",
        "  tf.keras.layers.Flatten(input_shape=(28, 28)), # input layer (we had to reshape 28x28 to 784)\n",
        "  tf.keras.layers.Dense(4, activation=\"relu\"),\n",
        "  tf.keras.layers.Dense(4, activation=\"relu\"),\n",
        "  tf.keras.layers.Dense(10, activation=\"softmax\") # output shape is 10, activation is softmax\n",
        "])\n",
        "\n",
        "# Compile the model\n",
        "model_13.compile(loss=tf.keras.losses.SparseCategoricalCrossentropy(),\n",
        "                 optimizer=tf.keras.optimizers.Adam(),\n",
        "                 metrics=[\"accuracy\"])\n",
        "lr_scheduler=tf.keras.callbacks.LearningRateScheduler(lambda epoch:1e-3*10**(epoch/20))\n",
        "find_lr_hisotry=model_13.fit(train_data,train_labels,epochs=40,validation_data=(test_data,test_labels),callbacks=[lr_scheduler])"
      ],
      "execution_count": null,
      "outputs": [
        {
          "output_type": "stream",
          "text": [
            "Epoch 1/40\n",
            "1875/1875 [==============================] - 3s 2ms/step - loss: 2.1772 - accuracy: 0.1591 - val_loss: 1.8051 - val_accuracy: 0.2032\n",
            "Epoch 2/40\n",
            "1875/1875 [==============================] - 3s 2ms/step - loss: 1.7093 - accuracy: 0.2504 - val_loss: 1.7714 - val_accuracy: 0.2594\n",
            "Epoch 3/40\n",
            "1875/1875 [==============================] - 3s 2ms/step - loss: 1.6349 - accuracy: 0.2852 - val_loss: 1.6075 - val_accuracy: 0.2781\n",
            "Epoch 4/40\n",
            "1875/1875 [==============================] - 3s 2ms/step - loss: 1.6092 - accuracy: 0.2971 - val_loss: 1.5848 - val_accuracy: 0.3174\n",
            "Epoch 5/40\n",
            "1875/1875 [==============================] - 3s 2ms/step - loss: 1.5997 - accuracy: 0.3091 - val_loss: 1.6119 - val_accuracy: 0.3047\n",
            "Epoch 6/40\n",
            "1875/1875 [==============================] - 3s 2ms/step - loss: 1.6053 - accuracy: 0.3104 - val_loss: 1.5628 - val_accuracy: 0.3324\n",
            "Epoch 7/40\n",
            "1875/1875 [==============================] - 3s 2ms/step - loss: 1.5980 - accuracy: 0.3137 - val_loss: 1.5777 - val_accuracy: 0.3275\n",
            "Epoch 8/40\n",
            "1875/1875 [==============================] - 4s 2ms/step - loss: 1.5992 - accuracy: 0.3090 - val_loss: 1.5856 - val_accuracy: 0.3187\n",
            "Epoch 9/40\n",
            "1875/1875 [==============================] - 4s 2ms/step - loss: 1.6035 - accuracy: 0.3101 - val_loss: 1.5663 - val_accuracy: 0.3202\n",
            "Epoch 10/40\n",
            "1875/1875 [==============================] - 4s 2ms/step - loss: 1.6021 - accuracy: 0.3169 - val_loss: 1.6619 - val_accuracy: 0.2896\n",
            "Epoch 11/40\n",
            "1875/1875 [==============================] - 4s 2ms/step - loss: 1.5820 - accuracy: 0.3186 - val_loss: 1.5885 - val_accuracy: 0.3232\n",
            "Epoch 12/40\n",
            "1875/1875 [==============================] - 4s 2ms/step - loss: 1.6127 - accuracy: 0.3182 - val_loss: 1.5858 - val_accuracy: 0.3132\n",
            "Epoch 13/40\n",
            "1875/1875 [==============================] - 4s 2ms/step - loss: 1.5866 - accuracy: 0.3194 - val_loss: 1.5575 - val_accuracy: 0.3316\n",
            "Epoch 14/40\n",
            "1875/1875 [==============================] - 3s 2ms/step - loss: 1.5985 - accuracy: 0.3101 - val_loss: 1.5827 - val_accuracy: 0.3180\n",
            "Epoch 15/40\n",
            "1875/1875 [==============================] - 3s 2ms/step - loss: 1.5810 - accuracy: 0.3176 - val_loss: 1.5680 - val_accuracy: 0.3271\n",
            "Epoch 16/40\n",
            "1875/1875 [==============================] - 3s 2ms/step - loss: 1.5765 - accuracy: 0.3256 - val_loss: 1.5700 - val_accuracy: 0.3311\n",
            "Epoch 17/40\n",
            "1875/1875 [==============================] - 3s 2ms/step - loss: 1.6105 - accuracy: 0.3182 - val_loss: 1.5944 - val_accuracy: 0.3272\n",
            "Epoch 18/40\n",
            "1875/1875 [==============================] - 4s 2ms/step - loss: 1.8552 - accuracy: 0.2566 - val_loss: 1.9003 - val_accuracy: 0.2357\n",
            "Epoch 19/40\n",
            "1875/1875 [==============================] - 4s 2ms/step - loss: 1.6585 - accuracy: 0.2933 - val_loss: 1.6304 - val_accuracy: 0.3205\n",
            "Epoch 20/40\n",
            "1875/1875 [==============================] - 3s 2ms/step - loss: 1.6210 - accuracy: 0.3062 - val_loss: 1.5855 - val_accuracy: 0.3342\n",
            "Epoch 21/40\n",
            "1875/1875 [==============================] - 4s 2ms/step - loss: 1.6274 - accuracy: 0.3037 - val_loss: 1.6118 - val_accuracy: 0.3109\n",
            "Epoch 22/40\n",
            "1875/1875 [==============================] - 4s 2ms/step - loss: 1.7118 - accuracy: 0.2923 - val_loss: 2.0718 - val_accuracy: 0.1999\n",
            "Epoch 23/40\n",
            "1875/1875 [==============================] - 4s 2ms/step - loss: 1.7753 - accuracy: 0.1968 - val_loss: 1.7533 - val_accuracy: 0.1998\n",
            "Epoch 24/40\n",
            "1875/1875 [==============================] - 3s 2ms/step - loss: 1.7529 - accuracy: 0.1977 - val_loss: 1.7512 - val_accuracy: 0.1999\n",
            "Epoch 25/40\n",
            "1875/1875 [==============================] - 4s 2ms/step - loss: 1.7514 - accuracy: 0.1989 - val_loss: 1.7512 - val_accuracy: 0.1919\n",
            "Epoch 26/40\n",
            "1875/1875 [==============================] - 3s 2ms/step - loss: 1.7518 - accuracy: 0.1976 - val_loss: 1.7488 - val_accuracy: 0.2000\n",
            "Epoch 27/40\n",
            "1875/1875 [==============================] - 4s 2ms/step - loss: 1.7512 - accuracy: 0.2002 - val_loss: 1.7591 - val_accuracy: 0.1999\n",
            "Epoch 28/40\n",
            "1875/1875 [==============================] - 4s 2ms/step - loss: 1.7520 - accuracy: 0.1988 - val_loss: 1.7507 - val_accuracy: 0.2000\n",
            "Epoch 29/40\n",
            "1875/1875 [==============================] - 3s 2ms/step - loss: 1.7530 - accuracy: 0.1952 - val_loss: 1.7571 - val_accuracy: 0.1999\n",
            "Epoch 30/40\n",
            "1875/1875 [==============================] - 4s 2ms/step - loss: 1.7536 - accuracy: 0.1988 - val_loss: 1.7540 - val_accuracy: 0.1999\n",
            "Epoch 31/40\n",
            "1875/1875 [==============================] - 4s 2ms/step - loss: 1.7543 - accuracy: 0.1987 - val_loss: 1.7501 - val_accuracy: 0.1998\n",
            "Epoch 32/40\n",
            "1875/1875 [==============================] - 4s 2ms/step - loss: 1.7556 - accuracy: 0.1984 - val_loss: 1.7562 - val_accuracy: 0.1881\n",
            "Epoch 33/40\n",
            "1875/1875 [==============================] - 3s 2ms/step - loss: 1.7562 - accuracy: 0.1955 - val_loss: 1.7541 - val_accuracy: 0.1998\n",
            "Epoch 34/40\n",
            "1875/1875 [==============================] - 3s 2ms/step - loss: 1.7572 - accuracy: 0.2007 - val_loss: 1.7620 - val_accuracy: 0.1998\n",
            "Epoch 35/40\n",
            "1875/1875 [==============================] - 4s 2ms/step - loss: 1.7581 - accuracy: 0.1987 - val_loss: 1.7538 - val_accuracy: 0.1961\n",
            "Epoch 36/40\n",
            "1875/1875 [==============================] - 4s 2ms/step - loss: 1.7601 - accuracy: 0.1981 - val_loss: 1.7758 - val_accuracy: 0.1999\n",
            "Epoch 37/40\n",
            "1875/1875 [==============================] - 3s 2ms/step - loss: 1.7615 - accuracy: 0.1962 - val_loss: 1.7587 - val_accuracy: 0.1998\n",
            "Epoch 38/40\n",
            "1875/1875 [==============================] - 4s 2ms/step - loss: 1.7632 - accuracy: 0.1969 - val_loss: 1.7802 - val_accuracy: 0.1918\n",
            "Epoch 39/40\n",
            "1875/1875 [==============================] - 4s 2ms/step - loss: 1.7657 - accuracy: 0.1965 - val_loss: 1.7559 - val_accuracy: 0.1999\n",
            "Epoch 40/40\n",
            "1875/1875 [==============================] - 3s 2ms/step - loss: 1.7668 - accuracy: 0.1982 - val_loss: 1.7731 - val_accuracy: 0.1995\n"
          ],
          "name": "stdout"
        }
      ]
    },
    {
      "cell_type": "code",
      "metadata": {
        "colab": {
          "base_uri": "https://localhost:8080/",
          "height": 316
        },
        "id": "yGI1iHs67b46",
        "outputId": "ac878d5c-a8f9-4c54-a675-1f94900613fc"
      },
      "source": [
        "import numpy as np\n",
        "import matplotlib.pyplot as plt\n",
        "lrs=1e-3*(10**(np.arange(40)/20))\n",
        "plt.semilogx(lrs,find_lr_hisotry.history[\"loss\"])\n",
        "plt.xlabel(\"Learning rate\")\n",
        "plt.ylabel(\"Loss\")\n",
        "plt.title(\"Finding the ideal lr\")"
      ],
      "execution_count": null,
      "outputs": [
        {
          "output_type": "execute_result",
          "data": {
            "text/plain": [
              "Text(0.5, 1.0, 'Finding the ideal lr')"
            ]
          },
          "metadata": {
            "tags": []
          },
          "execution_count": 18
        },
        {
          "output_type": "display_data",
          "data": {
            "image/png": "[encoded data removed]",
            "text/plain": [
              "<Figure size 432x288 with 1 Axes>"
            ]
          },
          "metadata": {
            "tags": [],
            "needs_background": "light"
          }
        }
      ]
    },
    {
      "cell_type": "code",
      "metadata": {
        "id": "Cf5Tm6GB8HY_"
      },
      "source": [
        "np.arange(40)"
      ],
      "execution_count": null,
      "outputs": []
    },
    {
      "cell_type": "code",
      "metadata": {
        "colab": {
          "base_uri": "https://localhost:8080/"
        },
        "id": "V6Ydbzp_-azq",
        "outputId": "178f2263-4633-4b41-8249-99cc54fc7582"
      },
      "source": [
        "tf.random.set_seed(42)\n",
        "\n",
        "# Create the model\n",
        "model_14 = tf.keras.Sequential([\n",
        "  tf.keras.layers.Flatten(input_shape=(28, 28)), # input layer (we had to reshape 28x28 to 784)\n",
        "  tf.keras.layers.Dense(4, activation=\"relu\"),\n",
        "  tf.keras.layers.Dense(4, activation=\"relu\"),\n",
        "  tf.keras.layers.Dense(10, activation=\"softmax\") # output shape is 10, activation is softmax\n",
        "])\n",
        "\n",
        "# Compile the model\n",
        "model_14.compile(loss=tf.keras.losses.SparseCategoricalCrossentropy(),\n",
        "                 optimizer=tf.keras.optimizers.Adam(lr=0.001), # ideal learning rate (same as default)\n",
        "                 metrics=[\"accuracy\"])\n",
        "\n",
        "# Fit the model\n",
        "history = model_14.fit(train_data,\n",
        "                       train_labels,\n",
        "                       epochs=20,\n",
        "                       validation_data=(test_data, test_labels))"
      ],
      "execution_count": null,
      "outputs": [
        {
          "output_type": "stream",
          "text": [
            "Epoch 1/20\n",
            "1875/1875 [==============================] - 4s 2ms/step - loss: 2.1770 - accuracy: 0.1592 - val_loss: 1.8113 - val_accuracy: 0.2045\n",
            "Epoch 2/20\n",
            "1875/1875 [==============================] - 4s 2ms/step - loss: 1.7095 - accuracy: 0.2478 - val_loss: 1.6637 - val_accuracy: 0.2757\n",
            "Epoch 3/20\n",
            "1875/1875 [==============================] - 4s 2ms/step - loss: 1.6369 - accuracy: 0.2788 - val_loss: 1.6113 - val_accuracy: 0.2744\n",
            "Epoch 4/20\n",
            "1875/1875 [==============================] - 4s 2ms/step - loss: 1.6119 - accuracy: 0.2791 - val_loss: 1.6129 - val_accuracy: 0.2826\n",
            "Epoch 5/20\n",
            "1875/1875 [==============================] - 3s 2ms/step - loss: 1.6051 - accuracy: 0.2885 - val_loss: 1.5829 - val_accuracy: 0.3130\n",
            "Epoch 6/20\n",
            "1875/1875 [==============================] - 4s 2ms/step - loss: 1.5905 - accuracy: 0.3037 - val_loss: 1.5940 - val_accuracy: 0.2855\n",
            "Epoch 7/20\n",
            "1875/1875 [==============================] - 4s 2ms/step - loss: 1.5825 - accuracy: 0.3121 - val_loss: 1.5647 - val_accuracy: 0.3344\n",
            "Epoch 8/20\n",
            "1875/1875 [==============================] - 4s 2ms/step - loss: 1.5753 - accuracy: 0.3187 - val_loss: 1.6016 - val_accuracy: 0.3316\n",
            "Epoch 9/20\n",
            "1875/1875 [==============================] - 3s 2ms/step - loss: 1.5735 - accuracy: 0.3250 - val_loss: 1.5620 - val_accuracy: 0.3378\n",
            "Epoch 10/20\n",
            "1875/1875 [==============================] - 3s 2ms/step - loss: 1.5728 - accuracy: 0.3199 - val_loss: 1.5595 - val_accuracy: 0.3219\n",
            "Epoch 11/20\n",
            "1875/1875 [==============================] - 3s 2ms/step - loss: 1.5607 - accuracy: 0.3267 - val_loss: 1.6225 - val_accuracy: 0.2977\n",
            "Epoch 12/20\n",
            "1875/1875 [==============================] - 3s 2ms/step - loss: 1.5599 - accuracy: 0.3303 - val_loss: 1.5436 - val_accuracy: 0.3416\n",
            "Epoch 13/20\n",
            "1875/1875 [==============================] - 3s 2ms/step - loss: 1.5575 - accuracy: 0.3277 - val_loss: 1.5511 - val_accuracy: 0.3382\n",
            "Epoch 14/20\n",
            "1875/1875 [==============================] - 3s 2ms/step - loss: 1.5643 - accuracy: 0.3270 - val_loss: 1.5571 - val_accuracy: 0.3284\n",
            "Epoch 15/20\n",
            "1875/1875 [==============================] - 3s 2ms/step - loss: 1.5594 - accuracy: 0.3264 - val_loss: 1.5509 - val_accuracy: 0.3390\n",
            "Epoch 16/20\n",
            "1875/1875 [==============================] - 3s 2ms/step - loss: 1.5592 - accuracy: 0.3324 - val_loss: 1.5635 - val_accuracy: 0.3340\n",
            "Epoch 17/20\n",
            "1875/1875 [==============================] - 3s 2ms/step - loss: 1.5552 - accuracy: 0.3290 - val_loss: 1.5608 - val_accuracy: 0.3245\n",
            "Epoch 18/20\n",
            "1875/1875 [==============================] - 3s 2ms/step - loss: 1.5619 - accuracy: 0.3283 - val_loss: 1.5710 - val_accuracy: 0.3327\n",
            "Epoch 19/20\n",
            "1875/1875 [==============================] - 3s 2ms/step - loss: 1.5554 - accuracy: 0.3259 - val_loss: 1.5424 - val_accuracy: 0.3352\n",
            "Epoch 20/20\n",
            "1875/1875 [==============================] - 3s 2ms/step - loss: 1.5510 - accuracy: 0.3327 - val_loss: 1.5546 - val_accuracy: 0.3386\n"
          ],
          "name": "stdout"
        }
      ]
    },
    {
      "cell_type": "code",
      "metadata": {
        "id": "v15kr3IE-k94"
      },
      "source": [
        "import itertools\n",
        "from sklearn.metrics import confusion_matrix"
      ],
      "execution_count": null,
      "outputs": []
    },
    {
      "cell_type": "code",
      "metadata": {
        "id": "DabaVGNa-4KA"
      },
      "source": [
        "def make_confusion_matrix(y_true,y_pred,classes=None,figsize=(10,10),text_size=15):\n",
        "  cm=confusion_matrix(y_true,y_pred)\n",
        "  cm_norm=cm.astype(\"float\")/cm.sum(axis=1)[:,np.newaxis]\n",
        "  n_classes=cm.shape[0]\n",
        "  fig,ax=plt.subplots(figsize=figsize)\n",
        "  cax=ax.matshow(cm,cmap=plt.cm.Blues)\n",
        "  fig.colorbar(cax)\n",
        "  if classes:\n",
        "    labels=classes\n",
        "  else:\n",
        "    labels=np.arange(cm.shape[0])\n",
        "  ax.set(title=\"Confusion Matrix\",\n",
        "         xlabel=\"Predicted label\",\n",
        "         ylabel=\"True label\",\n",
        "         xticks=np.arange(n_classes), # create enough axis slots for each class\n",
        "         yticks=np.arange(n_classes), \n",
        "         xticklabels=labels, # axes will labeled with class names (if they exist) or ints\n",
        "         yticklabels=labels)\n",
        "  ax.xaxis.set_label_position(\"bottom\")\n",
        "  ax.xaxis.tick_bottom()\n",
        "  threshold = (cm.max() + cm.min()) / 2.\n",
        "  for i, j in itertools.product(range(cm.shape[0]), range(cm.shape[1])):\n",
        "    plt.text(j, i, f\"{cm[i, j]} ({cm_norm[i, j]*100:.1f}%)\",\n",
        "             horizontalalignment=\"center\",\n",
        "             color=\"white\" if cm[i, j] > threshold else \"black\",\n",
        "             size=text_size)"
      ],
      "execution_count": null,
      "outputs": []
    },
    {
      "cell_type": "code",
      "metadata": {
        "colab": {
          "base_uri": "https://localhost:8080/"
        },
        "id": "lxKUiPaHA1s9",
        "outputId": "fdd9853f-6ee7-4bc3-8849-53dbc8c4e7ec"
      },
      "source": [
        "y_probs = model_14.predict(test_data) # \"probs\" is short for probabilities\n",
        "\n",
        "# View the first 5 predictions\n",
        "y_probs[:5]\n"
      ],
      "execution_count": null,
      "outputs": [
        {
          "output_type": "execute_result",
          "data": {
            "text/plain": [
              "array([[2.0715930e-08, 3.1524846e-29, 0.0000000e+00, 1.8679563e-14,\n",
              "        4.8832664e-19, 5.4601002e-03, 4.3336879e-10, 6.3125110e-01,\n",
              "        6.0913619e-05, 3.6322784e-01],\n",
              "       [1.4550617e-01, 1.4363605e-01, 1.4153218e-01, 1.4238845e-01,\n",
              "        1.3886280e-01, 4.8733451e-03, 1.3952848e-01, 3.8118180e-04,\n",
              "        1.4327398e-01, 1.7377180e-05],\n",
              "       [1.4550617e-01, 1.4363605e-01, 1.4153218e-01, 1.4238845e-01,\n",
              "        1.3886280e-01, 4.8733451e-03, 1.3952848e-01, 3.8118180e-04,\n",
              "        1.4327398e-01, 1.7377180e-05],\n",
              "       [1.4550617e-01, 1.4363605e-01, 1.4153218e-01, 1.4238845e-01,\n",
              "        1.3886280e-01, 4.8733451e-03, 1.3952848e-01, 3.8118180e-04,\n",
              "        1.4327398e-01, 1.7377180e-05],\n",
              "       [1.4550617e-01, 1.4363605e-01, 1.4153218e-01, 1.4238845e-01,\n",
              "        1.3886280e-01, 4.8733451e-03, 1.3952848e-01, 3.8118180e-04,\n",
              "        1.4327398e-01, 1.7377180e-05]], dtype=float32)"
            ]
          },
          "metadata": {
            "tags": []
          },
          "execution_count": 24
        }
      ]
    },
    {
      "cell_type": "code",
      "metadata": {
        "colab": {
          "base_uri": "https://localhost:8080/"
        },
        "id": "T2GRMZidA4Y9",
        "outputId": "c70a0dcb-ac89-41e7-a6ad-1dff298c783a"
      },
      "source": [
        "y_probs[0].argmax(), class_names[y_probs[0].argmax()]"
      ],
      "execution_count": null,
      "outputs": [
        {
          "output_type": "execute_result",
          "data": {
            "text/plain": [
              "(7, 'Sneaker')"
            ]
          },
          "metadata": {
            "tags": []
          },
          "execution_count": 25
        }
      ]
    },
    {
      "cell_type": "code",
      "metadata": {
        "colab": {
          "base_uri": "https://localhost:8080/"
        },
        "id": "-RyhaSzyA7iV",
        "outputId": "ec1ee915-e0f3-4d22-f862-2b0f941d3829"
      },
      "source": [
        "y_preds = y_probs.argmax(axis=1)\n",
        "\n",
        "# View the first 10 prediction labels\n",
        "y_preds[:10]"
      ],
      "execution_count": null,
      "outputs": [
        {
          "output_type": "execute_result",
          "data": {
            "text/plain": [
              "array([7, 0, 0, 0, 0, 0, 0, 0, 5, 7])"
            ]
          },
          "metadata": {
            "tags": []
          },
          "execution_count": 26
        }
      ]
    },
    {
      "cell_type": "code",
      "metadata": {
        "colab": {
          "base_uri": "https://localhost:8080/"
        },
        "id": "e_X4xy7cA9xV",
        "outputId": "9ca248b1-034d-4bb3-d066-13a203342346"
      },
      "source": [
        "from sklearn.metrics import confusion_matrix\n",
        "confusion_matrix(y_true=test_labels, \n",
        "                 y_pred=y_preds)\n"
      ],
      "execution_count": null,
      "outputs": [
        {
          "output_type": "execute_result",
          "data": {
            "text/plain": [
              "array([[1000,    0,    0,    0,    0,    0,    0,    0,    0,    0],\n",
              "       [ 999,    0,    0,    0,    0,    1,    0,    0,    0,    0],\n",
              "       [1000,    0,    0,    0,    0,    0,    0,    0,    0,    0],\n",
              "       [ 993,    0,    0,    0,    0,    7,    0,    0,    0,    0],\n",
              "       [1000,    0,    0,    0,    0,    0,    0,    0,    0,    0],\n",
              "       [  24,    0,    0,    0,    0,  676,    0,  282,    0,   18],\n",
              "       [1000,    0,    0,    0,    0,    0,    0,    0,    0,    0],\n",
              "       [   1,    0,    0,    0,    0,   51,    0,  825,    0,  123],\n",
              "       [ 981,    0,    0,    0,    0,   14,    0,    2,    0,    3],\n",
              "       [   1,    0,    0,    0,    0,    3,    0,  111,    0,  885]])"
            ]
          },
          "metadata": {
            "tags": []
          },
          "execution_count": 27
        }
      ]
    },
    {
      "cell_type": "code",
      "metadata": {
        "colab": {
          "base_uri": "https://localhost:8080/",
          "height": 622
        },
        "id": "BWIUhTm1A_Ei",
        "outputId": "e6ea3fd3-3b9d-4b58-e1ab-5fc48e00bd25"
      },
      "source": [
        "make_confusion_matrix(y_true=test_labels, \n",
        "                      y_pred=y_preds,\n",
        "                      classes=class_names,\n",
        "                      figsize=(15, 15),text_size=10)"
      ],
      "execution_count": null,
      "outputs": [
        {
          "output_type": "display_data",
          "data": {
            "image/png": "[encoded data removed]",
            "text/plain": [
              "<Figure size 1080x1080 with 2 Axes>"
            ]
          },
          "metadata": {
            "tags": [],
            "needs_background": "light"
          }
        }
      ]
    },
    {
      "cell_type": "code",
      "metadata": {
        "id": "BiLiLpz5BBMD"
      },
      "source": [
        "import random\n",
        "\n",
        "# Create a function for plotting a random image along with its prediction\n",
        "def plot_random_image(model, images, true_labels, classes):\n",
        "  \"\"\"Picks a random image, plots it and labels it with a predicted and truth label.\n",
        "\n",
        "  Args:\n",
        "    model: a trained model (trained on data similar to what's in images).\n",
        "    images: a set of random images (in tensor form).\n",
        "    true_labels: array of ground truth labels for images.\n",
        "    classes: array of class names for images.\n",
        "  \n",
        "  Returns:\n",
        "    A plot of a random image from `images` with a predicted class label from `model`\n",
        "    as well as the truth class label from `true_labels`.\n",
        "  \"\"\" \n",
        "  # Setup random integer\n",
        "  i = random.randint(0, len(images))\n",
        "  \n",
        "  # Create predictions and targets\n",
        "  target_image = images[i]\n",
        "  pred_probs = model.predict(target_image.reshape(1, 28, 28)) # have to reshape to get into right size for model\n",
        "  pred_label = classes[pred_probs.argmax()]\n",
        "  true_label = classes[true_labels[i]]\n",
        "\n",
        "  # Plot the target image\n",
        "  plt.imshow(target_image, cmap=plt.cm.binary)\n",
        "\n",
        "  # Change the color of the titles depending on if the prediction is right or wrong\n",
        "  if pred_label == true_label:\n",
        "    color = \"green\"\n",
        "  else:\n",
        "    color = \"red\"\n",
        "\n",
        "  # Add xlabel information (prediction/true label)\n",
        "  plt.xlabel(\"Pred: {} {:2.0f}% (True: {})\".format(pred_label,\n",
        "                                                   100*tf.reduce_max(pred_probs),\n",
        "                                                   true_label),\n",
        "             color=color) # set the color to green or red"
      ],
      "execution_count": null,
      "outputs": []
    },
    {
      "cell_type": "code",
      "metadata": {
        "colab": {
          "base_uri": "https://localhost:8080/",
          "height": 279
        },
        "id": "iVFSy1GoBbxv",
        "outputId": "16373c88-80c6-40ac-eb23-fa41d40ac126"
      },
      "source": [
        "plot_random_image(model=model_13, \n",
        "                  images=test_data, \n",
        "                  true_labels=test_labels, \n",
        "                  classes=class_names)"
      ],
      "execution_count": null,
      "outputs": [
        {
          "output_type": "display_data",
          "data": {
            "image/png": "[encoded data removed]",
            "text/plain": [
              "<Figure size 432x288 with 1 Axes>"
            ]
          },
          "metadata": {
            "tags": [],
            "needs_background": "light"
          }
        }
      ]
    },
    {
      "cell_type": "code",
      "metadata": {
        "colab": {
          "base_uri": "https://localhost:8080/"
        },
        "id": "utjCpXnmBdAw",
        "outputId": "739d25d0-e4cb-478b-f8f4-fec89b9a524f"
      },
      "source": [
        "model_14.layers"
      ],
      "execution_count": null,
      "outputs": [
        {
          "output_type": "execute_result",
          "data": {
            "text/plain": [
              "[<tensorflow.python.keras.layers.core.Flatten at 0x7fd2a0061208>,\n",
              " <tensorflow.python.keras.layers.core.Dense at 0x7fd2a0061780>,\n",
              " <tensorflow.python.keras.layers.core.Dense at 0x7fd2a0065080>,\n",
              " <tensorflow.python.keras.layers.core.Dense at 0x7fd242f2b4a8>]"
            ]
          },
          "metadata": {
            "tags": []
          },
          "execution_count": 33
        }
      ]
    },
    {
      "cell_type": "code",
      "metadata": {
        "colab": {
          "base_uri": "https://localhost:8080/"
        },
        "id": "YcTD_xXGDR2v",
        "outputId": "c362a3ca-269a-43f5-b8c6-aeb682bbbdab"
      },
      "source": [
        "weights,biases=model_14.layers[1].get_weights()\n",
        "weights,weights.shape"
      ],
      "execution_count": null,
      "outputs": [
        {
          "output_type": "execute_result",
          "data": {
            "text/plain": [
              "(array([[ 0.0287192 , -0.01029544, -0.02567479, -0.00619847],\n",
              "        [-0.08138508,  0.03222882,  0.97027135,  0.06499861],\n",
              "        [-0.07758083, -0.04830738,  0.85467803,  0.0388018 ],\n",
              "        ...,\n",
              "        [ 0.01556861,  0.01661945, -0.14238998, -0.02348963],\n",
              "        [ 0.01095042,  0.02673633, -0.06845798, -0.07461146],\n",
              "        [-0.00482979,  0.027058  ,  0.12397201, -0.05812328]],\n",
              "       dtype=float32), (784, 4))"
            ]
          },
          "metadata": {
            "tags": []
          },
          "execution_count": 34
        }
      ]
    },
    {
      "cell_type": "code",
      "metadata": {
        "colab": {
          "base_uri": "https://localhost:8080/"
        },
        "id": "VHTZQLDBDYDM",
        "outputId": "f95ca4ca-d8e6-4c24-c6bd-bdf3b559ffb0"
      },
      "source": [
        "biases, biases.shape"
      ],
      "execution_count": null,
      "outputs": [
        {
          "output_type": "execute_result",
          "data": {
            "text/plain": [
              "(array([-0.0452886 , -0.04273837,  1.1726661 , -0.0418404 ], dtype=float32),\n",
              " (4,))"
            ]
          },
          "metadata": {
            "tags": []
          },
          "execution_count": 35
        }
      ]
    },
    {
      "cell_type": "code",
      "metadata": {
        "colab": {
          "base_uri": "https://localhost:8080/"
        },
        "id": "Ta_SZ9_RDa3h",
        "outputId": "958c79d4-fade-4bcc-80b0-e2e120aff699"
      },
      "source": [
        "model_14.summary()"
      ],
      "execution_count": null,
      "outputs": [
        {
          "output_type": "stream",
          "text": [
            "Model: \"sequential_2\"\n",
            "_________________________________________________________________\n",
            "Layer (type)                 Output Shape              Param #   \n",
            "=================================================================\n",
            "flatten_2 (Flatten)          (None, 784)               0         \n",
            "_________________________________________________________________\n",
            "dense_6 (Dense)              (None, 4)                 3140      \n",
            "_________________________________________________________________\n",
            "dense_7 (Dense)              (None, 4)                 20        \n",
            "_________________________________________________________________\n",
            "dense_8 (Dense)              (None, 10)                50        \n",
            "=================================================================\n",
            "Total params: 3,210\n",
            "Trainable params: 3,210\n",
            "Non-trainable params: 0\n",
            "_________________________________________________________________\n"
          ],
          "name": "stdout"
        }
      ]
    },
    {
      "cell_type": "code",
      "metadata": {
        "colab": {
          "base_uri": "https://localhost:8080/",
          "height": 533
        },
        "id": "ucJTx0FrDdl2",
        "outputId": "830ebe9e-f9c9-4a88-ca69-d332cb9759c9"
      },
      "source": [
        "from tensorflow.keras.utils import plot_model\n",
        "\n",
        "# See the inputs and outputs of each layer\n",
        "plot_model(model_14, show_shapes=True)"
      ],
      "execution_count": null,
      "outputs": [
        {
          "output_type": "execute_result",
          "data": {
            "image/png": "[encoded data removed]",
            "text/plain": [
              "<IPython.core.display.Image object>"
            ]
          },
          "metadata": {
            "tags": []
          },
          "execution_count": 37
        }
      ]
    },
    {
      "cell_type": "code",
      "metadata": {
        "id": "0rvmye5sDg_F"
      },
      "source": [
        ""
      ],
      "execution_count": null,
      "outputs": []
    }
  ]
}