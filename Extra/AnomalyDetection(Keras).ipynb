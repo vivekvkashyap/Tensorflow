{
  "nbformat": 4,
  "nbformat_minor": 0,
  "metadata": {
    "colab": {
      "name": "AnomalyDetection(Keras).ipynb",
      "provenance": [],
      "collapsed_sections": []
    },
    "kernelspec": {
      "name": "python3",
      "display_name": "Python 3"
    },
    "accelerator": "GPU"
  },
  "cells": [
    {
      "cell_type": "code",
      "metadata": {
        "id": "7OJAzccCFgfn"
      },
      "source": [
        "import numpy as np\n",
        "import pandas as pd\n",
        "from tensorflow import keras\n",
        "from tensorflow.keras import layers\n",
        "from matplotlib import pyplot as plt"
      ],
      "execution_count": null,
      "outputs": []
    },
    {
      "cell_type": "code",
      "metadata": {
        "id": "dMAOOImVGAIS"
      },
      "source": [
        "master_url_root=\"https://raw.githubusercontent.com/numenta/NAB/master/data/\"\n",
        "df_small_noise_url_suffix=\"artificialNoAnomaly/art_daily_small_noise.csv\"\n",
        "df_small_noise_url=master_url_root+df_small_noise_url_suffix\n",
        "df_small_noise=pd.read_csv(df_small_noise_url,parse_dates=True,index_col=\"timestamp\")"
      ],
      "execution_count": null,
      "outputs": []
    },
    {
      "cell_type": "code",
      "metadata": {
        "colab": {
          "base_uri": "https://localhost:8080/",
          "height": 235
        },
        "id": "XSddtrZCGhzB",
        "outputId": "8519d316-f3b0-4a25-e39c-54c41add4578"
      },
      "source": [
        "df_small_noise.head()"
      ],
      "execution_count": null,
      "outputs": [
        {
          "output_type": "execute_result",
          "data": {
            "text/html": [
              "<div>\n",
              "<style scoped>\n",
              "    .dataframe tbody tr th:only-of-type {\n",
              "        vertical-align: middle;\n",
              "    }\n",
              "\n",
              "    .dataframe tbody tr th {\n",
              "        vertical-align: top;\n",
              "    }\n",
              "\n",
              "    .dataframe thead th {\n",
              "        text-align: right;\n",
              "    }\n",
              "</style>\n",
              "<table border=\"1\" class=\"dataframe\">\n",
              "  <thead>\n",
              "    <tr style=\"text-align: right;\">\n",
              "      <th></th>\n",
              "      <th>value</th>\n",
              "    </tr>\n",
              "    <tr>\n",
              "      <th>timestamp</th>\n",
              "      <th></th>\n",
              "    </tr>\n",
              "  </thead>\n",
              "  <tbody>\n",
              "    <tr>\n",
              "      <th>2014-04-01 00:00:00</th>\n",
              "      <td>18.324919</td>\n",
              "    </tr>\n",
              "    <tr>\n",
              "      <th>2014-04-01 00:05:00</th>\n",
              "      <td>21.970327</td>\n",
              "    </tr>\n",
              "    <tr>\n",
              "      <th>2014-04-01 00:10:00</th>\n",
              "      <td>18.624806</td>\n",
              "    </tr>\n",
              "    <tr>\n",
              "      <th>2014-04-01 00:15:00</th>\n",
              "      <td>21.953684</td>\n",
              "    </tr>\n",
              "    <tr>\n",
              "      <th>2014-04-01 00:20:00</th>\n",
              "      <td>21.909120</td>\n",
              "    </tr>\n",
              "  </tbody>\n",
              "</table>\n",
              "</div>"
            ],
            "text/plain": [
              "                         value\n",
              "timestamp                     \n",
              "2014-04-01 00:00:00  18.324919\n",
              "2014-04-01 00:05:00  21.970327\n",
              "2014-04-01 00:10:00  18.624806\n",
              "2014-04-01 00:15:00  21.953684\n",
              "2014-04-01 00:20:00  21.909120"
            ]
          },
          "metadata": {
            "tags": []
          },
          "execution_count": 3
        }
      ]
    },
    {
      "cell_type": "code",
      "metadata": {
        "id": "rQUF1AQ5IBiC"
      },
      "source": [
        "df_small_noise[150:200]"
      ],
      "execution_count": null,
      "outputs": []
    },
    {
      "cell_type": "code",
      "metadata": {
        "id": "w1b-9VCLHBl7"
      },
      "source": [
        "df_daily_jumpsup_url_suffix=\"artificialWithAnomaly/art_daily_jumpsup.csv\"\n",
        "df_daily_jumpsup_url=master_url_root+df_daily_jumpsup_url_suffix\n",
        "df_daily_jumpsup=pd.read_csv(df_daily_jumpsup_url,parse_dates=True,index_col=\"timestamp\")"
      ],
      "execution_count": null,
      "outputs": []
    },
    {
      "cell_type": "code",
      "metadata": {
        "colab": {
          "base_uri": "https://localhost:8080/"
        },
        "id": "16Z5m6vxHp95",
        "outputId": "b04e719c-3f6b-4684-d609-1f1612ca03c6"
      },
      "source": [
        "len(df_daily_jumpsup)"
      ],
      "execution_count": null,
      "outputs": [
        {
          "output_type": "execute_result",
          "data": {
            "text/plain": [
              "4032"
            ]
          },
          "metadata": {
            "tags": []
          },
          "execution_count": 6
        }
      ]
    },
    {
      "cell_type": "code",
      "metadata": {
        "colab": {
          "base_uri": "https://localhost:8080/"
        },
        "id": "rPOOTCroHskT",
        "outputId": "0385bc78-035f-4f7a-aea0-d1d2ffa5f473"
      },
      "source": [
        "len(df_small_noise)"
      ],
      "execution_count": null,
      "outputs": [
        {
          "output_type": "execute_result",
          "data": {
            "text/plain": [
              "4032"
            ]
          },
          "metadata": {
            "tags": []
          },
          "execution_count": 7
        }
      ]
    },
    {
      "cell_type": "code",
      "metadata": {
        "colab": {
          "base_uri": "https://localhost:8080/",
          "height": 303
        },
        "id": "gxavZXWJHzoa",
        "outputId": "09f5b2da-9a3d-42a4-9a7e-37276fc1eb80"
      },
      "source": [
        "fig,ax=plt.subplots()\n",
        "df_small_noise.plot(legend=False,ax=ax)\n",
        "plt.show()"
      ],
      "execution_count": null,
      "outputs": [
        {
          "output_type": "display_data",
          "data": {
            "image/png": "[encoded data removed]",
            "text/plain": [
              "<Figure size 432x288 with 1 Axes>"
            ]
          },
          "metadata": {
            "tags": [],
            "needs_background": "light"
          }
        }
      ]
    },
    {
      "cell_type": "code",
      "metadata": {
        "id": "7sc85H1II34r"
      },
      "source": [
        "training_mean=df_small_noise.mean()\n",
        "training_std=df_small_noise.std()\n",
        "df_training_value=(df_small_noise-training_mean)/training_std"
      ],
      "execution_count": null,
      "outputs": []
    },
    {
      "cell_type": "code",
      "metadata": {
        "colab": {
          "base_uri": "https://localhost:8080/"
        },
        "id": "dE4-WYmKH78L",
        "outputId": "c46c3fdb-0614-4403-f523-f0d2a8a3f9d1"
      },
      "source": [
        "print(\"Number of training samples:\", len(df_training_value))"
      ],
      "execution_count": null,
      "outputs": [
        {
          "output_type": "stream",
          "text": [
            "Number of training samples: 4032\n"
          ],
          "name": "stdout"
        }
      ]
    },
    {
      "cell_type": "code",
      "metadata": {
        "id": "6viAW_6tJh9T"
      },
      "source": [
        "TIME_STEPS=288\n",
        "def create_sequences(values,time_steps=TIME_STEPS):\n",
        "  output=[]\n",
        "  for i in range(len(values)-time_steps):\n",
        "    output.append(values[i:(i+time_steps)])\n",
        "  return np.stack(output)"
      ],
      "execution_count": null,
      "outputs": []
    },
    {
      "cell_type": "code",
      "metadata": {
        "colab": {
          "base_uri": "https://localhost:8080/"
        },
        "id": "C1KoRTSXJ5Vc",
        "outputId": "3e330a7a-d851-4d90-b9a1-4824ce8690c5"
      },
      "source": [
        "x_train=create_sequences(df_training_value.values)\n",
        "print(\"Training input shape:\",x_train.shape)"
      ],
      "execution_count": null,
      "outputs": [
        {
          "output_type": "stream",
          "text": [
            "Training input shape: (3744, 288, 1)\n"
          ],
          "name": "stdout"
        }
      ]
    },
    {
      "cell_type": "code",
      "metadata": {
        "id": "xN8UysALKFo_"
      },
      "source": [
        "x_train[1]"
      ],
      "execution_count": null,
      "outputs": []
    },
    {
      "cell_type": "code",
      "metadata": {
        "id": "caK7WxkzKHe_"
      },
      "source": [
        "model=keras.Sequential([layers.Input(shape=(x_train.shape[1],x_train.shape[2])),\n",
        "                        layers.Conv1D(filters=32,kernel_size=7,padding=\"same\",strides=2,activation=\"relu\"),\n",
        "                        layers.Dropout(rate=0.2),\n",
        "                        layers.Conv1D(filters=16,kernel_size=7,padding=\"same\",strides=2,activation=\"relu\"),\n",
        "                        layers.Conv1DTranspose(filters=16,kernel_size=7,padding=\"same\",strides=2,activation=\"relu\"),\n",
        "                        layers.Dropout(rate=0.2),\n",
        "                        layers.Conv1DTranspose(filters=32,kernel_size=7,padding=\"same\",strides=2,activation=\"relu\"),\n",
        "                        layers.Conv1DTranspose(filters=1,kernel_size=7,padding=\"same\"),])"
      ],
      "execution_count": null,
      "outputs": []
    },
    {
      "cell_type": "code",
      "metadata": {
        "id": "8mKpzvHiLd-H"
      },
      "source": [
        "model.compile(optimizer=keras.optimizers.Adam(learning_rate=0.001),loss=\"mse\")"
      ],
      "execution_count": null,
      "outputs": []
    },
    {
      "cell_type": "code",
      "metadata": {
        "colab": {
          "base_uri": "https://localhost:8080/"
        },
        "id": "qv3jgs5dNTXW",
        "outputId": "b72910f7-c499-4a09-bded-7dd930efa66a"
      },
      "source": [
        "model.summary()"
      ],
      "execution_count": null,
      "outputs": [
        {
          "output_type": "stream",
          "text": [
            "Model: \"sequential\"\n",
            "_________________________________________________________________\n",
            "Layer (type)                 Output Shape              Param #   \n",
            "=================================================================\n",
            "conv1d (Conv1D)              (None, 144, 32)           256       \n",
            "_________________________________________________________________\n",
            "dropout (Dropout)            (None, 144, 32)           0         \n",
            "_________________________________________________________________\n",
            "conv1d_1 (Conv1D)            (None, 72, 16)            3600      \n",
            "_________________________________________________________________\n",
            "conv1d_transpose (Conv1DTran (None, 144, 16)           1808      \n",
            "_________________________________________________________________\n",
            "dropout_1 (Dropout)          (None, 144, 16)           0         \n",
            "_________________________________________________________________\n",
            "conv1d_transpose_1 (Conv1DTr (None, 288, 32)           3616      \n",
            "_________________________________________________________________\n",
            "conv1d_transpose_2 (Conv1DTr (None, 288, 1)            225       \n",
            "=================================================================\n",
            "Total params: 9,505\n",
            "Trainable params: 9,505\n",
            "Non-trainable params: 0\n",
            "_________________________________________________________________\n"
          ],
          "name": "stdout"
        }
      ]
    },
    {
      "cell_type": "code",
      "metadata": {
        "id": "VcYXTZtmNgpj"
      },
      "source": [
        "import tensorflow as tf"
      ],
      "execution_count": null,
      "outputs": []
    },
    {
      "cell_type": "code",
      "metadata": {
        "colab": {
          "base_uri": "https://localhost:8080/",
          "height": 141
        },
        "id": "bbBtU730NU1Y",
        "outputId": "7aa43171-7072-482e-e34b-c584cdbcc837"
      },
      "source": [
        "tf.keras.utils.plot_model(model, show_shapes=True, rankdir=\"LR\")\n"
      ],
      "execution_count": null,
      "outputs": [
        {
          "output_type": "execute_result",
          "data": {
            "image/png": "[encoded data removed]",
            "text/plain": [
              "<IPython.core.display.Image object>"
            ]
          },
          "metadata": {
            "tags": []
          },
          "execution_count": 31
        }
      ]
    },
    {
      "cell_type": "code",
      "metadata": {
        "colab": {
          "base_uri": "https://localhost:8080/"
        },
        "id": "0iZGI8f1Nfo9",
        "outputId": "d2a569bb-f762-4018-cd3c-a6f3b511ed36"
      },
      "source": [
        "history=model.fit(x_train,x_train,epochs=50,batch_size=128,validation_split=0.1,callbacks=[keras.callbacks.EarlyStopping(monitor=\"val_loss\",patience=5,mode=\"min\")])"
      ],
      "execution_count": null,
      "outputs": [
        {
          "output_type": "stream",
          "text": [
            "Epoch 1/50\n",
            "27/27 [==============================] - 8s 17ms/step - loss: 0.7526 - val_loss: 0.1484\n",
            "Epoch 2/50\n",
            "27/27 [==============================] - 0s 5ms/step - loss: 0.1032 - val_loss: 0.0409\n",
            "Epoch 3/50\n",
            "27/27 [==============================] - 0s 5ms/step - loss: 0.0608 - val_loss: 0.0373\n",
            "Epoch 4/50\n",
            "27/27 [==============================] - 0s 5ms/step - loss: 0.0532 - val_loss: 0.0333\n",
            "Epoch 5/50\n",
            "27/27 [==============================] - 0s 5ms/step - loss: 0.0471 - val_loss: 0.0296\n",
            "Epoch 6/50\n",
            "27/27 [==============================] - 0s 5ms/step - loss: 0.0426 - val_loss: 0.0261\n",
            "Epoch 7/50\n",
            "27/27 [==============================] - 0s 6ms/step - loss: 0.0382 - val_loss: 0.0238\n",
            "Epoch 8/50\n",
            "27/27 [==============================] - 0s 5ms/step - loss: 0.0350 - val_loss: 0.0219\n",
            "Epoch 9/50\n",
            "27/27 [==============================] - 0s 5ms/step - loss: 0.0323 - val_loss: 0.0209\n",
            "Epoch 10/50\n",
            "27/27 [==============================] - 0s 5ms/step - loss: 0.0302 - val_loss: 0.0207\n",
            "Epoch 11/50\n",
            "27/27 [==============================] - 0s 5ms/step - loss: 0.0282 - val_loss: 0.0189\n",
            "Epoch 12/50\n",
            "27/27 [==============================] - 0s 5ms/step - loss: 0.0267 - val_loss: 0.0208\n",
            "Epoch 13/50\n",
            "27/27 [==============================] - 0s 5ms/step - loss: 0.0254 - val_loss: 0.0202\n",
            "Epoch 14/50\n",
            "27/27 [==============================] - 0s 5ms/step - loss: 0.0242 - val_loss: 0.0197\n",
            "Epoch 15/50\n",
            "27/27 [==============================] - 0s 5ms/step - loss: 0.0233 - val_loss: 0.0204\n",
            "Epoch 16/50\n",
            "27/27 [==============================] - 0s 5ms/step - loss: 0.0225 - val_loss: 0.0202\n"
          ],
          "name": "stdout"
        }
      ]
    },
    {
      "cell_type": "code",
      "metadata": {
        "colab": {
          "base_uri": "https://localhost:8080/",
          "height": 265
        },
        "id": "UcOOYMgCN8GY",
        "outputId": "31b7bc91-39a7-4bbe-a78e-7af018310ab1"
      },
      "source": [
        "plt.plot(history.history[\"loss\"],label=\"Training_Loss\")\n",
        "plt.plot(history.history[\"val_loss\"],label=\"Validation_Loss\")\n",
        "plt.legend()\n",
        "plt.show()"
      ],
      "execution_count": null,
      "outputs": [
        {
          "output_type": "display_data",
          "data": {
            "image/png": "[encoded data removed]",
            "text/plain": [
              "<Figure size 432x288 with 1 Axes>"
            ]
          },
          "metadata": {
            "tags": [],
            "needs_background": "light"
          }
        }
      ]
    },
    {
      "cell_type": "code",
      "metadata": {
        "id": "DPmTOScLQAHy"
      },
      "source": [
        "x_train_pred=model.predict(x_train)\n",
        "train_mae_loss=np.mean(np.abs(x_train_pred-x_train),axis=1)\n"
      ],
      "execution_count": null,
      "outputs": []
    },
    {
      "cell_type": "code",
      "metadata": {
        "colab": {
          "base_uri": "https://localhost:8080/",
          "height": 279
        },
        "id": "Kr-2uZMtQR8N",
        "outputId": "a24f8f30-39b0-496c-e4db-e69e4e576954"
      },
      "source": [
        "plt.hist(train_mae_loss,bins=50)\n",
        "plt.xlabel(\"Train MAE loss\")\n",
        "plt.ylabel(\"No of samples\")\n",
        "plt.show()"
      ],
      "execution_count": null,
      "outputs": [
        {
          "output_type": "display_data",
          "data": {
            "image/png": "[encoded data removed]",
            "text/plain": [
              "<Figure size 432x288 with 1 Axes>"
            ]
          },
          "metadata": {
            "tags": [],
            "needs_background": "light"
          }
        }
      ]
    },
    {
      "cell_type": "code",
      "metadata": {
        "colab": {
          "base_uri": "https://localhost:8080/"
        },
        "id": "k2LTs233Qbwq",
        "outputId": "57391fde-a527-466b-b12c-cc718ecaa68f"
      },
      "source": [
        "threshold=np.max(train_mae_loss)\n",
        "print(\"Reconstruction error threshold:\",threshold)"
      ],
      "execution_count": null,
      "outputs": [
        {
          "output_type": "stream",
          "text": [
            "Reconstruction error threshold: 0.10650381649754409\n"
          ],
          "name": "stdout"
        }
      ]
    },
    {
      "cell_type": "code",
      "metadata": {
        "colab": {
          "base_uri": "https://localhost:8080/",
          "height": 265
        },
        "id": "3SDXsDc_Qrnl",
        "outputId": "ea126822-a77d-4990-a27f-1bd18ebc64ce"
      },
      "source": [
        "plt.plot(x_train[0])\n",
        "plt.plot(x_train_pred[0])\n",
        "plt.show()"
      ],
      "execution_count": null,
      "outputs": [
        {
          "output_type": "display_data",
          "data": {
            "image/png": "[encoded data removed]",
            "text/plain": [
              "<Figure size 432x288 with 1 Axes>"
            ]
          },
          "metadata": {
            "tags": [],
            "needs_background": "light"
          }
        }
      ]
    },
    {
      "cell_type": "code",
      "metadata": {
        "id": "SJfCddRkRNQJ"
      },
      "source": [
        "def normalize_test(values,mean,std):\n",
        "  values-=mean\n",
        "  values/=std\n",
        "  return values"
      ],
      "execution_count": null,
      "outputs": []
    },
    {
      "cell_type": "code",
      "metadata": {
        "colab": {
          "base_uri": "https://localhost:8080/",
          "height": 303
        },
        "id": "qfktIGjVRcpq",
        "outputId": "1bfbbd3d-7b7a-4ecf-aac7-44b792ade042"
      },
      "source": [
        "df_test_value=(df_daily_jumpsup-training_mean)/training_std\n",
        "fig,ax=plt.subplots()\n",
        "df_test_value.plot(legend=False,ax=ax)\n",
        "plt.show()"
      ],
      "execution_count": null,
      "outputs": [
        {
          "output_type": "display_data",
          "data": {
            "image/png": "[encoded data removed]",
            "text/plain": [
              "<Figure size 432x288 with 1 Axes>"
            ]
          },
          "metadata": {
            "tags": [],
            "needs_background": "light"
          }
        }
      ]
    },
    {
      "cell_type": "code",
      "metadata": {
        "colab": {
          "base_uri": "https://localhost:8080/",
          "height": 1000
        },
        "id": "d2ToGm0xRpuL",
        "outputId": "49e61111-fe28-4a6c-9e13-86e606e3c4b1"
      },
      "source": [
        "df_daily_jumpsup[3000:3050]"
      ],
      "execution_count": null,
      "outputs": [
        {
          "output_type": "execute_result",
          "data": {
            "text/html": [
              "<div>\n",
              "<style scoped>\n",
              "    .dataframe tbody tr th:only-of-type {\n",
              "        vertical-align: middle;\n",
              "    }\n",
              "\n",
              "    .dataframe tbody tr th {\n",
              "        vertical-align: top;\n",
              "    }\n",
              "\n",
              "    .dataframe thead th {\n",
              "        text-align: right;\n",
              "    }\n",
              "</style>\n",
              "<table border=\"1\" class=\"dataframe\">\n",
              "  <thead>\n",
              "    <tr style=\"text-align: right;\">\n",
              "      <th></th>\n",
              "      <th>value</th>\n",
              "    </tr>\n",
              "    <tr>\n",
              "      <th>timestamp</th>\n",
              "      <th></th>\n",
              "    </tr>\n",
              "  </thead>\n",
              "  <tbody>\n",
              "    <tr>\n",
              "      <th>2014-04-11 10:00:00</th>\n",
              "      <td>138.118480</td>\n",
              "    </tr>\n",
              "    <tr>\n",
              "      <th>2014-04-11 10:05:00</th>\n",
              "      <td>159.259713</td>\n",
              "    </tr>\n",
              "    <tr>\n",
              "      <th>2014-04-11 10:10:00</th>\n",
              "      <td>147.399243</td>\n",
              "    </tr>\n",
              "    <tr>\n",
              "      <th>2014-04-11 10:15:00</th>\n",
              "      <td>150.046222</td>\n",
              "    </tr>\n",
              "    <tr>\n",
              "      <th>2014-04-11 10:20:00</th>\n",
              "      <td>150.082482</td>\n",
              "    </tr>\n",
              "    <tr>\n",
              "      <th>2014-04-11 10:25:00</th>\n",
              "      <td>154.798492</td>\n",
              "    </tr>\n",
              "    <tr>\n",
              "      <th>2014-04-11 10:30:00</th>\n",
              "      <td>130.600117</td>\n",
              "    </tr>\n",
              "    <tr>\n",
              "      <th>2014-04-11 10:35:00</th>\n",
              "      <td>136.698351</td>\n",
              "    </tr>\n",
              "    <tr>\n",
              "      <th>2014-04-11 10:40:00</th>\n",
              "      <td>149.593865</td>\n",
              "    </tr>\n",
              "    <tr>\n",
              "      <th>2014-04-11 10:45:00</th>\n",
              "      <td>156.243421</td>\n",
              "    </tr>\n",
              "    <tr>\n",
              "      <th>2014-04-11 10:50:00</th>\n",
              "      <td>150.167411</td>\n",
              "    </tr>\n",
              "    <tr>\n",
              "      <th>2014-04-11 10:55:00</th>\n",
              "      <td>142.294708</td>\n",
              "    </tr>\n",
              "    <tr>\n",
              "      <th>2014-04-11 11:00:00</th>\n",
              "      <td>144.835461</td>\n",
              "    </tr>\n",
              "    <tr>\n",
              "      <th>2014-04-11 11:05:00</th>\n",
              "      <td>156.048947</td>\n",
              "    </tr>\n",
              "    <tr>\n",
              "      <th>2014-04-11 11:10:00</th>\n",
              "      <td>156.146953</td>\n",
              "    </tr>\n",
              "    <tr>\n",
              "      <th>2014-04-11 11:15:00</th>\n",
              "      <td>152.149472</td>\n",
              "    </tr>\n",
              "    <tr>\n",
              "      <th>2014-04-11 11:20:00</th>\n",
              "      <td>142.747386</td>\n",
              "    </tr>\n",
              "    <tr>\n",
              "      <th>2014-04-11 11:25:00</th>\n",
              "      <td>161.626212</td>\n",
              "    </tr>\n",
              "    <tr>\n",
              "      <th>2014-04-11 11:30:00</th>\n",
              "      <td>150.505607</td>\n",
              "    </tr>\n",
              "    <tr>\n",
              "      <th>2014-04-11 11:35:00</th>\n",
              "      <td>157.614348</td>\n",
              "    </tr>\n",
              "    <tr>\n",
              "      <th>2014-04-11 11:40:00</th>\n",
              "      <td>140.448672</td>\n",
              "    </tr>\n",
              "    <tr>\n",
              "      <th>2014-04-11 11:45:00</th>\n",
              "      <td>144.313663</td>\n",
              "    </tr>\n",
              "    <tr>\n",
              "      <th>2014-04-11 11:50:00</th>\n",
              "      <td>160.119473</td>\n",
              "    </tr>\n",
              "    <tr>\n",
              "      <th>2014-04-11 11:55:00</th>\n",
              "      <td>135.556789</td>\n",
              "    </tr>\n",
              "    <tr>\n",
              "      <th>2014-04-11 12:00:00</th>\n",
              "      <td>150.160947</td>\n",
              "    </tr>\n",
              "    <tr>\n",
              "      <th>2014-04-11 12:05:00</th>\n",
              "      <td>149.243925</td>\n",
              "    </tr>\n",
              "    <tr>\n",
              "      <th>2014-04-11 12:10:00</th>\n",
              "      <td>157.318454</td>\n",
              "    </tr>\n",
              "    <tr>\n",
              "      <th>2014-04-11 12:15:00</th>\n",
              "      <td>143.257886</td>\n",
              "    </tr>\n",
              "    <tr>\n",
              "      <th>2014-04-11 12:20:00</th>\n",
              "      <td>141.375691</td>\n",
              "    </tr>\n",
              "    <tr>\n",
              "      <th>2014-04-11 12:25:00</th>\n",
              "      <td>162.558258</td>\n",
              "    </tr>\n",
              "    <tr>\n",
              "      <th>2014-04-11 12:30:00</th>\n",
              "      <td>151.940306</td>\n",
              "    </tr>\n",
              "    <tr>\n",
              "      <th>2014-04-11 12:35:00</th>\n",
              "      <td>137.949132</td>\n",
              "    </tr>\n",
              "    <tr>\n",
              "      <th>2014-04-11 12:40:00</th>\n",
              "      <td>140.595855</td>\n",
              "    </tr>\n",
              "    <tr>\n",
              "      <th>2014-04-11 12:45:00</th>\n",
              "      <td>164.736031</td>\n",
              "    </tr>\n",
              "    <tr>\n",
              "      <th>2014-04-11 12:50:00</th>\n",
              "      <td>140.672933</td>\n",
              "    </tr>\n",
              "    <tr>\n",
              "      <th>2014-04-11 12:55:00</th>\n",
              "      <td>153.101670</td>\n",
              "    </tr>\n",
              "    <tr>\n",
              "      <th>2014-04-11 13:00:00</th>\n",
              "      <td>147.562907</td>\n",
              "    </tr>\n",
              "    <tr>\n",
              "      <th>2014-04-11 13:05:00</th>\n",
              "      <td>161.523165</td>\n",
              "    </tr>\n",
              "    <tr>\n",
              "      <th>2014-04-11 13:10:00</th>\n",
              "      <td>157.611335</td>\n",
              "    </tr>\n",
              "    <tr>\n",
              "      <th>2014-04-11 13:15:00</th>\n",
              "      <td>152.866135</td>\n",
              "    </tr>\n",
              "    <tr>\n",
              "      <th>2014-04-11 13:20:00</th>\n",
              "      <td>135.284640</td>\n",
              "    </tr>\n",
              "    <tr>\n",
              "      <th>2014-04-11 13:25:00</th>\n",
              "      <td>161.349096</td>\n",
              "    </tr>\n",
              "    <tr>\n",
              "      <th>2014-04-11 13:30:00</th>\n",
              "      <td>148.298884</td>\n",
              "    </tr>\n",
              "    <tr>\n",
              "      <th>2014-04-11 13:35:00</th>\n",
              "      <td>162.902139</td>\n",
              "    </tr>\n",
              "    <tr>\n",
              "      <th>2014-04-11 13:40:00</th>\n",
              "      <td>149.824608</td>\n",
              "    </tr>\n",
              "    <tr>\n",
              "      <th>2014-04-11 13:45:00</th>\n",
              "      <td>155.783519</td>\n",
              "    </tr>\n",
              "    <tr>\n",
              "      <th>2014-04-11 13:50:00</th>\n",
              "      <td>137.040763</td>\n",
              "    </tr>\n",
              "    <tr>\n",
              "      <th>2014-04-11 13:55:00</th>\n",
              "      <td>157.310910</td>\n",
              "    </tr>\n",
              "    <tr>\n",
              "      <th>2014-04-11 14:00:00</th>\n",
              "      <td>145.131831</td>\n",
              "    </tr>\n",
              "    <tr>\n",
              "      <th>2014-04-11 14:05:00</th>\n",
              "      <td>145.532698</td>\n",
              "    </tr>\n",
              "  </tbody>\n",
              "</table>\n",
              "</div>"
            ],
            "text/plain": [
              "                          value\n",
              "timestamp                      \n",
              "2014-04-11 10:00:00  138.118480\n",
              "2014-04-11 10:05:00  159.259713\n",
              "2014-04-11 10:10:00  147.399243\n",
              "2014-04-11 10:15:00  150.046222\n",
              "2014-04-11 10:20:00  150.082482\n",
              "2014-04-11 10:25:00  154.798492\n",
              "2014-04-11 10:30:00  130.600117\n",
              "2014-04-11 10:35:00  136.698351\n",
              "2014-04-11 10:40:00  149.593865\n",
              "2014-04-11 10:45:00  156.243421\n",
              "2014-04-11 10:50:00  150.167411\n",
              "2014-04-11 10:55:00  142.294708\n",
              "2014-04-11 11:00:00  144.835461\n",
              "2014-04-11 11:05:00  156.048947\n",
              "2014-04-11 11:10:00  156.146953\n",
              "2014-04-11 11:15:00  152.149472\n",
              "2014-04-11 11:20:00  142.747386\n",
              "2014-04-11 11:25:00  161.626212\n",
              "2014-04-11 11:30:00  150.505607\n",
              "2014-04-11 11:35:00  157.614348\n",
              "2014-04-11 11:40:00  140.448672\n",
              "2014-04-11 11:45:00  144.313663\n",
              "2014-04-11 11:50:00  160.119473\n",
              "2014-04-11 11:55:00  135.556789\n",
              "2014-04-11 12:00:00  150.160947\n",
              "2014-04-11 12:05:00  149.243925\n",
              "2014-04-11 12:10:00  157.318454\n",
              "2014-04-11 12:15:00  143.257886\n",
              "2014-04-11 12:20:00  141.375691\n",
              "2014-04-11 12:25:00  162.558258\n",
              "2014-04-11 12:30:00  151.940306\n",
              "2014-04-11 12:35:00  137.949132\n",
              "2014-04-11 12:40:00  140.595855\n",
              "2014-04-11 12:45:00  164.736031\n",
              "2014-04-11 12:50:00  140.672933\n",
              "2014-04-11 12:55:00  153.101670\n",
              "2014-04-11 13:00:00  147.562907\n",
              "2014-04-11 13:05:00  161.523165\n",
              "2014-04-11 13:10:00  157.611335\n",
              "2014-04-11 13:15:00  152.866135\n",
              "2014-04-11 13:20:00  135.284640\n",
              "2014-04-11 13:25:00  161.349096\n",
              "2014-04-11 13:30:00  148.298884\n",
              "2014-04-11 13:35:00  162.902139\n",
              "2014-04-11 13:40:00  149.824608\n",
              "2014-04-11 13:45:00  155.783519\n",
              "2014-04-11 13:50:00  137.040763\n",
              "2014-04-11 13:55:00  157.310910\n",
              "2014-04-11 14:00:00  145.131831\n",
              "2014-04-11 14:05:00  145.532698"
            ]
          },
          "metadata": {
            "tags": []
          },
          "execution_count": 44
        }
      ]
    },
    {
      "cell_type": "code",
      "metadata": {
        "id": "czSgqlL6SCcM"
      },
      "source": [
        "x_test=create_sequences(df_test_value.values)"
      ],
      "execution_count": null,
      "outputs": []
    },
    {
      "cell_type": "code",
      "metadata": {
        "colab": {
          "base_uri": "https://localhost:8080/"
        },
        "id": "-D4AN5lgSUIE",
        "outputId": "0224a4e2-d70a-422b-91c7-6832fc2a0c50"
      },
      "source": [
        "print(\"Test input shape:\",x_test.shape)"
      ],
      "execution_count": null,
      "outputs": [
        {
          "output_type": "stream",
          "text": [
            "Test input shape: (3744, 288, 1)\n"
          ],
          "name": "stdout"
        }
      ]
    },
    {
      "cell_type": "code",
      "metadata": {
        "id": "jfnMrYr4SYFN"
      },
      "source": [
        "x_test_pred=model.predict(x_test)\n",
        "test_mae_loss=np.mean(np.abs(x_test_pred-x_test),axis=1)\n",
        "test_mae_loss=test_mae_loss.reshape((-1))"
      ],
      "execution_count": null,
      "outputs": []
    },
    {
      "cell_type": "code",
      "metadata": {
        "colab": {
          "base_uri": "https://localhost:8080/",
          "height": 279
        },
        "id": "_2gDV7tnSp_m",
        "outputId": "797770ee-a76c-45df-dc7a-effbc0f5dc22"
      },
      "source": [
        "plt.hist(test_mae_loss,bins=50)\n",
        "plt.xlabel(\"test MAE loss\")\n",
        "plt.ylabel(\"No of samples\")\n",
        "plt.show()"
      ],
      "execution_count": null,
      "outputs": [
        {
          "output_type": "display_data",
          "data": {
            "image/png": "[encoded data removed]",
            "text/plain": [
              "<Figure size 432x288 with 1 Axes>"
            ]
          },
          "metadata": {
            "tags": [],
            "needs_background": "light"
          }
        }
      ]
    },
    {
      "cell_type": "code",
      "metadata": {
        "colab": {
          "base_uri": "https://localhost:8080/"
        },
        "id": "5EKDFSVJS07L",
        "outputId": "5d418735-80ab-48ba-a871-493fc5a15af1"
      },
      "source": [
        "test_mae_loss"
      ],
      "execution_count": null,
      "outputs": [
        {
          "output_type": "execute_result",
          "data": {
            "text/plain": [
              "array([0.08910643, 0.09305795, 0.09209027, ..., 0.09492173, 0.09364147,\n",
              "       0.09296566])"
            ]
          },
          "metadata": {
            "tags": []
          },
          "execution_count": 51
        }
      ]
    },
    {
      "cell_type": "code",
      "metadata": {
        "colab": {
          "base_uri": "https://localhost:8080/"
        },
        "id": "5x-ZopJFS88B",
        "outputId": "d149a557-b5ab-4132-95ff-d73cce2f6b33"
      },
      "source": [
        "anomalies=test_mae_loss>threshold\n",
        "print(\"Number of anomaly samples\",np.sum(anomalies))\n",
        "print(\"Indices of anomaly samples\",np.where(anomalies))"
      ],
      "execution_count": null,
      "outputs": [
        {
          "output_type": "stream",
          "text": [
            "Number of anomaly samples 404\n",
            "Indices of anomaly samples (array([1650, 1651, 1652, 1653, 1659, 2515, 2517, 2522, 2523, 2701, 2702,\n",
            "       2703, 2704, 2705, 2706, 2707, 2708, 2709, 2710, 2711, 2712, 2713,\n",
            "       2714, 2715, 2716, 2717, 2718, 2719, 2720, 2721, 2722, 2723, 2724,\n",
            "       2725, 2726, 2727, 2728, 2729, 2730, 2731, 2732, 2733, 2734, 2735,\n",
            "       2736, 2737, 2738, 2739, 2740, 2741, 2742, 2743, 2744, 2745, 2746,\n",
            "       2747, 2748, 2749, 2750, 2751, 2752, 2753, 2754, 2755, 2756, 2757,\n",
            "       2758, 2759, 2760, 2761, 2762, 2763, 2764, 2765, 2766, 2767, 2768,\n",
            "       2769, 2770, 2771, 2772, 2773, 2774, 2775, 2776, 2777, 2778, 2779,\n",
            "       2780, 2781, 2782, 2783, 2784, 2785, 2786, 2787, 2788, 2789, 2790,\n",
            "       2791, 2792, 2793, 2794, 2795, 2796, 2797, 2798, 2799, 2800, 2801,\n",
            "       2802, 2803, 2804, 2805, 2806, 2807, 2808, 2809, 2810, 2811, 2812,\n",
            "       2813, 2814, 2815, 2816, 2817, 2818, 2819, 2820, 2821, 2822, 2823,\n",
            "       2824, 2825, 2826, 2827, 2828, 2829, 2830, 2831, 2832, 2833, 2834,\n",
            "       2835, 2836, 2837, 2838, 2839, 2840, 2841, 2842, 2843, 2844, 2845,\n",
            "       2846, 2847, 2848, 2849, 2850, 2851, 2852, 2853, 2854, 2855, 2856,\n",
            "       2857, 2858, 2859, 2860, 2861, 2862, 2863, 2864, 2865, 2866, 2867,\n",
            "       2868, 2869, 2870, 2871, 2872, 2873, 2874, 2875, 2876, 2877, 2878,\n",
            "       2879, 2880, 2881, 2882, 2883, 2884, 2885, 2886, 2887, 2888, 2889,\n",
            "       2890, 2891, 2892, 2893, 2894, 2895, 2896, 2897, 2898, 2899, 2900,\n",
            "       2901, 2902, 2903, 2904, 2905, 2906, 2907, 2908, 2909, 2910, 2911,\n",
            "       2912, 2913, 2914, 2915, 2916, 2917, 2918, 2919, 2920, 2921, 2922,\n",
            "       2923, 2924, 2925, 2926, 2927, 2928, 2929, 2930, 2931, 2932, 2933,\n",
            "       2934, 2935, 2936, 2937, 2938, 2939, 2940, 2941, 2942, 2943, 2944,\n",
            "       2945, 2946, 2947, 2948, 2949, 2950, 2951, 2952, 2953, 2954, 2955,\n",
            "       2956, 2957, 2958, 2959, 2960, 2961, 2962, 2963, 2964, 2965, 2966,\n",
            "       2967, 2968, 2969, 2970, 2971, 2972, 2973, 2974, 2975, 2976, 2977,\n",
            "       2978, 2979, 2980, 2981, 2982, 2983, 2984, 2985, 2986, 2987, 2988,\n",
            "       2989, 2990, 2991, 2992, 2993, 2994, 2995, 2996, 2997, 2998, 2999,\n",
            "       3000, 3001, 3002, 3003, 3004, 3005, 3006, 3007, 3008, 3009, 3010,\n",
            "       3011, 3012, 3013, 3014, 3015, 3016, 3017, 3018, 3019, 3020, 3021,\n",
            "       3022, 3023, 3024, 3025, 3026, 3027, 3028, 3029, 3030, 3031, 3032,\n",
            "       3033, 3034, 3035, 3036, 3037, 3038, 3039, 3040, 3041, 3042, 3043,\n",
            "       3044, 3045, 3046, 3047, 3048, 3049, 3050, 3051, 3052, 3053, 3054,\n",
            "       3055, 3056, 3057, 3058, 3059, 3060, 3061, 3062, 3063, 3064, 3065,\n",
            "       3066, 3067, 3068, 3069, 3070, 3071, 3072, 3073, 3074, 3075, 3076,\n",
            "       3077, 3078, 3079, 3080, 3081, 3082, 3083, 3084, 3085, 3086, 3087,\n",
            "       3088, 3089, 3090, 3091, 3092, 3093, 3094, 3095]),)\n"
          ],
          "name": "stdout"
        }
      ]
    },
    {
      "cell_type": "code",
      "metadata": {
        "colab": {
          "base_uri": "https://localhost:8080/"
        },
        "id": "oQt_N_ZIT2Ri",
        "outputId": "ca9d6f85-7237-4b0d-94ce-a9e87fe56d56"
      },
      "source": [
        "len(anomalies)"
      ],
      "execution_count": null,
      "outputs": [
        {
          "output_type": "execute_result",
          "data": {
            "text/plain": [
              "3744"
            ]
          },
          "metadata": {
            "tags": []
          },
          "execution_count": 53
        }
      ]
    },
    {
      "cell_type": "code",
      "metadata": {
        "colab": {
          "base_uri": "https://localhost:8080/"
        },
        "id": "Zzt0uAF8Vt05",
        "outputId": "82e38b0d-17b1-47cc-e2e2-88b8ecaab85d"
      },
      "source": [
        "np.all([[True,True],[True,True]])"
      ],
      "execution_count": null,
      "outputs": [
        {
          "output_type": "execute_result",
          "data": {
            "text/plain": [
              "True"
            ]
          },
          "metadata": {
            "tags": []
          },
          "execution_count": 73
        }
      ]
    },
    {
      "cell_type": "code",
      "metadata": {
        "colab": {
          "base_uri": "https://localhost:8080/"
        },
        "id": "s-uY9IjWXW3a",
        "outputId": "37aa2b1d-aed9-4b2a-8003-ec8c81f8223d"
      },
      "source": [
        "len(df_test_value)"
      ],
      "execution_count": null,
      "outputs": [
        {
          "output_type": "execute_result",
          "data": {
            "text/plain": [
              "4032"
            ]
          },
          "metadata": {
            "tags": []
          },
          "execution_count": 69
        }
      ]
    },
    {
      "cell_type": "code",
      "metadata": {
        "colab": {
          "base_uri": "https://localhost:8080/"
        },
        "id": "X6oYJntHXZqq",
        "outputId": "559279d7-f951-4b73-d652-657283db523b"
      },
      "source": [
        "TIME_STEPS"
      ],
      "execution_count": null,
      "outputs": [
        {
          "output_type": "execute_result",
          "data": {
            "text/plain": [
              "288"
            ]
          },
          "metadata": {
            "tags": []
          },
          "execution_count": 70
        }
      ]
    },
    {
      "cell_type": "code",
      "metadata": {
        "colab": {
          "base_uri": "https://localhost:8080/"
        },
        "id": "aymxn9-FXqnx",
        "outputId": "68e604ec-621a-4121-ba0d-32416b0f0f42"
      },
      "source": [
        "len(df_test_value)-TIME_STEPS+1"
      ],
      "execution_count": null,
      "outputs": [
        {
          "output_type": "execute_result",
          "data": {
            "text/plain": [
              "3745"
            ]
          },
          "metadata": {
            "tags": []
          },
          "execution_count": 71
        }
      ]
    },
    {
      "cell_type": "code",
      "metadata": {
        "id": "vp1FGqXoT6nZ"
      },
      "source": [
        "anomalous_data_indices=[]\n",
        "for data_idx in range(TIME_STEPS-1,len(df_test_value)-TIME_STEPS+1):\n",
        "  if np.all(anomalies[data_idx-TIME_STEPS+1:data_idx]):\n",
        "    anomalous_data_indices.append(data_idx)"
      ],
      "execution_count": null,
      "outputs": []
    },
    {
      "cell_type": "code",
      "metadata": {
        "colab": {
          "base_uri": "https://localhost:8080/"
        },
        "id": "QaQP6i4DV7Es",
        "outputId": "d2bb37f5-c42d-4b6c-d7bb-a14f289649c2"
      },
      "source": [
        "anomalous_data_indices"
      ],
      "execution_count": null,
      "outputs": [
        {
          "output_type": "execute_result",
          "data": {
            "text/plain": [
              "[2988,\n",
              " 2989,\n",
              " 2990,\n",
              " 2991,\n",
              " 2992,\n",
              " 2993,\n",
              " 2994,\n",
              " 2995,\n",
              " 2996,\n",
              " 2997,\n",
              " 2998,\n",
              " 2999,\n",
              " 3000,\n",
              " 3001,\n",
              " 3002,\n",
              " 3003,\n",
              " 3004,\n",
              " 3005,\n",
              " 3006,\n",
              " 3007,\n",
              " 3008,\n",
              " 3009,\n",
              " 3010,\n",
              " 3011,\n",
              " 3012,\n",
              " 3013,\n",
              " 3014,\n",
              " 3015,\n",
              " 3016,\n",
              " 3017,\n",
              " 3018,\n",
              " 3019,\n",
              " 3020,\n",
              " 3021,\n",
              " 3022,\n",
              " 3023,\n",
              " 3024,\n",
              " 3025,\n",
              " 3026,\n",
              " 3027,\n",
              " 3028,\n",
              " 3029,\n",
              " 3030,\n",
              " 3031,\n",
              " 3032,\n",
              " 3033,\n",
              " 3034,\n",
              " 3035,\n",
              " 3036,\n",
              " 3037,\n",
              " 3038,\n",
              " 3039,\n",
              " 3040,\n",
              " 3041,\n",
              " 3042,\n",
              " 3043,\n",
              " 3044,\n",
              " 3045,\n",
              " 3046,\n",
              " 3047,\n",
              " 3048,\n",
              " 3049,\n",
              " 3050,\n",
              " 3051,\n",
              " 3052,\n",
              " 3053,\n",
              " 3054,\n",
              " 3055,\n",
              " 3056,\n",
              " 3057,\n",
              " 3058,\n",
              " 3059,\n",
              " 3060,\n",
              " 3061,\n",
              " 3062,\n",
              " 3063,\n",
              " 3064,\n",
              " 3065,\n",
              " 3066,\n",
              " 3067,\n",
              " 3068,\n",
              " 3069,\n",
              " 3070,\n",
              " 3071,\n",
              " 3072,\n",
              " 3073,\n",
              " 3074,\n",
              " 3075,\n",
              " 3076,\n",
              " 3077,\n",
              " 3078,\n",
              " 3079,\n",
              " 3080,\n",
              " 3081,\n",
              " 3082,\n",
              " 3083,\n",
              " 3084,\n",
              " 3085,\n",
              " 3086,\n",
              " 3087,\n",
              " 3088,\n",
              " 3089,\n",
              " 3090,\n",
              " 3091,\n",
              " 3092,\n",
              " 3093,\n",
              " 3094,\n",
              " 3095,\n",
              " 3096]"
            ]
          },
          "metadata": {
            "tags": []
          },
          "execution_count": 67
        }
      ]
    },
    {
      "cell_type": "code",
      "metadata": {
        "colab": {
          "base_uri": "https://localhost:8080/",
          "height": 303
        },
        "id": "VoavLnuUUy38",
        "outputId": "e810d6ac-d80c-4ad3-b456-e17af953fd41"
      },
      "source": [
        "df_subset=df_daily_jumpsup.iloc[anomalous_data_indices]\n",
        "fig,ax=plt.subplots()\n",
        "df_daily_jumpsup.plot(legend=False,ax=ax)\n",
        "df_subset.plot(legend=False,ax=ax,color=\"r\")\n",
        "plt.show()"
      ],
      "execution_count": null,
      "outputs": [
        {
          "output_type": "display_data",
          "data": {
            "image/png": "[encoded data removed]",
            "text/plain": [
              "<Figure size 432x288 with 1 Axes>"
            ]
          },
          "metadata": {
            "tags": [],
            "needs_background": "light"
          }
        }
      ]
    },
    {
      "cell_type": "code",
      "metadata": {
        "id": "jVSw5rvjVF0z"
      },
      "source": [
        ""
      ],
      "execution_count": null,
      "outputs": []
    }
  ]
}