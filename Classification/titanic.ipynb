{
  "nbformat": 4,
  "nbformat_minor": 0,
  "metadata": {
    "colab": {
      "name": "titanic.ipynb",
      "provenance": []
    },
    "kernelspec": {
      "name": "python3",
      "display_name": "Python 3"
    },
    "accelerator": "GPU"
  },
  "cells": [
    {
      "cell_type": "code",
      "metadata": {
        "id": "oqGRuf6Pxjkh"
      },
      "source": [
        "import tensorflow as tf\n",
        "import keras\n",
        "import numpy as np\n"
      ],
      "execution_count": null,
      "outputs": []
    },
    {
      "cell_type": "code",
      "metadata": {
        "id": "S71ZWNqN7PeR"
      },
      "source": [
        "import pandas as pd"
      ],
      "execution_count": null,
      "outputs": []
    },
    {
      "cell_type": "code",
      "metadata": {
        "id": "Kp7AqTTU8zKZ"
      },
      "source": [
        "data=pd.read_csv('/content/drive/My Drive/datasets_1275_2286_train_and_test2.csv')"
      ],
      "execution_count": null,
      "outputs": []
    },
    {
      "cell_type": "code",
      "metadata": {
        "id": "Cl_1lLYMCxiq"
      },
      "source": [
        "data1=pd.read_csv('/content/drive/My Drive/datasets_1275_2286_train_and_test2.csv')"
      ],
      "execution_count": null,
      "outputs": []
    },
    {
      "cell_type": "code",
      "metadata": {
        "id": "6TXck0JV81rT",
        "colab": {
          "base_uri": "https://localhost:8080/",
          "height": 439
        },
        "outputId": "83fd3f63-e3c5-4b92-b575-939b74243cc3"
      },
      "source": [
        "data"
      ],
      "execution_count": null,
      "outputs": [
        {
          "output_type": "execute_result",
          "data": {
            "text/html": [
              "<div>\n",
              "<style scoped>\n",
              "    .dataframe tbody tr th:only-of-type {\n",
              "        vertical-align: middle;\n",
              "    }\n",
              "\n",
              "    .dataframe tbody tr th {\n",
              "        vertical-align: top;\n",
              "    }\n",
              "\n",
              "    .dataframe thead th {\n",
              "        text-align: right;\n",
              "    }\n",
              "</style>\n",
              "<table border=\"1\" class=\"dataframe\">\n",
              "  <thead>\n",
              "    <tr style=\"text-align: right;\">\n",
              "      <th></th>\n",
              "      <th>Passengerid</th>\n",
              "      <th>Age</th>\n",
              "      <th>Fare</th>\n",
              "      <th>Sex</th>\n",
              "      <th>sibsp</th>\n",
              "      <th>zero</th>\n",
              "      <th>zero.1</th>\n",
              "      <th>zero.2</th>\n",
              "      <th>zero.3</th>\n",
              "      <th>zero.4</th>\n",
              "      <th>zero.5</th>\n",
              "      <th>zero.6</th>\n",
              "      <th>Parch</th>\n",
              "      <th>zero.7</th>\n",
              "      <th>zero.8</th>\n",
              "      <th>zero.9</th>\n",
              "      <th>zero.10</th>\n",
              "      <th>zero.11</th>\n",
              "      <th>zero.12</th>\n",
              "      <th>zero.13</th>\n",
              "      <th>zero.14</th>\n",
              "      <th>Pclass</th>\n",
              "      <th>zero.15</th>\n",
              "      <th>zero.16</th>\n",
              "      <th>Embarked</th>\n",
              "      <th>zero.17</th>\n",
              "      <th>zero.18</th>\n",
              "      <th>2urvived</th>\n",
              "    </tr>\n",
              "  </thead>\n",
              "  <tbody>\n",
              "    <tr>\n",
              "      <th>0</th>\n",
              "      <td>1</td>\n",
              "      <td>22.0</td>\n",
              "      <td>7.2500</td>\n",
              "      <td>0</td>\n",
              "      <td>1</td>\n",
              "      <td>0</td>\n",
              "      <td>0</td>\n",
              "      <td>0</td>\n",
              "      <td>0</td>\n",
              "      <td>0</td>\n",
              "      <td>0</td>\n",
              "      <td>0</td>\n",
              "      <td>0</td>\n",
              "      <td>0</td>\n",
              "      <td>0</td>\n",
              "      <td>0</td>\n",
              "      <td>0</td>\n",
              "      <td>0</td>\n",
              "      <td>0</td>\n",
              "      <td>0</td>\n",
              "      <td>0</td>\n",
              "      <td>3</td>\n",
              "      <td>0</td>\n",
              "      <td>0</td>\n",
              "      <td>2.0</td>\n",
              "      <td>0</td>\n",
              "      <td>0</td>\n",
              "      <td>0</td>\n",
              "    </tr>\n",
              "    <tr>\n",
              "      <th>1</th>\n",
              "      <td>2</td>\n",
              "      <td>38.0</td>\n",
              "      <td>71.2833</td>\n",
              "      <td>1</td>\n",
              "      <td>1</td>\n",
              "      <td>0</td>\n",
              "      <td>0</td>\n",
              "      <td>0</td>\n",
              "      <td>0</td>\n",
              "      <td>0</td>\n",
              "      <td>0</td>\n",
              "      <td>0</td>\n",
              "      <td>0</td>\n",
              "      <td>0</td>\n",
              "      <td>0</td>\n",
              "      <td>0</td>\n",
              "      <td>0</td>\n",
              "      <td>0</td>\n",
              "      <td>0</td>\n",
              "      <td>0</td>\n",
              "      <td>0</td>\n",
              "      <td>1</td>\n",
              "      <td>0</td>\n",
              "      <td>0</td>\n",
              "      <td>0.0</td>\n",
              "      <td>0</td>\n",
              "      <td>0</td>\n",
              "      <td>1</td>\n",
              "    </tr>\n",
              "    <tr>\n",
              "      <th>2</th>\n",
              "      <td>3</td>\n",
              "      <td>26.0</td>\n",
              "      <td>7.9250</td>\n",
              "      <td>1</td>\n",
              "      <td>0</td>\n",
              "      <td>0</td>\n",
              "      <td>0</td>\n",
              "      <td>0</td>\n",
              "      <td>0</td>\n",
              "      <td>0</td>\n",
              "      <td>0</td>\n",
              "      <td>0</td>\n",
              "      <td>0</td>\n",
              "      <td>0</td>\n",
              "      <td>0</td>\n",
              "      <td>0</td>\n",
              "      <td>0</td>\n",
              "      <td>0</td>\n",
              "      <td>0</td>\n",
              "      <td>0</td>\n",
              "      <td>0</td>\n",
              "      <td>3</td>\n",
              "      <td>0</td>\n",
              "      <td>0</td>\n",
              "      <td>2.0</td>\n",
              "      <td>0</td>\n",
              "      <td>0</td>\n",
              "      <td>1</td>\n",
              "    </tr>\n",
              "    <tr>\n",
              "      <th>3</th>\n",
              "      <td>4</td>\n",
              "      <td>35.0</td>\n",
              "      <td>53.1000</td>\n",
              "      <td>1</td>\n",
              "      <td>1</td>\n",
              "      <td>0</td>\n",
              "      <td>0</td>\n",
              "      <td>0</td>\n",
              "      <td>0</td>\n",
              "      <td>0</td>\n",
              "      <td>0</td>\n",
              "      <td>0</td>\n",
              "      <td>0</td>\n",
              "      <td>0</td>\n",
              "      <td>0</td>\n",
              "      <td>0</td>\n",
              "      <td>0</td>\n",
              "      <td>0</td>\n",
              "      <td>0</td>\n",
              "      <td>0</td>\n",
              "      <td>0</td>\n",
              "      <td>1</td>\n",
              "      <td>0</td>\n",
              "      <td>0</td>\n",
              "      <td>2.0</td>\n",
              "      <td>0</td>\n",
              "      <td>0</td>\n",
              "      <td>1</td>\n",
              "    </tr>\n",
              "    <tr>\n",
              "      <th>4</th>\n",
              "      <td>5</td>\n",
              "      <td>35.0</td>\n",
              "      <td>8.0500</td>\n",
              "      <td>0</td>\n",
              "      <td>0</td>\n",
              "      <td>0</td>\n",
              "      <td>0</td>\n",
              "      <td>0</td>\n",
              "      <td>0</td>\n",
              "      <td>0</td>\n",
              "      <td>0</td>\n",
              "      <td>0</td>\n",
              "      <td>0</td>\n",
              "      <td>0</td>\n",
              "      <td>0</td>\n",
              "      <td>0</td>\n",
              "      <td>0</td>\n",
              "      <td>0</td>\n",
              "      <td>0</td>\n",
              "      <td>0</td>\n",
              "      <td>0</td>\n",
              "      <td>3</td>\n",
              "      <td>0</td>\n",
              "      <td>0</td>\n",
              "      <td>2.0</td>\n",
              "      <td>0</td>\n",
              "      <td>0</td>\n",
              "      <td>0</td>\n",
              "    </tr>\n",
              "    <tr>\n",
              "      <th>...</th>\n",
              "      <td>...</td>\n",
              "      <td>...</td>\n",
              "      <td>...</td>\n",
              "      <td>...</td>\n",
              "      <td>...</td>\n",
              "      <td>...</td>\n",
              "      <td>...</td>\n",
              "      <td>...</td>\n",
              "      <td>...</td>\n",
              "      <td>...</td>\n",
              "      <td>...</td>\n",
              "      <td>...</td>\n",
              "      <td>...</td>\n",
              "      <td>...</td>\n",
              "      <td>...</td>\n",
              "      <td>...</td>\n",
              "      <td>...</td>\n",
              "      <td>...</td>\n",
              "      <td>...</td>\n",
              "      <td>...</td>\n",
              "      <td>...</td>\n",
              "      <td>...</td>\n",
              "      <td>...</td>\n",
              "      <td>...</td>\n",
              "      <td>...</td>\n",
              "      <td>...</td>\n",
              "      <td>...</td>\n",
              "      <td>...</td>\n",
              "    </tr>\n",
              "    <tr>\n",
              "      <th>1304</th>\n",
              "      <td>1305</td>\n",
              "      <td>28.0</td>\n",
              "      <td>8.0500</td>\n",
              "      <td>0</td>\n",
              "      <td>0</td>\n",
              "      <td>0</td>\n",
              "      <td>0</td>\n",
              "      <td>0</td>\n",
              "      <td>0</td>\n",
              "      <td>0</td>\n",
              "      <td>0</td>\n",
              "      <td>0</td>\n",
              "      <td>0</td>\n",
              "      <td>0</td>\n",
              "      <td>0</td>\n",
              "      <td>0</td>\n",
              "      <td>0</td>\n",
              "      <td>0</td>\n",
              "      <td>0</td>\n",
              "      <td>0</td>\n",
              "      <td>0</td>\n",
              "      <td>3</td>\n",
              "      <td>0</td>\n",
              "      <td>0</td>\n",
              "      <td>2.0</td>\n",
              "      <td>0</td>\n",
              "      <td>0</td>\n",
              "      <td>0</td>\n",
              "    </tr>\n",
              "    <tr>\n",
              "      <th>1305</th>\n",
              "      <td>1306</td>\n",
              "      <td>39.0</td>\n",
              "      <td>108.9000</td>\n",
              "      <td>1</td>\n",
              "      <td>0</td>\n",
              "      <td>0</td>\n",
              "      <td>0</td>\n",
              "      <td>0</td>\n",
              "      <td>0</td>\n",
              "      <td>0</td>\n",
              "      <td>0</td>\n",
              "      <td>0</td>\n",
              "      <td>0</td>\n",
              "      <td>0</td>\n",
              "      <td>0</td>\n",
              "      <td>0</td>\n",
              "      <td>0</td>\n",
              "      <td>0</td>\n",
              "      <td>0</td>\n",
              "      <td>0</td>\n",
              "      <td>0</td>\n",
              "      <td>1</td>\n",
              "      <td>0</td>\n",
              "      <td>0</td>\n",
              "      <td>0.0</td>\n",
              "      <td>0</td>\n",
              "      <td>0</td>\n",
              "      <td>0</td>\n",
              "    </tr>\n",
              "    <tr>\n",
              "      <th>1306</th>\n",
              "      <td>1307</td>\n",
              "      <td>38.5</td>\n",
              "      <td>7.2500</td>\n",
              "      <td>0</td>\n",
              "      <td>0</td>\n",
              "      <td>0</td>\n",
              "      <td>0</td>\n",
              "      <td>0</td>\n",
              "      <td>0</td>\n",
              "      <td>0</td>\n",
              "      <td>0</td>\n",
              "      <td>0</td>\n",
              "      <td>0</td>\n",
              "      <td>0</td>\n",
              "      <td>0</td>\n",
              "      <td>0</td>\n",
              "      <td>0</td>\n",
              "      <td>0</td>\n",
              "      <td>0</td>\n",
              "      <td>0</td>\n",
              "      <td>0</td>\n",
              "      <td>3</td>\n",
              "      <td>0</td>\n",
              "      <td>0</td>\n",
              "      <td>2.0</td>\n",
              "      <td>0</td>\n",
              "      <td>0</td>\n",
              "      <td>0</td>\n",
              "    </tr>\n",
              "    <tr>\n",
              "      <th>1307</th>\n",
              "      <td>1308</td>\n",
              "      <td>28.0</td>\n",
              "      <td>8.0500</td>\n",
              "      <td>0</td>\n",
              "      <td>0</td>\n",
              "      <td>0</td>\n",
              "      <td>0</td>\n",
              "      <td>0</td>\n",
              "      <td>0</td>\n",
              "      <td>0</td>\n",
              "      <td>0</td>\n",
              "      <td>0</td>\n",
              "      <td>0</td>\n",
              "      <td>0</td>\n",
              "      <td>0</td>\n",
              "      <td>0</td>\n",
              "      <td>0</td>\n",
              "      <td>0</td>\n",
              "      <td>0</td>\n",
              "      <td>0</td>\n",
              "      <td>0</td>\n",
              "      <td>3</td>\n",
              "      <td>0</td>\n",
              "      <td>0</td>\n",
              "      <td>2.0</td>\n",
              "      <td>0</td>\n",
              "      <td>0</td>\n",
              "      <td>0</td>\n",
              "    </tr>\n",
              "    <tr>\n",
              "      <th>1308</th>\n",
              "      <td>1309</td>\n",
              "      <td>28.0</td>\n",
              "      <td>22.3583</td>\n",
              "      <td>0</td>\n",
              "      <td>1</td>\n",
              "      <td>0</td>\n",
              "      <td>0</td>\n",
              "      <td>0</td>\n",
              "      <td>0</td>\n",
              "      <td>0</td>\n",
              "      <td>0</td>\n",
              "      <td>0</td>\n",
              "      <td>1</td>\n",
              "      <td>0</td>\n",
              "      <td>0</td>\n",
              "      <td>0</td>\n",
              "      <td>0</td>\n",
              "      <td>0</td>\n",
              "      <td>0</td>\n",
              "      <td>0</td>\n",
              "      <td>0</td>\n",
              "      <td>3</td>\n",
              "      <td>0</td>\n",
              "      <td>0</td>\n",
              "      <td>0.0</td>\n",
              "      <td>0</td>\n",
              "      <td>0</td>\n",
              "      <td>0</td>\n",
              "    </tr>\n",
              "  </tbody>\n",
              "</table>\n",
              "<p>1309 rows × 28 columns</p>\n",
              "</div>"
            ],
            "text/plain": [
              "      Passengerid   Age      Fare  Sex  ...  Embarked  zero.17  zero.18  2urvived\n",
              "0               1  22.0    7.2500    0  ...       2.0        0        0         0\n",
              "1               2  38.0   71.2833    1  ...       0.0        0        0         1\n",
              "2               3  26.0    7.9250    1  ...       2.0        0        0         1\n",
              "3               4  35.0   53.1000    1  ...       2.0        0        0         1\n",
              "4               5  35.0    8.0500    0  ...       2.0        0        0         0\n",
              "...           ...   ...       ...  ...  ...       ...      ...      ...       ...\n",
              "1304         1305  28.0    8.0500    0  ...       2.0        0        0         0\n",
              "1305         1306  39.0  108.9000    1  ...       0.0        0        0         0\n",
              "1306         1307  38.5    7.2500    0  ...       2.0        0        0         0\n",
              "1307         1308  28.0    8.0500    0  ...       2.0        0        0         0\n",
              "1308         1309  28.0   22.3583    0  ...       0.0        0        0         0\n",
              "\n",
              "[1309 rows x 28 columns]"
            ]
          },
          "metadata": {
            "tags": []
          },
          "execution_count": 60
        }
      ]
    },
    {
      "cell_type": "code",
      "metadata": {
        "id": "9fArzIJd82QC",
        "colab": {
          "base_uri": "https://localhost:8080/",
          "height": 612
        },
        "outputId": "b1e6b2e1-ac47-4ba3-c0c2-d43d3ed227ac"
      },
      "source": [
        "data.info()"
      ],
      "execution_count": null,
      "outputs": [
        {
          "output_type": "stream",
          "text": [
            "<class 'pandas.core.frame.DataFrame'>\n",
            "RangeIndex: 1309 entries, 0 to 1308\n",
            "Data columns (total 28 columns):\n",
            " #   Column       Non-Null Count  Dtype  \n",
            "---  ------       --------------  -----  \n",
            " 0   Passengerid  1309 non-null   int64  \n",
            " 1   Age          1309 non-null   float64\n",
            " 2   Fare         1309 non-null   float64\n",
            " 3   Sex          1309 non-null   int64  \n",
            " 4   sibsp        1309 non-null   int64  \n",
            " 5   zero         1309 non-null   int64  \n",
            " 6   zero.1       1309 non-null   int64  \n",
            " 7   zero.2       1309 non-null   int64  \n",
            " 8   zero.3       1309 non-null   int64  \n",
            " 9   zero.4       1309 non-null   int64  \n",
            " 10  zero.5       1309 non-null   int64  \n",
            " 11  zero.6       1309 non-null   int64  \n",
            " 12  Parch        1309 non-null   int64  \n",
            " 13  zero.7       1309 non-null   int64  \n",
            " 14  zero.8       1309 non-null   int64  \n",
            " 15  zero.9       1309 non-null   int64  \n",
            " 16  zero.10      1309 non-null   int64  \n",
            " 17  zero.11      1309 non-null   int64  \n",
            " 18  zero.12      1309 non-null   int64  \n",
            " 19  zero.13      1309 non-null   int64  \n",
            " 20  zero.14      1309 non-null   int64  \n",
            " 21  Pclass       1309 non-null   int64  \n",
            " 22  zero.15      1309 non-null   int64  \n",
            " 23  zero.16      1309 non-null   int64  \n",
            " 24  Embarked     1307 non-null   float64\n",
            " 25  zero.17      1309 non-null   int64  \n",
            " 26  zero.18      1309 non-null   int64  \n",
            " 27  2urvived     1309 non-null   int64  \n",
            "dtypes: float64(3), int64(25)\n",
            "memory usage: 286.5 KB\n"
          ],
          "name": "stdout"
        }
      ]
    },
    {
      "cell_type": "code",
      "metadata": {
        "id": "didkQiid9XDb",
        "colab": {
          "base_uri": "https://localhost:8080/",
          "height": 34
        },
        "outputId": "83b109c0-bda2-44a1-dd96-34db8fa963a0"
      },
      "source": [
        "data.shape"
      ],
      "execution_count": null,
      "outputs": [
        {
          "output_type": "execute_result",
          "data": {
            "text/plain": [
              "(1309, 28)"
            ]
          },
          "metadata": {
            "tags": []
          },
          "execution_count": 63
        }
      ]
    },
    {
      "cell_type": "code",
      "metadata": {
        "id": "byxTRAAD9mv1",
        "colab": {
          "base_uri": "https://localhost:8080/",
          "height": 119
        },
        "outputId": "7ff65aea-8bee-4bfb-9450-31131fef7d9c"
      },
      "source": [
        "data.columns"
      ],
      "execution_count": null,
      "outputs": [
        {
          "output_type": "execute_result",
          "data": {
            "text/plain": [
              "Index(['Passengerid', 'Age', 'Fare', 'Sex', 'sibsp', 'zero', 'zero.1',\n",
              "       'zero.2', 'zero.3', 'zero.4', 'zero.5', 'zero.6', 'Parch', 'zero.7',\n",
              "       'zero.8', 'zero.9', 'zero.10', 'zero.11', 'zero.12', 'zero.13',\n",
              "       'zero.14', 'Pclass', 'zero.15', 'zero.16', 'Embarked', 'zero.17',\n",
              "       'zero.18', '2urvived'],\n",
              "      dtype='object')"
            ]
          },
          "metadata": {
            "tags": []
          },
          "execution_count": 65
        }
      ]
    },
    {
      "cell_type": "code",
      "metadata": {
        "id": "cG1-OL9Y9pcx",
        "colab": {
          "base_uri": "https://localhost:8080/",
          "height": 317
        },
        "outputId": "7390edbb-32a7-43e2-ed19-75efe18f6425"
      },
      "source": [
        "data.describe()"
      ],
      "execution_count": null,
      "outputs": [
        {
          "output_type": "execute_result",
          "data": {
            "text/html": [
              "<div>\n",
              "<style scoped>\n",
              "    .dataframe tbody tr th:only-of-type {\n",
              "        vertical-align: middle;\n",
              "    }\n",
              "\n",
              "    .dataframe tbody tr th {\n",
              "        vertical-align: top;\n",
              "    }\n",
              "\n",
              "    .dataframe thead th {\n",
              "        text-align: right;\n",
              "    }\n",
              "</style>\n",
              "<table border=\"1\" class=\"dataframe\">\n",
              "  <thead>\n",
              "    <tr style=\"text-align: right;\">\n",
              "      <th></th>\n",
              "      <th>Passengerid</th>\n",
              "      <th>Age</th>\n",
              "      <th>Fare</th>\n",
              "      <th>Sex</th>\n",
              "      <th>sibsp</th>\n",
              "      <th>zero</th>\n",
              "      <th>zero.1</th>\n",
              "      <th>zero.2</th>\n",
              "      <th>zero.3</th>\n",
              "      <th>zero.4</th>\n",
              "      <th>zero.5</th>\n",
              "      <th>zero.6</th>\n",
              "      <th>Parch</th>\n",
              "      <th>zero.7</th>\n",
              "      <th>zero.8</th>\n",
              "      <th>zero.9</th>\n",
              "      <th>zero.10</th>\n",
              "      <th>zero.11</th>\n",
              "      <th>zero.12</th>\n",
              "      <th>zero.13</th>\n",
              "      <th>zero.14</th>\n",
              "      <th>Pclass</th>\n",
              "      <th>zero.15</th>\n",
              "      <th>zero.16</th>\n",
              "      <th>Embarked</th>\n",
              "      <th>zero.17</th>\n",
              "      <th>zero.18</th>\n",
              "      <th>2urvived</th>\n",
              "    </tr>\n",
              "  </thead>\n",
              "  <tbody>\n",
              "    <tr>\n",
              "      <th>count</th>\n",
              "      <td>1309.000000</td>\n",
              "      <td>1309.000000</td>\n",
              "      <td>1309.000000</td>\n",
              "      <td>1309.000000</td>\n",
              "      <td>1309.000000</td>\n",
              "      <td>1309.0</td>\n",
              "      <td>1309.0</td>\n",
              "      <td>1309.0</td>\n",
              "      <td>1309.0</td>\n",
              "      <td>1309.0</td>\n",
              "      <td>1309.0</td>\n",
              "      <td>1309.0</td>\n",
              "      <td>1309.000000</td>\n",
              "      <td>1309.0</td>\n",
              "      <td>1309.0</td>\n",
              "      <td>1309.0</td>\n",
              "      <td>1309.0</td>\n",
              "      <td>1309.0</td>\n",
              "      <td>1309.0</td>\n",
              "      <td>1309.0</td>\n",
              "      <td>1309.0</td>\n",
              "      <td>1309.000000</td>\n",
              "      <td>1309.0</td>\n",
              "      <td>1309.0</td>\n",
              "      <td>1307.000000</td>\n",
              "      <td>1309.0</td>\n",
              "      <td>1309.0</td>\n",
              "      <td>1309.000000</td>\n",
              "    </tr>\n",
              "    <tr>\n",
              "      <th>mean</th>\n",
              "      <td>655.000000</td>\n",
              "      <td>29.503186</td>\n",
              "      <td>33.281086</td>\n",
              "      <td>0.355997</td>\n",
              "      <td>0.498854</td>\n",
              "      <td>0.0</td>\n",
              "      <td>0.0</td>\n",
              "      <td>0.0</td>\n",
              "      <td>0.0</td>\n",
              "      <td>0.0</td>\n",
              "      <td>0.0</td>\n",
              "      <td>0.0</td>\n",
              "      <td>0.385027</td>\n",
              "      <td>0.0</td>\n",
              "      <td>0.0</td>\n",
              "      <td>0.0</td>\n",
              "      <td>0.0</td>\n",
              "      <td>0.0</td>\n",
              "      <td>0.0</td>\n",
              "      <td>0.0</td>\n",
              "      <td>0.0</td>\n",
              "      <td>2.294882</td>\n",
              "      <td>0.0</td>\n",
              "      <td>0.0</td>\n",
              "      <td>1.492731</td>\n",
              "      <td>0.0</td>\n",
              "      <td>0.0</td>\n",
              "      <td>0.261268</td>\n",
              "    </tr>\n",
              "    <tr>\n",
              "      <th>std</th>\n",
              "      <td>378.020061</td>\n",
              "      <td>12.905241</td>\n",
              "      <td>51.741500</td>\n",
              "      <td>0.478997</td>\n",
              "      <td>1.041658</td>\n",
              "      <td>0.0</td>\n",
              "      <td>0.0</td>\n",
              "      <td>0.0</td>\n",
              "      <td>0.0</td>\n",
              "      <td>0.0</td>\n",
              "      <td>0.0</td>\n",
              "      <td>0.0</td>\n",
              "      <td>0.865560</td>\n",
              "      <td>0.0</td>\n",
              "      <td>0.0</td>\n",
              "      <td>0.0</td>\n",
              "      <td>0.0</td>\n",
              "      <td>0.0</td>\n",
              "      <td>0.0</td>\n",
              "      <td>0.0</td>\n",
              "      <td>0.0</td>\n",
              "      <td>0.837836</td>\n",
              "      <td>0.0</td>\n",
              "      <td>0.0</td>\n",
              "      <td>0.814626</td>\n",
              "      <td>0.0</td>\n",
              "      <td>0.0</td>\n",
              "      <td>0.439494</td>\n",
              "    </tr>\n",
              "    <tr>\n",
              "      <th>min</th>\n",
              "      <td>1.000000</td>\n",
              "      <td>0.170000</td>\n",
              "      <td>0.000000</td>\n",
              "      <td>0.000000</td>\n",
              "      <td>0.000000</td>\n",
              "      <td>0.0</td>\n",
              "      <td>0.0</td>\n",
              "      <td>0.0</td>\n",
              "      <td>0.0</td>\n",
              "      <td>0.0</td>\n",
              "      <td>0.0</td>\n",
              "      <td>0.0</td>\n",
              "      <td>0.000000</td>\n",
              "      <td>0.0</td>\n",
              "      <td>0.0</td>\n",
              "      <td>0.0</td>\n",
              "      <td>0.0</td>\n",
              "      <td>0.0</td>\n",
              "      <td>0.0</td>\n",
              "      <td>0.0</td>\n",
              "      <td>0.0</td>\n",
              "      <td>1.000000</td>\n",
              "      <td>0.0</td>\n",
              "      <td>0.0</td>\n",
              "      <td>0.000000</td>\n",
              "      <td>0.0</td>\n",
              "      <td>0.0</td>\n",
              "      <td>0.000000</td>\n",
              "    </tr>\n",
              "    <tr>\n",
              "      <th>25%</th>\n",
              "      <td>328.000000</td>\n",
              "      <td>22.000000</td>\n",
              "      <td>7.895800</td>\n",
              "      <td>0.000000</td>\n",
              "      <td>0.000000</td>\n",
              "      <td>0.0</td>\n",
              "      <td>0.0</td>\n",
              "      <td>0.0</td>\n",
              "      <td>0.0</td>\n",
              "      <td>0.0</td>\n",
              "      <td>0.0</td>\n",
              "      <td>0.0</td>\n",
              "      <td>0.000000</td>\n",
              "      <td>0.0</td>\n",
              "      <td>0.0</td>\n",
              "      <td>0.0</td>\n",
              "      <td>0.0</td>\n",
              "      <td>0.0</td>\n",
              "      <td>0.0</td>\n",
              "      <td>0.0</td>\n",
              "      <td>0.0</td>\n",
              "      <td>2.000000</td>\n",
              "      <td>0.0</td>\n",
              "      <td>0.0</td>\n",
              "      <td>1.000000</td>\n",
              "      <td>0.0</td>\n",
              "      <td>0.0</td>\n",
              "      <td>0.000000</td>\n",
              "    </tr>\n",
              "    <tr>\n",
              "      <th>50%</th>\n",
              "      <td>655.000000</td>\n",
              "      <td>28.000000</td>\n",
              "      <td>14.454200</td>\n",
              "      <td>0.000000</td>\n",
              "      <td>0.000000</td>\n",
              "      <td>0.0</td>\n",
              "      <td>0.0</td>\n",
              "      <td>0.0</td>\n",
              "      <td>0.0</td>\n",
              "      <td>0.0</td>\n",
              "      <td>0.0</td>\n",
              "      <td>0.0</td>\n",
              "      <td>0.000000</td>\n",
              "      <td>0.0</td>\n",
              "      <td>0.0</td>\n",
              "      <td>0.0</td>\n",
              "      <td>0.0</td>\n",
              "      <td>0.0</td>\n",
              "      <td>0.0</td>\n",
              "      <td>0.0</td>\n",
              "      <td>0.0</td>\n",
              "      <td>3.000000</td>\n",
              "      <td>0.0</td>\n",
              "      <td>0.0</td>\n",
              "      <td>2.000000</td>\n",
              "      <td>0.0</td>\n",
              "      <td>0.0</td>\n",
              "      <td>0.000000</td>\n",
              "    </tr>\n",
              "    <tr>\n",
              "      <th>75%</th>\n",
              "      <td>982.000000</td>\n",
              "      <td>35.000000</td>\n",
              "      <td>31.275000</td>\n",
              "      <td>1.000000</td>\n",
              "      <td>1.000000</td>\n",
              "      <td>0.0</td>\n",
              "      <td>0.0</td>\n",
              "      <td>0.0</td>\n",
              "      <td>0.0</td>\n",
              "      <td>0.0</td>\n",
              "      <td>0.0</td>\n",
              "      <td>0.0</td>\n",
              "      <td>0.000000</td>\n",
              "      <td>0.0</td>\n",
              "      <td>0.0</td>\n",
              "      <td>0.0</td>\n",
              "      <td>0.0</td>\n",
              "      <td>0.0</td>\n",
              "      <td>0.0</td>\n",
              "      <td>0.0</td>\n",
              "      <td>0.0</td>\n",
              "      <td>3.000000</td>\n",
              "      <td>0.0</td>\n",
              "      <td>0.0</td>\n",
              "      <td>2.000000</td>\n",
              "      <td>0.0</td>\n",
              "      <td>0.0</td>\n",
              "      <td>1.000000</td>\n",
              "    </tr>\n",
              "    <tr>\n",
              "      <th>max</th>\n",
              "      <td>1309.000000</td>\n",
              "      <td>80.000000</td>\n",
              "      <td>512.329200</td>\n",
              "      <td>1.000000</td>\n",
              "      <td>8.000000</td>\n",
              "      <td>0.0</td>\n",
              "      <td>0.0</td>\n",
              "      <td>0.0</td>\n",
              "      <td>0.0</td>\n",
              "      <td>0.0</td>\n",
              "      <td>0.0</td>\n",
              "      <td>0.0</td>\n",
              "      <td>9.000000</td>\n",
              "      <td>0.0</td>\n",
              "      <td>0.0</td>\n",
              "      <td>0.0</td>\n",
              "      <td>0.0</td>\n",
              "      <td>0.0</td>\n",
              "      <td>0.0</td>\n",
              "      <td>0.0</td>\n",
              "      <td>0.0</td>\n",
              "      <td>3.000000</td>\n",
              "      <td>0.0</td>\n",
              "      <td>0.0</td>\n",
              "      <td>2.000000</td>\n",
              "      <td>0.0</td>\n",
              "      <td>0.0</td>\n",
              "      <td>1.000000</td>\n",
              "    </tr>\n",
              "  </tbody>\n",
              "</table>\n",
              "</div>"
            ],
            "text/plain": [
              "       Passengerid          Age         Fare  ...  zero.17  zero.18     2urvived\n",
              "count  1309.000000  1309.000000  1309.000000  ...   1309.0   1309.0  1309.000000\n",
              "mean    655.000000    29.503186    33.281086  ...      0.0      0.0     0.261268\n",
              "std     378.020061    12.905241    51.741500  ...      0.0      0.0     0.439494\n",
              "min       1.000000     0.170000     0.000000  ...      0.0      0.0     0.000000\n",
              "25%     328.000000    22.000000     7.895800  ...      0.0      0.0     0.000000\n",
              "50%     655.000000    28.000000    14.454200  ...      0.0      0.0     0.000000\n",
              "75%     982.000000    35.000000    31.275000  ...      0.0      0.0     1.000000\n",
              "max    1309.000000    80.000000   512.329200  ...      0.0      0.0     1.000000\n",
              "\n",
              "[8 rows x 28 columns]"
            ]
          },
          "metadata": {
            "tags": []
          },
          "execution_count": 66
        }
      ]
    },
    {
      "cell_type": "code",
      "metadata": {
        "id": "Al0o1NK59xTp"
      },
      "source": [
        "new_data.to_csv('data.csv',columns=['Age','Fare','Sex','sibsp','Parch','Pclass','Embarked','2urvied'])"
      ],
      "execution_count": null,
      "outputs": []
    },
    {
      "cell_type": "code",
      "metadata": {
        "id": "snnoYqru-baM"
      },
      "source": [
        "new_data=data.fillna(method='ffill')"
      ],
      "execution_count": null,
      "outputs": []
    },
    {
      "cell_type": "code",
      "metadata": {
        "id": "xIUwBwOz-n1J"
      },
      "source": [
        "new_data"
      ],
      "execution_count": null,
      "outputs": []
    },
    {
      "cell_type": "code",
      "metadata": {
        "id": "Za-TGdQB-rGv"
      },
      "source": [
        "data.fillna(0,inplace=True)"
      ],
      "execution_count": null,
      "outputs": []
    },
    {
      "cell_type": "code",
      "metadata": {
        "id": "4w6-mw6D_ImL",
        "colab": {
          "base_uri": "https://localhost:8080/",
          "height": 119
        },
        "outputId": "37c0322d-cc62-4575-a43c-a1058e8eaf06"
      },
      "source": [
        "data.columns"
      ],
      "execution_count": null,
      "outputs": [
        {
          "output_type": "execute_result",
          "data": {
            "text/plain": [
              "Index(['Passengerid', 'Age', 'Fare', 'Sex', 'sibsp', 'zero', 'zero.1',\n",
              "       'zero.2', 'zero.3', 'zero.4', 'zero.5', 'zero.6', 'Parch', 'zero.7',\n",
              "       'zero.8', 'zero.9', 'zero.10', 'zero.11', 'zero.12', 'zero.13',\n",
              "       'zero.14', 'Pclass', 'zero.15', 'zero.16', 'Embarked', 'zero.17',\n",
              "       'zero.18', '2urvived'],\n",
              "      dtype='object')"
            ]
          },
          "metadata": {
            "tags": []
          },
          "execution_count": 79
        }
      ]
    },
    {
      "cell_type": "code",
      "metadata": {
        "id": "EoXNmBVF_n30"
      },
      "source": [
        "csv_col=['Age','Fare','Sex','sibsp','Parch','Pclass','Embarked']"
      ],
      "execution_count": null,
      "outputs": []
    },
    {
      "cell_type": "code",
      "metadata": {
        "id": "l3qmHtbpAP4t"
      },
      "source": [
        "data.drop(['Passengerid','zero', 'zero.1',\n",
        "       'zero.2', 'zero.3', 'zero.4', 'zero.5', 'zero.6','zero.7',\n",
        "       'zero.8', 'zero.9', 'zero.10', 'zero.11', 'zero.12', 'zero.13',\n",
        "       'zero.14', 'Pclass', 'zero.15', 'zero.16', 'zero.17',\n",
        "       'zero.18'],axis=1,inplace=True)"
      ],
      "execution_count": null,
      "outputs": []
    },
    {
      "cell_type": "code",
      "metadata": {
        "id": "ahLNScr8C2L5"
      },
      "source": [
        "data1.drop(['Passengerid','zero', 'zero.1',\n",
        "       'zero.2', 'zero.3', 'zero.4', 'zero.5', 'zero.6','zero.7',\n",
        "       'zero.8', 'zero.9', 'zero.10', 'zero.11', 'zero.12', 'zero.13',\n",
        "       'zero.14', 'Pclass', 'zero.15', 'zero.16', 'zero.17',\n",
        "       'zero.18'],axis=1,inplace=True)"
      ],
      "execution_count": null,
      "outputs": []
    },
    {
      "cell_type": "code",
      "metadata": {
        "id": "9QXiEuApC34q"
      },
      "source": [
        "data1['Fare']=(data1['Fare']-data1['Fare'].min())/(data1['Fare'].max()-data1['Fare'].min())"
      ],
      "execution_count": null,
      "outputs": []
    },
    {
      "cell_type": "code",
      "metadata": {
        "id": "ipTuLHNJDQ2v",
        "colab": {
          "base_uri": "https://localhost:8080/",
          "height": 419
        },
        "outputId": "1872c9bb-0c08-4480-ba46-677ff5669eab"
      },
      "source": [
        "data1"
      ],
      "execution_count": null,
      "outputs": [
        {
          "output_type": "execute_result",
          "data": {
            "text/html": [
              "<div>\n",
              "<style scoped>\n",
              "    .dataframe tbody tr th:only-of-type {\n",
              "        vertical-align: middle;\n",
              "    }\n",
              "\n",
              "    .dataframe tbody tr th {\n",
              "        vertical-align: top;\n",
              "    }\n",
              "\n",
              "    .dataframe thead th {\n",
              "        text-align: right;\n",
              "    }\n",
              "</style>\n",
              "<table border=\"1\" class=\"dataframe\">\n",
              "  <thead>\n",
              "    <tr style=\"text-align: right;\">\n",
              "      <th></th>\n",
              "      <th>Age</th>\n",
              "      <th>Fare</th>\n",
              "      <th>Sex</th>\n",
              "      <th>sibsp</th>\n",
              "      <th>Parch</th>\n",
              "      <th>Embarked</th>\n",
              "      <th>2urvived</th>\n",
              "    </tr>\n",
              "  </thead>\n",
              "  <tbody>\n",
              "    <tr>\n",
              "      <th>0</th>\n",
              "      <td>0.273456</td>\n",
              "      <td>0.014151</td>\n",
              "      <td>0</td>\n",
              "      <td>1</td>\n",
              "      <td>0</td>\n",
              "      <td>1.0</td>\n",
              "      <td>0</td>\n",
              "    </tr>\n",
              "    <tr>\n",
              "      <th>1</th>\n",
              "      <td>0.473882</td>\n",
              "      <td>0.139136</td>\n",
              "      <td>1</td>\n",
              "      <td>1</td>\n",
              "      <td>0</td>\n",
              "      <td>0.0</td>\n",
              "      <td>1</td>\n",
              "    </tr>\n",
              "    <tr>\n",
              "      <th>2</th>\n",
              "      <td>0.323563</td>\n",
              "      <td>0.015469</td>\n",
              "      <td>1</td>\n",
              "      <td>0</td>\n",
              "      <td>0</td>\n",
              "      <td>1.0</td>\n",
              "      <td>1</td>\n",
              "    </tr>\n",
              "    <tr>\n",
              "      <th>3</th>\n",
              "      <td>0.436302</td>\n",
              "      <td>0.103644</td>\n",
              "      <td>1</td>\n",
              "      <td>1</td>\n",
              "      <td>0</td>\n",
              "      <td>1.0</td>\n",
              "      <td>1</td>\n",
              "    </tr>\n",
              "    <tr>\n",
              "      <th>4</th>\n",
              "      <td>0.436302</td>\n",
              "      <td>0.015713</td>\n",
              "      <td>0</td>\n",
              "      <td>0</td>\n",
              "      <td>0</td>\n",
              "      <td>1.0</td>\n",
              "      <td>0</td>\n",
              "    </tr>\n",
              "    <tr>\n",
              "      <th>...</th>\n",
              "      <td>...</td>\n",
              "      <td>...</td>\n",
              "      <td>...</td>\n",
              "      <td>...</td>\n",
              "      <td>...</td>\n",
              "      <td>...</td>\n",
              "      <td>...</td>\n",
              "    </tr>\n",
              "    <tr>\n",
              "      <th>1304</th>\n",
              "      <td>0.348616</td>\n",
              "      <td>0.015713</td>\n",
              "      <td>0</td>\n",
              "      <td>0</td>\n",
              "      <td>0</td>\n",
              "      <td>1.0</td>\n",
              "      <td>0</td>\n",
              "    </tr>\n",
              "    <tr>\n",
              "      <th>1305</th>\n",
              "      <td>0.486409</td>\n",
              "      <td>0.212559</td>\n",
              "      <td>1</td>\n",
              "      <td>0</td>\n",
              "      <td>0</td>\n",
              "      <td>0.0</td>\n",
              "      <td>0</td>\n",
              "    </tr>\n",
              "    <tr>\n",
              "      <th>1306</th>\n",
              "      <td>0.480145</td>\n",
              "      <td>0.014151</td>\n",
              "      <td>0</td>\n",
              "      <td>0</td>\n",
              "      <td>0</td>\n",
              "      <td>1.0</td>\n",
              "      <td>0</td>\n",
              "    </tr>\n",
              "    <tr>\n",
              "      <th>1307</th>\n",
              "      <td>0.348616</td>\n",
              "      <td>0.015713</td>\n",
              "      <td>0</td>\n",
              "      <td>0</td>\n",
              "      <td>0</td>\n",
              "      <td>1.0</td>\n",
              "      <td>0</td>\n",
              "    </tr>\n",
              "    <tr>\n",
              "      <th>1308</th>\n",
              "      <td>0.348616</td>\n",
              "      <td>0.043640</td>\n",
              "      <td>0</td>\n",
              "      <td>1</td>\n",
              "      <td>1</td>\n",
              "      <td>0.0</td>\n",
              "      <td>0</td>\n",
              "    </tr>\n",
              "  </tbody>\n",
              "</table>\n",
              "<p>1309 rows × 7 columns</p>\n",
              "</div>"
            ],
            "text/plain": [
              "           Age      Fare  Sex  sibsp  Parch  Embarked  2urvived\n",
              "0     0.273456  0.014151    0      1      0       1.0         0\n",
              "1     0.473882  0.139136    1      1      0       0.0         1\n",
              "2     0.323563  0.015469    1      0      0       1.0         1\n",
              "3     0.436302  0.103644    1      1      0       1.0         1\n",
              "4     0.436302  0.015713    0      0      0       1.0         0\n",
              "...        ...       ...  ...    ...    ...       ...       ...\n",
              "1304  0.348616  0.015713    0      0      0       1.0         0\n",
              "1305  0.486409  0.212559    1      0      0       0.0         0\n",
              "1306  0.480145  0.014151    0      0      0       1.0         0\n",
              "1307  0.348616  0.015713    0      0      0       1.0         0\n",
              "1308  0.348616  0.043640    0      1      1       0.0         0\n",
              "\n",
              "[1309 rows x 7 columns]"
            ]
          },
          "metadata": {
            "tags": []
          },
          "execution_count": 114
        }
      ]
    },
    {
      "cell_type": "code",
      "metadata": {
        "id": "p5OARrNOB-0f"
      },
      "source": [
        "labell=data1.drop('2urvived',axis=1,inplace=True)"
      ],
      "execution_count": null,
      "outputs": []
    },
    {
      "cell_type": "code",
      "metadata": {
        "id": "pEAPHHpID_Ds"
      },
      "source": [
        "label1=data['2urvived']"
      ],
      "execution_count": null,
      "outputs": []
    },
    {
      "cell_type": "code",
      "metadata": {
        "id": "nj8kRoqIEG5S"
      },
      "source": [
        "label1"
      ],
      "execution_count": null,
      "outputs": []
    },
    {
      "cell_type": "code",
      "metadata": {
        "id": "Y_LOxodPD0OQ",
        "colab": {
          "base_uri": "https://localhost:8080/",
          "height": 419
        },
        "outputId": "a73229b0-02d6-46a1-a892-20e558371320"
      },
      "source": [
        "data1"
      ],
      "execution_count": null,
      "outputs": [
        {
          "output_type": "execute_result",
          "data": {
            "text/html": [
              "<div>\n",
              "<style scoped>\n",
              "    .dataframe tbody tr th:only-of-type {\n",
              "        vertical-align: middle;\n",
              "    }\n",
              "\n",
              "    .dataframe tbody tr th {\n",
              "        vertical-align: top;\n",
              "    }\n",
              "\n",
              "    .dataframe thead th {\n",
              "        text-align: right;\n",
              "    }\n",
              "</style>\n",
              "<table border=\"1\" class=\"dataframe\">\n",
              "  <thead>\n",
              "    <tr style=\"text-align: right;\">\n",
              "      <th></th>\n",
              "      <th>Age</th>\n",
              "      <th>Fare</th>\n",
              "      <th>Sex</th>\n",
              "      <th>sibsp</th>\n",
              "      <th>Parch</th>\n",
              "      <th>Embarked</th>\n",
              "    </tr>\n",
              "  </thead>\n",
              "  <tbody>\n",
              "    <tr>\n",
              "      <th>0</th>\n",
              "      <td>0.273456</td>\n",
              "      <td>0.014151</td>\n",
              "      <td>0</td>\n",
              "      <td>1</td>\n",
              "      <td>0</td>\n",
              "      <td>1.0</td>\n",
              "    </tr>\n",
              "    <tr>\n",
              "      <th>1</th>\n",
              "      <td>0.473882</td>\n",
              "      <td>0.139136</td>\n",
              "      <td>1</td>\n",
              "      <td>1</td>\n",
              "      <td>0</td>\n",
              "      <td>0.0</td>\n",
              "    </tr>\n",
              "    <tr>\n",
              "      <th>2</th>\n",
              "      <td>0.323563</td>\n",
              "      <td>0.015469</td>\n",
              "      <td>1</td>\n",
              "      <td>0</td>\n",
              "      <td>0</td>\n",
              "      <td>1.0</td>\n",
              "    </tr>\n",
              "    <tr>\n",
              "      <th>3</th>\n",
              "      <td>0.436302</td>\n",
              "      <td>0.103644</td>\n",
              "      <td>1</td>\n",
              "      <td>1</td>\n",
              "      <td>0</td>\n",
              "      <td>1.0</td>\n",
              "    </tr>\n",
              "    <tr>\n",
              "      <th>4</th>\n",
              "      <td>0.436302</td>\n",
              "      <td>0.015713</td>\n",
              "      <td>0</td>\n",
              "      <td>0</td>\n",
              "      <td>0</td>\n",
              "      <td>1.0</td>\n",
              "    </tr>\n",
              "    <tr>\n",
              "      <th>...</th>\n",
              "      <td>...</td>\n",
              "      <td>...</td>\n",
              "      <td>...</td>\n",
              "      <td>...</td>\n",
              "      <td>...</td>\n",
              "      <td>...</td>\n",
              "    </tr>\n",
              "    <tr>\n",
              "      <th>1304</th>\n",
              "      <td>0.348616</td>\n",
              "      <td>0.015713</td>\n",
              "      <td>0</td>\n",
              "      <td>0</td>\n",
              "      <td>0</td>\n",
              "      <td>1.0</td>\n",
              "    </tr>\n",
              "    <tr>\n",
              "      <th>1305</th>\n",
              "      <td>0.486409</td>\n",
              "      <td>0.212559</td>\n",
              "      <td>1</td>\n",
              "      <td>0</td>\n",
              "      <td>0</td>\n",
              "      <td>0.0</td>\n",
              "    </tr>\n",
              "    <tr>\n",
              "      <th>1306</th>\n",
              "      <td>0.480145</td>\n",
              "      <td>0.014151</td>\n",
              "      <td>0</td>\n",
              "      <td>0</td>\n",
              "      <td>0</td>\n",
              "      <td>1.0</td>\n",
              "    </tr>\n",
              "    <tr>\n",
              "      <th>1307</th>\n",
              "      <td>0.348616</td>\n",
              "      <td>0.015713</td>\n",
              "      <td>0</td>\n",
              "      <td>0</td>\n",
              "      <td>0</td>\n",
              "      <td>1.0</td>\n",
              "    </tr>\n",
              "    <tr>\n",
              "      <th>1308</th>\n",
              "      <td>0.348616</td>\n",
              "      <td>0.043640</td>\n",
              "      <td>0</td>\n",
              "      <td>1</td>\n",
              "      <td>1</td>\n",
              "      <td>0.0</td>\n",
              "    </tr>\n",
              "  </tbody>\n",
              "</table>\n",
              "<p>1309 rows × 6 columns</p>\n",
              "</div>"
            ],
            "text/plain": [
              "           Age      Fare  Sex  sibsp  Parch  Embarked\n",
              "0     0.273456  0.014151    0      1      0       1.0\n",
              "1     0.473882  0.139136    1      1      0       0.0\n",
              "2     0.323563  0.015469    1      0      0       1.0\n",
              "3     0.436302  0.103644    1      1      0       1.0\n",
              "4     0.436302  0.015713    0      0      0       1.0\n",
              "...        ...       ...  ...    ...    ...       ...\n",
              "1304  0.348616  0.015713    0      0      0       1.0\n",
              "1305  0.486409  0.212559    1      0      0       0.0\n",
              "1306  0.480145  0.014151    0      0      0       1.0\n",
              "1307  0.348616  0.015713    0      0      0       1.0\n",
              "1308  0.348616  0.043640    0      1      1       0.0\n",
              "\n",
              "[1309 rows x 6 columns]"
            ]
          },
          "metadata": {
            "tags": []
          },
          "execution_count": 116
        }
      ]
    },
    {
      "cell_type": "code",
      "metadata": {
        "id": "0iaL6s0sER6u",
        "colab": {
          "base_uri": "https://localhost:8080/",
          "height": 34
        },
        "outputId": "680fa986-9a74-4466-f309-3e2cf0b8e758"
      },
      "source": [
        "data1.shape"
      ],
      "execution_count": null,
      "outputs": [
        {
          "output_type": "execute_result",
          "data": {
            "text/plain": [
              "(1309, 6)"
            ]
          },
          "metadata": {
            "tags": []
          },
          "execution_count": 124
        }
      ]
    },
    {
      "cell_type": "code",
      "metadata": {
        "id": "Se-CH8-OEUzV",
        "colab": {
          "base_uri": "https://localhost:8080/",
          "height": 34
        },
        "outputId": "acf8cceb-dc4b-4a0f-c91d-ac5d395a431d"
      },
      "source": [
        "label1.shape"
      ],
      "execution_count": null,
      "outputs": [
        {
          "output_type": "execute_result",
          "data": {
            "text/plain": [
              "(1309,)"
            ]
          },
          "metadata": {
            "tags": []
          },
          "execution_count": 125
        }
      ]
    },
    {
      "cell_type": "code",
      "metadata": {
        "id": "U3TlDWD6FEei"
      },
      "source": [
        "data1=data1.shuffle(2000)"
      ],
      "execution_count": null,
      "outputs": []
    },
    {
      "cell_type": "code",
      "metadata": {
        "id": "XWZvRhOrD2nU"
      },
      "source": [
        "from keras import layers,models"
      ],
      "execution_count": null,
      "outputs": []
    },
    {
      "cell_type": "code",
      "metadata": {
        "id": "QhMHq1lmE4B7"
      },
      "source": [
        "data1=tf.convert_to_tensor(data1)"
      ],
      "execution_count": null,
      "outputs": []
    },
    {
      "cell_type": "code",
      "metadata": {
        "id": "AS_ej_VgFbwJ"
      },
      "source": [
        "label1=tf.convert_to_tensor(label1)"
      ],
      "execution_count": null,
      "outputs": []
    },
    {
      "cell_type": "code",
      "metadata": {
        "id": "Jh-F-Uv_Farl",
        "colab": {
          "base_uri": "https://localhost:8080/",
          "height": 255
        },
        "outputId": "8c0ebe34-502c-4fdf-83e6-6d60667effc4"
      },
      "source": [
        "data1"
      ],
      "execution_count": null,
      "outputs": [
        {
          "output_type": "execute_result",
          "data": {
            "text/plain": [
              "<tf.Tensor: shape=(1309, 6), dtype=float64, numpy=\n",
              "array([[0.27345609, 0.01415106, 0.        , 1.        , 0.        ,\n",
              "        1.        ],\n",
              "       [0.473882  , 0.13913574, 1.        , 1.        , 0.        ,\n",
              "        0.        ],\n",
              "       [0.32356257, 0.01546857, 1.        , 0.        , 0.        ,\n",
              "        1.        ],\n",
              "       ...,\n",
              "       [0.48014531, 0.01415106, 0.        , 0.        , 0.        ,\n",
              "        1.        ],\n",
              "       [0.34861581, 0.01571255, 0.        , 0.        , 0.        ,\n",
              "        1.        ],\n",
              "       [0.34861581, 0.0436405 , 0.        , 1.        , 1.        ,\n",
              "        0.        ]])>"
            ]
          },
          "metadata": {
            "tags": []
          },
          "execution_count": 132
        }
      ]
    },
    {
      "cell_type": "code",
      "metadata": {
        "id": "9xhp_IdYFiIB",
        "colab": {
          "base_uri": "https://localhost:8080/",
          "height": 34
        },
        "outputId": "dfb19fa5-ec5a-4ac7-fa0a-4978ee7ce418"
      },
      "source": [
        "label1"
      ],
      "execution_count": null,
      "outputs": [
        {
          "output_type": "execute_result",
          "data": {
            "text/plain": [
              "<tf.Tensor: shape=(1309,), dtype=int64, numpy=array([0, 1, 1, ..., 0, 0, 0])>"
            ]
          },
          "metadata": {
            "tags": []
          },
          "execution_count": 134
        }
      ]
    },
    {
      "cell_type": "code",
      "metadata": {
        "id": "AGay1jcOGsqv"
      },
      "source": [
        "model1 = tf.keras.Sequential([\n",
        "  tf.keras.layers.Dense(128, activation='relu',input_shape=(6,)),\n",
        "  tf.keras.layers.Dense(128, activation='relu'),\n",
        "  tf.keras.layers.Dense(1),\n",
        "])"
      ],
      "execution_count": null,
      "outputs": []
    },
    {
      "cell_type": "code",
      "metadata": {
        "id": "lcs-wbDBE0bT",
        "colab": {
          "base_uri": "https://localhost:8080/",
          "height": 255
        },
        "outputId": "60c54fc0-8656-4260-a609-212fed5395a0"
      },
      "source": [
        "model1.summary()"
      ],
      "execution_count": null,
      "outputs": [
        {
          "output_type": "stream",
          "text": [
            "Model: \"sequential_5\"\n",
            "_________________________________________________________________\n",
            "Layer (type)                 Output Shape              Param #   \n",
            "=================================================================\n",
            "dense_10 (Dense)             (None, 128)               896       \n",
            "_________________________________________________________________\n",
            "dense_11 (Dense)             (None, 128)               16512     \n",
            "_________________________________________________________________\n",
            "dense_12 (Dense)             (None, 1)                 129       \n",
            "=================================================================\n",
            "Total params: 17,537\n",
            "Trainable params: 17,537\n",
            "Non-trainable params: 0\n",
            "_________________________________________________________________\n"
          ],
          "name": "stdout"
        }
      ]
    },
    {
      "cell_type": "code",
      "metadata": {
        "id": "0_i0dIgUHtB5"
      },
      "source": [
        "model1.compile(\n",
        "    loss=tf.keras.losses.BinaryCrossentropy(from_logits=True),\n",
        "    optimizer='adam',\n",
        "    metrics=['accuracy'])\n"
      ],
      "execution_count": null,
      "outputs": []
    },
    {
      "cell_type": "code",
      "metadata": {
        "id": "G91CrQwpHQ0B",
        "colab": {
          "base_uri": "https://localhost:8080/",
          "height": 1000
        },
        "outputId": "8bb65fef-68d5-4b7f-eed1-7f9ad8190f8b"
      },
      "source": [
        "history=model1.fit(data1,label1,epochs=100,batch_size=32)"
      ],
      "execution_count": null,
      "outputs": [
        {
          "output_type": "stream",
          "text": [
            "Epoch 1/100\n",
            "41/41 [==============================] - 0s 3ms/step - loss: 0.5750 - accuracy: 0.7387\n",
            "Epoch 2/100\n",
            "41/41 [==============================] - 0s 3ms/step - loss: 0.5749 - accuracy: 0.7387\n",
            "Epoch 3/100\n",
            "41/41 [==============================] - 0s 4ms/step - loss: 0.5746 - accuracy: 0.7387\n",
            "Epoch 4/100\n",
            "41/41 [==============================] - 0s 3ms/step - loss: 0.5748 - accuracy: 0.7387\n",
            "Epoch 5/100\n",
            "41/41 [==============================] - 0s 3ms/step - loss: 0.5746 - accuracy: 0.7387\n",
            "Epoch 6/100\n",
            "41/41 [==============================] - 0s 3ms/step - loss: 0.5746 - accuracy: 0.7387\n",
            "Epoch 7/100\n",
            "41/41 [==============================] - 0s 3ms/step - loss: 0.5747 - accuracy: 0.7387\n",
            "Epoch 8/100\n",
            "41/41 [==============================] - 0s 3ms/step - loss: 0.5745 - accuracy: 0.7387\n",
            "Epoch 9/100\n",
            "41/41 [==============================] - 0s 3ms/step - loss: 0.5745 - accuracy: 0.7387\n",
            "Epoch 10/100\n",
            "41/41 [==============================] - 0s 3ms/step - loss: 0.5747 - accuracy: 0.7387\n",
            "Epoch 11/100\n",
            "41/41 [==============================] - 0s 3ms/step - loss: 0.5746 - accuracy: 0.7387\n",
            "Epoch 12/100\n",
            "41/41 [==============================] - 0s 4ms/step - loss: 0.5747 - accuracy: 0.7387\n",
            "Epoch 13/100\n",
            "41/41 [==============================] - 0s 3ms/step - loss: 0.5746 - accuracy: 0.7387\n",
            "Epoch 14/100\n",
            "41/41 [==============================] - 0s 3ms/step - loss: 0.5755 - accuracy: 0.7387\n",
            "Epoch 15/100\n",
            "41/41 [==============================] - 0s 3ms/step - loss: 0.5745 - accuracy: 0.7387\n",
            "Epoch 16/100\n",
            "41/41 [==============================] - 0s 3ms/step - loss: 0.5746 - accuracy: 0.7387\n",
            "Epoch 17/100\n",
            "41/41 [==============================] - 0s 3ms/step - loss: 0.5745 - accuracy: 0.7387\n",
            "Epoch 18/100\n",
            "41/41 [==============================] - 0s 3ms/step - loss: 0.5745 - accuracy: 0.7387\n",
            "Epoch 19/100\n",
            "41/41 [==============================] - 0s 3ms/step - loss: 0.5747 - accuracy: 0.7387\n",
            "Epoch 20/100\n",
            "41/41 [==============================] - 0s 3ms/step - loss: 0.5745 - accuracy: 0.7387\n",
            "Epoch 21/100\n",
            "41/41 [==============================] - 0s 3ms/step - loss: 0.5745 - accuracy: 0.7387\n",
            "Epoch 22/100\n",
            "41/41 [==============================] - 0s 3ms/step - loss: 0.5747 - accuracy: 0.7387\n",
            "Epoch 23/100\n",
            "41/41 [==============================] - 0s 3ms/step - loss: 0.5745 - accuracy: 0.7387\n",
            "Epoch 24/100\n",
            "41/41 [==============================] - 0s 3ms/step - loss: 0.5748 - accuracy: 0.7387\n",
            "Epoch 25/100\n",
            "41/41 [==============================] - 0s 3ms/step - loss: 0.5748 - accuracy: 0.7387\n",
            "Epoch 26/100\n",
            "41/41 [==============================] - 0s 3ms/step - loss: 0.5751 - accuracy: 0.7387\n",
            "Epoch 27/100\n",
            "41/41 [==============================] - 0s 3ms/step - loss: 0.5751 - accuracy: 0.7387\n",
            "Epoch 28/100\n",
            "41/41 [==============================] - 0s 3ms/step - loss: 0.5749 - accuracy: 0.7387\n",
            "Epoch 29/100\n",
            "41/41 [==============================] - 0s 3ms/step - loss: 0.5750 - accuracy: 0.7387\n",
            "Epoch 30/100\n",
            "41/41 [==============================] - 0s 4ms/step - loss: 0.5748 - accuracy: 0.7387\n",
            "Epoch 31/100\n",
            "41/41 [==============================] - 0s 3ms/step - loss: 0.5749 - accuracy: 0.7387\n",
            "Epoch 32/100\n",
            "41/41 [==============================] - 0s 3ms/step - loss: 0.5750 - accuracy: 0.7387\n",
            "Epoch 33/100\n",
            "41/41 [==============================] - 0s 4ms/step - loss: 0.5748 - accuracy: 0.7387\n",
            "Epoch 34/100\n",
            "41/41 [==============================] - 0s 3ms/step - loss: 0.5748 - accuracy: 0.7387\n",
            "Epoch 35/100\n",
            "41/41 [==============================] - 0s 3ms/step - loss: 0.5745 - accuracy: 0.7387\n",
            "Epoch 36/100\n",
            "41/41 [==============================] - 0s 3ms/step - loss: 0.5746 - accuracy: 0.7387\n",
            "Epoch 37/100\n",
            "41/41 [==============================] - 0s 3ms/step - loss: 0.5746 - accuracy: 0.7387\n",
            "Epoch 38/100\n",
            "41/41 [==============================] - 0s 3ms/step - loss: 0.5748 - accuracy: 0.7387\n",
            "Epoch 39/100\n",
            "41/41 [==============================] - 0s 3ms/step - loss: 0.5752 - accuracy: 0.7387\n",
            "Epoch 40/100\n",
            "41/41 [==============================] - 0s 4ms/step - loss: 0.5746 - accuracy: 0.7387\n",
            "Epoch 41/100\n",
            "41/41 [==============================] - 0s 3ms/step - loss: 0.5749 - accuracy: 0.7387\n",
            "Epoch 42/100\n",
            "41/41 [==============================] - 0s 3ms/step - loss: 0.5746 - accuracy: 0.7387\n",
            "Epoch 43/100\n",
            "41/41 [==============================] - 0s 3ms/step - loss: 0.5751 - accuracy: 0.7387\n",
            "Epoch 44/100\n",
            "41/41 [==============================] - 0s 4ms/step - loss: 0.5745 - accuracy: 0.7387\n",
            "Epoch 45/100\n",
            "41/41 [==============================] - 0s 3ms/step - loss: 0.5748 - accuracy: 0.7387\n",
            "Epoch 46/100\n",
            "41/41 [==============================] - 0s 3ms/step - loss: 0.5746 - accuracy: 0.7387\n",
            "Epoch 47/100\n",
            "41/41 [==============================] - 0s 4ms/step - loss: 0.5747 - accuracy: 0.7387\n",
            "Epoch 48/100\n",
            "41/41 [==============================] - 0s 3ms/step - loss: 0.5745 - accuracy: 0.7387\n",
            "Epoch 49/100\n",
            "41/41 [==============================] - 0s 3ms/step - loss: 0.5748 - accuracy: 0.7387\n",
            "Epoch 50/100\n",
            "41/41 [==============================] - 0s 3ms/step - loss: 0.5745 - accuracy: 0.7387\n",
            "Epoch 51/100\n",
            "41/41 [==============================] - 0s 4ms/step - loss: 0.5747 - accuracy: 0.7387\n",
            "Epoch 52/100\n",
            "41/41 [==============================] - 0s 3ms/step - loss: 0.5747 - accuracy: 0.7387\n",
            "Epoch 53/100\n",
            "41/41 [==============================] - 0s 3ms/step - loss: 0.5747 - accuracy: 0.7387\n",
            "Epoch 54/100\n",
            "41/41 [==============================] - 0s 4ms/step - loss: 0.5751 - accuracy: 0.7387\n",
            "Epoch 55/100\n",
            "41/41 [==============================] - 0s 3ms/step - loss: 0.5750 - accuracy: 0.7387\n",
            "Epoch 56/100\n",
            "41/41 [==============================] - 0s 3ms/step - loss: 0.5747 - accuracy: 0.7387\n",
            "Epoch 57/100\n",
            "41/41 [==============================] - 0s 3ms/step - loss: 0.5745 - accuracy: 0.7387\n",
            "Epoch 58/100\n",
            "41/41 [==============================] - 0s 4ms/step - loss: 0.5746 - accuracy: 0.7387\n",
            "Epoch 59/100\n",
            "41/41 [==============================] - 0s 4ms/step - loss: 0.5748 - accuracy: 0.7387\n",
            "Epoch 60/100\n",
            "41/41 [==============================] - 0s 4ms/step - loss: 0.5762 - accuracy: 0.7387\n",
            "Epoch 61/100\n",
            "41/41 [==============================] - 0s 3ms/step - loss: 0.5755 - accuracy: 0.7387\n",
            "Epoch 62/100\n",
            "41/41 [==============================] - 0s 3ms/step - loss: 0.5748 - accuracy: 0.7387\n",
            "Epoch 63/100\n",
            "41/41 [==============================] - 0s 3ms/step - loss: 0.5745 - accuracy: 0.7387\n",
            "Epoch 64/100\n",
            "41/41 [==============================] - 0s 4ms/step - loss: 0.5746 - accuracy: 0.7387\n",
            "Epoch 65/100\n",
            "41/41 [==============================] - 0s 3ms/step - loss: 0.5747 - accuracy: 0.7387\n",
            "Epoch 66/100\n",
            "41/41 [==============================] - 0s 3ms/step - loss: 0.5746 - accuracy: 0.7387\n",
            "Epoch 67/100\n",
            "41/41 [==============================] - 0s 3ms/step - loss: 0.5746 - accuracy: 0.7387\n",
            "Epoch 68/100\n",
            "41/41 [==============================] - 0s 3ms/step - loss: 0.5747 - accuracy: 0.7387\n",
            "Epoch 69/100\n",
            "41/41 [==============================] - 0s 3ms/step - loss: 0.5745 - accuracy: 0.7387\n",
            "Epoch 70/100\n",
            "41/41 [==============================] - 0s 4ms/step - loss: 0.5749 - accuracy: 0.7387\n",
            "Epoch 71/100\n",
            "41/41 [==============================] - 0s 3ms/step - loss: 0.5745 - accuracy: 0.7387\n",
            "Epoch 72/100\n",
            "41/41 [==============================] - 0s 3ms/step - loss: 0.5746 - accuracy: 0.7387\n",
            "Epoch 73/100\n",
            "41/41 [==============================] - 0s 3ms/step - loss: 0.5747 - accuracy: 0.7387\n",
            "Epoch 74/100\n",
            "41/41 [==============================] - 0s 4ms/step - loss: 0.5748 - accuracy: 0.7387\n",
            "Epoch 75/100\n",
            "41/41 [==============================] - 0s 3ms/step - loss: 0.5756 - accuracy: 0.7387\n",
            "Epoch 76/100\n",
            "41/41 [==============================] - 0s 3ms/step - loss: 0.5748 - accuracy: 0.7387\n",
            "Epoch 77/100\n",
            "41/41 [==============================] - 0s 3ms/step - loss: 0.5746 - accuracy: 0.7387\n",
            "Epoch 78/100\n",
            "41/41 [==============================] - 0s 4ms/step - loss: 0.5745 - accuracy: 0.7387\n",
            "Epoch 79/100\n",
            "41/41 [==============================] - 0s 3ms/step - loss: 0.5745 - accuracy: 0.7387\n",
            "Epoch 80/100\n",
            "41/41 [==============================] - 0s 4ms/step - loss: 0.5745 - accuracy: 0.7387\n",
            "Epoch 81/100\n",
            "41/41 [==============================] - 0s 3ms/step - loss: 0.5747 - accuracy: 0.7387\n",
            "Epoch 82/100\n",
            "41/41 [==============================] - 0s 3ms/step - loss: 0.5746 - accuracy: 0.7387\n",
            "Epoch 83/100\n",
            "41/41 [==============================] - 0s 3ms/step - loss: 0.5747 - accuracy: 0.7387\n",
            "Epoch 84/100\n",
            "41/41 [==============================] - 0s 3ms/step - loss: 0.5745 - accuracy: 0.7387\n",
            "Epoch 85/100\n",
            "41/41 [==============================] - 0s 4ms/step - loss: 0.5747 - accuracy: 0.7387\n",
            "Epoch 86/100\n",
            "41/41 [==============================] - 0s 3ms/step - loss: 0.5753 - accuracy: 0.7387\n",
            "Epoch 87/100\n",
            "41/41 [==============================] - 0s 3ms/step - loss: 0.5747 - accuracy: 0.7387\n",
            "Epoch 88/100\n",
            "41/41 [==============================] - 0s 4ms/step - loss: 0.5747 - accuracy: 0.7387\n",
            "Epoch 89/100\n",
            "41/41 [==============================] - 0s 3ms/step - loss: 0.5748 - accuracy: 0.7387\n",
            "Epoch 90/100\n",
            "41/41 [==============================] - 0s 3ms/step - loss: 0.5751 - accuracy: 0.7387\n",
            "Epoch 91/100\n",
            "41/41 [==============================] - 0s 3ms/step - loss: 0.5750 - accuracy: 0.7387\n",
            "Epoch 92/100\n",
            "41/41 [==============================] - 0s 3ms/step - loss: 0.5748 - accuracy: 0.7387\n",
            "Epoch 93/100\n",
            "41/41 [==============================] - 0s 3ms/step - loss: 0.5747 - accuracy: 0.7387\n",
            "Epoch 94/100\n",
            "41/41 [==============================] - 0s 3ms/step - loss: 0.5746 - accuracy: 0.7387\n",
            "Epoch 95/100\n",
            "41/41 [==============================] - 0s 4ms/step - loss: 0.5745 - accuracy: 0.7387\n",
            "Epoch 96/100\n",
            "41/41 [==============================] - 0s 3ms/step - loss: 0.5750 - accuracy: 0.7387\n",
            "Epoch 97/100\n",
            "41/41 [==============================] - 0s 3ms/step - loss: 0.5746 - accuracy: 0.7387\n",
            "Epoch 98/100\n",
            "41/41 [==============================] - 0s 3ms/step - loss: 0.5747 - accuracy: 0.7387\n",
            "Epoch 99/100\n",
            "41/41 [==============================] - 0s 3ms/step - loss: 0.5749 - accuracy: 0.7387\n",
            "Epoch 100/100\n",
            "41/41 [==============================] - 0s 3ms/step - loss: 0.5748 - accuracy: 0.7387\n"
          ],
          "name": "stdout"
        }
      ]
    },
    {
      "cell_type": "code",
      "metadata": {
        "id": "6bfTh6tnHry9",
        "colab": {
          "base_uri": "https://localhost:8080/",
          "height": 281
        },
        "outputId": "662595eb-156c-4c42-b0ae-af3883143cfa"
      },
      "source": [
        "import matplotlib.pyplot as plt\n",
        "\n",
        "loss = history.history['loss']\n",
        "#val_loss = history.history['val_loss']\n",
        "\n",
        "epochs = range(len(loss))\n",
        "\n",
        "plt.figure()\n",
        "\n",
        "plt.plot(epochs, loss, 'b', label='Training loss')\n",
        "#plt.plot(epochs, val_loss, 'b', label='Validation loss')\n",
        "plt.title('Training and validation loss')\n",
        "plt.legend()\n",
        "\n",
        "plt.show()"
      ],
      "execution_count": null,
      "outputs": [
        {
          "output_type": "display_data",
          "data": {
            "image/png": "[encoded data removed]",
            "text/plain": [
              "<Figure size 432x288 with 1 Axes>"
            ]
          },
          "metadata": {
            "tags": [],
            "needs_background": "light"
          }
        }
      ]
    },
    {
      "cell_type": "code",
      "metadata": {
        "id": "sYwa5sXEIoXe"
      },
      "source": [
        ""
      ],
      "execution_count": null,
      "outputs": []
    }
  ]
}