{
  "nbformat": 4,
  "nbformat_minor": 0,
  "metadata": {
    "colab": {
      "name": "Mnist(Jax).ipynb",
      "provenance": [],
      "collapsed_sections": []
    },
    "kernelspec": {
      "name": "python3",
      "display_name": "Python 3"
    },
    "language_info": {
      "name": "python"
    }
  },
  "cells": [
    {
      "cell_type": "code",
      "metadata": {
        "id": "1uIv-shuWT3M"
      },
      "source": [
        "import datasets\n"
      ],
      "execution_count": null,
      "outputs": []
    },
    {
      "cell_type": "code",
      "metadata": {
        "id": "r5jXlhkgWlbF"
      },
      "source": [
        "import time\n",
        "\n",
        "import numpy.random as npr\n",
        "\n",
        "from jax import jit, grad\n",
        "from jax.scipy.special import logsumexp\n",
        "import jax.numpy as jnp"
      ],
      "execution_count": null,
      "outputs": []
    },
    {
      "cell_type": "code",
      "metadata": {
        "id": "Q8GoixZ-W74D"
      },
      "source": [
        "def init_random_params(scale,layer_sizes,rng=npr.RandomState(0)):\n",
        "  return [(scale*rng.randn(m,n),scale*rng.randn(n)) for m,n in zip(layer_sizes[:-1],layer_sizes[1:])]"
      ],
      "execution_count": null,
      "outputs": []
    },
    {
      "cell_type": "code",
      "metadata": {
        "id": "ndG0ZrrRXQZw"
      },
      "source": [
        "def predict(params, inputs):\n",
        "  activations = inputs\n",
        "  for w, b in params[:-1]:\n",
        "    outputs = jnp.dot(activations, w) + b\n",
        "    activations = jnp.tanh(outputs)\n",
        "\n",
        "  final_w, final_b = params[-1]\n",
        "  logits = jnp.dot(activations, final_w) + final_b\n",
        "  return logits - logsumexp(logits, axis=1, keepdims=True)"
      ],
      "execution_count": null,
      "outputs": []
    },
    {
      "cell_type": "code",
      "metadata": {
        "id": "jvsfq6q8a6it"
      },
      "source": [
        "def loss(params,batch):\n",
        "  inputs,targets=batch\n",
        "  preds=predict(params,inputs)\n",
        "  return -jnp.mean(jnp.sum(preds*targets,axis=1))"
      ],
      "execution_count": null,
      "outputs": []
    },
    {
      "cell_type": "code",
      "metadata": {
        "id": "UAgmeoH2KLPo"
      },
      "source": [
        "def accuracy(params,batch):\n",
        "  inputs,targets=batch\n",
        "  target_class=jnp.argmax(targets,axis=1)\n",
        "  predicted_class=jnp.argmax(predict(params,inputs),axis=1)\n",
        "  return jnp.mean(predicted_class==target_class)\n"
      ],
      "execution_count": null,
      "outputs": []
    },
    {
      "cell_type": "code",
      "metadata": {
        "colab": {
          "base_uri": "https://localhost:8080/"
        },
        "id": "ggKjunIzK0mP",
        "outputId": "41cda2d3-1888-4b4f-cded-f14429d24c7a"
      },
      "source": [
        "if __name__ == \"__main__\":\n",
        "  layer_sizes = [784, 1024, 1024, 10]\n",
        "  param_scale = 0.1\n",
        "  step_size = 0.001\n",
        "  num_epochs = 10\n",
        "  batch_size = 128\n",
        "\n",
        "  train_images, train_labels, test_images, test_labels = datasets.mnist()\n",
        "  num_train = train_images.shape[0]\n",
        "  num_complete_batches, leftover = divmod(num_train, batch_size)\n",
        "  num_batches = num_complete_batches + bool(leftover)"
      ],
      "execution_count": null,
      "outputs": [
        {
          "output_type": "stream",
          "text": [
            "downloaded https://storage.googleapis.com/cvdf-datasets/mnist/train-images-idx3-ubyte.gz to /tmp/jax_example_data/\n",
            "downloaded https://storage.googleapis.com/cvdf-datasets/mnist/train-labels-idx1-ubyte.gz to /tmp/jax_example_data/\n",
            "downloaded https://storage.googleapis.com/cvdf-datasets/mnist/t10k-images-idx3-ubyte.gz to /tmp/jax_example_data/\n",
            "downloaded https://storage.googleapis.com/cvdf-datasets/mnist/t10k-labels-idx1-ubyte.gz to /tmp/jax_example_data/\n"
          ],
          "name": "stdout"
        }
      ]
    },
    {
      "cell_type": "code",
      "metadata": {
        "id": "hEEhI7xCK2B8"
      },
      "source": [
        "list1=[]\n",
        "def data_stream():\n",
        "  rng=npr.RandomState(0)\n",
        "  while True:\n",
        "    perm=rng.permutation(num_train)\n",
        "    for i in range(num_batches):\n",
        "      batch_idx=perm[i*batch_size:(i+1)*batch_size]\n",
        "      yield train_images[batch_idx],train_labels[batch_idx]\n",
        "batches=data_stream()"
      ],
      "execution_count": null,
      "outputs": []
    },
    {
      "cell_type": "code",
      "metadata": {
        "colab": {
          "base_uri": "https://localhost:8080/"
        },
        "id": "3pnMYvOYcF2a",
        "outputId": "7da3428e-bdcb-49a7-ca6d-63c16427b334"
      },
      "source": [
        "batches"
      ],
      "execution_count": null,
      "outputs": [
        {
          "output_type": "execute_result",
          "data": {
            "text/plain": [
              "<generator object data_stream at 0x7f52d78d46d0>"
            ]
          },
          "metadata": {
            "tags": []
          },
          "execution_count": 46
        }
      ]
    },
    {
      "cell_type": "code",
      "metadata": {
        "colab": {
          "base_uri": "https://localhost:8080/"
        },
        "id": "dVVmcp4mbrqp",
        "outputId": "25e1938b-b1d5-4537-93e3-94dfeca5b682"
      },
      "source": [
        "num_batches"
      ],
      "execution_count": null,
      "outputs": [
        {
          "output_type": "execute_result",
          "data": {
            "text/plain": [
              "469"
            ]
          },
          "metadata": {
            "tags": []
          },
          "execution_count": 40
        }
      ]
    },
    {
      "cell_type": "code",
      "metadata": {
        "colab": {
          "base_uri": "https://localhost:8080/"
        },
        "id": "06d2z9LYb8Wb",
        "outputId": "c6d34879-b74f-4df4-fec5-9deb6f934439"
      },
      "source": [
        "list1"
      ],
      "execution_count": null,
      "outputs": [
        {
          "output_type": "execute_result",
          "data": {
            "text/plain": [
              "[]"
            ]
          },
          "metadata": {
            "tags": []
          },
          "execution_count": 44
        }
      ]
    },
    {
      "cell_type": "code",
      "metadata": {
        "id": "wimhiR2BL79R"
      },
      "source": [
        "@jit\n",
        "def update(params,batch):\n",
        "  grads = grad(loss)(params, batch)\n",
        "  return [(w-step_size*dw,b-step_size*db) for (w,b),(dw,db) in zip(params,grads)]"
      ],
      "execution_count": null,
      "outputs": []
    },
    {
      "cell_type": "code",
      "metadata": {
        "colab": {
          "base_uri": "https://localhost:8080/"
        },
        "id": "jkT6jjdZMqWY",
        "outputId": "50990f40-34cc-418d-be50-4476db714682"
      },
      "source": [
        "  params = init_random_params(param_scale, layer_sizes)\n",
        "  for epoch in range(num_epochs):\n",
        "    start_time = time.time()\n",
        "    for _ in range(num_batches):\n",
        "      params = update(params, next(batches))\n",
        "    epoch_time = time.time() - start_time\n",
        "    train_acc = accuracy(params, (train_images, train_labels))\n",
        "    test_acc = accuracy(params, (test_images, test_labels))\n",
        "    print(\"Epoch {} in {:0.2f} sec\".format(epoch, epoch_time))\n",
        "    print(\"Training set accuracy {}\".format(train_acc))\n",
        "    print(\"Test set accuracy {}\".format(test_acc))"
      ],
      "execution_count": null,
      "outputs": [
        {
          "output_type": "stream",
          "text": [
            "Epoch 0 in 9.01 sec\n",
            "Training set accuracy 0.7352833151817322\n",
            "Test set accuracy 0.739300012588501\n",
            "Epoch 1 in 8.93 sec\n",
            "Training set accuracy 0.814716637134552\n",
            "Test set accuracy 0.8192999958992004\n",
            "Epoch 2 in 8.95 sec\n",
            "Training set accuracy 0.8458666801452637\n",
            "Test set accuracy 0.848800003528595\n",
            "Epoch 3 in 8.94 sec\n",
            "Training set accuracy 0.8645166754722595\n",
            "Test set accuracy 0.8659999966621399\n",
            "Epoch 4 in 8.91 sec\n",
            "Training set accuracy 0.8768666386604309\n",
            "Test set accuracy 0.8772000074386597\n",
            "Epoch 5 in 8.90 sec\n",
            "Training set accuracy 0.8859000205993652\n",
            "Test set accuracy 0.8862000107765198\n",
            "Epoch 6 in 8.89 sec\n",
            "Training set accuracy 0.8929833173751831\n",
            "Test set accuracy 0.8919000029563904\n",
            "Epoch 7 in 8.92 sec\n",
            "Training set accuracy 0.8984333276748657\n",
            "Test set accuracy 0.8959000110626221\n",
            "Epoch 8 in 8.88 sec\n",
            "Training set accuracy 0.9036499857902527\n",
            "Test set accuracy 0.9010999798774719\n",
            "Epoch 9 in 8.96 sec\n",
            "Training set accuracy 0.9073333144187927\n",
            "Test set accuracy 0.9043999910354614\n"
          ],
          "name": "stdout"
        }
      ]
    },
    {
      "cell_type": "code",
      "metadata": {
        "id": "yFTds7iyNE2l"
      },
      "source": [
        ""
      ],
      "execution_count": null,
      "outputs": []
    }
  ]
}