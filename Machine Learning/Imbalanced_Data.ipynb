{
  "nbformat": 4,
  "nbformat_minor": 0,
  "metadata": {
    "colab": {
      "name": "Imbalanced Data.ipynb",
      "provenance": [],
      "collapsed_sections": []
    },
    "kernelspec": {
      "name": "python3",
      "display_name": "Python 3"
    },
    "accelerator": "GPU"
  },
  "cells": [
    {
      "cell_type": "code",
      "metadata": {
        "id": "sya2v8899aqc"
      },
      "source": [
        "import tensorflow as tf\n",
        "from tensorflow import keras\n",
        "import os\n",
        "import tempfile\n",
        "import matplotlib as mpl\n",
        "import matplotlib.pyplot as plt\n",
        "import numpy as np\n",
        "import pandas as pd\n",
        "import seaborn as sns\n",
        "import sklearn\n",
        "from sklearn.metrics import confusion_matrix\n",
        "from sklearn.model_selection import train_test_split\n",
        "from sklearn.preprocessing import StandardScaler"
      ],
      "execution_count": null,
      "outputs": []
    },
    {
      "cell_type": "code",
      "metadata": {
        "id": "HjONnNet93Xj"
      },
      "source": [
        "mpl.rcParams['figure.figsize'] = (12, 10)\n",
        "colors = plt.rcParams['axes.prop_cycle'].by_key()['color']"
      ],
      "execution_count": null,
      "outputs": []
    },
    {
      "cell_type": "code",
      "metadata": {
        "id": "ywvXs0j699Cv",
        "colab": {
          "base_uri": "https://localhost:8080/",
          "height": 224
        },
        "outputId": "85bd4053-df70-4c66-afc5-c6e574ef3633"
      },
      "source": [
        "file=tf.keras.utils\n",
        "raw_df=pd.read_csv('https://storage.googleapis.com/download.tensorflow.org/data/creditcard.csv')\n",
        "raw_df.head()"
      ],
      "execution_count": null,
      "outputs": [
        {
          "output_type": "execute_result",
          "data": {
            "text/html": [
              "<div>\n",
              "<style scoped>\n",
              "    .dataframe tbody tr th:only-of-type {\n",
              "        vertical-align: middle;\n",
              "    }\n",
              "\n",
              "    .dataframe tbody tr th {\n",
              "        vertical-align: top;\n",
              "    }\n",
              "\n",
              "    .dataframe thead th {\n",
              "        text-align: right;\n",
              "    }\n",
              "</style>\n",
              "<table border=\"1\" class=\"dataframe\">\n",
              "  <thead>\n",
              "    <tr style=\"text-align: right;\">\n",
              "      <th></th>\n",
              "      <th>Time</th>\n",
              "      <th>V1</th>\n",
              "      <th>V2</th>\n",
              "      <th>V3</th>\n",
              "      <th>V4</th>\n",
              "      <th>V5</th>\n",
              "      <th>V6</th>\n",
              "      <th>V7</th>\n",
              "      <th>V8</th>\n",
              "      <th>V9</th>\n",
              "      <th>V10</th>\n",
              "      <th>V11</th>\n",
              "      <th>V12</th>\n",
              "      <th>V13</th>\n",
              "      <th>V14</th>\n",
              "      <th>V15</th>\n",
              "      <th>V16</th>\n",
              "      <th>V17</th>\n",
              "      <th>V18</th>\n",
              "      <th>V19</th>\n",
              "      <th>V20</th>\n",
              "      <th>V21</th>\n",
              "      <th>V22</th>\n",
              "      <th>V23</th>\n",
              "      <th>V24</th>\n",
              "      <th>V25</th>\n",
              "      <th>V26</th>\n",
              "      <th>V27</th>\n",
              "      <th>V28</th>\n",
              "      <th>Amount</th>\n",
              "      <th>Class</th>\n",
              "    </tr>\n",
              "  </thead>\n",
              "  <tbody>\n",
              "    <tr>\n",
              "      <th>0</th>\n",
              "      <td>0.0</td>\n",
              "      <td>-1.359807</td>\n",
              "      <td>-0.072781</td>\n",
              "      <td>2.536347</td>\n",
              "      <td>1.378155</td>\n",
              "      <td>-0.338321</td>\n",
              "      <td>0.462388</td>\n",
              "      <td>0.239599</td>\n",
              "      <td>0.098698</td>\n",
              "      <td>0.363787</td>\n",
              "      <td>0.090794</td>\n",
              "      <td>-0.551600</td>\n",
              "      <td>-0.617801</td>\n",
              "      <td>-0.991390</td>\n",
              "      <td>-0.311169</td>\n",
              "      <td>1.468177</td>\n",
              "      <td>-0.470401</td>\n",
              "      <td>0.207971</td>\n",
              "      <td>0.025791</td>\n",
              "      <td>0.403993</td>\n",
              "      <td>0.251412</td>\n",
              "      <td>-0.018307</td>\n",
              "      <td>0.277838</td>\n",
              "      <td>-0.110474</td>\n",
              "      <td>0.066928</td>\n",
              "      <td>0.128539</td>\n",
              "      <td>-0.189115</td>\n",
              "      <td>0.133558</td>\n",
              "      <td>-0.021053</td>\n",
              "      <td>149.62</td>\n",
              "      <td>0</td>\n",
              "    </tr>\n",
              "    <tr>\n",
              "      <th>1</th>\n",
              "      <td>0.0</td>\n",
              "      <td>1.191857</td>\n",
              "      <td>0.266151</td>\n",
              "      <td>0.166480</td>\n",
              "      <td>0.448154</td>\n",
              "      <td>0.060018</td>\n",
              "      <td>-0.082361</td>\n",
              "      <td>-0.078803</td>\n",
              "      <td>0.085102</td>\n",
              "      <td>-0.255425</td>\n",
              "      <td>-0.166974</td>\n",
              "      <td>1.612727</td>\n",
              "      <td>1.065235</td>\n",
              "      <td>0.489095</td>\n",
              "      <td>-0.143772</td>\n",
              "      <td>0.635558</td>\n",
              "      <td>0.463917</td>\n",
              "      <td>-0.114805</td>\n",
              "      <td>-0.183361</td>\n",
              "      <td>-0.145783</td>\n",
              "      <td>-0.069083</td>\n",
              "      <td>-0.225775</td>\n",
              "      <td>-0.638672</td>\n",
              "      <td>0.101288</td>\n",
              "      <td>-0.339846</td>\n",
              "      <td>0.167170</td>\n",
              "      <td>0.125895</td>\n",
              "      <td>-0.008983</td>\n",
              "      <td>0.014724</td>\n",
              "      <td>2.69</td>\n",
              "      <td>0</td>\n",
              "    </tr>\n",
              "    <tr>\n",
              "      <th>2</th>\n",
              "      <td>1.0</td>\n",
              "      <td>-1.358354</td>\n",
              "      <td>-1.340163</td>\n",
              "      <td>1.773209</td>\n",
              "      <td>0.379780</td>\n",
              "      <td>-0.503198</td>\n",
              "      <td>1.800499</td>\n",
              "      <td>0.791461</td>\n",
              "      <td>0.247676</td>\n",
              "      <td>-1.514654</td>\n",
              "      <td>0.207643</td>\n",
              "      <td>0.624501</td>\n",
              "      <td>0.066084</td>\n",
              "      <td>0.717293</td>\n",
              "      <td>-0.165946</td>\n",
              "      <td>2.345865</td>\n",
              "      <td>-2.890083</td>\n",
              "      <td>1.109969</td>\n",
              "      <td>-0.121359</td>\n",
              "      <td>-2.261857</td>\n",
              "      <td>0.524980</td>\n",
              "      <td>0.247998</td>\n",
              "      <td>0.771679</td>\n",
              "      <td>0.909412</td>\n",
              "      <td>-0.689281</td>\n",
              "      <td>-0.327642</td>\n",
              "      <td>-0.139097</td>\n",
              "      <td>-0.055353</td>\n",
              "      <td>-0.059752</td>\n",
              "      <td>378.66</td>\n",
              "      <td>0</td>\n",
              "    </tr>\n",
              "    <tr>\n",
              "      <th>3</th>\n",
              "      <td>1.0</td>\n",
              "      <td>-0.966272</td>\n",
              "      <td>-0.185226</td>\n",
              "      <td>1.792993</td>\n",
              "      <td>-0.863291</td>\n",
              "      <td>-0.010309</td>\n",
              "      <td>1.247203</td>\n",
              "      <td>0.237609</td>\n",
              "      <td>0.377436</td>\n",
              "      <td>-1.387024</td>\n",
              "      <td>-0.054952</td>\n",
              "      <td>-0.226487</td>\n",
              "      <td>0.178228</td>\n",
              "      <td>0.507757</td>\n",
              "      <td>-0.287924</td>\n",
              "      <td>-0.631418</td>\n",
              "      <td>-1.059647</td>\n",
              "      <td>-0.684093</td>\n",
              "      <td>1.965775</td>\n",
              "      <td>-1.232622</td>\n",
              "      <td>-0.208038</td>\n",
              "      <td>-0.108300</td>\n",
              "      <td>0.005274</td>\n",
              "      <td>-0.190321</td>\n",
              "      <td>-1.175575</td>\n",
              "      <td>0.647376</td>\n",
              "      <td>-0.221929</td>\n",
              "      <td>0.062723</td>\n",
              "      <td>0.061458</td>\n",
              "      <td>123.50</td>\n",
              "      <td>0</td>\n",
              "    </tr>\n",
              "    <tr>\n",
              "      <th>4</th>\n",
              "      <td>2.0</td>\n",
              "      <td>-1.158233</td>\n",
              "      <td>0.877737</td>\n",
              "      <td>1.548718</td>\n",
              "      <td>0.403034</td>\n",
              "      <td>-0.407193</td>\n",
              "      <td>0.095921</td>\n",
              "      <td>0.592941</td>\n",
              "      <td>-0.270533</td>\n",
              "      <td>0.817739</td>\n",
              "      <td>0.753074</td>\n",
              "      <td>-0.822843</td>\n",
              "      <td>0.538196</td>\n",
              "      <td>1.345852</td>\n",
              "      <td>-1.119670</td>\n",
              "      <td>0.175121</td>\n",
              "      <td>-0.451449</td>\n",
              "      <td>-0.237033</td>\n",
              "      <td>-0.038195</td>\n",
              "      <td>0.803487</td>\n",
              "      <td>0.408542</td>\n",
              "      <td>-0.009431</td>\n",
              "      <td>0.798278</td>\n",
              "      <td>-0.137458</td>\n",
              "      <td>0.141267</td>\n",
              "      <td>-0.206010</td>\n",
              "      <td>0.502292</td>\n",
              "      <td>0.219422</td>\n",
              "      <td>0.215153</td>\n",
              "      <td>69.99</td>\n",
              "      <td>0</td>\n",
              "    </tr>\n",
              "  </tbody>\n",
              "</table>\n",
              "</div>"
            ],
            "text/plain": [
              "   Time        V1        V2        V3  ...       V27       V28  Amount  Class\n",
              "0   0.0 -1.359807 -0.072781  2.536347  ...  0.133558 -0.021053  149.62      0\n",
              "1   0.0  1.191857  0.266151  0.166480  ... -0.008983  0.014724    2.69      0\n",
              "2   1.0 -1.358354 -1.340163  1.773209  ... -0.055353 -0.059752  378.66      0\n",
              "3   1.0 -0.966272 -0.185226  1.792993  ...  0.062723  0.061458  123.50      0\n",
              "4   2.0 -1.158233  0.877737  1.548718  ...  0.219422  0.215153   69.99      0\n",
              "\n",
              "[5 rows x 31 columns]"
            ]
          },
          "metadata": {
            "tags": []
          },
          "execution_count": 3
        }
      ]
    },
    {
      "cell_type": "code",
      "metadata": {
        "id": "GeezF8Qm-HOm",
        "colab": {
          "base_uri": "https://localhost:8080/",
          "height": 68
        },
        "outputId": "77b2df58-f3a4-4313-db98-5ab24f4656e4"
      },
      "source": [
        "raw_df.Class.value_counts()"
      ],
      "execution_count": null,
      "outputs": [
        {
          "output_type": "execute_result",
          "data": {
            "text/plain": [
              "0    284315\n",
              "1       492\n",
              "Name: Class, dtype: int64"
            ]
          },
          "metadata": {
            "tags": []
          },
          "execution_count": 4
        }
      ]
    },
    {
      "cell_type": "code",
      "metadata": {
        "id": "TrnSHz8n-MiK",
        "colab": {
          "base_uri": "https://localhost:8080/",
          "height": 317
        },
        "outputId": "bac3f5ce-d8ae-493b-857a-d5e976926380"
      },
      "source": [
        "raw_df[['Time', 'V1', 'V2', 'V3', 'V4', 'V5', 'V26', 'V27', 'V28', 'Amount', 'Class']].describe()"
      ],
      "execution_count": null,
      "outputs": [
        {
          "output_type": "execute_result",
          "data": {
            "text/html": [
              "<div>\n",
              "<style scoped>\n",
              "    .dataframe tbody tr th:only-of-type {\n",
              "        vertical-align: middle;\n",
              "    }\n",
              "\n",
              "    .dataframe tbody tr th {\n",
              "        vertical-align: top;\n",
              "    }\n",
              "\n",
              "    .dataframe thead th {\n",
              "        text-align: right;\n",
              "    }\n",
              "</style>\n",
              "<table border=\"1\" class=\"dataframe\">\n",
              "  <thead>\n",
              "    <tr style=\"text-align: right;\">\n",
              "      <th></th>\n",
              "      <th>Time</th>\n",
              "      <th>V1</th>\n",
              "      <th>V2</th>\n",
              "      <th>V3</th>\n",
              "      <th>V4</th>\n",
              "      <th>V5</th>\n",
              "      <th>V26</th>\n",
              "      <th>V27</th>\n",
              "      <th>V28</th>\n",
              "      <th>Amount</th>\n",
              "      <th>Class</th>\n",
              "    </tr>\n",
              "  </thead>\n",
              "  <tbody>\n",
              "    <tr>\n",
              "      <th>count</th>\n",
              "      <td>284807.000000</td>\n",
              "      <td>2.848070e+05</td>\n",
              "      <td>2.848070e+05</td>\n",
              "      <td>2.848070e+05</td>\n",
              "      <td>2.848070e+05</td>\n",
              "      <td>2.848070e+05</td>\n",
              "      <td>2.848070e+05</td>\n",
              "      <td>2.848070e+05</td>\n",
              "      <td>2.848070e+05</td>\n",
              "      <td>284807.000000</td>\n",
              "      <td>284807.000000</td>\n",
              "    </tr>\n",
              "    <tr>\n",
              "      <th>mean</th>\n",
              "      <td>94813.859575</td>\n",
              "      <td>3.919560e-15</td>\n",
              "      <td>5.688174e-16</td>\n",
              "      <td>-8.769071e-15</td>\n",
              "      <td>2.782312e-15</td>\n",
              "      <td>-1.552563e-15</td>\n",
              "      <td>1.699104e-15</td>\n",
              "      <td>-3.660161e-16</td>\n",
              "      <td>-1.206049e-16</td>\n",
              "      <td>88.349619</td>\n",
              "      <td>0.001727</td>\n",
              "    </tr>\n",
              "    <tr>\n",
              "      <th>std</th>\n",
              "      <td>47488.145955</td>\n",
              "      <td>1.958696e+00</td>\n",
              "      <td>1.651309e+00</td>\n",
              "      <td>1.516255e+00</td>\n",
              "      <td>1.415869e+00</td>\n",
              "      <td>1.380247e+00</td>\n",
              "      <td>4.822270e-01</td>\n",
              "      <td>4.036325e-01</td>\n",
              "      <td>3.300833e-01</td>\n",
              "      <td>250.120109</td>\n",
              "      <td>0.041527</td>\n",
              "    </tr>\n",
              "    <tr>\n",
              "      <th>min</th>\n",
              "      <td>0.000000</td>\n",
              "      <td>-5.640751e+01</td>\n",
              "      <td>-7.271573e+01</td>\n",
              "      <td>-4.832559e+01</td>\n",
              "      <td>-5.683171e+00</td>\n",
              "      <td>-1.137433e+02</td>\n",
              "      <td>-2.604551e+00</td>\n",
              "      <td>-2.256568e+01</td>\n",
              "      <td>-1.543008e+01</td>\n",
              "      <td>0.000000</td>\n",
              "      <td>0.000000</td>\n",
              "    </tr>\n",
              "    <tr>\n",
              "      <th>25%</th>\n",
              "      <td>54201.500000</td>\n",
              "      <td>-9.203734e-01</td>\n",
              "      <td>-5.985499e-01</td>\n",
              "      <td>-8.903648e-01</td>\n",
              "      <td>-8.486401e-01</td>\n",
              "      <td>-6.915971e-01</td>\n",
              "      <td>-3.269839e-01</td>\n",
              "      <td>-7.083953e-02</td>\n",
              "      <td>-5.295979e-02</td>\n",
              "      <td>5.600000</td>\n",
              "      <td>0.000000</td>\n",
              "    </tr>\n",
              "    <tr>\n",
              "      <th>50%</th>\n",
              "      <td>84692.000000</td>\n",
              "      <td>1.810880e-02</td>\n",
              "      <td>6.548556e-02</td>\n",
              "      <td>1.798463e-01</td>\n",
              "      <td>-1.984653e-02</td>\n",
              "      <td>-5.433583e-02</td>\n",
              "      <td>-5.213911e-02</td>\n",
              "      <td>1.342146e-03</td>\n",
              "      <td>1.124383e-02</td>\n",
              "      <td>22.000000</td>\n",
              "      <td>0.000000</td>\n",
              "    </tr>\n",
              "    <tr>\n",
              "      <th>75%</th>\n",
              "      <td>139320.500000</td>\n",
              "      <td>1.315642e+00</td>\n",
              "      <td>8.037239e-01</td>\n",
              "      <td>1.027196e+00</td>\n",
              "      <td>7.433413e-01</td>\n",
              "      <td>6.119264e-01</td>\n",
              "      <td>2.409522e-01</td>\n",
              "      <td>9.104512e-02</td>\n",
              "      <td>7.827995e-02</td>\n",
              "      <td>77.165000</td>\n",
              "      <td>0.000000</td>\n",
              "    </tr>\n",
              "    <tr>\n",
              "      <th>max</th>\n",
              "      <td>172792.000000</td>\n",
              "      <td>2.454930e+00</td>\n",
              "      <td>2.205773e+01</td>\n",
              "      <td>9.382558e+00</td>\n",
              "      <td>1.687534e+01</td>\n",
              "      <td>3.480167e+01</td>\n",
              "      <td>3.517346e+00</td>\n",
              "      <td>3.161220e+01</td>\n",
              "      <td>3.384781e+01</td>\n",
              "      <td>25691.160000</td>\n",
              "      <td>1.000000</td>\n",
              "    </tr>\n",
              "  </tbody>\n",
              "</table>\n",
              "</div>"
            ],
            "text/plain": [
              "                Time            V1  ...         Amount          Class\n",
              "count  284807.000000  2.848070e+05  ...  284807.000000  284807.000000\n",
              "mean    94813.859575  3.919560e-15  ...      88.349619       0.001727\n",
              "std     47488.145955  1.958696e+00  ...     250.120109       0.041527\n",
              "min         0.000000 -5.640751e+01  ...       0.000000       0.000000\n",
              "25%     54201.500000 -9.203734e-01  ...       5.600000       0.000000\n",
              "50%     84692.000000  1.810880e-02  ...      22.000000       0.000000\n",
              "75%    139320.500000  1.315642e+00  ...      77.165000       0.000000\n",
              "max    172792.000000  2.454930e+00  ...   25691.160000       1.000000\n",
              "\n",
              "[8 rows x 11 columns]"
            ]
          },
          "metadata": {
            "tags": []
          },
          "execution_count": 5
        }
      ]
    },
    {
      "cell_type": "code",
      "metadata": {
        "id": "GorDYFKm-inU"
      },
      "source": [
        "cleaned_df=raw_df.copy()\n",
        "cleaned_df.pop('Time')\n",
        "eps=0.001\n",
        "cleaned_df['Log Ammount']=np.log(cleaned_df.pop('Amount')+eps)"
      ],
      "execution_count": null,
      "outputs": []
    },
    {
      "cell_type": "code",
      "metadata": {
        "id": "tQLZbd28_LyG",
        "colab": {
          "base_uri": "https://localhost:8080/",
          "height": 221
        },
        "outputId": "697d30c9-79f6-43de-e1b5-062d4bc74078"
      },
      "source": [
        "cleaned_df['Log Ammount']"
      ],
      "execution_count": null,
      "outputs": [
        {
          "output_type": "execute_result",
          "data": {
            "text/plain": [
              "0         5.008105\n",
              "1         0.989913\n",
              "2         5.936641\n",
              "3         4.816249\n",
              "4         4.248367\n",
              "            ...   \n",
              "284802   -0.260067\n",
              "284803    3.210481\n",
              "284804    4.217756\n",
              "284805    2.302685\n",
              "284806    5.379902\n",
              "Name: Log Ammount, Length: 284807, dtype: float64"
            ]
          },
          "metadata": {
            "tags": []
          },
          "execution_count": 7
        }
      ]
    },
    {
      "cell_type": "code",
      "metadata": {
        "id": "3Mz3RE0g_RIL"
      },
      "source": [
        "train_df,test_df=train_test_split(cleaned_df,test_size=0.2)\n",
        "train_df,val_df=train_test_split(train_df,test_size=0.2)"
      ],
      "execution_count": null,
      "outputs": []
    },
    {
      "cell_type": "code",
      "metadata": {
        "id": "ixFYvEXRAnXH"
      },
      "source": [
        "train_labels=np.array(train_df.pop('Class'))\n",
        "bool_train_labels=train_labels!=0\n",
        "val_labels=np.array(val_df.pop('Class'))\n",
        "test_labels=np.array(test_df.pop('Class'))"
      ],
      "execution_count": null,
      "outputs": []
    },
    {
      "cell_type": "code",
      "metadata": {
        "id": "z1OeNm48BDMM"
      },
      "source": [
        "train_features = np.array(train_df)\n",
        "val_features = np.array(val_df)\n",
        "test_features = np.array(test_df)"
      ],
      "execution_count": null,
      "outputs": []
    },
    {
      "cell_type": "code",
      "metadata": {
        "id": "ambdDUvXBEs_",
        "colab": {
          "base_uri": "https://localhost:8080/",
          "height": 34
        },
        "outputId": "2bdb3ce8-9a31-4fbb-9b7a-e64868983686"
      },
      "source": [
        "bool_train_labels"
      ],
      "execution_count": null,
      "outputs": [
        {
          "output_type": "execute_result",
          "data": {
            "text/plain": [
              "array([False, False, False, ..., False, False, False])"
            ]
          },
          "metadata": {
            "tags": []
          },
          "execution_count": 11
        }
      ]
    },
    {
      "cell_type": "code",
      "metadata": {
        "id": "W3Fa6kRIBHoV",
        "colab": {
          "base_uri": "https://localhost:8080/",
          "height": 238
        },
        "outputId": "95f31076-02c8-4fbb-e33a-04a678618f58"
      },
      "source": [
        "train_features"
      ],
      "execution_count": null,
      "outputs": [
        {
          "output_type": "execute_result",
          "data": {
            "text/plain": [
              "array([[ 1.85266763e+00,  2.46576654e-01,  3.11670000e-01, ...,\n",
              "         1.50072896e-02, -2.99448994e-02,  2.43194530e+00],\n",
              "       [ 1.91190134e+00, -2.74744759e-01, -2.19168667e+00, ...,\n",
              "        -8.14832997e-02, -6.74450115e-02,  4.38191413e+00],\n",
              "       [ 1.33168072e+00, -1.45227544e+00, -1.68106691e+00, ...,\n",
              "        -9.57727750e-02,  1.09003538e-04,  5.92692869e+00],\n",
              "       ...,\n",
              "       [ 1.27518780e+00,  1.51546274e-01, -1.05575628e-01, ...,\n",
              "        -3.50836770e-02, -7.55828357e-03, -6.90775528e+00],\n",
              "       [ 2.19012900e+00, -1.46153591e+00, -8.03229671e-01, ...,\n",
              "         1.61476018e-02, -4.34131034e-02,  3.73769343e+00],\n",
              "       [ 2.04342203e+00, -1.29588775e-01, -1.18335816e+00, ...,\n",
              "        -7.68844633e-02, -7.41984430e-02, -1.15410852e-01]])"
            ]
          },
          "metadata": {
            "tags": []
          },
          "execution_count": 12
        }
      ]
    },
    {
      "cell_type": "code",
      "metadata": {
        "id": "YG5YVVhzCG0t",
        "colab": {
          "base_uri": "https://localhost:8080/",
          "height": 456
        },
        "outputId": "f3438e53-556c-46f2-9098-85a304aaa338"
      },
      "source": [
        "test_df"
      ],
      "execution_count": null,
      "outputs": [
        {
          "output_type": "execute_result",
          "data": {
            "text/html": [
              "<div>\n",
              "<style scoped>\n",
              "    .dataframe tbody tr th:only-of-type {\n",
              "        vertical-align: middle;\n",
              "    }\n",
              "\n",
              "    .dataframe tbody tr th {\n",
              "        vertical-align: top;\n",
              "    }\n",
              "\n",
              "    .dataframe thead th {\n",
              "        text-align: right;\n",
              "    }\n",
              "</style>\n",
              "<table border=\"1\" class=\"dataframe\">\n",
              "  <thead>\n",
              "    <tr style=\"text-align: right;\">\n",
              "      <th></th>\n",
              "      <th>V1</th>\n",
              "      <th>V2</th>\n",
              "      <th>V3</th>\n",
              "      <th>V4</th>\n",
              "      <th>V5</th>\n",
              "      <th>V6</th>\n",
              "      <th>V7</th>\n",
              "      <th>V8</th>\n",
              "      <th>V9</th>\n",
              "      <th>V10</th>\n",
              "      <th>V11</th>\n",
              "      <th>V12</th>\n",
              "      <th>V13</th>\n",
              "      <th>V14</th>\n",
              "      <th>V15</th>\n",
              "      <th>V16</th>\n",
              "      <th>V17</th>\n",
              "      <th>V18</th>\n",
              "      <th>V19</th>\n",
              "      <th>V20</th>\n",
              "      <th>V21</th>\n",
              "      <th>V22</th>\n",
              "      <th>V23</th>\n",
              "      <th>V24</th>\n",
              "      <th>V25</th>\n",
              "      <th>V26</th>\n",
              "      <th>V27</th>\n",
              "      <th>V28</th>\n",
              "      <th>Log Ammount</th>\n",
              "    </tr>\n",
              "  </thead>\n",
              "  <tbody>\n",
              "    <tr>\n",
              "      <th>193901</th>\n",
              "      <td>-1.317894</td>\n",
              "      <td>-5.737663</td>\n",
              "      <td>-3.166621</td>\n",
              "      <td>2.541328</td>\n",
              "      <td>-1.030379</td>\n",
              "      <td>2.045651</td>\n",
              "      <td>1.687115</td>\n",
              "      <td>0.114330</td>\n",
              "      <td>0.930431</td>\n",
              "      <td>-0.536151</td>\n",
              "      <td>-0.094726</td>\n",
              "      <td>-0.077269</td>\n",
              "      <td>-2.492647</td>\n",
              "      <td>1.007913</td>\n",
              "      <td>-0.693998</td>\n",
              "      <td>-0.965073</td>\n",
              "      <td>0.542166</td>\n",
              "      <td>-0.216320</td>\n",
              "      <td>-1.192589</td>\n",
              "      <td>2.820370</td>\n",
              "      <td>1.340403</td>\n",
              "      <td>0.517894</td>\n",
              "      <td>-1.579150</td>\n",
              "      <td>-1.552820</td>\n",
              "      <td>-0.261258</td>\n",
              "      <td>-0.256836</td>\n",
              "      <td>-0.255007</td>\n",
              "      <td>0.197030</td>\n",
              "      <td>7.408531</td>\n",
              "    </tr>\n",
              "    <tr>\n",
              "      <th>125398</th>\n",
              "      <td>1.018094</td>\n",
              "      <td>0.141500</td>\n",
              "      <td>0.124154</td>\n",
              "      <td>1.054860</td>\n",
              "      <td>-0.015409</td>\n",
              "      <td>-0.363232</td>\n",
              "      <td>0.332991</td>\n",
              "      <td>-0.061934</td>\n",
              "      <td>-0.493112</td>\n",
              "      <td>0.099256</td>\n",
              "      <td>1.806037</td>\n",
              "      <td>1.308793</td>\n",
              "      <td>0.322917</td>\n",
              "      <td>0.630822</td>\n",
              "      <td>0.268252</td>\n",
              "      <td>-0.251014</td>\n",
              "      <td>-0.281545</td>\n",
              "      <td>-0.371211</td>\n",
              "      <td>-0.454178</td>\n",
              "      <td>-0.000905</td>\n",
              "      <td>0.112065</td>\n",
              "      <td>0.227156</td>\n",
              "      <td>-0.120797</td>\n",
              "      <td>0.237156</td>\n",
              "      <td>0.588209</td>\n",
              "      <td>-0.367361</td>\n",
              "      <td>0.006140</td>\n",
              "      <td>0.018637</td>\n",
              "      <td>4.324676</td>\n",
              "    </tr>\n",
              "    <tr>\n",
              "      <th>209789</th>\n",
              "      <td>-1.342084</td>\n",
              "      <td>0.508877</td>\n",
              "      <td>-1.561584</td>\n",
              "      <td>-1.653315</td>\n",
              "      <td>3.125612</td>\n",
              "      <td>3.255534</td>\n",
              "      <td>0.292683</td>\n",
              "      <td>1.113707</td>\n",
              "      <td>0.110308</td>\n",
              "      <td>-1.472259</td>\n",
              "      <td>0.067581</td>\n",
              "      <td>-0.102017</td>\n",
              "      <td>-0.504003</td>\n",
              "      <td>-1.406332</td>\n",
              "      <td>-0.032191</td>\n",
              "      <td>-0.003299</td>\n",
              "      <td>1.095232</td>\n",
              "      <td>0.122498</td>\n",
              "      <td>-0.148141</td>\n",
              "      <td>0.053883</td>\n",
              "      <td>-0.252876</td>\n",
              "      <td>-0.578785</td>\n",
              "      <td>-0.360815</td>\n",
              "      <td>0.592049</td>\n",
              "      <td>0.114190</td>\n",
              "      <td>-0.089912</td>\n",
              "      <td>0.070452</td>\n",
              "      <td>-0.235864</td>\n",
              "      <td>4.209026</td>\n",
              "    </tr>\n",
              "    <tr>\n",
              "      <th>205698</th>\n",
              "      <td>1.341926</td>\n",
              "      <td>-3.354416</td>\n",
              "      <td>-1.832704</td>\n",
              "      <td>-2.210691</td>\n",
              "      <td>-0.015999</td>\n",
              "      <td>4.163422</td>\n",
              "      <td>-1.854486</td>\n",
              "      <td>0.975552</td>\n",
              "      <td>-0.836848</td>\n",
              "      <td>1.305638</td>\n",
              "      <td>-0.254931</td>\n",
              "      <td>-0.652624</td>\n",
              "      <td>0.629579</td>\n",
              "      <td>-0.588553</td>\n",
              "      <td>0.810965</td>\n",
              "      <td>0.000989</td>\n",
              "      <td>0.152264</td>\n",
              "      <td>0.330772</td>\n",
              "      <td>-0.701690</td>\n",
              "      <td>0.589424</td>\n",
              "      <td>0.174710</td>\n",
              "      <td>-0.109937</td>\n",
              "      <td>-0.019692</td>\n",
              "      <td>0.696542</td>\n",
              "      <td>-0.687723</td>\n",
              "      <td>-0.258124</td>\n",
              "      <td>-0.000215</td>\n",
              "      <td>0.043909</td>\n",
              "      <td>6.150690</td>\n",
              "    </tr>\n",
              "    <tr>\n",
              "      <th>210991</th>\n",
              "      <td>-0.519939</td>\n",
              "      <td>1.318205</td>\n",
              "      <td>-0.841631</td>\n",
              "      <td>-0.379015</td>\n",
              "      <td>0.877433</td>\n",
              "      <td>-0.891597</td>\n",
              "      <td>0.631607</td>\n",
              "      <td>0.295240</td>\n",
              "      <td>-0.606105</td>\n",
              "      <td>-0.955083</td>\n",
              "      <td>0.706742</td>\n",
              "      <td>0.705412</td>\n",
              "      <td>0.620166</td>\n",
              "      <td>-0.537997</td>\n",
              "      <td>-0.078330</td>\n",
              "      <td>0.431866</td>\n",
              "      <td>0.249602</td>\n",
              "      <td>1.382640</td>\n",
              "      <td>0.323956</td>\n",
              "      <td>0.050978</td>\n",
              "      <td>0.363381</td>\n",
              "      <td>1.123646</td>\n",
              "      <td>-0.278261</td>\n",
              "      <td>-0.543799</td>\n",
              "      <td>-0.343515</td>\n",
              "      <td>-0.134831</td>\n",
              "      <td>0.354821</td>\n",
              "      <td>0.207748</td>\n",
              "      <td>1.740642</td>\n",
              "    </tr>\n",
              "    <tr>\n",
              "      <th>...</th>\n",
              "      <td>...</td>\n",
              "      <td>...</td>\n",
              "      <td>...</td>\n",
              "      <td>...</td>\n",
              "      <td>...</td>\n",
              "      <td>...</td>\n",
              "      <td>...</td>\n",
              "      <td>...</td>\n",
              "      <td>...</td>\n",
              "      <td>...</td>\n",
              "      <td>...</td>\n",
              "      <td>...</td>\n",
              "      <td>...</td>\n",
              "      <td>...</td>\n",
              "      <td>...</td>\n",
              "      <td>...</td>\n",
              "      <td>...</td>\n",
              "      <td>...</td>\n",
              "      <td>...</td>\n",
              "      <td>...</td>\n",
              "      <td>...</td>\n",
              "      <td>...</td>\n",
              "      <td>...</td>\n",
              "      <td>...</td>\n",
              "      <td>...</td>\n",
              "      <td>...</td>\n",
              "      <td>...</td>\n",
              "      <td>...</td>\n",
              "      <td>...</td>\n",
              "    </tr>\n",
              "    <tr>\n",
              "      <th>86829</th>\n",
              "      <td>0.477066</td>\n",
              "      <td>-1.828096</td>\n",
              "      <td>0.497694</td>\n",
              "      <td>0.817929</td>\n",
              "      <td>-1.685796</td>\n",
              "      <td>0.031564</td>\n",
              "      <td>-0.381768</td>\n",
              "      <td>0.066775</td>\n",
              "      <td>-0.582765</td>\n",
              "      <td>0.711164</td>\n",
              "      <td>0.589642</td>\n",
              "      <td>0.138304</td>\n",
              "      <td>-0.836560</td>\n",
              "      <td>0.242128</td>\n",
              "      <td>-0.219542</td>\n",
              "      <td>-1.149772</td>\n",
              "      <td>-0.238557</td>\n",
              "      <td>2.133105</td>\n",
              "      <td>-0.945087</td>\n",
              "      <td>0.213701</td>\n",
              "      <td>0.039326</td>\n",
              "      <td>-0.244228</td>\n",
              "      <td>-0.405729</td>\n",
              "      <td>0.299152</td>\n",
              "      <td>0.310501</td>\n",
              "      <td>-0.278590</td>\n",
              "      <td>-0.008703</td>\n",
              "      <td>0.091462</td>\n",
              "      <td>6.016160</td>\n",
              "    </tr>\n",
              "    <tr>\n",
              "      <th>29658</th>\n",
              "      <td>1.318484</td>\n",
              "      <td>0.179762</td>\n",
              "      <td>0.148082</td>\n",
              "      <td>0.430639</td>\n",
              "      <td>-0.130712</td>\n",
              "      <td>-0.528721</td>\n",
              "      <td>-0.000243</td>\n",
              "      <td>-0.114680</td>\n",
              "      <td>0.201871</td>\n",
              "      <td>-0.045293</td>\n",
              "      <td>-1.077679</td>\n",
              "      <td>-0.256509</td>\n",
              "      <td>-0.194471</td>\n",
              "      <td>0.319690</td>\n",
              "      <td>1.165201</td>\n",
              "      <td>0.578128</td>\n",
              "      <td>-0.690291</td>\n",
              "      <td>-0.188220</td>\n",
              "      <td>0.201456</td>\n",
              "      <td>-0.107773</td>\n",
              "      <td>-0.320001</td>\n",
              "      <td>-0.952681</td>\n",
              "      <td>0.040544</td>\n",
              "      <td>-0.478732</td>\n",
              "      <td>0.307074</td>\n",
              "      <td>0.148773</td>\n",
              "      <td>-0.034482</td>\n",
              "      <td>0.009139</td>\n",
              "      <td>0.683602</td>\n",
              "    </tr>\n",
              "    <tr>\n",
              "      <th>157186</th>\n",
              "      <td>1.988804</td>\n",
              "      <td>0.167116</td>\n",
              "      <td>-1.503165</td>\n",
              "      <td>1.627019</td>\n",
              "      <td>0.346498</td>\n",
              "      <td>-1.130443</td>\n",
              "      <td>0.479328</td>\n",
              "      <td>-0.421255</td>\n",
              "      <td>1.709677</td>\n",
              "      <td>-0.078815</td>\n",
              "      <td>-0.278364</td>\n",
              "      <td>-2.973715</td>\n",
              "      <td>-0.108655</td>\n",
              "      <td>2.269736</td>\n",
              "      <td>-1.090032</td>\n",
              "      <td>-0.695979</td>\n",
              "      <td>0.691430</td>\n",
              "      <td>-0.200089</td>\n",
              "      <td>-0.423747</td>\n",
              "      <td>-0.396405</td>\n",
              "      <td>-0.104559</td>\n",
              "      <td>0.054670</td>\n",
              "      <td>0.008732</td>\n",
              "      <td>-0.108353</td>\n",
              "      <td>0.376608</td>\n",
              "      <td>-0.525390</td>\n",
              "      <td>-0.055215</td>\n",
              "      <td>-0.067863</td>\n",
              "      <td>3.409529</td>\n",
              "    </tr>\n",
              "    <tr>\n",
              "      <th>174181</th>\n",
              "      <td>0.258710</td>\n",
              "      <td>-3.053998</td>\n",
              "      <td>-2.295838</td>\n",
              "      <td>0.489629</td>\n",
              "      <td>0.022466</td>\n",
              "      <td>1.664554</td>\n",
              "      <td>0.723860</td>\n",
              "      <td>0.267794</td>\n",
              "      <td>0.525913</td>\n",
              "      <td>-0.417413</td>\n",
              "      <td>1.025924</td>\n",
              "      <td>0.684667</td>\n",
              "      <td>-0.675447</td>\n",
              "      <td>1.008774</td>\n",
              "      <td>1.329797</td>\n",
              "      <td>-0.115170</td>\n",
              "      <td>-0.222254</td>\n",
              "      <td>-0.886964</td>\n",
              "      <td>-0.752425</td>\n",
              "      <td>1.426375</td>\n",
              "      <td>0.165418</td>\n",
              "      <td>-1.468621</td>\n",
              "      <td>-0.219974</td>\n",
              "      <td>-1.018354</td>\n",
              "      <td>-0.993846</td>\n",
              "      <td>-0.885927</td>\n",
              "      <td>-0.126794</td>\n",
              "      <td>0.090890</td>\n",
              "      <td>6.761389</td>\n",
              "    </tr>\n",
              "    <tr>\n",
              "      <th>31324</th>\n",
              "      <td>1.262561</td>\n",
              "      <td>-1.124029</td>\n",
              "      <td>-1.200544</td>\n",
              "      <td>-1.552578</td>\n",
              "      <td>1.325612</td>\n",
              "      <td>3.475437</td>\n",
              "      <td>-1.003855</td>\n",
              "      <td>0.805906</td>\n",
              "      <td>-0.586829</td>\n",
              "      <td>0.506464</td>\n",
              "      <td>-0.364942</td>\n",
              "      <td>-0.502866</td>\n",
              "      <td>0.014419</td>\n",
              "      <td>-0.304605</td>\n",
              "      <td>-0.289399</td>\n",
              "      <td>0.915496</td>\n",
              "      <td>0.182984</td>\n",
              "      <td>-1.304734</td>\n",
              "      <td>1.280817</td>\n",
              "      <td>0.366289</td>\n",
              "      <td>-0.016205</td>\n",
              "      <td>-0.324369</td>\n",
              "      <td>-0.153588</td>\n",
              "      <td>1.035480</td>\n",
              "      <td>0.681577</td>\n",
              "      <td>-0.239341</td>\n",
              "      <td>-0.002010</td>\n",
              "      <td>0.023282</td>\n",
              "      <td>4.667215</td>\n",
              "    </tr>\n",
              "  </tbody>\n",
              "</table>\n",
              "<p>56962 rows × 29 columns</p>\n",
              "</div>"
            ],
            "text/plain": [
              "              V1        V2        V3  ...       V27       V28  Log Ammount\n",
              "193901 -1.317894 -5.737663 -3.166621  ... -0.255007  0.197030     7.408531\n",
              "125398  1.018094  0.141500  0.124154  ...  0.006140  0.018637     4.324676\n",
              "209789 -1.342084  0.508877 -1.561584  ...  0.070452 -0.235864     4.209026\n",
              "205698  1.341926 -3.354416 -1.832704  ... -0.000215  0.043909     6.150690\n",
              "210991 -0.519939  1.318205 -0.841631  ...  0.354821  0.207748     1.740642\n",
              "...          ...       ...       ...  ...       ...       ...          ...\n",
              "86829   0.477066 -1.828096  0.497694  ... -0.008703  0.091462     6.016160\n",
              "29658   1.318484  0.179762  0.148082  ... -0.034482  0.009139     0.683602\n",
              "157186  1.988804  0.167116 -1.503165  ... -0.055215 -0.067863     3.409529\n",
              "174181  0.258710 -3.053998 -2.295838  ... -0.126794  0.090890     6.761389\n",
              "31324   1.262561 -1.124029 -1.200544  ... -0.002010  0.023282     4.667215\n",
              "\n",
              "[56962 rows x 29 columns]"
            ]
          },
          "metadata": {
            "tags": []
          },
          "execution_count": 13
        }
      ]
    },
    {
      "cell_type": "code",
      "metadata": {
        "id": "WL6T2La0B6zq"
      },
      "source": [
        "scaler = StandardScaler()\n",
        "train_features = scaler.fit_transform(train_features)\n",
        "\n",
        "val_features = scaler.transform(val_features)\n",
        "test_features = scaler.transform(test_features)"
      ],
      "execution_count": null,
      "outputs": []
    },
    {
      "cell_type": "code",
      "metadata": {
        "id": "czQ66z75DH_n",
        "colab": {
          "base_uri": "https://localhost:8080/",
          "height": 238
        },
        "outputId": "a54c22c4-744d-49ee-ca01-8f5626c8efdc"
      },
      "source": [
        "test_features"
      ],
      "execution_count": null,
      "outputs": [
        {
          "output_type": "execute_result",
          "data": {
            "text/plain": [
              "array([[-0.67775549, -3.48839715, -2.09218143, ..., -0.63291411,\n",
              "         0.61019156,  2.21079595],\n",
              "       [ 0.52048243,  0.08490125,  0.08134618, ...,  0.01646219,\n",
              "         0.0579593 ,  0.68313558],\n",
              "       [-0.69016386,  0.30818919, -1.03206895, ...,  0.17638047,\n",
              "        -0.72987183,  0.62584611],\n",
              "       ...,\n",
              "       [ 1.01840522,  0.10046997, -0.99348386, ..., -0.13610531,\n",
              "        -0.20980856,  0.22979635],\n",
              "       [ 0.13095907, -1.8572918 , -1.51703717, ..., -0.31409737,\n",
              "         0.28162373,  1.89021872],\n",
              "       [ 0.64588123, -0.68427541, -0.79360509, ..., -0.00380404,\n",
              "         0.07233725,  0.85282054]])"
            ]
          },
          "metadata": {
            "tags": []
          },
          "execution_count": 15
        }
      ]
    },
    {
      "cell_type": "code",
      "metadata": {
        "id": "pmihaFj4CZUC",
        "colab": {
          "base_uri": "https://localhost:8080/",
          "height": 238
        },
        "outputId": "bc5b0dee-3bfa-4a72-80f4-a9ccb16bebb2"
      },
      "source": [
        "val_features"
      ],
      "execution_count": null,
      "outputs": [
        {
          "output_type": "execute_result",
          "data": {
            "text/plain": [
              "array([[ 0.65488588, -0.23104744,  0.15870847, ...,  0.18264705,\n",
              "         0.1107382 ,  0.16591475],\n",
              "       [-0.55841303,  0.97447722,  1.34825315, ..., -0.16320957,\n",
              "        -0.75433773, -0.37345166],\n",
              "       [ 0.52674543, -0.58579902,  0.14433186, ..., -0.00867325,\n",
              "         0.14263143,  1.13290233],\n",
              "       ...,\n",
              "       [-0.65965841,  0.55351918,  1.53438649, ...,  0.5950676 ,\n",
              "         0.15724191,  0.42653664],\n",
              "       [-0.12419555, -0.06156766,  1.49596689, ...,  0.44914204,\n",
              "         0.54106546, -1.80157109],\n",
              "       [ 0.54219015, -0.36089097,  0.7736733 , ..., -0.07643119,\n",
              "         0.01756299,  0.29391159]])"
            ]
          },
          "metadata": {
            "tags": []
          },
          "execution_count": 16
        }
      ]
    },
    {
      "cell_type": "code",
      "metadata": {
        "id": "_M8VgP-6DCP1"
      },
      "source": [
        "train_features = np.clip(train_features, -5, 5)\n",
        "val_features = np.clip(val_features, -5, 5)\n",
        "test_features = np.clip(test_features, -5, 5)\n"
      ],
      "execution_count": null,
      "outputs": []
    },
    {
      "cell_type": "code",
      "metadata": {
        "id": "jlq6IrSpD6kl",
        "colab": {
          "base_uri": "https://localhost:8080/",
          "height": 238
        },
        "outputId": "0968007e-bf7b-45ed-e064-0e2b6eece225"
      },
      "source": [
        "test_features"
      ],
      "execution_count": null,
      "outputs": [
        {
          "output_type": "execute_result",
          "data": {
            "text/plain": [
              "array([[-0.67775549, -3.48839715, -2.09218143, ..., -0.63291411,\n",
              "         0.61019156,  2.21079595],\n",
              "       [ 0.52048243,  0.08490125,  0.08134618, ...,  0.01646219,\n",
              "         0.0579593 ,  0.68313558],\n",
              "       [-0.69016386,  0.30818919, -1.03206895, ...,  0.17638047,\n",
              "        -0.72987183,  0.62584611],\n",
              "       ...,\n",
              "       [ 1.01840522,  0.10046997, -0.99348386, ..., -0.13610531,\n",
              "        -0.20980856,  0.22979635],\n",
              "       [ 0.13095907, -1.8572918 , -1.51703717, ..., -0.31409737,\n",
              "         0.28162373,  1.89021872],\n",
              "       [ 0.64588123, -0.68427541, -0.79360509, ..., -0.00380404,\n",
              "         0.07233725,  0.85282054]])"
            ]
          },
          "metadata": {
            "tags": []
          },
          "execution_count": 18
        }
      ]
    },
    {
      "cell_type": "code",
      "metadata": {
        "id": "puUZdeJ1D7vZ"
      },
      "source": [
        "pos_df=pd.DataFrame(train_features[bool_train_labels],columns=train_df.columns)\n",
        "neg_df=pd.DataFrame(train_features[~bool_train_labels],columns=train_df.columns)\n"
      ],
      "execution_count": null,
      "outputs": []
    },
    {
      "cell_type": "code",
      "metadata": {
        "id": "pCGAlXjfE6K7",
        "colab": {
          "base_uri": "https://localhost:8080/",
          "height": 456
        },
        "outputId": "f0130093-348f-40b0-9de5-f78abaf73474"
      },
      "source": [
        "neg_df"
      ],
      "execution_count": null,
      "outputs": [
        {
          "output_type": "execute_result",
          "data": {
            "text/html": [
              "<div>\n",
              "<style scoped>\n",
              "    .dataframe tbody tr th:only-of-type {\n",
              "        vertical-align: middle;\n",
              "    }\n",
              "\n",
              "    .dataframe tbody tr th {\n",
              "        vertical-align: top;\n",
              "    }\n",
              "\n",
              "    .dataframe thead th {\n",
              "        text-align: right;\n",
              "    }\n",
              "</style>\n",
              "<table border=\"1\" class=\"dataframe\">\n",
              "  <thead>\n",
              "    <tr style=\"text-align: right;\">\n",
              "      <th></th>\n",
              "      <th>V1</th>\n",
              "      <th>V2</th>\n",
              "      <th>V3</th>\n",
              "      <th>V4</th>\n",
              "      <th>V5</th>\n",
              "      <th>V6</th>\n",
              "      <th>V7</th>\n",
              "      <th>V8</th>\n",
              "      <th>V9</th>\n",
              "      <th>V10</th>\n",
              "      <th>V11</th>\n",
              "      <th>V12</th>\n",
              "      <th>V13</th>\n",
              "      <th>V14</th>\n",
              "      <th>V15</th>\n",
              "      <th>V16</th>\n",
              "      <th>V17</th>\n",
              "      <th>V18</th>\n",
              "      <th>V19</th>\n",
              "      <th>V20</th>\n",
              "      <th>V21</th>\n",
              "      <th>V22</th>\n",
              "      <th>V23</th>\n",
              "      <th>V24</th>\n",
              "      <th>V25</th>\n",
              "      <th>V26</th>\n",
              "      <th>V27</th>\n",
              "      <th>V28</th>\n",
              "      <th>Log Ammount</th>\n",
              "    </tr>\n",
              "  </thead>\n",
              "  <tbody>\n",
              "    <tr>\n",
              "      <th>0</th>\n",
              "      <td>0.948575</td>\n",
              "      <td>0.148766</td>\n",
              "      <td>0.205199</td>\n",
              "      <td>2.746032</td>\n",
              "      <td>-0.273287</td>\n",
              "      <td>0.166452</td>\n",
              "      <td>-0.421643</td>\n",
              "      <td>0.092712</td>\n",
              "      <td>-0.224716</td>\n",
              "      <td>1.256104</td>\n",
              "      <td>-1.369861</td>\n",
              "      <td>-0.227212</td>\n",
              "      <td>0.005473</td>\n",
              "      <td>-0.263040</td>\n",
              "      <td>-0.627562</td>\n",
              "      <td>1.359233</td>\n",
              "      <td>-1.054663</td>\n",
              "      <td>0.051878</td>\n",
              "      <td>-2.146721</td>\n",
              "      <td>-0.357609</td>\n",
              "      <td>0.238387</td>\n",
              "      <td>0.843078</td>\n",
              "      <td>0.299616</td>\n",
              "      <td>0.034505</td>\n",
              "      <td>-0.467925</td>\n",
              "      <td>0.054828</td>\n",
              "      <td>0.038511</td>\n",
              "      <td>-0.092430</td>\n",
              "      <td>-0.254473</td>\n",
              "    </tr>\n",
              "    <tr>\n",
              "      <th>1</th>\n",
              "      <td>0.978958</td>\n",
              "      <td>-0.168089</td>\n",
              "      <td>-1.448246</td>\n",
              "      <td>0.208553</td>\n",
              "      <td>0.405376</td>\n",
              "      <td>-0.604519</td>\n",
              "      <td>0.489093</td>\n",
              "      <td>-0.199855</td>\n",
              "      <td>0.264521</td>\n",
              "      <td>0.143280</td>\n",
              "      <td>0.663656</td>\n",
              "      <td>0.320362</td>\n",
              "      <td>-1.617129</td>\n",
              "      <td>1.173959</td>\n",
              "      <td>-0.721888</td>\n",
              "      <td>-0.750028</td>\n",
              "      <td>-0.267644</td>\n",
              "      <td>0.049548</td>\n",
              "      <td>0.444839</td>\n",
              "      <td>-0.221765</td>\n",
              "      <td>0.292769</td>\n",
              "      <td>0.767614</td>\n",
              "      <td>-0.152256</td>\n",
              "      <td>1.190902</td>\n",
              "      <td>0.875517</td>\n",
              "      <td>-0.251562</td>\n",
              "      <td>-0.201426</td>\n",
              "      <td>-0.208515</td>\n",
              "      <td>0.711490</td>\n",
              "    </tr>\n",
              "    <tr>\n",
              "      <th>2</th>\n",
              "      <td>0.681336</td>\n",
              "      <td>-0.883780</td>\n",
              "      <td>-1.110986</td>\n",
              "      <td>0.523252</td>\n",
              "      <td>-0.500316</td>\n",
              "      <td>-0.818271</td>\n",
              "      <td>0.371598</td>\n",
              "      <td>-0.244230</td>\n",
              "      <td>0.994078</td>\n",
              "      <td>-0.114399</td>\n",
              "      <td>-1.157271</td>\n",
              "      <td>-0.966591</td>\n",
              "      <td>-2.424944</td>\n",
              "      <td>0.981144</td>\n",
              "      <td>0.962797</td>\n",
              "      <td>-0.212238</td>\n",
              "      <td>-0.254929</td>\n",
              "      <td>0.352607</td>\n",
              "      <td>-0.475877</td>\n",
              "      <td>0.441357</td>\n",
              "      <td>0.694828</td>\n",
              "      <td>1.021644</td>\n",
              "      <td>-0.553745</td>\n",
              "      <td>-0.014473</td>\n",
              "      <td>0.178760</td>\n",
              "      <td>-0.098766</td>\n",
              "      <td>-0.236958</td>\n",
              "      <td>0.000605</td>\n",
              "      <td>1.476849</td>\n",
              "    </tr>\n",
              "    <tr>\n",
              "      <th>3</th>\n",
              "      <td>-2.100326</td>\n",
              "      <td>1.868784</td>\n",
              "      <td>-0.551804</td>\n",
              "      <td>-0.342925</td>\n",
              "      <td>-0.668520</td>\n",
              "      <td>-0.165250</td>\n",
              "      <td>-0.598001</td>\n",
              "      <td>1.364512</td>\n",
              "      <td>0.192901</td>\n",
              "      <td>0.795209</td>\n",
              "      <td>-1.364383</td>\n",
              "      <td>0.226933</td>\n",
              "      <td>0.135819</td>\n",
              "      <td>0.911298</td>\n",
              "      <td>1.255126</td>\n",
              "      <td>0.427565</td>\n",
              "      <td>0.301119</td>\n",
              "      <td>-0.560239</td>\n",
              "      <td>-0.054106</td>\n",
              "      <td>0.005006</td>\n",
              "      <td>-0.253338</td>\n",
              "      <td>-0.967234</td>\n",
              "      <td>0.223937</td>\n",
              "      <td>-1.313004</td>\n",
              "      <td>1.239997</td>\n",
              "      <td>0.571526</td>\n",
              "      <td>-1.160115</td>\n",
              "      <td>0.566059</td>\n",
              "      <td>-0.197778</td>\n",
              "    </tr>\n",
              "    <tr>\n",
              "      <th>4</th>\n",
              "      <td>0.478700</td>\n",
              "      <td>-0.546481</td>\n",
              "      <td>0.506426</td>\n",
              "      <td>0.222988</td>\n",
              "      <td>-0.325479</td>\n",
              "      <td>1.490203</td>\n",
              "      <td>-0.883294</td>\n",
              "      <td>0.583591</td>\n",
              "      <td>-0.649948</td>\n",
              "      <td>0.591677</td>\n",
              "      <td>1.673807</td>\n",
              "      <td>1.029588</td>\n",
              "      <td>0.046076</td>\n",
              "      <td>0.087274</td>\n",
              "      <td>0.785652</td>\n",
              "      <td>-2.842047</td>\n",
              "      <td>1.044971</td>\n",
              "      <td>-0.003041</td>\n",
              "      <td>-2.942602</td>\n",
              "      <td>-0.694185</td>\n",
              "      <td>-0.043503</td>\n",
              "      <td>0.705011</td>\n",
              "      <td>0.008179</td>\n",
              "      <td>-1.694314</td>\n",
              "      <td>0.292536</td>\n",
              "      <td>-0.243532</td>\n",
              "      <td>0.330339</td>\n",
              "      <td>0.064805</td>\n",
              "      <td>0.686143</td>\n",
              "    </tr>\n",
              "    <tr>\n",
              "      <th>...</th>\n",
              "      <td>...</td>\n",
              "      <td>...</td>\n",
              "      <td>...</td>\n",
              "      <td>...</td>\n",
              "      <td>...</td>\n",
              "      <td>...</td>\n",
              "      <td>...</td>\n",
              "      <td>...</td>\n",
              "      <td>...</td>\n",
              "      <td>...</td>\n",
              "      <td>...</td>\n",
              "      <td>...</td>\n",
              "      <td>...</td>\n",
              "      <td>...</td>\n",
              "      <td>...</td>\n",
              "      <td>...</td>\n",
              "      <td>...</td>\n",
              "      <td>...</td>\n",
              "      <td>...</td>\n",
              "      <td>...</td>\n",
              "      <td>...</td>\n",
              "      <td>...</td>\n",
              "      <td>...</td>\n",
              "      <td>...</td>\n",
              "      <td>...</td>\n",
              "      <td>...</td>\n",
              "      <td>...</td>\n",
              "      <td>...</td>\n",
              "      <td>...</td>\n",
              "    </tr>\n",
              "    <tr>\n",
              "      <th>181944</th>\n",
              "      <td>0.538144</td>\n",
              "      <td>0.055344</td>\n",
              "      <td>0.356277</td>\n",
              "      <td>0.333978</td>\n",
              "      <td>0.162853</td>\n",
              "      <td>0.653817</td>\n",
              "      <td>-0.186082</td>\n",
              "      <td>0.286463</td>\n",
              "      <td>-0.071801</td>\n",
              "      <td>-0.248986</td>\n",
              "      <td>1.101638</td>\n",
              "      <td>1.136704</td>\n",
              "      <td>0.740730</td>\n",
              "      <td>0.278821</td>\n",
              "      <td>2.226751</td>\n",
              "      <td>-1.228444</td>\n",
              "      <td>1.011856</td>\n",
              "      <td>-3.176481</td>\n",
              "      <td>-2.207368</td>\n",
              "      <td>-0.267971</td>\n",
              "      <td>-0.149927</td>\n",
              "      <td>-0.193821</td>\n",
              "      <td>0.483164</td>\n",
              "      <td>-1.035149</td>\n",
              "      <td>-0.235721</td>\n",
              "      <td>0.418807</td>\n",
              "      <td>0.116959</td>\n",
              "      <td>0.026964</td>\n",
              "      <td>-1.463673</td>\n",
              "    </tr>\n",
              "    <tr>\n",
              "      <th>181945</th>\n",
              "      <td>0.556628</td>\n",
              "      <td>0.002074</td>\n",
              "      <td>-0.047180</td>\n",
              "      <td>0.384884</td>\n",
              "      <td>-0.087046</td>\n",
              "      <td>-0.578846</td>\n",
              "      <td>0.334990</td>\n",
              "      <td>-0.145814</td>\n",
              "      <td>-0.111482</td>\n",
              "      <td>-0.109390</td>\n",
              "      <td>-0.072613</td>\n",
              "      <td>0.095590</td>\n",
              "      <td>-0.494215</td>\n",
              "      <td>0.653393</td>\n",
              "      <td>1.181028</td>\n",
              "      <td>-0.259708</td>\n",
              "      <td>0.071525</td>\n",
              "      <td>-1.492712</td>\n",
              "      <td>-0.335166</td>\n",
              "      <td>-0.011935</td>\n",
              "      <td>-0.426839</td>\n",
              "      <td>-1.527827</td>\n",
              "      <td>0.185181</td>\n",
              "      <td>0.105674</td>\n",
              "      <td>0.319021</td>\n",
              "      <td>0.335695</td>\n",
              "      <td>-0.162124</td>\n",
              "      <td>0.058128</td>\n",
              "      <td>0.741292</td>\n",
              "    </tr>\n",
              "    <tr>\n",
              "      <th>181946</th>\n",
              "      <td>0.652358</td>\n",
              "      <td>0.091007</td>\n",
              "      <td>-0.070388</td>\n",
              "      <td>0.357622</td>\n",
              "      <td>0.101779</td>\n",
              "      <td>-0.196154</td>\n",
              "      <td>0.131085</td>\n",
              "      <td>-0.087982</td>\n",
              "      <td>0.153771</td>\n",
              "      <td>-0.146630</td>\n",
              "      <td>-0.729101</td>\n",
              "      <td>0.327699</td>\n",
              "      <td>0.170519</td>\n",
              "      <td>0.158494</td>\n",
              "      <td>0.354038</td>\n",
              "      <td>-0.548490</td>\n",
              "      <td>0.087640</td>\n",
              "      <td>-1.125498</td>\n",
              "      <td>-0.054128</td>\n",
              "      <td>-0.175393</td>\n",
              "      <td>-0.097947</td>\n",
              "      <td>0.005642</td>\n",
              "      <td>-0.227633</td>\n",
              "      <td>-0.593430</td>\n",
              "      <td>1.274281</td>\n",
              "      <td>1.276968</td>\n",
              "      <td>-0.086047</td>\n",
              "      <td>-0.023130</td>\n",
              "      <td>-4.881113</td>\n",
              "    </tr>\n",
              "    <tr>\n",
              "      <th>181947</th>\n",
              "      <td>1.121675</td>\n",
              "      <td>-0.889409</td>\n",
              "      <td>-0.531183</td>\n",
              "      <td>-1.172291</td>\n",
              "      <td>-0.837025</td>\n",
              "      <td>-0.099932</td>\n",
              "      <td>-1.003135</td>\n",
              "      <td>-0.030362</td>\n",
              "      <td>-1.361946</td>\n",
              "      <td>1.536256</td>\n",
              "      <td>0.859862</td>\n",
              "      <td>0.352646</td>\n",
              "      <td>1.211232</td>\n",
              "      <td>-0.486906</td>\n",
              "      <td>-0.901006</td>\n",
              "      <td>-0.430931</td>\n",
              "      <td>0.253078</td>\n",
              "      <td>0.340278</td>\n",
              "      <td>0.019554</td>\n",
              "      <td>-0.387330</td>\n",
              "      <td>-0.107585</td>\n",
              "      <td>0.302193</td>\n",
              "      <td>0.412376</td>\n",
              "      <td>1.168899</td>\n",
              "      <td>-0.509135</td>\n",
              "      <td>-0.482796</td>\n",
              "      <td>0.041346</td>\n",
              "      <td>-0.134122</td>\n",
              "      <td>0.392360</td>\n",
              "    </tr>\n",
              "    <tr>\n",
              "      <th>181948</th>\n",
              "      <td>1.046422</td>\n",
              "      <td>-0.079864</td>\n",
              "      <td>-0.782254</td>\n",
              "      <td>0.159312</td>\n",
              "      <td>0.033020</td>\n",
              "      <td>-0.537817</td>\n",
              "      <td>0.042536</td>\n",
              "      <td>-0.123883</td>\n",
              "      <td>0.319541</td>\n",
              "      <td>0.232048</td>\n",
              "      <td>0.601769</td>\n",
              "      <td>0.845863</td>\n",
              "      <td>-0.284030</td>\n",
              "      <td>0.535026</td>\n",
              "      <td>-0.655910</td>\n",
              "      <td>0.228454</td>\n",
              "      <td>-0.740338</td>\n",
              "      <td>-0.275320</td>\n",
              "      <td>0.683275</td>\n",
              "      <td>-0.291706</td>\n",
              "      <td>-0.356416</td>\n",
              "      <td>-0.921774</td>\n",
              "      <td>0.474174</td>\n",
              "      <td>-0.569885</td>\n",
              "      <td>-0.570540</td>\n",
              "      <td>0.415282</td>\n",
              "      <td>-0.189990</td>\n",
              "      <td>-0.229421</td>\n",
              "      <td>-1.516366</td>\n",
              "    </tr>\n",
              "  </tbody>\n",
              "</table>\n",
              "<p>181949 rows × 29 columns</p>\n",
              "</div>"
            ],
            "text/plain": [
              "              V1        V2        V3  ...       V27       V28  Log Ammount\n",
              "0       0.948575  0.148766  0.205199  ...  0.038511 -0.092430    -0.254473\n",
              "1       0.978958 -0.168089 -1.448246  ... -0.201426 -0.208515     0.711490\n",
              "2       0.681336 -0.883780 -1.110986  ... -0.236958  0.000605     1.476849\n",
              "3      -2.100326  1.868784 -0.551804  ... -1.160115  0.566059    -0.197778\n",
              "4       0.478700 -0.546481  0.506426  ...  0.330339  0.064805     0.686143\n",
              "...          ...       ...       ...  ...       ...       ...          ...\n",
              "181944  0.538144  0.055344  0.356277  ...  0.116959  0.026964    -1.463673\n",
              "181945  0.556628  0.002074 -0.047180  ... -0.162124  0.058128     0.741292\n",
              "181946  0.652358  0.091007 -0.070388  ... -0.086047 -0.023130    -4.881113\n",
              "181947  1.121675 -0.889409 -0.531183  ...  0.041346 -0.134122     0.392360\n",
              "181948  1.046422 -0.079864 -0.782254  ... -0.189990 -0.229421    -1.516366\n",
              "\n",
              "[181949 rows x 29 columns]"
            ]
          },
          "metadata": {
            "tags": []
          },
          "execution_count": 20
        }
      ]
    },
    {
      "cell_type": "code",
      "metadata": {
        "id": "ndqOYvq8E7N2",
        "colab": {
          "base_uri": "https://localhost:8080/",
          "height": 957
        },
        "outputId": "9ae7387e-9870-420a-c184-868611761cef"
      },
      "source": [
        "sns.jointplot(pos_df['V5'],pos_df['V6'],kind='hex',xlim=(-5,5),ylim=(-5,5))\n",
        "plt.suptitle(\"positive distribution\")\n",
        "sns.jointplot(neg_df['V5'],neg_df['V6'],kind='hex',xlim=(-5,5),ylim=(-5,5))\n",
        "_=plt.suptitle(\"negative distribution\")"
      ],
      "execution_count": null,
      "outputs": [
        {
          "output_type": "stream",
          "text": [
            "/usr/local/lib/python3.6/dist-packages/seaborn/_decorators.py:43: FutureWarning: Pass the following variables as keyword args: x, y. From version 0.12, the only valid positional argument will be `data`, and passing other arguments without an explicit keyword will result in an error or misinterpretation.\n",
            "  FutureWarning\n",
            "/usr/local/lib/python3.6/dist-packages/seaborn/_decorators.py:43: FutureWarning: Pass the following variables as keyword args: x, y. From version 0.12, the only valid positional argument will be `data`, and passing other arguments without an explicit keyword will result in an error or misinterpretation.\n",
            "  FutureWarning\n"
          ],
          "name": "stderr"
        },
        {
          "output_type": "display_data",
          "data": {
            "image/png": "[encoded data removed]",
            "text/plain": [
              "<Figure size 432x432 with 3 Axes>"
            ]
          },
          "metadata": {
            "tags": [],
            "needs_background": "light"
          }
        },
        {
          "output_type": "display_data",
          "data": {
            "image/png": "[encoded data removed]",
            "text/plain": [
              "<Figure size 432x432 with 3 Axes>"
            ]
          },
          "metadata": {
            "tags": [],
            "needs_background": "light"
          }
        }
      ]
    },
    {
      "cell_type": "code",
      "metadata": {
        "id": "TKf4tErBGOYf"
      },
      "source": [
        "METRICS=[\n",
        "      keras.metrics.TruePositives(name='tp'),\n",
        "      keras.metrics.FalsePositives(name='fp'),\n",
        "      keras.metrics.TrueNegatives(name='tn'),\n",
        "      keras.metrics.FalseNegatives(name='fn'),\n",
        "      keras.metrics.BinaryAccuracy(name='accuracy'),\n",
        "      keras.metrics.Precision(name='precision'),\n",
        "      keras.metrics.Recall(name='recall'),\n",
        "      keras.metrics.AUC(name='auc')\n",
        "]\n",
        "def make_model(metrics=METRICS,output_bias=None):\n",
        "  if output_bias is not None:\n",
        "    output_bias=tf.keras.initializers.Constant(output_bias)\n",
        "  model=keras.Sequential([\n",
        "      keras.layers.Dense(16,activation='relu',input_shape=(train_features.shape[-1],)),\n",
        "      keras.layers.Dropout(0.5),\n",
        "      keras.layers.Dense(1,activation='sigmoid',bias_initializer=output_bias),\n",
        "  \n",
        "  ])\n",
        "  model.compile(optimizer=keras.optimizers.Adam(lr=1e-3),loss=keras.losses.BinaryCrossentropy(),metrics=metrics)\n",
        "  return model\n"
      ],
      "execution_count": null,
      "outputs": []
    },
    {
      "cell_type": "code",
      "metadata": {
        "id": "TpUEU8-BI4xm"
      },
      "source": [
        "EPOCHS = 100\n",
        "BATCH_SIZE = 2048\n",
        "\n",
        "early_stopping = tf.keras.callbacks.EarlyStopping(\n",
        "    monitor='val_auc', \n",
        "    verbose=1,\n",
        "    patience=10,\n",
        "    mode='max',\n",
        "    restore_best_weights=True)"
      ],
      "execution_count": null,
      "outputs": []
    },
    {
      "cell_type": "code",
      "metadata": {
        "id": "0EO9dhwLLu4T",
        "colab": {
          "base_uri": "https://localhost:8080/",
          "height": 255
        },
        "outputId": "5b6d4ce2-1a0b-4683-ecdb-e53b46d9480b"
      },
      "source": [
        "model = make_model()\n",
        "model.summary()"
      ],
      "execution_count": null,
      "outputs": [
        {
          "output_type": "stream",
          "text": [
            "Model: \"sequential\"\n",
            "_________________________________________________________________\n",
            "Layer (type)                 Output Shape              Param #   \n",
            "=================================================================\n",
            "dense (Dense)                (None, 16)                480       \n",
            "_________________________________________________________________\n",
            "dropout (Dropout)            (None, 16)                0         \n",
            "_________________________________________________________________\n",
            "dense_1 (Dense)              (None, 1)                 17        \n",
            "=================================================================\n",
            "Total params: 497\n",
            "Trainable params: 497\n",
            "Non-trainable params: 0\n",
            "_________________________________________________________________\n"
          ],
          "name": "stdout"
        }
      ]
    },
    {
      "cell_type": "code",
      "metadata": {
        "id": "nZyuC08yLxck",
        "colab": {
          "base_uri": "https://localhost:8080/",
          "height": 187
        },
        "outputId": "50c16e98-fb92-4f98-ca26-8f49d332ba1d"
      },
      "source": [
        "model.predict(train_features[:10])"
      ],
      "execution_count": null,
      "outputs": [
        {
          "output_type": "execute_result",
          "data": {
            "text/plain": [
              "array([[0.48062578],\n",
              "       [0.58998275],\n",
              "       [0.18803188],\n",
              "       [0.30794552],\n",
              "       [0.8248207 ],\n",
              "       [0.47296646],\n",
              "       [0.5402117 ],\n",
              "       [0.5779886 ],\n",
              "       [0.5212606 ],\n",
              "       [0.5888759 ]], dtype=float32)"
            ]
          },
          "metadata": {
            "tags": []
          },
          "execution_count": 25
        }
      ]
    },
    {
      "cell_type": "code",
      "metadata": {
        "id": "7_-My3isLzEl",
        "colab": {
          "base_uri": "https://localhost:8080/",
          "height": 34
        },
        "outputId": "76b49e63-5060-455c-aaaf-fb5f0ece2ce4"
      },
      "source": [
        "results=model.evaluate(train_features,train_labels,batch_size=BATCH_SIZE,verbose=0)\n",
        "print(\"Loss: {:0.4f}\".format(results[0]))"
      ],
      "execution_count": null,
      "outputs": [
        {
          "output_type": "stream",
          "text": [
            "Loss: 0.9102\n"
          ],
          "name": "stdout"
        }
      ]
    },
    {
      "cell_type": "code",
      "metadata": {
        "id": "hp47Z7G8NwBb"
      },
      "source": [
        "neg, pos = np.bincount(raw_df['Class'])"
      ],
      "execution_count": null,
      "outputs": []
    },
    {
      "cell_type": "code",
      "metadata": {
        "id": "YYfkmJTKNyZy"
      },
      "source": [
        "total = neg + pos\n"
      ],
      "execution_count": null,
      "outputs": []
    },
    {
      "cell_type": "code",
      "metadata": {
        "id": "88d83jZFNZlB",
        "colab": {
          "base_uri": "https://localhost:8080/",
          "height": 34
        },
        "outputId": "ac31ee70-c96b-409b-e8f9-7ae190710b51"
      },
      "source": [
        "initial_bias=np.log([pos/neg])\n",
        "initial_bias"
      ],
      "execution_count": null,
      "outputs": [
        {
          "output_type": "execute_result",
          "data": {
            "text/plain": [
              "array([-6.35935934])"
            ]
          },
          "metadata": {
            "tags": []
          },
          "execution_count": 29
        }
      ]
    },
    {
      "cell_type": "code",
      "metadata": {
        "id": "H52AU7ZUNlXM",
        "colab": {
          "base_uri": "https://localhost:8080/",
          "height": 187
        },
        "outputId": "73d5da45-1749-46ea-d20e-54b5f64dd7f4"
      },
      "source": [
        "model = make_model(output_bias = initial_bias)\n",
        "model.predict(train_features[:10])"
      ],
      "execution_count": null,
      "outputs": [
        {
          "output_type": "execute_result",
          "data": {
            "text/plain": [
              "array([[0.00131684],\n",
              "       [0.00469666],\n",
              "       [0.00320977],\n",
              "       [0.00128583],\n",
              "       [0.0020252 ],\n",
              "       [0.00213964],\n",
              "       [0.00325066],\n",
              "       [0.00387832],\n",
              "       [0.00077335],\n",
              "       [0.00140408]], dtype=float32)"
            ]
          },
          "metadata": {
            "tags": []
          },
          "execution_count": 30
        }
      ]
    },
    {
      "cell_type": "code",
      "metadata": {
        "id": "33aJv_j0N9DU",
        "colab": {
          "base_uri": "https://localhost:8080/",
          "height": 34
        },
        "outputId": "78e5835c-bd84-4765-9d81-085418b54805"
      },
      "source": [
        "results = model.evaluate(train_features, train_labels, batch_size=BATCH_SIZE, verbose=0)\n",
        "print(\"Loss: {:0.4f}\".format(results[0]))"
      ],
      "execution_count": null,
      "outputs": [
        {
          "output_type": "stream",
          "text": [
            "Loss: 0.0145\n"
          ],
          "name": "stdout"
        }
      ]
    },
    {
      "cell_type": "code",
      "metadata": {
        "id": "ZPzyT2NLO9Ba"
      },
      "source": [
        "initial_weights = os.path.join(tempfile.mkdtemp(),'initial_weights')\n",
        "model.save_weights(initial_weights)"
      ],
      "execution_count": null,
      "outputs": []
    },
    {
      "cell_type": "code",
      "metadata": {
        "id": "yWOTKlwjQG9A",
        "colab": {
          "base_uri": "https://localhost:8080/",
          "height": 35
        },
        "outputId": "ae98e5fb-d501-4a53-a913-886e95306dd9"
      },
      "source": [
        "initial_weights"
      ],
      "execution_count": null,
      "outputs": [
        {
          "output_type": "execute_result",
          "data": {
            "application/vnd.google.colaboratory.intrinsic+json": {
              "type": "string"
            },
            "text/plain": [
              "'/tmp/tmpbd55jcqi/initial_weights'"
            ]
          },
          "metadata": {
            "tags": []
          },
          "execution_count": 33
        }
      ]
    },
    {
      "cell_type": "code",
      "metadata": {
        "id": "L0B7w1qEPdz2"
      },
      "source": [
        "model=make_model()\n",
        "model.load_weights(initial_weights)\n",
        "model.layers[-1].bias.assign([0.0])\n",
        "zero_bias_history=model.fit(train_features,train_labels,batch_size=BATCH_SIZE,epochs=20,validation_data=(val_features,val_labels),verbose=0)"
      ],
      "execution_count": null,
      "outputs": []
    },
    {
      "cell_type": "code",
      "metadata": {
        "id": "u7A5uKOPQEoz"
      },
      "source": [
        "model = make_model()\n",
        "model.load_weights(initial_weights)\n",
        "careful_bias_history = model.fit(\n",
        "    train_features,\n",
        "    train_labels,\n",
        "    batch_size=BATCH_SIZE,\n",
        "    epochs=20,\n",
        "    validation_data=(val_features, val_labels), \n",
        "    verbose=0)"
      ],
      "execution_count": null,
      "outputs": []
    },
    {
      "cell_type": "code",
      "metadata": {
        "id": "tDNL6TReQMju"
      },
      "source": [
        "def plot_loss(history,label,n):\n",
        "  plt.semilogy(history.epoch,history.history['loss'],color=colors[n],label='Train'+label)\n",
        "  plt.semilogy(history.epoch,history.history['val_loss'],color=colors[n],label='Val'+label,linestyle=\"--\")\n",
        "  plt.xlabel('Epoch')\n",
        "  plt.ylabel('Loss')\n",
        "  plt.legend()\n"
      ],
      "execution_count": null,
      "outputs": []
    },
    {
      "cell_type": "code",
      "metadata": {
        "id": "WaMmsNalQ12l",
        "colab": {
          "base_uri": "https://localhost:8080/",
          "height": 525
        },
        "outputId": "ff43735d-4795-4640-a625-7766171879b5"
      },
      "source": [
        "plot_loss(zero_bias_history, \"Zero Bias\", 0)\n",
        "plot_loss(careful_bias_history, \"Careful Bias\", 1)"
      ],
      "execution_count": null,
      "outputs": [
        {
          "output_type": "display_data",
          "data": {
            "image/png": "[encoded data removed]",
            "text/plain": [
              "<Figure size 864x720 with 1 Axes>"
            ]
          },
          "metadata": {
            "tags": [],
            "needs_background": "light"
          }
        }
      ]
    },
    {
      "cell_type": "code",
      "metadata": {
        "id": "o3ndpHrDQ2yX",
        "colab": {
          "base_uri": "https://localhost:8080/",
          "height": 1000
        },
        "outputId": "6d8f4e69-37c7-4f79-ec58-15d2341fd99d"
      },
      "source": [
        "model = make_model()\n",
        "model.load_weights(initial_weights)\n",
        "baseline_history = model.fit(\n",
        "    train_features,\n",
        "    train_labels,\n",
        "    batch_size=BATCH_SIZE,\n",
        "    epochs=EPOCHS,\n",
        "    callbacks = [early_stopping],\n",
        "    validation_data=(val_features, val_labels))"
      ],
      "execution_count": null,
      "outputs": [
        {
          "output_type": "stream",
          "text": [
            "Epoch 1/100\n",
            "90/90 [==============================] - 1s 13ms/step - loss: 0.0126 - tp: 70.0000 - fp: 99.0000 - tn: 227357.0000 - fn: 319.0000 - accuracy: 0.9982 - precision: 0.4142 - recall: 0.1799 - auc: 0.7616 - val_loss: 0.0058 - val_tp: 10.0000 - val_fp: 1.0000 - val_tn: 45506.0000 - val_fn: 52.0000 - val_accuracy: 0.9988 - val_precision: 0.9091 - val_recall: 0.1613 - val_auc: 0.9096\n",
            "Epoch 2/100\n",
            "90/90 [==============================] - 1s 6ms/step - loss: 0.0072 - tp: 102.0000 - fp: 26.0000 - tn: 181923.0000 - fn: 225.0000 - accuracy: 0.9986 - precision: 0.7969 - recall: 0.3119 - auc: 0.8958 - val_loss: 0.0045 - val_tp: 26.0000 - val_fp: 11.0000 - val_tn: 45496.0000 - val_fn: 36.0000 - val_accuracy: 0.9990 - val_precision: 0.7027 - val_recall: 0.4194 - val_auc: 0.9104\n",
            "Epoch 3/100\n",
            "90/90 [==============================] - 1s 6ms/step - loss: 0.0057 - tp: 166.0000 - fp: 28.0000 - tn: 181921.0000 - fn: 161.0000 - accuracy: 0.9990 - precision: 0.8557 - recall: 0.5076 - auc: 0.9177 - val_loss: 0.0043 - val_tp: 34.0000 - val_fp: 11.0000 - val_tn: 45496.0000 - val_fn: 28.0000 - val_accuracy: 0.9991 - val_precision: 0.7556 - val_recall: 0.5484 - val_auc: 0.9186\n",
            "Epoch 4/100\n",
            "90/90 [==============================] - 1s 6ms/step - loss: 0.0054 - tp: 177.0000 - fp: 30.0000 - tn: 181919.0000 - fn: 150.0000 - accuracy: 0.9990 - precision: 0.8551 - recall: 0.5413 - auc: 0.9162 - val_loss: 0.0041 - val_tp: 39.0000 - val_fp: 12.0000 - val_tn: 45495.0000 - val_fn: 23.0000 - val_accuracy: 0.9992 - val_precision: 0.7647 - val_recall: 0.6290 - val_auc: 0.9186\n",
            "Epoch 5/100\n",
            "90/90 [==============================] - 1s 6ms/step - loss: 0.0050 - tp: 192.0000 - fp: 34.0000 - tn: 181915.0000 - fn: 135.0000 - accuracy: 0.9991 - precision: 0.8496 - recall: 0.5872 - auc: 0.9292 - val_loss: 0.0040 - val_tp: 40.0000 - val_fp: 12.0000 - val_tn: 45495.0000 - val_fn: 22.0000 - val_accuracy: 0.9993 - val_precision: 0.7692 - val_recall: 0.6452 - val_auc: 0.9187\n",
            "Epoch 6/100\n",
            "90/90 [==============================] - 1s 6ms/step - loss: 0.0050 - tp: 195.0000 - fp: 28.0000 - tn: 181921.0000 - fn: 132.0000 - accuracy: 0.9991 - precision: 0.8744 - recall: 0.5963 - auc: 0.9203 - val_loss: 0.0039 - val_tp: 40.0000 - val_fp: 12.0000 - val_tn: 45495.0000 - val_fn: 22.0000 - val_accuracy: 0.9993 - val_precision: 0.7692 - val_recall: 0.6452 - val_auc: 0.9188\n",
            "Epoch 7/100\n",
            "90/90 [==============================] - 1s 6ms/step - loss: 0.0049 - tp: 194.0000 - fp: 27.0000 - tn: 181922.0000 - fn: 133.0000 - accuracy: 0.9991 - precision: 0.8778 - recall: 0.5933 - auc: 0.9189 - val_loss: 0.0037 - val_tp: 40.0000 - val_fp: 12.0000 - val_tn: 45495.0000 - val_fn: 22.0000 - val_accuracy: 0.9993 - val_precision: 0.7692 - val_recall: 0.6452 - val_auc: 0.9269\n",
            "Epoch 8/100\n",
            "90/90 [==============================] - 1s 6ms/step - loss: 0.0051 - tp: 179.0000 - fp: 29.0000 - tn: 181920.0000 - fn: 148.0000 - accuracy: 0.9990 - precision: 0.8606 - recall: 0.5474 - auc: 0.9192 - val_loss: 0.0036 - val_tp: 42.0000 - val_fp: 12.0000 - val_tn: 45495.0000 - val_fn: 20.0000 - val_accuracy: 0.9993 - val_precision: 0.7778 - val_recall: 0.6774 - val_auc: 0.9269\n",
            "Epoch 9/100\n",
            "90/90 [==============================] - 1s 7ms/step - loss: 0.0047 - tp: 195.0000 - fp: 25.0000 - tn: 181924.0000 - fn: 132.0000 - accuracy: 0.9991 - precision: 0.8864 - recall: 0.5963 - auc: 0.9177 - val_loss: 0.0036 - val_tp: 45.0000 - val_fp: 12.0000 - val_tn: 45495.0000 - val_fn: 17.0000 - val_accuracy: 0.9994 - val_precision: 0.7895 - val_recall: 0.7258 - val_auc: 0.9268\n",
            "Epoch 10/100\n",
            "90/90 [==============================] - 1s 6ms/step - loss: 0.0043 - tp: 208.0000 - fp: 26.0000 - tn: 181923.0000 - fn: 119.0000 - accuracy: 0.9992 - precision: 0.8889 - recall: 0.6361 - auc: 0.9331 - val_loss: 0.0034 - val_tp: 44.0000 - val_fp: 12.0000 - val_tn: 45495.0000 - val_fn: 18.0000 - val_accuracy: 0.9993 - val_precision: 0.7857 - val_recall: 0.7097 - val_auc: 0.9269\n",
            "Epoch 11/100\n",
            "90/90 [==============================] - 1s 6ms/step - loss: 0.0043 - tp: 199.0000 - fp: 25.0000 - tn: 181924.0000 - fn: 128.0000 - accuracy: 0.9992 - precision: 0.8884 - recall: 0.6086 - auc: 0.9255 - val_loss: 0.0034 - val_tp: 46.0000 - val_fp: 12.0000 - val_tn: 45495.0000 - val_fn: 16.0000 - val_accuracy: 0.9994 - val_precision: 0.7931 - val_recall: 0.7419 - val_auc: 0.9268\n",
            "Epoch 12/100\n",
            "90/90 [==============================] - 1s 6ms/step - loss: 0.0048 - tp: 202.0000 - fp: 26.0000 - tn: 181923.0000 - fn: 125.0000 - accuracy: 0.9992 - precision: 0.8860 - recall: 0.6177 - auc: 0.9208 - val_loss: 0.0033 - val_tp: 45.0000 - val_fp: 12.0000 - val_tn: 45495.0000 - val_fn: 17.0000 - val_accuracy: 0.9994 - val_precision: 0.7895 - val_recall: 0.7258 - val_auc: 0.9269\n",
            "Epoch 13/100\n",
            "90/90 [==============================] - 1s 6ms/step - loss: 0.0044 - tp: 200.0000 - fp: 30.0000 - tn: 181919.0000 - fn: 127.0000 - accuracy: 0.9991 - precision: 0.8696 - recall: 0.6116 - auc: 0.9226 - val_loss: 0.0031 - val_tp: 43.0000 - val_fp: 12.0000 - val_tn: 45495.0000 - val_fn: 19.0000 - val_accuracy: 0.9993 - val_precision: 0.7818 - val_recall: 0.6935 - val_auc: 0.9269\n",
            "Epoch 14/100\n",
            "90/90 [==============================] - 1s 6ms/step - loss: 0.0043 - tp: 197.0000 - fp: 32.0000 - tn: 181917.0000 - fn: 130.0000 - accuracy: 0.9991 - precision: 0.8603 - recall: 0.6024 - auc: 0.9211 - val_loss: 0.0031 - val_tp: 45.0000 - val_fp: 12.0000 - val_tn: 45495.0000 - val_fn: 17.0000 - val_accuracy: 0.9994 - val_precision: 0.7895 - val_recall: 0.7258 - val_auc: 0.9189\n",
            "Epoch 15/100\n",
            "90/90 [==============================] - 1s 6ms/step - loss: 0.0043 - tp: 202.0000 - fp: 26.0000 - tn: 181923.0000 - fn: 125.0000 - accuracy: 0.9992 - precision: 0.8860 - recall: 0.6177 - auc: 0.9271 - val_loss: 0.0030 - val_tp: 46.0000 - val_fp: 12.0000 - val_tn: 45495.0000 - val_fn: 16.0000 - val_accuracy: 0.9994 - val_precision: 0.7931 - val_recall: 0.7419 - val_auc: 0.9269\n",
            "Epoch 16/100\n",
            "90/90 [==============================] - 1s 6ms/step - loss: 0.0043 - tp: 199.0000 - fp: 27.0000 - tn: 181922.0000 - fn: 128.0000 - accuracy: 0.9991 - precision: 0.8805 - recall: 0.6086 - auc: 0.9241 - val_loss: 0.0030 - val_tp: 47.0000 - val_fp: 12.0000 - val_tn: 45495.0000 - val_fn: 15.0000 - val_accuracy: 0.9994 - val_precision: 0.7966 - val_recall: 0.7581 - val_auc: 0.9269\n",
            "Epoch 17/100\n",
            "90/90 [==============================] - 1s 6ms/step - loss: 0.0040 - tp: 205.0000 - fp: 25.0000 - tn: 181924.0000 - fn: 122.0000 - accuracy: 0.9992 - precision: 0.8913 - recall: 0.6269 - auc: 0.9273 - val_loss: 0.0030 - val_tp: 47.0000 - val_fp: 12.0000 - val_tn: 45495.0000 - val_fn: 15.0000 - val_accuracy: 0.9994 - val_precision: 0.7966 - val_recall: 0.7581 - val_auc: 0.9269\n",
            "Epoch 18/100\n",
            "90/90 [==============================] - 1s 6ms/step - loss: 0.0042 - tp: 210.0000 - fp: 25.0000 - tn: 181924.0000 - fn: 117.0000 - accuracy: 0.9992 - precision: 0.8936 - recall: 0.6422 - auc: 0.9212 - val_loss: 0.0030 - val_tp: 47.0000 - val_fp: 12.0000 - val_tn: 45495.0000 - val_fn: 15.0000 - val_accuracy: 0.9994 - val_precision: 0.7966 - val_recall: 0.7581 - val_auc: 0.9269\n",
            "Epoch 19/100\n",
            "90/90 [==============================] - 1s 6ms/step - loss: 0.0042 - tp: 194.0000 - fp: 31.0000 - tn: 181918.0000 - fn: 133.0000 - accuracy: 0.9991 - precision: 0.8622 - recall: 0.5933 - auc: 0.9273 - val_loss: 0.0028 - val_tp: 47.0000 - val_fp: 11.0000 - val_tn: 45496.0000 - val_fn: 15.0000 - val_accuracy: 0.9994 - val_precision: 0.8103 - val_recall: 0.7581 - val_auc: 0.9270\n",
            "Epoch 20/100\n",
            "90/90 [==============================] - 1s 6ms/step - loss: 0.0041 - tp: 202.0000 - fp: 24.0000 - tn: 181925.0000 - fn: 125.0000 - accuracy: 0.9992 - precision: 0.8938 - recall: 0.6177 - auc: 0.9242 - val_loss: 0.0028 - val_tp: 47.0000 - val_fp: 12.0000 - val_tn: 45495.0000 - val_fn: 15.0000 - val_accuracy: 0.9994 - val_precision: 0.7966 - val_recall: 0.7581 - val_auc: 0.9269\n",
            "Epoch 21/100\n",
            "90/90 [==============================] - 1s 6ms/step - loss: 0.0040 - tp: 219.0000 - fp: 27.0000 - tn: 181922.0000 - fn: 108.0000 - accuracy: 0.9993 - precision: 0.8902 - recall: 0.6697 - auc: 0.9303 - val_loss: 0.0028 - val_tp: 47.0000 - val_fp: 11.0000 - val_tn: 45496.0000 - val_fn: 15.0000 - val_accuracy: 0.9994 - val_precision: 0.8103 - val_recall: 0.7581 - val_auc: 0.9270\n",
            "Epoch 22/100\n",
            "90/90 [==============================] - 1s 7ms/step - loss: 0.0039 - tp: 209.0000 - fp: 25.0000 - tn: 181924.0000 - fn: 118.0000 - accuracy: 0.9992 - precision: 0.8932 - recall: 0.6391 - auc: 0.9258 - val_loss: 0.0027 - val_tp: 47.0000 - val_fp: 10.0000 - val_tn: 45497.0000 - val_fn: 15.0000 - val_accuracy: 0.9995 - val_precision: 0.8246 - val_recall: 0.7581 - val_auc: 0.9190\n",
            "Epoch 23/100\n",
            "90/90 [==============================] - 1s 7ms/step - loss: 0.0042 - tp: 192.0000 - fp: 30.0000 - tn: 181919.0000 - fn: 135.0000 - accuracy: 0.9991 - precision: 0.8649 - recall: 0.5872 - auc: 0.9349 - val_loss: 0.0027 - val_tp: 47.0000 - val_fp: 10.0000 - val_tn: 45497.0000 - val_fn: 15.0000 - val_accuracy: 0.9995 - val_precision: 0.8246 - val_recall: 0.7581 - val_auc: 0.9270\n",
            "Epoch 24/100\n",
            "90/90 [==============================] - 1s 6ms/step - loss: 0.0039 - tp: 200.0000 - fp: 24.0000 - tn: 181925.0000 - fn: 127.0000 - accuracy: 0.9992 - precision: 0.8929 - recall: 0.6116 - auc: 0.9334 - val_loss: 0.0028 - val_tp: 48.0000 - val_fp: 11.0000 - val_tn: 45496.0000 - val_fn: 14.0000 - val_accuracy: 0.9995 - val_precision: 0.8136 - val_recall: 0.7742 - val_auc: 0.9270\n",
            "Epoch 25/100\n",
            "90/90 [==============================] - 1s 6ms/step - loss: 0.0039 - tp: 211.0000 - fp: 31.0000 - tn: 181918.0000 - fn: 116.0000 - accuracy: 0.9992 - precision: 0.8719 - recall: 0.6453 - auc: 0.9303 - val_loss: 0.0027 - val_tp: 47.0000 - val_fp: 10.0000 - val_tn: 45497.0000 - val_fn: 15.0000 - val_accuracy: 0.9995 - val_precision: 0.8246 - val_recall: 0.7581 - val_auc: 0.9109\n",
            "Epoch 26/100\n",
            "90/90 [==============================] - 1s 6ms/step - loss: 0.0038 - tp: 211.0000 - fp: 31.0000 - tn: 181918.0000 - fn: 116.0000 - accuracy: 0.9992 - precision: 0.8719 - recall: 0.6453 - auc: 0.9366 - val_loss: 0.0027 - val_tp: 47.0000 - val_fp: 10.0000 - val_tn: 45497.0000 - val_fn: 15.0000 - val_accuracy: 0.9995 - val_precision: 0.8246 - val_recall: 0.7581 - val_auc: 0.9109\n",
            "Epoch 27/100\n",
            "90/90 [==============================] - 1s 6ms/step - loss: 0.0038 - tp: 210.0000 - fp: 30.0000 - tn: 181919.0000 - fn: 117.0000 - accuracy: 0.9992 - precision: 0.8750 - recall: 0.6422 - auc: 0.9304 - val_loss: 0.0027 - val_tp: 45.0000 - val_fp: 10.0000 - val_tn: 45497.0000 - val_fn: 17.0000 - val_accuracy: 0.9994 - val_precision: 0.8182 - val_recall: 0.7258 - val_auc: 0.9270\n",
            "Epoch 28/100\n",
            "90/90 [==============================] - 1s 6ms/step - loss: 0.0037 - tp: 213.0000 - fp: 26.0000 - tn: 181923.0000 - fn: 114.0000 - accuracy: 0.9992 - precision: 0.8912 - recall: 0.6514 - auc: 0.9380 - val_loss: 0.0027 - val_tp: 47.0000 - val_fp: 10.0000 - val_tn: 45497.0000 - val_fn: 15.0000 - val_accuracy: 0.9995 - val_precision: 0.8246 - val_recall: 0.7581 - val_auc: 0.9269\n",
            "Epoch 29/100\n",
            "90/90 [==============================] - 1s 6ms/step - loss: 0.0037 - tp: 219.0000 - fp: 29.0000 - tn: 181920.0000 - fn: 108.0000 - accuracy: 0.9992 - precision: 0.8831 - recall: 0.6697 - auc: 0.9334 - val_loss: 0.0027 - val_tp: 47.0000 - val_fp: 10.0000 - val_tn: 45497.0000 - val_fn: 15.0000 - val_accuracy: 0.9995 - val_precision: 0.8246 - val_recall: 0.7581 - val_auc: 0.9270\n",
            "Epoch 30/100\n",
            "90/90 [==============================] - 1s 6ms/step - loss: 0.0039 - tp: 205.0000 - fp: 25.0000 - tn: 181924.0000 - fn: 122.0000 - accuracy: 0.9992 - precision: 0.8913 - recall: 0.6269 - auc: 0.9365 - val_loss: 0.0026 - val_tp: 47.0000 - val_fp: 10.0000 - val_tn: 45497.0000 - val_fn: 15.0000 - val_accuracy: 0.9995 - val_precision: 0.8246 - val_recall: 0.7581 - val_auc: 0.9270\n",
            "Epoch 31/100\n",
            "90/90 [==============================] - 1s 6ms/step - loss: 0.0037 - tp: 219.0000 - fp: 30.0000 - tn: 181919.0000 - fn: 108.0000 - accuracy: 0.9992 - precision: 0.8795 - recall: 0.6697 - auc: 0.9320 - val_loss: 0.0027 - val_tp: 47.0000 - val_fp: 10.0000 - val_tn: 45497.0000 - val_fn: 15.0000 - val_accuracy: 0.9995 - val_precision: 0.8246 - val_recall: 0.7581 - val_auc: 0.9270\n",
            "Epoch 32/100\n",
            "90/90 [==============================] - 1s 6ms/step - loss: 0.0035 - tp: 219.0000 - fp: 29.0000 - tn: 181920.0000 - fn: 108.0000 - accuracy: 0.9992 - precision: 0.8831 - recall: 0.6697 - auc: 0.9473 - val_loss: 0.0026 - val_tp: 47.0000 - val_fp: 10.0000 - val_tn: 45497.0000 - val_fn: 15.0000 - val_accuracy: 0.9995 - val_precision: 0.8246 - val_recall: 0.7581 - val_auc: 0.9431\n",
            "Epoch 33/100\n",
            "90/90 [==============================] - 1s 6ms/step - loss: 0.0038 - tp: 204.0000 - fp: 31.0000 - tn: 181918.0000 - fn: 123.0000 - accuracy: 0.9992 - precision: 0.8681 - recall: 0.6239 - auc: 0.9395 - val_loss: 0.0027 - val_tp: 47.0000 - val_fp: 10.0000 - val_tn: 45497.0000 - val_fn: 15.0000 - val_accuracy: 0.9995 - val_precision: 0.8246 - val_recall: 0.7581 - val_auc: 0.9431\n",
            "Epoch 34/100\n",
            "90/90 [==============================] - 1s 6ms/step - loss: 0.0038 - tp: 216.0000 - fp: 32.0000 - tn: 181917.0000 - fn: 111.0000 - accuracy: 0.9992 - precision: 0.8710 - recall: 0.6606 - auc: 0.9366 - val_loss: 0.0026 - val_tp: 44.0000 - val_fp: 8.0000 - val_tn: 45499.0000 - val_fn: 18.0000 - val_accuracy: 0.9994 - val_precision: 0.8462 - val_recall: 0.7097 - val_auc: 0.9431\n",
            "Epoch 35/100\n",
            "90/90 [==============================] - 1s 6ms/step - loss: 0.0038 - tp: 200.0000 - fp: 29.0000 - tn: 181920.0000 - fn: 127.0000 - accuracy: 0.9991 - precision: 0.8734 - recall: 0.6116 - auc: 0.9289 - val_loss: 0.0026 - val_tp: 47.0000 - val_fp: 10.0000 - val_tn: 45497.0000 - val_fn: 15.0000 - val_accuracy: 0.9995 - val_precision: 0.8246 - val_recall: 0.7581 - val_auc: 0.9431\n",
            "Epoch 36/100\n",
            "90/90 [==============================] - 1s 6ms/step - loss: 0.0038 - tp: 209.0000 - fp: 26.0000 - tn: 181923.0000 - fn: 118.0000 - accuracy: 0.9992 - precision: 0.8894 - recall: 0.6391 - auc: 0.9334 - val_loss: 0.0026 - val_tp: 45.0000 - val_fp: 8.0000 - val_tn: 45499.0000 - val_fn: 17.0000 - val_accuracy: 0.9995 - val_precision: 0.8491 - val_recall: 0.7258 - val_auc: 0.9431\n",
            "Epoch 37/100\n",
            "90/90 [==============================] - 1s 6ms/step - loss: 0.0040 - tp: 212.0000 - fp: 28.0000 - tn: 181921.0000 - fn: 115.0000 - accuracy: 0.9992 - precision: 0.8833 - recall: 0.6483 - auc: 0.9379 - val_loss: 0.0026 - val_tp: 47.0000 - val_fp: 9.0000 - val_tn: 45498.0000 - val_fn: 15.0000 - val_accuracy: 0.9995 - val_precision: 0.8393 - val_recall: 0.7581 - val_auc: 0.9431\n",
            "Epoch 38/100\n",
            "90/90 [==============================] - 1s 6ms/step - loss: 0.0037 - tp: 213.0000 - fp: 27.0000 - tn: 181922.0000 - fn: 114.0000 - accuracy: 0.9992 - precision: 0.8875 - recall: 0.6514 - auc: 0.9244 - val_loss: 0.0026 - val_tp: 48.0000 - val_fp: 10.0000 - val_tn: 45497.0000 - val_fn: 14.0000 - val_accuracy: 0.9995 - val_precision: 0.8276 - val_recall: 0.7742 - val_auc: 0.9350\n",
            "Epoch 39/100\n",
            "90/90 [==============================] - 1s 6ms/step - loss: 0.0036 - tp: 223.0000 - fp: 32.0000 - tn: 181917.0000 - fn: 104.0000 - accuracy: 0.9993 - precision: 0.8745 - recall: 0.6820 - auc: 0.9427 - val_loss: 0.0026 - val_tp: 42.0000 - val_fp: 7.0000 - val_tn: 45500.0000 - val_fn: 20.0000 - val_accuracy: 0.9994 - val_precision: 0.8571 - val_recall: 0.6774 - val_auc: 0.9350\n",
            "Epoch 40/100\n",
            "90/90 [==============================] - 1s 6ms/step - loss: 0.0037 - tp: 214.0000 - fp: 26.0000 - tn: 181923.0000 - fn: 113.0000 - accuracy: 0.9992 - precision: 0.8917 - recall: 0.6544 - auc: 0.9442 - val_loss: 0.0026 - val_tp: 42.0000 - val_fp: 7.0000 - val_tn: 45500.0000 - val_fn: 20.0000 - val_accuracy: 0.9994 - val_precision: 0.8571 - val_recall: 0.6774 - val_auc: 0.9350\n",
            "Epoch 41/100\n",
            "90/90 [==============================] - 1s 6ms/step - loss: 0.0034 - tp: 217.0000 - fp: 27.0000 - tn: 181922.0000 - fn: 110.0000 - accuracy: 0.9992 - precision: 0.8893 - recall: 0.6636 - auc: 0.9382 - val_loss: 0.0027 - val_tp: 47.0000 - val_fp: 10.0000 - val_tn: 45497.0000 - val_fn: 15.0000 - val_accuracy: 0.9995 - val_precision: 0.8246 - val_recall: 0.7581 - val_auc: 0.9351\n",
            "Epoch 42/100\n",
            "90/90 [==============================] - 1s 6ms/step - loss: 0.0036 - tp: 216.0000 - fp: 33.0000 - tn: 181916.0000 - fn: 111.0000 - accuracy: 0.9992 - precision: 0.8675 - recall: 0.6606 - auc: 0.9412 - val_loss: 0.0027 - val_tp: 47.0000 - val_fp: 10.0000 - val_tn: 45497.0000 - val_fn: 15.0000 - val_accuracy: 0.9995 - val_precision: 0.8246 - val_recall: 0.7581 - val_auc: 0.9351\n",
            "Epoch 43/100\n",
            "90/90 [==============================] - 1s 7ms/step - loss: 0.0037 - tp: 211.0000 - fp: 29.0000 - tn: 181920.0000 - fn: 116.0000 - accuracy: 0.9992 - precision: 0.8792 - recall: 0.6453 - auc: 0.9397 - val_loss: 0.0026 - val_tp: 42.0000 - val_fp: 6.0000 - val_tn: 45501.0000 - val_fn: 20.0000 - val_accuracy: 0.9994 - val_precision: 0.8750 - val_recall: 0.6774 - val_auc: 0.9350\n",
            "Epoch 44/100\n",
            "90/90 [==============================] - 1s 6ms/step - loss: 0.0038 - tp: 197.0000 - fp: 25.0000 - tn: 181924.0000 - fn: 130.0000 - accuracy: 0.9991 - precision: 0.8874 - recall: 0.6024 - auc: 0.9381 - val_loss: 0.0027 - val_tp: 48.0000 - val_fp: 10.0000 - val_tn: 45497.0000 - val_fn: 14.0000 - val_accuracy: 0.9995 - val_precision: 0.8276 - val_recall: 0.7742 - val_auc: 0.9430\n",
            "Epoch 45/100\n",
            "90/90 [==============================] - 1s 6ms/step - loss: 0.0037 - tp: 212.0000 - fp: 32.0000 - tn: 181917.0000 - fn: 115.0000 - accuracy: 0.9992 - precision: 0.8689 - recall: 0.6483 - auc: 0.9457 - val_loss: 0.0027 - val_tp: 48.0000 - val_fp: 10.0000 - val_tn: 45497.0000 - val_fn: 14.0000 - val_accuracy: 0.9995 - val_precision: 0.8276 - val_recall: 0.7742 - val_auc: 0.9431\n",
            "Epoch 46/100\n",
            "90/90 [==============================] - 1s 6ms/step - loss: 0.0036 - tp: 215.0000 - fp: 31.0000 - tn: 181918.0000 - fn: 112.0000 - accuracy: 0.9992 - precision: 0.8740 - recall: 0.6575 - auc: 0.9442 - val_loss: 0.0027 - val_tp: 46.0000 - val_fp: 8.0000 - val_tn: 45499.0000 - val_fn: 16.0000 - val_accuracy: 0.9995 - val_precision: 0.8519 - val_recall: 0.7419 - val_auc: 0.9431\n",
            "Epoch 47/100\n",
            "83/90 [==========================>...] - ETA: 0s - loss: 0.0035 - tp: 192.0000 - fp: 25.0000 - tn: 169658.0000 - fn: 109.0000 - accuracy: 0.9992 - precision: 0.8848 - recall: 0.6379 - auc: 0.9412Restoring model weights from the end of the best epoch.\n",
            "90/90 [==============================] - 1s 6ms/step - loss: 0.0035 - tp: 210.0000 - fp: 30.0000 - tn: 181919.0000 - fn: 117.0000 - accuracy: 0.9992 - precision: 0.8750 - recall: 0.6422 - auc: 0.9427 - val_loss: 0.0027 - val_tp: 48.0000 - val_fp: 10.0000 - val_tn: 45497.0000 - val_fn: 14.0000 - val_accuracy: 0.9995 - val_precision: 0.8276 - val_recall: 0.7742 - val_auc: 0.9431\n",
            "Epoch 00047: early stopping\n"
          ],
          "name": "stdout"
        }
      ]
    },
    {
      "cell_type": "code",
      "metadata": {
        "id": "7tW09ANwQ4ls"
      },
      "source": [
        "def plot_metrics(history):\n",
        "  metrics=['loss','auc','precision','recall']\n",
        "  for n,metric in enumerate(metrics):\n",
        "    name=metric.replace(\"-\",\" \").capitalize()\n",
        "    plt.subplot(2,2,n+1)\n",
        "    plt.plot(history.epoch,history.history[metric],color=colors[0],label='Train')\n",
        "    plt.plot(history.epoch, history.history['val_'+metric],color=colors[0], linestyle=\"--\", label='Val')\n",
        "    plt.xlabel('Epoch')\n",
        "    plt.ylabel(name)\n",
        "    if metric == 'loss':\n",
        "      plt.ylim([0, plt.ylim()[1]])\n",
        "    elif metric == 'auc':\n",
        "      plt.ylim([0.8,1])\n",
        "    else:\n",
        "      plt.ylim([0,1])\n",
        "\n",
        "    plt.legend()"
      ],
      "execution_count": null,
      "outputs": []
    },
    {
      "cell_type": "code",
      "metadata": {
        "id": "D2TWLNNuTbqw",
        "colab": {
          "base_uri": "https://localhost:8080/",
          "height": 525
        },
        "outputId": "e27de70d-6c02-41a4-aad9-4c2338ba2076"
      },
      "source": [
        "plot_metrics(baseline_history)"
      ],
      "execution_count": null,
      "outputs": [
        {
          "output_type": "display_data",
          "data": {
            "image/png": "[encoded data removed]",
            "text/plain": [
              "<Figure size 864x720 with 4 Axes>"
            ]
          },
          "metadata": {
            "tags": [],
            "needs_background": "light"
          }
        }
      ]
    },
    {
      "cell_type": "code",
      "metadata": {
        "id": "bgLrC1GuTcqV"
      },
      "source": [
        "train_predictions_baseline = model.predict(train_features, batch_size=BATCH_SIZE)\n",
        "test_predictions_baseline = model.predict(test_features, batch_size=BATCH_SIZE)"
      ],
      "execution_count": null,
      "outputs": []
    },
    {
      "cell_type": "code",
      "metadata": {
        "id": "zCrvUAWpT8T0"
      },
      "source": [
        "def plot_cm(labels,prediction,p=0.5):\n",
        "  cm=confusion_matrix(labels,prediction>p)\n",
        "  plt.figure(figsize=(5,5))\n",
        "  sns.heatmap(cm,annot=True,fmt=\"d\")\n",
        "  plt.title('Confusion matrix @{:.2f}'.format(p))\n",
        "  plt.ylabel('Actual label')\n",
        "  plt.xlabel('Predicted label')\n",
        "  print('Legitimate Transactions Detected (True Negatives): ', cm[0][0])\n",
        "  print('Legitimate Transactions Incorrectly Detected (False Positives): ', cm[0][1])\n",
        "  print('Fraudulent Transactions Missed (False Negatives): ', cm[1][0])\n",
        "  print('Fraudulent Transactions Detected (True Positives): ', cm[1][1])\n",
        "  print('Total Fraudulent Transactions: ', np.sum(cm[1]))"
      ],
      "execution_count": null,
      "outputs": []
    },
    {
      "cell_type": "code",
      "metadata": {
        "id": "gy-O1aABUU6e",
        "colab": {
          "base_uri": "https://localhost:8080/",
          "height": 605
        },
        "outputId": "3fe77351-016b-4d37-ba9b-f4100adce4df"
      },
      "source": [
        "baseline_results = model.evaluate(test_features, test_labels,\n",
        "                                  batch_size=BATCH_SIZE, verbose=0)\n",
        "for name, value in zip(model.metrics_names, baseline_results):\n",
        "  print(name, ': ', value)\n",
        "print()\n",
        "\n",
        "plot_cm(test_labels, test_predictions_baseline)"
      ],
      "execution_count": null,
      "outputs": [
        {
          "output_type": "stream",
          "text": [
            "loss :  0.0029652328230440617\n",
            "tp :  76.0\n",
            "fp :  9.0\n",
            "tn :  56850.0\n",
            "fn :  27.0\n",
            "accuracy :  0.9993680119514465\n",
            "precision :  0.8941176533699036\n",
            "recall :  0.737864077091217\n",
            "auc :  0.9365396499633789\n",
            "\n",
            "Legitimate Transactions Detected (True Negatives):  56850\n",
            "Legitimate Transactions Incorrectly Detected (False Positives):  9\n",
            "Fraudulent Transactions Missed (False Negatives):  27\n",
            "Fraudulent Transactions Detected (True Positives):  76\n",
            "Total Fraudulent Transactions:  103\n"
          ],
          "name": "stdout"
        },
        {
          "output_type": "display_data",
          "data": {
            "image/png": "[encoded data removed]",
            "text/plain": [
              "<Figure size 360x360 with 2 Axes>"
            ]
          },
          "metadata": {
            "tags": [],
            "needs_background": "light"
          }
        }
      ]
    },
    {
      "cell_type": "code",
      "metadata": {
        "id": "xXEtcyClUxQ7"
      },
      "source": [
        "def plot_roc(name, labels, predictions, **kwargs):\n",
        "  fp, tp, _ = sklearn.metrics.roc_curve(labels, predictions)\n",
        "\n",
        "  plt.plot(100*fp, 100*tp, label=name, linewidth=2, **kwargs)\n",
        "  plt.xlabel('False positives [%]')\n",
        "  plt.ylabel('True positives [%]')\n",
        "  plt.xlim([-0.5,20])\n",
        "  plt.ylim([80,100.5])\n",
        "  plt.grid(True)\n",
        "  ax = plt.gca()\n",
        "  ax.set_aspect('equal')"
      ],
      "execution_count": null,
      "outputs": []
    },
    {
      "cell_type": "code",
      "metadata": {
        "id": "E9Km_Ab2VRS_",
        "colab": {
          "base_uri": "https://localhost:8080/",
          "height": 623
        },
        "outputId": "85c54523-6ea2-4be6-d73a-793821702590"
      },
      "source": [
        "plot_roc(\"Train Baseline\", train_labels, train_predictions_baseline, color=colors[0])\n",
        "plot_roc(\"Test Baseline\", test_labels, test_predictions_baseline, color=colors[0], linestyle='--')\n",
        "plt.legend(loc='lower right')"
      ],
      "execution_count": null,
      "outputs": [
        {
          "output_type": "execute_result",
          "data": {
            "text/plain": [
              "<matplotlib.legend.Legend at 0x7f5b822840b8>"
            ]
          },
          "metadata": {
            "tags": []
          },
          "execution_count": 45
        },
        {
          "output_type": "display_data",
          "data": {
            "image/png": "[encoded data removed]",
            "text/plain": [
              "<Figure size 864x720 with 1 Axes>"
            ]
          },
          "metadata": {
            "tags": [],
            "needs_background": "light"
          }
        }
      ]
    },
    {
      "cell_type": "code",
      "metadata": {
        "id": "Twor_TKIVYZA",
        "colab": {
          "base_uri": "https://localhost:8080/",
          "height": 51
        },
        "outputId": "c92ea402-bb9a-4229-845a-80b0f06394f0"
      },
      "source": [
        "weight_for_0=(1/neg)*total/2.0\n",
        "weight_for_1=(1/pos)*total/2.0\n",
        "class_weight = {0: weight_for_0, 1: weight_for_1}\n",
        "\n",
        "print('Weight for class 0: {:.2f}'.format(weight_for_0))\n",
        "print('Weight for class 1: {:.2f}'.format(weight_for_1))\n"
      ],
      "execution_count": null,
      "outputs": [
        {
          "output_type": "stream",
          "text": [
            "Weight for class 0: 0.50\n",
            "Weight for class 1: 289.44\n"
          ],
          "name": "stdout"
        }
      ]
    },
    {
      "cell_type": "code",
      "metadata": {
        "id": "8oEILLaEXhe1",
        "colab": {
          "base_uri": "https://localhost:8080/",
          "height": 989
        },
        "outputId": "8a10eaee-bbfd-41bd-8548-cfd6f992b2ed"
      },
      "source": [
        "weighted_model=make_model()\n",
        "weighted_model.load_weights(initial_weights)\n",
        "weighted_history=weighted_model.fit(train_features,train_labels,batch_size=BATCH_SIZE,epochs=EPOCHS,callbacks = [early_stopping],validation_data=(val_features, val_labels),class_weight=class_weight)"
      ],
      "execution_count": null,
      "outputs": [
        {
          "output_type": "stream",
          "text": [
            "Epoch 1/100\n",
            "90/90 [==============================] - 1s 13ms/step - loss: 1.9812 - tp: 138.0000 - fp: 409.0000 - tn: 238399.0000 - fn: 292.0000 - accuracy: 0.9971 - precision: 0.2523 - recall: 0.3209 - auc: 0.8201 - val_loss: 0.0099 - val_tp: 25.0000 - val_fp: 51.0000 - val_tn: 45456.0000 - val_fn: 37.0000 - val_accuracy: 0.9981 - val_precision: 0.3289 - val_recall: 0.4032 - val_auc: 0.9411\n",
            "Epoch 2/100\n",
            "90/90 [==============================] - 1s 6ms/step - loss: 0.8428 - tp: 179.0000 - fp: 966.0000 - tn: 180983.0000 - fn: 148.0000 - accuracy: 0.9939 - precision: 0.1563 - recall: 0.5474 - auc: 0.9138 - val_loss: 0.0154 - val_tp: 47.0000 - val_fp: 105.0000 - val_tn: 45402.0000 - val_fn: 15.0000 - val_accuracy: 0.9974 - val_precision: 0.3092 - val_recall: 0.7581 - val_auc: 0.9705\n",
            "Epoch 3/100\n",
            "90/90 [==============================] - 1s 6ms/step - loss: 0.5812 - tp: 230.0000 - fp: 1602.0000 - tn: 180347.0000 - fn: 97.0000 - accuracy: 0.9907 - precision: 0.1255 - recall: 0.7034 - auc: 0.9259 - val_loss: 0.0218 - val_tp: 50.0000 - val_fp: 169.0000 - val_tn: 45338.0000 - val_fn: 12.0000 - val_accuracy: 0.9960 - val_precision: 0.2283 - val_recall: 0.8065 - val_auc: 0.9679\n",
            "Epoch 4/100\n",
            "90/90 [==============================] - 1s 6ms/step - loss: 0.4574 - tp: 257.0000 - fp: 2350.0000 - tn: 179599.0000 - fn: 70.0000 - accuracy: 0.9867 - precision: 0.0986 - recall: 0.7859 - auc: 0.9371 - val_loss: 0.0283 - val_tp: 50.0000 - val_fp: 238.0000 - val_tn: 45269.0000 - val_fn: 12.0000 - val_accuracy: 0.9945 - val_precision: 0.1736 - val_recall: 0.8065 - val_auc: 0.9731\n",
            "Epoch 5/100\n",
            "90/90 [==============================] - 1s 6ms/step - loss: 0.3899 - tp: 268.0000 - fp: 2930.0000 - tn: 179019.0000 - fn: 59.0000 - accuracy: 0.9836 - precision: 0.0838 - recall: 0.8196 - auc: 0.9476 - val_loss: 0.0344 - val_tp: 51.0000 - val_fp: 313.0000 - val_tn: 45194.0000 - val_fn: 11.0000 - val_accuracy: 0.9929 - val_precision: 0.1401 - val_recall: 0.8226 - val_auc: 0.9710\n",
            "Epoch 6/100\n",
            "90/90 [==============================] - 1s 6ms/step - loss: 0.3532 - tp: 269.0000 - fp: 3602.0000 - tn: 178347.0000 - fn: 58.0000 - accuracy: 0.9799 - precision: 0.0695 - recall: 0.8226 - auc: 0.9548 - val_loss: 0.0414 - val_tp: 52.0000 - val_fp: 429.0000 - val_tn: 45078.0000 - val_fn: 10.0000 - val_accuracy: 0.9904 - val_precision: 0.1081 - val_recall: 0.8387 - val_auc: 0.9730\n",
            "Epoch 7/100\n",
            "90/90 [==============================] - 1s 7ms/step - loss: 0.3671 - tp: 269.0000 - fp: 4392.0000 - tn: 177557.0000 - fn: 58.0000 - accuracy: 0.9756 - precision: 0.0577 - recall: 0.8226 - auc: 0.9453 - val_loss: 0.0492 - val_tp: 53.0000 - val_fp: 602.0000 - val_tn: 44905.0000 - val_fn: 9.0000 - val_accuracy: 0.9866 - val_precision: 0.0809 - val_recall: 0.8548 - val_auc: 0.9743\n",
            "Epoch 8/100\n",
            "90/90 [==============================] - 1s 6ms/step - loss: 0.3476 - tp: 275.0000 - fp: 5058.0000 - tn: 176891.0000 - fn: 52.0000 - accuracy: 0.9720 - precision: 0.0516 - recall: 0.8410 - auc: 0.9500 - val_loss: 0.0573 - val_tp: 55.0000 - val_fp: 697.0000 - val_tn: 44810.0000 - val_fn: 7.0000 - val_accuracy: 0.9846 - val_precision: 0.0731 - val_recall: 0.8871 - val_auc: 0.9781\n",
            "Epoch 9/100\n",
            "90/90 [==============================] - 1s 7ms/step - loss: 0.3328 - tp: 279.0000 - fp: 5559.0000 - tn: 176390.0000 - fn: 48.0000 - accuracy: 0.9692 - precision: 0.0478 - recall: 0.8532 - auc: 0.9518 - val_loss: 0.0628 - val_tp: 55.0000 - val_fp: 769.0000 - val_tn: 44738.0000 - val_fn: 7.0000 - val_accuracy: 0.9830 - val_precision: 0.0667 - val_recall: 0.8871 - val_auc: 0.9786\n",
            "Epoch 10/100\n",
            "90/90 [==============================] - 1s 6ms/step - loss: 0.3221 - tp: 277.0000 - fp: 6065.0000 - tn: 175884.0000 - fn: 50.0000 - accuracy: 0.9665 - precision: 0.0437 - recall: 0.8471 - auc: 0.9529 - val_loss: 0.0685 - val_tp: 56.0000 - val_fp: 865.0000 - val_tn: 44642.0000 - val_fn: 6.0000 - val_accuracy: 0.9809 - val_precision: 0.0608 - val_recall: 0.9032 - val_auc: 0.9788\n",
            "Epoch 11/100\n",
            "90/90 [==============================] - 1s 7ms/step - loss: 0.3196 - tp: 281.0000 - fp: 6228.0000 - tn: 175721.0000 - fn: 46.0000 - accuracy: 0.9656 - precision: 0.0432 - recall: 0.8593 - auc: 0.9533 - val_loss: 0.0748 - val_tp: 56.0000 - val_fp: 949.0000 - val_tn: 44558.0000 - val_fn: 6.0000 - val_accuracy: 0.9790 - val_precision: 0.0557 - val_recall: 0.9032 - val_auc: 0.9782\n",
            "Epoch 12/100\n",
            "90/90 [==============================] - 1s 6ms/step - loss: 0.2568 - tp: 285.0000 - fp: 6817.0000 - tn: 175132.0000 - fn: 42.0000 - accuracy: 0.9624 - precision: 0.0401 - recall: 0.8716 - auc: 0.9665 - val_loss: 0.0791 - val_tp: 56.0000 - val_fp: 991.0000 - val_tn: 44516.0000 - val_fn: 6.0000 - val_accuracy: 0.9781 - val_precision: 0.0535 - val_recall: 0.9032 - val_auc: 0.9780\n",
            "Epoch 13/100\n",
            "90/90 [==============================] - 1s 6ms/step - loss: 0.2728 - tp: 290.0000 - fp: 6898.0000 - tn: 175051.0000 - fn: 37.0000 - accuracy: 0.9620 - precision: 0.0403 - recall: 0.8869 - auc: 0.9599 - val_loss: 0.0784 - val_tp: 56.0000 - val_fp: 960.0000 - val_tn: 44547.0000 - val_fn: 6.0000 - val_accuracy: 0.9788 - val_precision: 0.0551 - val_recall: 0.9032 - val_auc: 0.9782\n",
            "Epoch 14/100\n",
            "90/90 [==============================] - 1s 6ms/step - loss: 0.2804 - tp: 286.0000 - fp: 6820.0000 - tn: 175129.0000 - fn: 41.0000 - accuracy: 0.9624 - precision: 0.0402 - recall: 0.8746 - auc: 0.9580 - val_loss: 0.0798 - val_tp: 56.0000 - val_fp: 986.0000 - val_tn: 44521.0000 - val_fn: 6.0000 - val_accuracy: 0.9782 - val_precision: 0.0537 - val_recall: 0.9032 - val_auc: 0.9776\n",
            "Epoch 15/100\n",
            "90/90 [==============================] - 1s 6ms/step - loss: 0.2695 - tp: 284.0000 - fp: 6931.0000 - tn: 175018.0000 - fn: 43.0000 - accuracy: 0.9617 - precision: 0.0394 - recall: 0.8685 - auc: 0.9630 - val_loss: 0.0839 - val_tp: 56.0000 - val_fp: 1027.0000 - val_tn: 44480.0000 - val_fn: 6.0000 - val_accuracy: 0.9773 - val_precision: 0.0517 - val_recall: 0.9032 - val_auc: 0.9801\n",
            "Epoch 16/100\n",
            "90/90 [==============================] - 1s 6ms/step - loss: 0.2420 - tp: 293.0000 - fp: 7010.0000 - tn: 174939.0000 - fn: 34.0000 - accuracy: 0.9614 - precision: 0.0401 - recall: 0.8960 - auc: 0.9665 - val_loss: 0.0815 - val_tp: 56.0000 - val_fp: 991.0000 - val_tn: 44516.0000 - val_fn: 6.0000 - val_accuracy: 0.9781 - val_precision: 0.0535 - val_recall: 0.9032 - val_auc: 0.9803\n",
            "Epoch 17/100\n",
            "90/90 [==============================] - 1s 6ms/step - loss: 0.2964 - tp: 288.0000 - fp: 6751.0000 - tn: 175198.0000 - fn: 39.0000 - accuracy: 0.9627 - precision: 0.0409 - recall: 0.8807 - auc: 0.9504 - val_loss: 0.0789 - val_tp: 56.0000 - val_fp: 957.0000 - val_tn: 44550.0000 - val_fn: 6.0000 - val_accuracy: 0.9789 - val_precision: 0.0553 - val_recall: 0.9032 - val_auc: 0.9803\n",
            "Epoch 18/100\n",
            "90/90 [==============================] - 1s 6ms/step - loss: 0.2414 - tp: 291.0000 - fp: 6452.0000 - tn: 175497.0000 - fn: 36.0000 - accuracy: 0.9644 - precision: 0.0432 - recall: 0.8899 - auc: 0.9649 - val_loss: 0.0789 - val_tp: 56.0000 - val_fp: 939.0000 - val_tn: 44568.0000 - val_fn: 6.0000 - val_accuracy: 0.9793 - val_precision: 0.0563 - val_recall: 0.9032 - val_auc: 0.9795\n",
            "Epoch 19/100\n",
            "90/90 [==============================] - 1s 6ms/step - loss: 0.2259 - tp: 296.0000 - fp: 6527.0000 - tn: 175422.0000 - fn: 31.0000 - accuracy: 0.9640 - precision: 0.0434 - recall: 0.9052 - auc: 0.9695 - val_loss: 0.0763 - val_tp: 56.0000 - val_fp: 910.0000 - val_tn: 44597.0000 - val_fn: 6.0000 - val_accuracy: 0.9799 - val_precision: 0.0580 - val_recall: 0.9032 - val_auc: 0.9800\n",
            "Epoch 20/100\n",
            "90/90 [==============================] - 1s 6ms/step - loss: 0.2835 - tp: 284.0000 - fp: 6267.0000 - tn: 175682.0000 - fn: 43.0000 - accuracy: 0.9654 - precision: 0.0434 - recall: 0.8685 - auc: 0.9568 - val_loss: 0.0787 - val_tp: 56.0000 - val_fp: 938.0000 - val_tn: 44569.0000 - val_fn: 6.0000 - val_accuracy: 0.9793 - val_precision: 0.0563 - val_recall: 0.9032 - val_auc: 0.9798\n",
            "Epoch 21/100\n",
            "90/90 [==============================] - 1s 7ms/step - loss: 0.2317 - tp: 290.0000 - fp: 6213.0000 - tn: 175736.0000 - fn: 37.0000 - accuracy: 0.9657 - precision: 0.0446 - recall: 0.8869 - auc: 0.9708 - val_loss: 0.0804 - val_tp: 56.0000 - val_fp: 954.0000 - val_tn: 44553.0000 - val_fn: 6.0000 - val_accuracy: 0.9789 - val_precision: 0.0554 - val_recall: 0.9032 - val_auc: 0.9783\n",
            "Epoch 22/100\n",
            "90/90 [==============================] - 1s 6ms/step - loss: 0.2442 - tp: 286.0000 - fp: 6765.0000 - tn: 175184.0000 - fn: 41.0000 - accuracy: 0.9627 - precision: 0.0406 - recall: 0.8746 - auc: 0.9665 - val_loss: 0.0835 - val_tp: 56.0000 - val_fp: 980.0000 - val_tn: 44527.0000 - val_fn: 6.0000 - val_accuracy: 0.9784 - val_precision: 0.0541 - val_recall: 0.9032 - val_auc: 0.9780\n",
            "Epoch 23/100\n",
            "90/90 [==============================] - 1s 6ms/step - loss: 0.2178 - tp: 292.0000 - fp: 6940.0000 - tn: 175009.0000 - fn: 35.0000 - accuracy: 0.9617 - precision: 0.0404 - recall: 0.8930 - auc: 0.9736 - val_loss: 0.0831 - val_tp: 56.0000 - val_fp: 972.0000 - val_tn: 44535.0000 - val_fn: 6.0000 - val_accuracy: 0.9785 - val_precision: 0.0545 - val_recall: 0.9032 - val_auc: 0.9781\n",
            "Epoch 24/100\n",
            "90/90 [==============================] - 1s 7ms/step - loss: 0.2274 - tp: 293.0000 - fp: 6643.0000 - tn: 175306.0000 - fn: 34.0000 - accuracy: 0.9634 - precision: 0.0422 - recall: 0.8960 - auc: 0.9708 - val_loss: 0.0816 - val_tp: 56.0000 - val_fp: 940.0000 - val_tn: 44567.0000 - val_fn: 6.0000 - val_accuracy: 0.9792 - val_precision: 0.0562 - val_recall: 0.9032 - val_auc: 0.9779\n",
            "Epoch 25/100\n",
            "90/90 [==============================] - 1s 6ms/step - loss: 0.2319 - tp: 290.0000 - fp: 6501.0000 - tn: 175448.0000 - fn: 37.0000 - accuracy: 0.9641 - precision: 0.0427 - recall: 0.8869 - auc: 0.9711 - val_loss: 0.0827 - val_tp: 56.0000 - val_fp: 961.0000 - val_tn: 44546.0000 - val_fn: 6.0000 - val_accuracy: 0.9788 - val_precision: 0.0551 - val_recall: 0.9032 - val_auc: 0.9781\n",
            "Epoch 26/100\n",
            "90/90 [==============================] - 1s 7ms/step - loss: 0.2460 - tp: 292.0000 - fp: 6443.0000 - tn: 175506.0000 - fn: 35.0000 - accuracy: 0.9645 - precision: 0.0434 - recall: 0.8930 - auc: 0.9647 - val_loss: 0.0821 - val_tp: 56.0000 - val_fp: 942.0000 - val_tn: 44565.0000 - val_fn: 6.0000 - val_accuracy: 0.9792 - val_precision: 0.0561 - val_recall: 0.9032 - val_auc: 0.9779\n",
            "Epoch 27/100\n",
            "83/90 [==========================>...] - ETA: 0s - loss: 0.2149 - tp: 277.0000 - fp: 6174.0000 - tn: 163499.0000 - fn: 34.0000 - accuracy: 0.9635 - precision: 0.0429 - recall: 0.8907 - auc: 0.9729Restoring model weights from the end of the best epoch.\n",
            "90/90 [==============================] - 1s 6ms/step - loss: 0.2092 - tp: 292.0000 - fp: 6647.0000 - tn: 175302.0000 - fn: 35.0000 - accuracy: 0.9633 - precision: 0.0421 - recall: 0.8930 - auc: 0.9736 - val_loss: 0.0859 - val_tp: 56.0000 - val_fp: 997.0000 - val_tn: 44510.0000 - val_fn: 6.0000 - val_accuracy: 0.9780 - val_precision: 0.0532 - val_recall: 0.9032 - val_auc: 0.9777\n",
            "Epoch 00027: early stopping\n"
          ],
          "name": "stdout"
        }
      ]
    },
    {
      "cell_type": "code",
      "metadata": {
        "id": "hHhL513mYAbv",
        "colab": {
          "base_uri": "https://localhost:8080/",
          "height": 529
        },
        "outputId": "6bb5dc74-f898-415c-a0a2-76585e1306f2"
      },
      "source": [
        "plot_metrics(weighted_history)"
      ],
      "execution_count": null,
      "outputs": [
        {
          "output_type": "display_data",
          "data": {
            "image/png": "[encoded data removed]",
            "text/plain": [
              "<Figure size 864x720 with 4 Axes>"
            ]
          },
          "metadata": {
            "tags": [],
            "needs_background": "light"
          }
        }
      ]
    },
    {
      "cell_type": "code",
      "metadata": {
        "id": "_PQWZawBYC3Q"
      },
      "source": [
        "train_predictions_weighted = weighted_model.predict(train_features, batch_size=BATCH_SIZE)\n",
        "test_predictions_weighted = weighted_model.predict(test_features, batch_size=BATCH_SIZE)"
      ],
      "execution_count": null,
      "outputs": []
    },
    {
      "cell_type": "code",
      "metadata": {
        "id": "rijNDMplYsMO",
        "colab": {
          "base_uri": "https://localhost:8080/",
          "height": 605
        },
        "outputId": "e900af5b-564a-4061-81d8-916769b04795"
      },
      "source": [
        "weighted_results = weighted_model.evaluate(test_features, test_labels,\n",
        "                                           batch_size=BATCH_SIZE, verbose=0)\n",
        "for name, value in zip(weighted_model.metrics_names, weighted_results):\n",
        "  print(name, ': ', value)\n",
        "print()\n",
        "\n",
        "plot_cm(test_labels, test_predictions_weighted)"
      ],
      "execution_count": null,
      "outputs": [
        {
          "output_type": "stream",
          "text": [
            "loss :  0.07664217054843903\n",
            "tp :  93.0\n",
            "fp :  1146.0\n",
            "tn :  55713.0\n",
            "fn :  10.0\n",
            "accuracy :  0.9797057509422302\n",
            "precision :  0.07506053149700165\n",
            "recall :  0.9029126167297363\n",
            "auc :  0.9841302633285522\n",
            "\n",
            "Legitimate Transactions Detected (True Negatives):  55713\n",
            "Legitimate Transactions Incorrectly Detected (False Positives):  1146\n",
            "Fraudulent Transactions Missed (False Negatives):  10\n",
            "Fraudulent Transactions Detected (True Positives):  93\n",
            "Total Fraudulent Transactions:  103\n"
          ],
          "name": "stdout"
        },
        {
          "output_type": "display_data",
          "data": {
            "image/png": "[encoded data removed]",
            "text/plain": [
              "<Figure size 360x360 with 2 Axes>"
            ]
          },
          "metadata": {
            "tags": [],
            "needs_background": "light"
          }
        }
      ]
    },
    {
      "cell_type": "code",
      "metadata": {
        "id": "h6s8_ioAYtDC",
        "colab": {
          "base_uri": "https://localhost:8080/",
          "height": 623
        },
        "outputId": "252d2ab6-8c29-4405-8c97-5abc67ee096d"
      },
      "source": [
        "plot_roc(\"Train Baseline\", train_labels, train_predictions_baseline, color=colors[0])\n",
        "plot_roc(\"Test Baseline\", test_labels, test_predictions_baseline, color=colors[0], linestyle='--')\n",
        "\n",
        "plot_roc(\"Train Weighted\", train_labels, train_predictions_weighted, color=colors[1])\n",
        "plot_roc(\"Test Weighted\", test_labels, test_predictions_weighted, color=colors[1], linestyle='--')\n",
        "\n",
        "\n",
        "plt.legend(loc='lower right')"
      ],
      "execution_count": null,
      "outputs": [
        {
          "output_type": "execute_result",
          "data": {
            "text/plain": [
              "<matplotlib.legend.Legend at 0x7f5b8198fc18>"
            ]
          },
          "metadata": {
            "tags": []
          },
          "execution_count": 51
        },
        {
          "output_type": "display_data",
          "data": {
            "image/png": "[encoded data removed]",
            "text/plain": [
              "<Figure size 864x720 with 1 Axes>"
            ]
          },
          "metadata": {
            "tags": [],
            "needs_background": "light"
          }
        }
      ]
    },
    {
      "cell_type": "code",
      "metadata": {
        "id": "ywVSkCyRZOmq"
      },
      "source": [
        "pos_features=train_features[bool_train_labels]\n",
        "neg_features=train_features[~bool_train_labels]"
      ],
      "execution_count": null,
      "outputs": []
    },
    {
      "cell_type": "code",
      "metadata": {
        "id": "yRb5eYtRaWuh"
      },
      "source": [
        "pos_labels = train_labels[bool_train_labels]\n",
        "neg_labels = train_labels[~bool_train_labels]"
      ],
      "execution_count": null,
      "outputs": []
    },
    {
      "cell_type": "code",
      "metadata": {
        "id": "5cgIdR4QaYIi",
        "colab": {
          "base_uri": "https://localhost:8080/",
          "height": 34
        },
        "outputId": "a428633f-efa2-4869-d2b2-4a6ec7fa6ee2"
      },
      "source": [
        "len(neg_features)"
      ],
      "execution_count": null,
      "outputs": [
        {
          "output_type": "execute_result",
          "data": {
            "text/plain": [
              "181949"
            ]
          },
          "metadata": {
            "tags": []
          },
          "execution_count": 54
        }
      ]
    },
    {
      "cell_type": "code",
      "metadata": {
        "id": "4a2omqokbOw5",
        "colab": {
          "base_uri": "https://localhost:8080/",
          "height": 34
        },
        "outputId": "5595e0c8-a461-465e-ec2a-501b65da2d76"
      },
      "source": [
        "np.random.choice(29,10)"
      ],
      "execution_count": null,
      "outputs": [
        {
          "output_type": "execute_result",
          "data": {
            "text/plain": [
              "array([28,  3, 22,  6, 16,  7, 13, 19,  5, 17])"
            ]
          },
          "metadata": {
            "tags": []
          },
          "execution_count": 55
        }
      ]
    },
    {
      "cell_type": "code",
      "metadata": {
        "id": "uQQ0_V9Waj8Q"
      },
      "source": [
        "ids=np.arange(len(pos_features))\n",
        "choices = np.random.choice(ids, len(neg_features))\n",
        "res_pos_features=pos_features[choices]\n",
        "res_pos_labels=pos_labels[choices]"
      ],
      "execution_count": null,
      "outputs": []
    },
    {
      "cell_type": "code",
      "metadata": {
        "id": "av5lXJ_TlvM9",
        "colab": {
          "base_uri": "https://localhost:8080/",
          "height": 34
        },
        "outputId": "e869931f-8011-4ca6-9204-a7b8d0fadc01"
      },
      "source": [
        "choices"
      ],
      "execution_count": null,
      "outputs": [
        {
          "output_type": "execute_result",
          "data": {
            "text/plain": [
              "array([180,  59, 272, ...,   0,   0, 106])"
            ]
          },
          "metadata": {
            "tags": []
          },
          "execution_count": 61
        }
      ]
    },
    {
      "cell_type": "code",
      "metadata": {
        "id": "xMsLEHPVl3QS",
        "colab": {
          "base_uri": "https://localhost:8080/",
          "height": 34
        },
        "outputId": "a19788d5-3108-4a45-da29-540a9292d9ff"
      },
      "source": [
        "len(pos_features)"
      ],
      "execution_count": null,
      "outputs": [
        {
          "output_type": "execute_result",
          "data": {
            "text/plain": [
              "327"
            ]
          },
          "metadata": {
            "tags": []
          },
          "execution_count": 62
        }
      ]
    },
    {
      "cell_type": "code",
      "metadata": {
        "id": "-YflZNrgl7VQ",
        "colab": {
          "base_uri": "https://localhost:8080/",
          "height": 34
        },
        "outputId": "289ab253-e943-4cef-fe77-5957c09d1c9d"
      },
      "source": [
        "res_pos_features.shape"
      ],
      "execution_count": null,
      "outputs": [
        {
          "output_type": "execute_result",
          "data": {
            "text/plain": [
              "(181949, 29)"
            ]
          },
          "metadata": {
            "tags": []
          },
          "execution_count": 64
        }
      ]
    },
    {
      "cell_type": "code",
      "metadata": {
        "id": "nnCSpP7-mCXs",
        "colab": {
          "base_uri": "https://localhost:8080/",
          "height": 34
        },
        "outputId": "c98b54a5-e371-4a27-d1c7-526b3436e98d"
      },
      "source": [
        "pos_features.shape"
      ],
      "execution_count": null,
      "outputs": [
        {
          "output_type": "execute_result",
          "data": {
            "text/plain": [
              "(327, 29)"
            ]
          },
          "metadata": {
            "tags": []
          },
          "execution_count": 65
        }
      ]
    },
    {
      "cell_type": "code",
      "metadata": {
        "id": "kapWwAgNmPqe",
        "colab": {
          "base_uri": "https://localhost:8080/",
          "height": 238
        },
        "outputId": "19473e4e-2147-4572-fdec-a4dc68061179"
      },
      "source": [
        "pos_features"
      ],
      "execution_count": null,
      "outputs": [
        {
          "output_type": "execute_result",
          "data": {
            "text/plain": [
              "array([[-3.0671786 , -4.37535592, -3.5595913 , ...,  1.40824455,\n",
              "        -3.2009021 ,  1.35966088],\n",
              "       [-0.90284591,  1.98429093, -2.74393231, ...,  2.64440365,\n",
              "         1.55161519, -1.45869897],\n",
              "       [ 0.93858426,  0.45190475, -0.74899869, ...,  0.10278157,\n",
              "         0.07116578, -0.04443074],\n",
              "       ...,\n",
              "       [-2.81681572,  2.02257347, -3.96115681, ..., -4.81658835,\n",
              "         4.70933177, -3.69325925],\n",
              "       [-0.79897644,  1.02863487, -0.59730034, ...,  0.98391159,\n",
              "         0.08599339,  1.45662726],\n",
              "       [-1.65106636, -0.2224726 , -0.83411923, ...,  2.15480752,\n",
              "        -1.34156458, -0.57900702]])"
            ]
          },
          "metadata": {
            "tags": []
          },
          "execution_count": 67
        }
      ]
    },
    {
      "cell_type": "code",
      "metadata": {
        "id": "KlduJfBamLYs",
        "colab": {
          "base_uri": "https://localhost:8080/",
          "height": 119
        },
        "outputId": "f642d6d7-bec3-458d-e3b8-f6471525eb88"
      },
      "source": [
        "pos_features[1]"
      ],
      "execution_count": null,
      "outputs": [
        {
          "output_type": "execute_result",
          "data": {
            "text/plain": [
              "array([-0.90284591,  1.98429093, -2.74393231,  2.76545563, -1.27491867,\n",
              "       -0.75734637, -3.48591839,  1.30547547, -2.99481942, -5.        ,\n",
              "        4.41647142, -5.        , -0.12403273, -5.        ,  0.12247102,\n",
              "       -5.        , -5.        , -2.85303152,  3.90599297,  1.12573371,\n",
              "        1.23523623,  0.07589694, -0.5932269 , -1.28288471,  0.5590904 ,\n",
              "        0.0556893 ,  2.64440365,  1.55161519, -1.45869897])"
            ]
          },
          "metadata": {
            "tags": []
          },
          "execution_count": 66
        }
      ]
    },
    {
      "cell_type": "code",
      "metadata": {
        "id": "5VNC_DyYmOvV"
      },
      "source": [
        "resampled_features=np.concatenate([res_pos_features,neg_features],axis=0)\n",
        "resampled_labels = np.concatenate([res_pos_labels, neg_labels], axis=0)"
      ],
      "execution_count": null,
      "outputs": []
    },
    {
      "cell_type": "code",
      "metadata": {
        "id": "I6hPYG4rmi0c",
        "colab": {
          "base_uri": "https://localhost:8080/",
          "height": 34
        },
        "outputId": "49d12493-add6-4a31-e39a-1a491eaf3cd3"
      },
      "source": [
        "order=np.arange(len(resampled_labels))\n",
        "order"
      ],
      "execution_count": null,
      "outputs": [
        {
          "output_type": "execute_result",
          "data": {
            "text/plain": [
              "array([     0,      1,      2, ..., 363895, 363896, 363897])"
            ]
          },
          "metadata": {
            "tags": []
          },
          "execution_count": 69
        }
      ]
    },
    {
      "cell_type": "code",
      "metadata": {
        "id": "KFCc1jgWmolK"
      },
      "source": [
        "np.random.shuffle(order)\n"
      ],
      "execution_count": null,
      "outputs": []
    },
    {
      "cell_type": "code",
      "metadata": {
        "id": "zPwwXH9HmrzX",
        "colab": {
          "base_uri": "https://localhost:8080/",
          "height": 34
        },
        "outputId": "95211298-15b2-47a6-a8f4-6e57ee999de0"
      },
      "source": [
        "resampled_features.shape"
      ],
      "execution_count": null,
      "outputs": [
        {
          "output_type": "execute_result",
          "data": {
            "text/plain": [
              "(363898, 29)"
            ]
          },
          "metadata": {
            "tags": []
          },
          "execution_count": 72
        }
      ]
    },
    {
      "cell_type": "code",
      "metadata": {
        "id": "Gw96qDUgmu_R",
        "colab": {
          "base_uri": "https://localhost:8080/",
          "height": 34
        },
        "outputId": "17877acf-fa01-4fb9-e231-5c710013fd8c"
      },
      "source": [
        "resampled_features = resampled_features[order]\n",
        "resampled_labels = resampled_labels[order]\n",
        "\n",
        "resampled_features.shape\n"
      ],
      "execution_count": null,
      "outputs": [
        {
          "output_type": "execute_result",
          "data": {
            "text/plain": [
              "(363898, 29)"
            ]
          },
          "metadata": {
            "tags": []
          },
          "execution_count": 75
        }
      ]
    },
    {
      "cell_type": "code",
      "metadata": {
        "id": "o1q4VVdcm1dX"
      },
      "source": [
        "BUFFER_SIZE=100000\n",
        "def make_ds(features,labels):\n",
        "  ds=tf.data.Dataset.from_tensor_slices((features,labels))\n",
        "  ds=ds.shuffle(BUFFER_SIZE).repeat()\n",
        "  return ds"
      ],
      "execution_count": null,
      "outputs": []
    },
    {
      "cell_type": "code",
      "metadata": {
        "id": "kkuhjAH3nhRy"
      },
      "source": [
        "pos_ds = make_ds(pos_features, pos_labels)\n",
        "neg_ds = make_ds(neg_features, neg_labels)"
      ],
      "execution_count": null,
      "outputs": []
    },
    {
      "cell_type": "code",
      "metadata": {
        "id": "-QHFZvb2n08X",
        "colab": {
          "base_uri": "https://localhost:8080/",
          "height": 153
        },
        "outputId": "a953f96c-61ef-42f7-f20d-000e7c15eb7d"
      },
      "source": [
        "for features, label in pos_ds.take(1):\n",
        "  print(\"Features:\\n\", features.numpy())\n",
        "  print()\n",
        "  print(\"Label: \", label.numpy())"
      ],
      "execution_count": null,
      "outputs": [
        {
          "output_type": "stream",
          "text": [
            "Features:\n",
            " [-0.0528988   1.69792449 -4.24355606  2.28817447 -1.18645028 -2.08263048\n",
            " -1.86851745  0.80413657 -1.72309934 -4.49974716  2.98136973 -5.\n",
            " -1.47277141 -5.          2.18355503 -4.35069153 -2.9273054  -1.03167452\n",
            "  2.85627366  0.43784419  0.87777483  0.17717376  0.33046451  0.01375001\n",
            " -0.33669863  1.19442047  0.38133921 -0.30363534  0.79574158]\n",
            "\n",
            "Label:  1\n"
          ],
          "name": "stdout"
        }
      ]
    },
    {
      "cell_type": "code",
      "metadata": {
        "id": "PTa-buZtn6Dr"
      },
      "source": [
        "resampled_ds=tf.data.experimental.sample_from_datasets([pos_ds,neg_ds],weights=[0.5,0.5])\n",
        "resampled_ds=resampled_ds.batch(BATCH_SIZE).prefetch(2)"
      ],
      "execution_count": null,
      "outputs": []
    },
    {
      "cell_type": "code",
      "metadata": {
        "id": "n8B8mbNgo3xb"
      },
      "source": [
        "next(iter(resampled_ds))"
      ],
      "execution_count": null,
      "outputs": []
    },
    {
      "cell_type": "code",
      "metadata": {
        "id": "enb9B6Zjo-ao",
        "colab": {
          "base_uri": "https://localhost:8080/",
          "height": 34
        },
        "outputId": "7dad856e-f108-4887-bb91-db5ee9ecc90d"
      },
      "source": [
        "resampled_steps_per_epoch = np.ceil(2.0*neg/BATCH_SIZE)\n",
        "resampled_steps_per_epoch\n"
      ],
      "execution_count": null,
      "outputs": [
        {
          "output_type": "execute_result",
          "data": {
            "text/plain": [
              "278.0"
            ]
          },
          "metadata": {
            "tags": []
          },
          "execution_count": 87
        }
      ]
    },
    {
      "cell_type": "code",
      "metadata": {
        "id": "iiMDCgsWpczH",
        "colab": {
          "base_uri": "https://localhost:8080/",
          "height": 272
        },
        "outputId": "cadc9b5e-c3bc-46e4-e98c-ef1b430a2ab7"
      },
      "source": [
        "next(iter(resampled_ds))"
      ],
      "execution_count": null,
      "outputs": [
        {
          "output_type": "execute_result",
          "data": {
            "text/plain": [
              "(<tf.Tensor: shape=(2048, 29), dtype=float64, numpy=\n",
              " array([[-0.19935683,  0.58825106,  0.76137184, ...,  0.58079568,\n",
              "          0.25907797, -0.46497688],\n",
              "        [-0.32617243,  0.73389079, -0.50805692, ..., -3.22696692,\n",
              "         -1.08775693, -0.31900049],\n",
              "        [-0.57554983,  0.37167554,  0.8439351 , ...,  0.59277019,\n",
              "          0.56674477,  1.245974  ],\n",
              "        ...,\n",
              "        [ 1.00492863, -0.93762584, -0.83964672, ...,  0.32266011,\n",
              "         -0.1145916 ,  0.53495577],\n",
              "        [-1.41329462, -4.12024178, -1.22191778, ..., -1.08248672,\n",
              "          1.02522244,  2.30995796],\n",
              "        [-1.65106636, -0.2224726 , -0.83411923, ...,  2.15480752,\n",
              "         -1.34156458, -0.57900702]])>,\n",
              " <tf.Tensor: shape=(2048,), dtype=int64, numpy=array([0, 0, 0, ..., 0, 0, 1])>)"
            ]
          },
          "metadata": {
            "tags": []
          },
          "execution_count": 89
        }
      ]
    },
    {
      "cell_type": "code",
      "metadata": {
        "id": "iAkc8d8Gqm4Y",
        "colab": {
          "base_uri": "https://localhost:8080/",
          "height": 853
        },
        "outputId": "2ccf69a8-aeb6-469d-eb64-b0baadc40eb5"
      },
      "source": [
        "resampled_model = make_model()\n",
        "resampled_model.load_weights(initial_weights)\n",
        "output_layer = resampled_model.layers[-1] \n",
        "output_layer.bias.assign([0])\n",
        "\n",
        "val_ds = tf.data.Dataset.from_tensor_slices((val_features, val_labels)).cache()\n",
        "val_ds = val_ds.batch(BATCH_SIZE).prefetch(2) \n",
        "\n",
        "resampled_history = resampled_model.fit(\n",
        "    resampled_ds,\n",
        "    epochs=EPOCHS,\n",
        "    steps_per_epoch=resampled_steps_per_epoch,\n",
        "    callbacks = [early_stopping],\n",
        "    validation_data=val_ds)"
      ],
      "execution_count": null,
      "outputs": [
        {
          "output_type": "stream",
          "text": [
            "Epoch 1/100\n",
            "278/278 [==============================] - 5s 17ms/step - loss: 0.3589 - tp: 249401.0000 - fp: 60674.0000 - tn: 281272.0000 - fn: 34959.0000 - accuracy: 0.8473 - precision: 0.8043 - recall: 0.8771 - auc: 0.9358 - val_loss: 0.1885 - val_tp: 57.0000 - val_fp: 1243.0000 - val_tn: 44264.0000 - val_fn: 5.0000 - val_accuracy: 0.9726 - val_precision: 0.0438 - val_recall: 0.9194 - val_auc: 0.9723\n",
            "Epoch 2/100\n",
            "278/278 [==============================] - 4s 15ms/step - loss: 0.1878 - tp: 259874.0000 - fp: 15761.0000 - tn: 268609.0000 - fn: 25100.0000 - accuracy: 0.9282 - precision: 0.9428 - recall: 0.9119 - auc: 0.9766 - val_loss: 0.1048 - val_tp: 57.0000 - val_fp: 960.0000 - val_tn: 44547.0000 - val_fn: 5.0000 - val_accuracy: 0.9788 - val_precision: 0.0560 - val_recall: 0.9194 - val_auc: 0.9690\n",
            "Epoch 3/100\n",
            "278/278 [==============================] - 4s 15ms/step - loss: 0.1487 - tp: 262630.0000 - fp: 10616.0000 - tn: 273742.0000 - fn: 22356.0000 - accuracy: 0.9421 - precision: 0.9611 - recall: 0.9216 - auc: 0.9855 - val_loss: 0.0799 - val_tp: 57.0000 - val_fp: 782.0000 - val_tn: 44725.0000 - val_fn: 5.0000 - val_accuracy: 0.9827 - val_precision: 0.0679 - val_recall: 0.9194 - val_auc: 0.9688\n",
            "Epoch 4/100\n",
            "278/278 [==============================] - 4s 15ms/step - loss: 0.1290 - tp: 264534.0000 - fp: 8902.0000 - tn: 275300.0000 - fn: 20608.0000 - accuracy: 0.9482 - precision: 0.9674 - recall: 0.9277 - auc: 0.9897 - val_loss: 0.0679 - val_tp: 56.0000 - val_fp: 676.0000 - val_tn: 44831.0000 - val_fn: 6.0000 - val_accuracy: 0.9850 - val_precision: 0.0765 - val_recall: 0.9032 - val_auc: 0.9675\n",
            "Epoch 5/100\n",
            "278/278 [==============================] - 4s 15ms/step - loss: 0.1168 - tp: 265706.0000 - fp: 7819.0000 - tn: 277364.0000 - fn: 18455.0000 - accuracy: 0.9539 - precision: 0.9714 - recall: 0.9351 - auc: 0.9919 - val_loss: 0.0610 - val_tp: 56.0000 - val_fp: 640.0000 - val_tn: 44867.0000 - val_fn: 6.0000 - val_accuracy: 0.9858 - val_precision: 0.0805 - val_recall: 0.9032 - val_auc: 0.9702\n",
            "Epoch 6/100\n",
            "278/278 [==============================] - 4s 16ms/step - loss: 0.1073 - tp: 268199.0000 - fp: 7192.0000 - tn: 277773.0000 - fn: 16180.0000 - accuracy: 0.9589 - precision: 0.9739 - recall: 0.9431 - auc: 0.9934 - val_loss: 0.0564 - val_tp: 56.0000 - val_fp: 633.0000 - val_tn: 44874.0000 - val_fn: 6.0000 - val_accuracy: 0.9860 - val_precision: 0.0813 - val_recall: 0.9032 - val_auc: 0.9717\n",
            "Epoch 7/100\n",
            "278/278 [==============================] - 4s 15ms/step - loss: 0.1008 - tp: 269153.0000 - fp: 7057.0000 - tn: 278184.0000 - fn: 14950.0000 - accuracy: 0.9613 - precision: 0.9745 - recall: 0.9474 - auc: 0.9943 - val_loss: 0.0508 - val_tp: 57.0000 - val_fp: 582.0000 - val_tn: 44925.0000 - val_fn: 5.0000 - val_accuracy: 0.9871 - val_precision: 0.0892 - val_recall: 0.9194 - val_auc: 0.9730\n",
            "Epoch 8/100\n",
            "278/278 [==============================] - 4s 16ms/step - loss: 0.0958 - tp: 269749.0000 - fp: 6719.0000 - tn: 278592.0000 - fn: 14284.0000 - accuracy: 0.9631 - precision: 0.9757 - recall: 0.9497 - auc: 0.9950 - val_loss: 0.0474 - val_tp: 57.0000 - val_fp: 559.0000 - val_tn: 44948.0000 - val_fn: 5.0000 - val_accuracy: 0.9876 - val_precision: 0.0925 - val_recall: 0.9194 - val_auc: 0.9743\n",
            "Epoch 9/100\n",
            "278/278 [==============================] - 4s 16ms/step - loss: 0.0908 - tp: 271115.0000 - fp: 6518.0000 - tn: 277871.0000 - fn: 13840.0000 - accuracy: 0.9642 - precision: 0.9765 - recall: 0.9514 - auc: 0.9955 - val_loss: 0.0442 - val_tp: 57.0000 - val_fp: 534.0000 - val_tn: 44973.0000 - val_fn: 5.0000 - val_accuracy: 0.9882 - val_precision: 0.0964 - val_recall: 0.9194 - val_auc: 0.9749\n",
            "Epoch 10/100\n",
            "278/278 [==============================] - 4s 15ms/step - loss: 0.0875 - tp: 270884.0000 - fp: 6441.0000 - tn: 278528.0000 - fn: 13491.0000 - accuracy: 0.9650 - precision: 0.9768 - recall: 0.9526 - auc: 0.9958 - val_loss: 0.0396 - val_tp: 56.0000 - val_fp: 480.0000 - val_tn: 45027.0000 - val_fn: 6.0000 - val_accuracy: 0.9893 - val_precision: 0.1045 - val_recall: 0.9032 - val_auc: 0.9755\n",
            "Epoch 11/100\n",
            "278/278 [==============================] - 4s 15ms/step - loss: 0.0833 - tp: 271703.0000 - fp: 6193.0000 - tn: 278269.0000 - fn: 13179.0000 - accuracy: 0.9660 - precision: 0.9777 - recall: 0.9537 - auc: 0.9961 - val_loss: 0.0374 - val_tp: 56.0000 - val_fp: 469.0000 - val_tn: 45038.0000 - val_fn: 6.0000 - val_accuracy: 0.9896 - val_precision: 0.1067 - val_recall: 0.9032 - val_auc: 0.9765\n",
            "Epoch 12/100\n",
            "278/278 [==============================] - 4s 15ms/step - loss: 0.0808 - tp: 271904.0000 - fp: 6276.0000 - tn: 278485.0000 - fn: 12679.0000 - accuracy: 0.9667 - precision: 0.9774 - recall: 0.9554 - auc: 0.9964 - val_loss: 0.0353 - val_tp: 57.0000 - val_fp: 449.0000 - val_tn: 45058.0000 - val_fn: 5.0000 - val_accuracy: 0.9900 - val_precision: 0.1126 - val_recall: 0.9194 - val_auc: 0.9768\n",
            "Epoch 13/100\n",
            "278/278 [==============================] - 4s 16ms/step - loss: 0.0782 - tp: 272984.0000 - fp: 6172.0000 - tn: 278040.0000 - fn: 12148.0000 - accuracy: 0.9678 - precision: 0.9779 - recall: 0.9574 - auc: 0.9966 - val_loss: 0.0335 - val_tp: 56.0000 - val_fp: 431.0000 - val_tn: 45076.0000 - val_fn: 6.0000 - val_accuracy: 0.9904 - val_precision: 0.1150 - val_recall: 0.9032 - val_auc: 0.9775\n",
            "Epoch 14/100\n",
            "278/278 [==============================] - 4s 16ms/step - loss: 0.0754 - tp: 273124.0000 - fp: 6122.0000 - tn: 278547.0000 - fn: 11551.0000 - accuracy: 0.9690 - precision: 0.9781 - recall: 0.9594 - auc: 0.9969 - val_loss: 0.0312 - val_tp: 55.0000 - val_fp: 389.0000 - val_tn: 45118.0000 - val_fn: 7.0000 - val_accuracy: 0.9913 - val_precision: 0.1239 - val_recall: 0.8871 - val_auc: 0.9709\n",
            "Epoch 15/100\n",
            "278/278 [==============================] - 4s 16ms/step - loss: 0.0735 - tp: 273415.0000 - fp: 5944.0000 - tn: 278773.0000 - fn: 11212.0000 - accuracy: 0.9699 - precision: 0.9787 - recall: 0.9606 - auc: 0.9970 - val_loss: 0.0309 - val_tp: 55.0000 - val_fp: 391.0000 - val_tn: 45116.0000 - val_fn: 7.0000 - val_accuracy: 0.9913 - val_precision: 0.1233 - val_recall: 0.8871 - val_auc: 0.9713\n",
            "Epoch 16/100\n",
            "278/278 [==============================] - 4s 15ms/step - loss: 0.0720 - tp: 274335.0000 - fp: 5900.0000 - tn: 278192.0000 - fn: 10917.0000 - accuracy: 0.9705 - precision: 0.9789 - recall: 0.9617 - auc: 0.9971 - val_loss: 0.0286 - val_tp: 55.0000 - val_fp: 360.0000 - val_tn: 45147.0000 - val_fn: 7.0000 - val_accuracy: 0.9919 - val_precision: 0.1325 - val_recall: 0.8871 - val_auc: 0.9716\n",
            "Epoch 17/100\n",
            "278/278 [==============================] - 4s 15ms/step - loss: 0.0702 - tp: 274373.0000 - fp: 5970.0000 - tn: 278432.0000 - fn: 10569.0000 - accuracy: 0.9710 - precision: 0.9787 - recall: 0.9629 - auc: 0.9972 - val_loss: 0.0283 - val_tp: 55.0000 - val_fp: 355.0000 - val_tn: 45152.0000 - val_fn: 7.0000 - val_accuracy: 0.9921 - val_precision: 0.1341 - val_recall: 0.8871 - val_auc: 0.9718\n",
            "Epoch 18/100\n",
            "278/278 [==============================] - 4s 15ms/step - loss: 0.0687 - tp: 275410.0000 - fp: 5944.0000 - tn: 277818.0000 - fn: 10172.0000 - accuracy: 0.9717 - precision: 0.9789 - recall: 0.9644 - auc: 0.9973 - val_loss: 0.0271 - val_tp: 55.0000 - val_fp: 339.0000 - val_tn: 45168.0000 - val_fn: 7.0000 - val_accuracy: 0.9924 - val_precision: 0.1396 - val_recall: 0.8871 - val_auc: 0.9720\n",
            "Epoch 19/100\n",
            "278/278 [==============================] - 4s 15ms/step - loss: 0.0675 - tp: 274188.0000 - fp: 6076.0000 - tn: 279334.0000 - fn: 9746.0000 - accuracy: 0.9722 - precision: 0.9783 - recall: 0.9657 - auc: 0.9973 - val_loss: 0.0261 - val_tp: 55.0000 - val_fp: 324.0000 - val_tn: 45183.0000 - val_fn: 7.0000 - val_accuracy: 0.9927 - val_precision: 0.1451 - val_recall: 0.8871 - val_auc: 0.9720\n",
            "Epoch 20/100\n",
            "278/278 [==============================] - 4s 16ms/step - loss: 0.0666 - tp: 274547.0000 - fp: 6068.0000 - tn: 279304.0000 - fn: 9425.0000 - accuracy: 0.9728 - precision: 0.9784 - recall: 0.9668 - auc: 0.9974 - val_loss: 0.0258 - val_tp: 55.0000 - val_fp: 318.0000 - val_tn: 45189.0000 - val_fn: 7.0000 - val_accuracy: 0.9929 - val_precision: 0.1475 - val_recall: 0.8871 - val_auc: 0.9722\n",
            "Epoch 21/100\n",
            "278/278 [==============================] - 4s 15ms/step - loss: 0.0656 - tp: 275698.0000 - fp: 6194.0000 - tn: 278403.0000 - fn: 9049.0000 - accuracy: 0.9732 - precision: 0.9780 - recall: 0.9682 - auc: 0.9974 - val_loss: 0.0248 - val_tp: 55.0000 - val_fp: 311.0000 - val_tn: 45196.0000 - val_fn: 7.0000 - val_accuracy: 0.9930 - val_precision: 0.1503 - val_recall: 0.8871 - val_auc: 0.9722\n",
            "Epoch 22/100\n",
            "278/278 [==============================] - 4s 16ms/step - loss: 0.0645 - tp: 275408.0000 - fp: 6199.0000 - tn: 278798.0000 - fn: 8939.0000 - accuracy: 0.9734 - precision: 0.9780 - recall: 0.9686 - auc: 0.9975 - val_loss: 0.0241 - val_tp: 55.0000 - val_fp: 301.0000 - val_tn: 45206.0000 - val_fn: 7.0000 - val_accuracy: 0.9932 - val_precision: 0.1545 - val_recall: 0.8871 - val_auc: 0.9724\n",
            "Epoch 23/100\n",
            "277/278 [============================>.] - ETA: 0s - loss: 0.0639 - tp: 274351.0000 - fp: 6183.0000 - tn: 278185.0000 - fn: 8577.0000 - accuracy: 0.9740 - precision: 0.9780 - recall: 0.9697 - auc: 0.9975Restoring model weights from the end of the best epoch.\n",
            "278/278 [==============================] - 4s 16ms/step - loss: 0.0638 - tp: 275347.0000 - fp: 6195.0000 - tn: 279196.0000 - fn: 8606.0000 - accuracy: 0.9740 - precision: 0.9780 - recall: 0.9697 - auc: 0.9975 - val_loss: 0.0236 - val_tp: 55.0000 - val_fp: 301.0000 - val_tn: 45206.0000 - val_fn: 7.0000 - val_accuracy: 0.9932 - val_precision: 0.1545 - val_recall: 0.8871 - val_auc: 0.9724\n",
            "Epoch 00023: early stopping\n"
          ],
          "name": "stdout"
        }
      ]
    },
    {
      "cell_type": "code",
      "metadata": {
        "id": "21hzv3VUq1I5",
        "colab": {
          "base_uri": "https://localhost:8080/",
          "height": 609
        },
        "outputId": "4bb3c712-8773-496d-aaaf-d610f869d6bb"
      },
      "source": [
        "plot_metrics(resampled_history )"
      ],
      "execution_count": null,
      "outputs": [
        {
          "output_type": "display_data",
          "data": {
            "image/png": "[encoded data removed]",
            "text/plain": [
              "<Figure size 864x720 with 4 Axes>"
            ]
          },
          "metadata": {
            "tags": [],
            "needs_background": "light"
          }
        }
      ]
    },
    {
      "cell_type": "code",
      "metadata": {
        "id": "0A_jDNq1rvPc",
        "colab": {
          "base_uri": "https://localhost:8080/",
          "height": 751
        },
        "outputId": "a472057d-0a8d-4499-8cb9-710a8be4f969"
      },
      "source": [
        "resampled_model = make_model()\n",
        "resampled_model.load_weights(initial_weights)\n",
        "\n",
        "# Reset the bias to zero, since this dataset is balanced.\n",
        "output_layer = resampled_model.layers[-1] \n",
        "output_layer.bias.assign([0])\n",
        "\n",
        "resampled_history = resampled_model.fit(\n",
        "    resampled_ds,\n",
        "    # These are not real epochs\n",
        "    steps_per_epoch = 20,\n",
        "    epochs=10*EPOCHS,\n",
        "    callbacks = [early_stopping],\n",
        "    validation_data=(val_ds))\n"
      ],
      "execution_count": null,
      "outputs": [
        {
          "output_type": "stream",
          "text": [
            "Epoch 1/1000\n",
            "20/20 [==============================] - 1s 52ms/step - loss: 0.7381 - tp: 14002.0000 - fp: 9766.0000 - tn: 56260.0000 - fn: 6501.0000 - accuracy: 0.8120 - precision: 0.5891 - recall: 0.6829 - auc: 0.8942 - val_loss: 0.6920 - val_tp: 59.0000 - val_fp: 17510.0000 - val_tn: 27997.0000 - val_fn: 3.0000 - val_accuracy: 0.6157 - val_precision: 0.0034 - val_recall: 0.9516 - val_auc: 0.9116\n",
            "Epoch 2/1000\n",
            "20/20 [==============================] - 0s 22ms/step - loss: 0.5428 - tp: 17306.0000 - fp: 8281.0000 - tn: 12092.0000 - fn: 3281.0000 - accuracy: 0.7177 - precision: 0.6764 - recall: 0.8406 - auc: 0.8369 - val_loss: 0.6121 - val_tp: 58.0000 - val_fp: 13395.0000 - val_tn: 32112.0000 - val_fn: 4.0000 - val_accuracy: 0.7060 - val_precision: 0.0043 - val_recall: 0.9355 - val_auc: 0.9482\n",
            "Epoch 3/1000\n",
            "20/20 [==============================] - 0s 21ms/step - loss: 0.4662 - tp: 18030.0000 - fp: 7249.0000 - tn: 13285.0000 - fn: 2396.0000 - accuracy: 0.7645 - precision: 0.7132 - recall: 0.8827 - auc: 0.8905 - val_loss: 0.5297 - val_tp: 57.0000 - val_fp: 9072.0000 - val_tn: 36435.0000 - val_fn: 5.0000 - val_accuracy: 0.8008 - val_precision: 0.0062 - val_recall: 0.9194 - val_auc: 0.9579\n",
            "Epoch 4/1000\n",
            "20/20 [==============================] - 0s 21ms/step - loss: 0.4094 - tp: 18366.0000 - fp: 5975.0000 - tn: 14474.0000 - fn: 2145.0000 - accuracy: 0.8018 - precision: 0.7545 - recall: 0.8954 - auc: 0.9161 - val_loss: 0.4576 - val_tp: 57.0000 - val_fp: 5822.0000 - val_tn: 39685.0000 - val_fn: 5.0000 - val_accuracy: 0.8721 - val_precision: 0.0097 - val_recall: 0.9194 - val_auc: 0.9636\n",
            "Epoch 5/1000\n",
            "20/20 [==============================] - 0s 22ms/step - loss: 0.3700 - tp: 18128.0000 - fp: 4938.0000 - tn: 15776.0000 - fn: 2118.0000 - accuracy: 0.8277 - precision: 0.7859 - recall: 0.8954 - auc: 0.9284 - val_loss: 0.3998 - val_tp: 57.0000 - val_fp: 3805.0000 - val_tn: 41702.0000 - val_fn: 5.0000 - val_accuracy: 0.9164 - val_precision: 0.0148 - val_recall: 0.9194 - val_auc: 0.9674\n",
            "Epoch 6/1000\n",
            "20/20 [==============================] - 0s 21ms/step - loss: 0.3425 - tp: 18216.0000 - fp: 4208.0000 - tn: 16350.0000 - fn: 2186.0000 - accuracy: 0.8439 - precision: 0.8123 - recall: 0.8929 - auc: 0.9349 - val_loss: 0.3551 - val_tp: 57.0000 - val_fp: 2787.0000 - val_tn: 42720.0000 - val_fn: 5.0000 - val_accuracy: 0.9387 - val_precision: 0.0200 - val_recall: 0.9194 - val_auc: 0.9706\n",
            "Epoch 7/1000\n",
            "20/20 [==============================] - 0s 22ms/step - loss: 0.3140 - tp: 18346.0000 - fp: 3572.0000 - tn: 16937.0000 - fn: 2105.0000 - accuracy: 0.8614 - precision: 0.8370 - recall: 0.8971 - auc: 0.9436 - val_loss: 0.3197 - val_tp: 57.0000 - val_fp: 2257.0000 - val_tn: 43250.0000 - val_fn: 5.0000 - val_accuracy: 0.9504 - val_precision: 0.0246 - val_recall: 0.9194 - val_auc: 0.9720\n",
            "Epoch 8/1000\n",
            "20/20 [==============================] - 0s 21ms/step - loss: 0.3000 - tp: 18398.0000 - fp: 3106.0000 - tn: 17326.0000 - fn: 2130.0000 - accuracy: 0.8722 - precision: 0.8556 - recall: 0.8962 - auc: 0.9470 - val_loss: 0.2904 - val_tp: 57.0000 - val_fp: 1880.0000 - val_tn: 43627.0000 - val_fn: 5.0000 - val_accuracy: 0.9586 - val_precision: 0.0294 - val_recall: 0.9194 - val_auc: 0.9728\n",
            "Epoch 9/1000\n",
            "20/20 [==============================] - 0s 21ms/step - loss: 0.2839 - tp: 18430.0000 - fp: 2730.0000 - tn: 17776.0000 - fn: 2024.0000 - accuracy: 0.8839 - precision: 0.8710 - recall: 0.9010 - auc: 0.9518 - val_loss: 0.2654 - val_tp: 57.0000 - val_fp: 1653.0000 - val_tn: 43854.0000 - val_fn: 5.0000 - val_accuracy: 0.9636 - val_precision: 0.0333 - val_recall: 0.9194 - val_auc: 0.9733\n",
            "Epoch 10/1000\n",
            "20/20 [==============================] - 0s 20ms/step - loss: 0.2709 - tp: 18335.0000 - fp: 2436.0000 - tn: 18086.0000 - fn: 2103.0000 - accuracy: 0.8892 - precision: 0.8827 - recall: 0.8971 - auc: 0.9544 - val_loss: 0.2450 - val_tp: 57.0000 - val_fp: 1530.0000 - val_tn: 43977.0000 - val_fn: 5.0000 - val_accuracy: 0.9663 - val_precision: 0.0359 - val_recall: 0.9194 - val_auc: 0.9735\n",
            "Epoch 11/1000\n",
            "20/20 [==============================] - 0s 22ms/step - loss: 0.2598 - tp: 18493.0000 - fp: 2242.0000 - tn: 18161.0000 - fn: 2064.0000 - accuracy: 0.8949 - precision: 0.8919 - recall: 0.8996 - auc: 0.9570 - val_loss: 0.2278 - val_tp: 58.0000 - val_fp: 1449.0000 - val_tn: 44058.0000 - val_fn: 4.0000 - val_accuracy: 0.9681 - val_precision: 0.0385 - val_recall: 0.9355 - val_auc: 0.9733\n",
            "Epoch 12/1000\n",
            "20/20 [==============================] - 0s 21ms/step - loss: 0.2458 - tp: 18577.0000 - fp: 2022.0000 - tn: 18382.0000 - fn: 1979.0000 - accuracy: 0.9023 - precision: 0.9018 - recall: 0.9037 - auc: 0.9620 - val_loss: 0.2122 - val_tp: 58.0000 - val_fp: 1361.0000 - val_tn: 44146.0000 - val_fn: 4.0000 - val_accuracy: 0.9700 - val_precision: 0.0409 - val_recall: 0.9355 - val_auc: 0.9730\n",
            "Epoch 13/1000\n",
            "20/20 [==============================] - 0s 21ms/step - loss: 0.2385 - tp: 18495.0000 - fp: 1860.0000 - tn: 18627.0000 - fn: 1978.0000 - accuracy: 0.9063 - precision: 0.9086 - recall: 0.9034 - auc: 0.9638 - val_loss: 0.1987 - val_tp: 57.0000 - val_fp: 1299.0000 - val_tn: 44208.0000 - val_fn: 5.0000 - val_accuracy: 0.9714 - val_precision: 0.0420 - val_recall: 0.9194 - val_auc: 0.9730\n",
            "Epoch 14/1000\n",
            "20/20 [==============================] - 0s 23ms/step - loss: 0.2293 - tp: 18512.0000 - fp: 1677.0000 - tn: 18774.0000 - fn: 1997.0000 - accuracy: 0.9103 - precision: 0.9169 - recall: 0.9026 - auc: 0.9659 - val_loss: 0.1868 - val_tp: 57.0000 - val_fp: 1244.0000 - val_tn: 44263.0000 - val_fn: 5.0000 - val_accuracy: 0.9726 - val_precision: 0.0438 - val_recall: 0.9194 - val_auc: 0.9730\n",
            "Epoch 15/1000\n",
            "20/20 [==============================] - 0s 20ms/step - loss: 0.2179 - tp: 18514.0000 - fp: 1507.0000 - tn: 18989.0000 - fn: 1950.0000 - accuracy: 0.9156 - precision: 0.9247 - recall: 0.9047 - auc: 0.9691 - val_loss: 0.1757 - val_tp: 57.0000 - val_fp: 1200.0000 - val_tn: 44307.0000 - val_fn: 5.0000 - val_accuracy: 0.9736 - val_precision: 0.0453 - val_recall: 0.9194 - val_auc: 0.9726\n",
            "Epoch 16/1000\n",
            "20/20 [==============================] - 0s 21ms/step - loss: 0.2107 - tp: 18668.0000 - fp: 1376.0000 - tn: 19006.0000 - fn: 1910.0000 - accuracy: 0.9198 - precision: 0.9314 - recall: 0.9072 - auc: 0.9708 - val_loss: 0.1672 - val_tp: 57.0000 - val_fp: 1189.0000 - val_tn: 44318.0000 - val_fn: 5.0000 - val_accuracy: 0.9738 - val_precision: 0.0457 - val_recall: 0.9194 - val_auc: 0.9723\n",
            "Epoch 17/1000\n",
            "20/20 [==============================] - 0s 21ms/step - loss: 0.2085 - tp: 18504.0000 - fp: 1402.0000 - tn: 19194.0000 - fn: 1860.0000 - accuracy: 0.9204 - precision: 0.9296 - recall: 0.9087 - auc: 0.9716 - val_loss: 0.1581 - val_tp: 57.0000 - val_fp: 1142.0000 - val_tn: 44365.0000 - val_fn: 5.0000 - val_accuracy: 0.9748 - val_precision: 0.0475 - val_recall: 0.9194 - val_auc: 0.9720\n",
            "Epoch 18/1000\n",
            "20/20 [==============================] - 0s 21ms/step - loss: 0.2019 - tp: 18623.0000 - fp: 1303.0000 - tn: 19152.0000 - fn: 1882.0000 - accuracy: 0.9222 - precision: 0.9346 - recall: 0.9082 - auc: 0.9731 - val_loss: 0.1498 - val_tp: 57.0000 - val_fp: 1104.0000 - val_tn: 44403.0000 - val_fn: 5.0000 - val_accuracy: 0.9757 - val_precision: 0.0491 - val_recall: 0.9194 - val_auc: 0.9716\n",
            "Epoch 19/1000\n",
            "20/20 [==============================] - 0s 22ms/step - loss: 0.1977 - tp: 18645.0000 - fp: 1214.0000 - tn: 19213.0000 - fn: 1888.0000 - accuracy: 0.9243 - precision: 0.9389 - recall: 0.9081 - auc: 0.9737 - val_loss: 0.1432 - val_tp: 57.0000 - val_fp: 1088.0000 - val_tn: 44419.0000 - val_fn: 5.0000 - val_accuracy: 0.9760 - val_precision: 0.0498 - val_recall: 0.9194 - val_auc: 0.9716\n",
            "Epoch 20/1000\n",
            "17/20 [========================>.....] - ETA: 0s - loss: 0.1897 - tp: 15841.0000 - fp: 1004.0000 - tn: 16431.0000 - fn: 1540.0000 - accuracy: 0.9269 - precision: 0.9404 - recall: 0.9114 - auc: 0.9764Restoring model weights from the end of the best epoch.\n",
            "20/20 [==============================] - 0s 21ms/step - loss: 0.1900 - tp: 18624.0000 - fp: 1184.0000 - tn: 19342.0000 - fn: 1810.0000 - accuracy: 0.9269 - precision: 0.9402 - recall: 0.9114 - auc: 0.9763 - val_loss: 0.1373 - val_tp: 57.0000 - val_fp: 1080.0000 - val_tn: 44427.0000 - val_fn: 5.0000 - val_accuracy: 0.9762 - val_precision: 0.0501 - val_recall: 0.9194 - val_auc: 0.9708\n",
            "Epoch 00020: early stopping\n"
          ],
          "name": "stdout"
        }
      ]
    },
    {
      "cell_type": "code",
      "metadata": {
        "id": "NyI2RV-KsRef",
        "colab": {
          "base_uri": "https://localhost:8080/",
          "height": 534
        },
        "outputId": "345f037f-4dee-43bd-ad3e-9438c9a1edd6"
      },
      "source": [
        "plot_metrics(resampled_history)"
      ],
      "execution_count": null,
      "outputs": [
        {
          "output_type": "display_data",
          "data": {
            "image/png": "[encoded data removed]",
            "text/plain": [
              "<Figure size 864x720 with 4 Axes>"
            ]
          },
          "metadata": {
            "tags": [],
            "needs_background": "light"
          }
        }
      ]
    },
    {
      "cell_type": "code",
      "metadata": {
        "id": "cpaPfdF1sSG6"
      },
      "source": [
        "train_predictions_resampled = resampled_model.predict(train_features, batch_size=BATCH_SIZE)\n",
        "test_predictions_resampled = resampled_model.predict(test_features, batch_size=BATCH_SIZE)"
      ],
      "execution_count": null,
      "outputs": []
    },
    {
      "cell_type": "code",
      "metadata": {
        "id": "AkZX-aF0sTY2",
        "colab": {
          "base_uri": "https://localhost:8080/",
          "height": 605
        },
        "outputId": "45c58875-365b-4d75-ac0a-d28d411b22ed"
      },
      "source": [
        "resampled_results = resampled_model.evaluate(test_features, test_labels,\n",
        "                                             batch_size=BATCH_SIZE, verbose=0)\n",
        "for name, value in zip(resampled_model.metrics_names, resampled_results):\n",
        "  print(name, ': ', value)\n",
        "print()\n",
        "\n",
        "plot_cm(test_labels, test_predictions_resampled)"
      ],
      "execution_count": null,
      "outputs": [
        {
          "output_type": "stream",
          "text": [
            "loss :  0.24337580800056458\n",
            "tp :  94.0\n",
            "fp :  1881.0\n",
            "tn :  54978.0\n",
            "fn :  9.0\n",
            "accuracy :  0.9668200016021729\n",
            "precision :  0.047594938427209854\n",
            "recall :  0.9126213788986206\n",
            "auc :  0.9783109426498413\n",
            "\n",
            "Legitimate Transactions Detected (True Negatives):  54978\n",
            "Legitimate Transactions Incorrectly Detected (False Positives):  1881\n",
            "Fraudulent Transactions Missed (False Negatives):  9\n",
            "Fraudulent Transactions Detected (True Positives):  94\n",
            "Total Fraudulent Transactions:  103\n"
          ],
          "name": "stdout"
        },
        {
          "output_type": "display_data",
          "data": {
            "image/png": "[encoded data removed]",
            "text/plain": [
              "<Figure size 360x360 with 2 Axes>"
            ]
          },
          "metadata": {
            "tags": [],
            "needs_background": "light"
          }
        }
      ]
    },
    {
      "cell_type": "code",
      "metadata": {
        "id": "ceRQm0aosUSh",
        "colab": {
          "base_uri": "https://localhost:8080/",
          "height": 623
        },
        "outputId": "451450fa-2ace-4793-ffb5-90643d7fb256"
      },
      "source": [
        "plot_roc(\"Train Baseline\", train_labels, train_predictions_baseline, color=colors[0])\n",
        "plot_roc(\"Test Baseline\", test_labels, test_predictions_baseline, color=colors[0], linestyle='--')\n",
        "\n",
        "plot_roc(\"Train Weighted\", train_labels, train_predictions_weighted, color=colors[1])\n",
        "plot_roc(\"Test Weighted\", test_labels, test_predictions_weighted, color=colors[1], linestyle='--')\n",
        "\n",
        "plot_roc(\"Train Resampled\", train_labels, train_predictions_resampled,  color=colors[2])\n",
        "plot_roc(\"Test Resampled\", test_labels, test_predictions_resampled,  color=colors[2], linestyle='--')\n",
        "plt.legend(loc='lower right')"
      ],
      "execution_count": null,
      "outputs": [
        {
          "output_type": "execute_result",
          "data": {
            "text/plain": [
              "<matplotlib.legend.Legend at 0x7f5b72401438>"
            ]
          },
          "metadata": {
            "tags": []
          },
          "execution_count": 96
        },
        {
          "output_type": "display_data",
          "data": {
            "image/png": "[encoded data removed]",
            "text/plain": [
              "<Figure size 864x720 with 1 Axes>"
            ]
          },
          "metadata": {
            "tags": [],
            "needs_background": "light"
          }
        }
      ]
    },
    {
      "cell_type": "code",
      "metadata": {
        "id": "TxVZJ32CsVyJ"
      },
      "source": [
        ""
      ],
      "execution_count": null,
      "outputs": []
    }
  ]
}